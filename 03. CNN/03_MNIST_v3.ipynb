{
  "nbformat": 4,
  "nbformat_minor": 0,
  "metadata": {
    "colab": {
      "name": "03_MNIST_v3.ipynb",
      "provenance": [],
      "collapsed_sections": [],
      "authorship_tag": "ABX9TyO5wFvRnCTlKtaz85MwIkkU"
    },
    "kernelspec": {
      "name": "python3",
      "display_name": "Python 3"
    },
    "language_info": {
      "name": "python"
    },
    "accelerator": "GPU"
  },
  "cells": [
    {
      "cell_type": "markdown",
      "source": [
        "# MNIST 손글씨 - CNN v3\n",
        "- 2 x Conv2D layers\n",
        "- 1 MaxPooing2D layer\n",
        "- 1 Dropout(0.25) layer\n",
        "- 1 FCN layer\n",
        "- 1 Dropout(0.5) layer\n",
        "- 1 Output layer"
      ],
      "metadata": {
        "id": "57_1gFMhl0mP"
      }
    },
    {
      "cell_type": "code",
      "execution_count": 1,
      "metadata": {
        "id": "HpIYskw0lmb3"
      },
      "outputs": [],
      "source": [
        "import numpy as np\n",
        "import matplotlib.pyplot as plt\n",
        "import tensorflow as tf\n",
        "seed = 2022\n",
        "np.random.seed(seed)\n",
        "tf.random.set_seed(seed)"
      ]
    },
    {
      "cell_type": "markdown",
      "source": [
        "- 데이터 전처리"
      ],
      "metadata": {
        "id": "ASVKVjbrl6cm"
      }
    },
    {
      "cell_type": "code",
      "source": [
        "from tensorflow.keras.datasets import mnist\n",
        "(X_train, y_train), (X_test, y_test) = mnist.load_data()\n",
        "X_train.shape, y_train.shape, X_test.shape, y_test.shape"
      ],
      "metadata": {
        "colab": {
          "base_uri": "https://localhost:8080/"
        },
        "id": "LAenEeYwl4ny",
        "outputId": "19944861-0dd3-4365-edd9-a51b0f41a6ae"
      },
      "execution_count": 2,
      "outputs": [
        {
          "output_type": "stream",
          "name": "stdout",
          "text": [
            "Downloading data from https://storage.googleapis.com/tensorflow/tf-keras-datasets/mnist.npz\n",
            "11493376/11490434 [==============================] - 0s 0us/step\n",
            "11501568/11490434 [==============================] - 0s 0us/step\n"
          ]
        },
        {
          "output_type": "execute_result",
          "data": {
            "text/plain": [
              "((60000, 28, 28), (60000,), (10000, 28, 28), (10000,))"
            ]
          },
          "metadata": {},
          "execution_count": 2
        }
      ]
    },
    {
      "cell_type": "code",
      "source": [
        "# X_train, X_test 정규화(0 ~ 1), 이미지 차원 변경: 2차원 --> 3차원\n",
        "X_train = X_train.reshape(-1, 28, 28, 1) / 255.\n",
        "X_test = X_test.reshape(-1, 28, 28, 1) / 255.\n",
        "X_train.shape, X_test.shape"
      ],
      "metadata": {
        "colab": {
          "base_uri": "https://localhost:8080/"
        },
        "id": "wEQ1qIvsl9PT",
        "outputId": "dbe08f61-2895-499f-9b89-fbf2dcd149fc"
      },
      "execution_count": 3,
      "outputs": [
        {
          "output_type": "execute_result",
          "data": {
            "text/plain": [
              "((60000, 28, 28, 1), (10000, 28, 28, 1))"
            ]
          },
          "metadata": {},
          "execution_count": 3
        }
      ]
    },
    {
      "cell_type": "code",
      "source": [
        "# One hot encoding\n",
        "from tensorflow.keras.utils import to_categorical\n",
        "Y_train = to_categorical(y_train)\n",
        "Y_test = to_categorical(y_test)\n",
        "Y_train.shape, Y_test.shape"
      ],
      "metadata": {
        "colab": {
          "base_uri": "https://localhost:8080/"
        },
        "id": "zvW6jSxQl_Ao",
        "outputId": "b5abfaf0-2b70-4aac-8e1c-c281af646c4e"
      },
      "execution_count": 4,
      "outputs": [
        {
          "output_type": "execute_result",
          "data": {
            "text/plain": [
              "((60000, 10), (10000, 10))"
            ]
          },
          "metadata": {},
          "execution_count": 4
        }
      ]
    },
    {
      "cell_type": "markdown",
      "source": [
        "- 모델 정의/설정/학습/평가"
      ],
      "metadata": {
        "id": "u1HwV1NumAQS"
      }
    },
    {
      "cell_type": "code",
      "source": [
        "from tensorflow.keras.models import Sequential, load_model\n",
        "from tensorflow.keras.layers import Dense, Conv2D, Flatten, MaxPooling2D, Dropout\n",
        "from tensorflow.keras.callbacks import ModelCheckpoint, EarlyStopping"
      ],
      "metadata": {
        "id": "MDoX0qAMl_60"
      },
      "execution_count": 5,
      "outputs": []
    },
    {
      "cell_type": "code",
      "source": [
        "model = Sequential([\n",
        "    Conv2D(32, kernel_size=(3,3), input_shape=(28,28,1), activation='relu'),\n",
        "    Conv2D(64, (3,3), activation='relu'),\n",
        "    MaxPooling2D(),\n",
        "    Dropout(0.25),\n",
        "    Flatten(),\n",
        "    Dense(512, activation='relu'),\n",
        "    Dropout(0.5),\n",
        "    Dense(10, activation='softmax')\n",
        "])\n",
        "model.summary()"
      ],
      "metadata": {
        "colab": {
          "base_uri": "https://localhost:8080/"
        },
        "id": "j47ZVOmDmEEL",
        "outputId": "86820747-b107-45d5-a1e3-681a22887b44"
      },
      "execution_count": 6,
      "outputs": [
        {
          "output_type": "stream",
          "name": "stdout",
          "text": [
            "Model: \"sequential\"\n",
            "_________________________________________________________________\n",
            " Layer (type)                Output Shape              Param #   \n",
            "=================================================================\n",
            " conv2d (Conv2D)             (None, 26, 26, 32)        320       \n",
            "                                                                 \n",
            " conv2d_1 (Conv2D)           (None, 24, 24, 64)        18496     \n",
            "                                                                 \n",
            " max_pooling2d (MaxPooling2D  (None, 12, 12, 64)       0         \n",
            " )                                                               \n",
            "                                                                 \n",
            " dropout (Dropout)           (None, 12, 12, 64)        0         \n",
            "                                                                 \n",
            " flatten (Flatten)           (None, 9216)              0         \n",
            "                                                                 \n",
            " dense (Dense)               (None, 512)               4719104   \n",
            "                                                                 \n",
            " dropout_1 (Dropout)         (None, 512)               0         \n",
            "                                                                 \n",
            " dense_1 (Dense)             (None, 10)                5130      \n",
            "                                                                 \n",
            "=================================================================\n",
            "Total params: 4,743,050\n",
            "Trainable params: 4,743,050\n",
            "Non-trainable params: 0\n",
            "_________________________________________________________________\n"
          ]
        }
      ]
    },
    {
      "cell_type": "code",
      "source": [
        "model.compile('adam', 'categorical_crossentropy', ['accuracy'])"
      ],
      "metadata": {
        "id": "DR5ztubumFvH"
      },
      "execution_count": 7,
      "outputs": []
    },
    {
      "cell_type": "code",
      "source": [
        "model_path = 'best-mnist-cnn-v3.h5'\n",
        "mc = ModelCheckpoint(model_path, save_best_only=True, verbose=1)\n",
        "es = EarlyStopping(patience=10)"
      ],
      "metadata": {
        "id": "L2VjhHF5mHon"
      },
      "execution_count": 8,
      "outputs": []
    },
    {
      "cell_type": "code",
      "source": [
        "hist = model.fit(\n",
        "    X_train, Y_train, validation_split=0.2, epochs=100, batch_size=200,\n",
        "    callbacks=[mc, es]\n",
        ")"
      ],
      "metadata": {
        "colab": {
          "base_uri": "https://localhost:8080/"
        },
        "id": "omL7Vc7NmIli",
        "outputId": "50ead6a3-704a-4f14-83d7-17094af40733"
      },
      "execution_count": 9,
      "outputs": [
        {
          "output_type": "stream",
          "name": "stdout",
          "text": [
            "Epoch 1/100\n",
            "240/240 [==============================] - ETA: 0s - loss: 0.2203 - accuracy: 0.9321\n",
            "Epoch 1: val_loss improved from inf to 0.05658, saving model to best-mnist-cnn-v3.h5\n",
            "240/240 [==============================] - 16s 14ms/step - loss: 0.2203 - accuracy: 0.9321 - val_loss: 0.0566 - val_accuracy: 0.9834\n",
            "Epoch 2/100\n",
            "237/240 [============================>.] - ETA: 0s - loss: 0.0627 - accuracy: 0.9815\n",
            "Epoch 2: val_loss improved from 0.05658 to 0.05111, saving model to best-mnist-cnn-v3.h5\n",
            "240/240 [==============================] - 3s 14ms/step - loss: 0.0625 - accuracy: 0.9815 - val_loss: 0.0511 - val_accuracy: 0.9858\n",
            "Epoch 3/100\n",
            "236/240 [============================>.] - ETA: 0s - loss: 0.0434 - accuracy: 0.9866\n",
            "Epoch 3: val_loss improved from 0.05111 to 0.03985, saving model to best-mnist-cnn-v3.h5\n",
            "240/240 [==============================] - 3s 13ms/step - loss: 0.0432 - accuracy: 0.9866 - val_loss: 0.0399 - val_accuracy: 0.9882\n",
            "Epoch 4/100\n",
            "239/240 [============================>.] - ETA: 0s - loss: 0.0344 - accuracy: 0.9890\n",
            "Epoch 4: val_loss improved from 0.03985 to 0.03622, saving model to best-mnist-cnn-v3.h5\n",
            "240/240 [==============================] - 4s 16ms/step - loss: 0.0343 - accuracy: 0.9890 - val_loss: 0.0362 - val_accuracy: 0.9903\n",
            "Epoch 5/100\n",
            "240/240 [==============================] - ETA: 0s - loss: 0.0273 - accuracy: 0.9913\n",
            "Epoch 5: val_loss improved from 0.03622 to 0.03608, saving model to best-mnist-cnn-v3.h5\n",
            "240/240 [==============================] - 3s 14ms/step - loss: 0.0273 - accuracy: 0.9913 - val_loss: 0.0361 - val_accuracy: 0.9898\n",
            "Epoch 6/100\n",
            "239/240 [============================>.] - ETA: 0s - loss: 0.0224 - accuracy: 0.9929\n",
            "Epoch 6: val_loss improved from 0.03608 to 0.03583, saving model to best-mnist-cnn-v3.h5\n",
            "240/240 [==============================] - 3s 13ms/step - loss: 0.0223 - accuracy: 0.9929 - val_loss: 0.0358 - val_accuracy: 0.9897\n",
            "Epoch 7/100\n",
            "239/240 [============================>.] - ETA: 0s - loss: 0.0199 - accuracy: 0.9936\n",
            "Epoch 7: val_loss improved from 0.03583 to 0.03537, saving model to best-mnist-cnn-v3.h5\n",
            "240/240 [==============================] - 3s 13ms/step - loss: 0.0199 - accuracy: 0.9936 - val_loss: 0.0354 - val_accuracy: 0.9903\n",
            "Epoch 8/100\n",
            "238/240 [============================>.] - ETA: 0s - loss: 0.0178 - accuracy: 0.9941\n",
            "Epoch 8: val_loss did not improve from 0.03537\n",
            "240/240 [==============================] - 3s 13ms/step - loss: 0.0178 - accuracy: 0.9941 - val_loss: 0.0375 - val_accuracy: 0.9900\n",
            "Epoch 9/100\n",
            "240/240 [==============================] - ETA: 0s - loss: 0.0142 - accuracy: 0.9953\n",
            "Epoch 9: val_loss improved from 0.03537 to 0.03463, saving model to best-mnist-cnn-v3.h5\n",
            "240/240 [==============================] - 3s 13ms/step - loss: 0.0142 - accuracy: 0.9953 - val_loss: 0.0346 - val_accuracy: 0.9909\n",
            "Epoch 10/100\n",
            "236/240 [============================>.] - ETA: 0s - loss: 0.0135 - accuracy: 0.9954\n",
            "Epoch 10: val_loss did not improve from 0.03463\n",
            "240/240 [==============================] - 3s 13ms/step - loss: 0.0134 - accuracy: 0.9955 - val_loss: 0.0390 - val_accuracy: 0.9898\n",
            "Epoch 11/100\n",
            "240/240 [==============================] - ETA: 0s - loss: 0.0119 - accuracy: 0.9961\n",
            "Epoch 11: val_loss did not improve from 0.03463\n",
            "240/240 [==============================] - 3s 13ms/step - loss: 0.0119 - accuracy: 0.9961 - val_loss: 0.0403 - val_accuracy: 0.9902\n",
            "Epoch 12/100\n",
            "238/240 [============================>.] - ETA: 0s - loss: 0.0104 - accuracy: 0.9965\n",
            "Epoch 12: val_loss did not improve from 0.03463\n",
            "240/240 [==============================] - 3s 13ms/step - loss: 0.0104 - accuracy: 0.9965 - val_loss: 0.0409 - val_accuracy: 0.9912\n",
            "Epoch 13/100\n",
            "240/240 [==============================] - ETA: 0s - loss: 0.0099 - accuracy: 0.9966\n",
            "Epoch 13: val_loss did not improve from 0.03463\n",
            "240/240 [==============================] - 3s 13ms/step - loss: 0.0099 - accuracy: 0.9966 - val_loss: 0.0373 - val_accuracy: 0.9917\n",
            "Epoch 14/100\n",
            "239/240 [============================>.] - ETA: 0s - loss: 0.0101 - accuracy: 0.9965\n",
            "Epoch 14: val_loss improved from 0.03463 to 0.03343, saving model to best-mnist-cnn-v3.h5\n",
            "240/240 [==============================] - 3s 13ms/step - loss: 0.0101 - accuracy: 0.9965 - val_loss: 0.0334 - val_accuracy: 0.9915\n",
            "Epoch 15/100\n",
            "239/240 [============================>.] - ETA: 0s - loss: 0.0100 - accuracy: 0.9969\n",
            "Epoch 15: val_loss did not improve from 0.03343\n",
            "240/240 [==============================] - 3s 13ms/step - loss: 0.0099 - accuracy: 0.9969 - val_loss: 0.0394 - val_accuracy: 0.9912\n",
            "Epoch 16/100\n",
            "239/240 [============================>.] - ETA: 0s - loss: 0.0077 - accuracy: 0.9974\n",
            "Epoch 16: val_loss did not improve from 0.03343\n",
            "240/240 [==============================] - 3s 13ms/step - loss: 0.0078 - accuracy: 0.9974 - val_loss: 0.0409 - val_accuracy: 0.9912\n",
            "Epoch 17/100\n",
            "240/240 [==============================] - ETA: 0s - loss: 0.0085 - accuracy: 0.9973\n",
            "Epoch 17: val_loss did not improve from 0.03343\n",
            "240/240 [==============================] - 3s 13ms/step - loss: 0.0085 - accuracy: 0.9973 - val_loss: 0.0352 - val_accuracy: 0.9918\n",
            "Epoch 18/100\n",
            "236/240 [============================>.] - ETA: 0s - loss: 0.0069 - accuracy: 0.9975\n",
            "Epoch 18: val_loss did not improve from 0.03343\n",
            "240/240 [==============================] - 3s 13ms/step - loss: 0.0069 - accuracy: 0.9975 - val_loss: 0.0374 - val_accuracy: 0.9914\n",
            "Epoch 19/100\n",
            "238/240 [============================>.] - ETA: 0s - loss: 0.0073 - accuracy: 0.9974\n",
            "Epoch 19: val_loss did not improve from 0.03343\n",
            "240/240 [==============================] - 3s 13ms/step - loss: 0.0072 - accuracy: 0.9974 - val_loss: 0.0373 - val_accuracy: 0.9918\n",
            "Epoch 20/100\n",
            "236/240 [============================>.] - ETA: 0s - loss: 0.0067 - accuracy: 0.9977\n",
            "Epoch 20: val_loss did not improve from 0.03343\n",
            "240/240 [==============================] - 3s 13ms/step - loss: 0.0068 - accuracy: 0.9977 - val_loss: 0.0395 - val_accuracy: 0.9913\n",
            "Epoch 21/100\n",
            "237/240 [============================>.] - ETA: 0s - loss: 0.0078 - accuracy: 0.9973\n",
            "Epoch 21: val_loss did not improve from 0.03343\n",
            "240/240 [==============================] - 3s 13ms/step - loss: 0.0078 - accuracy: 0.9974 - val_loss: 0.0440 - val_accuracy: 0.9904\n",
            "Epoch 22/100\n",
            "238/240 [============================>.] - ETA: 0s - loss: 0.0066 - accuracy: 0.9975\n",
            "Epoch 22: val_loss did not improve from 0.03343\n",
            "240/240 [==============================] - 3s 13ms/step - loss: 0.0067 - accuracy: 0.9975 - val_loss: 0.0428 - val_accuracy: 0.9908\n",
            "Epoch 23/100\n",
            "237/240 [============================>.] - ETA: 0s - loss: 0.0073 - accuracy: 0.9975\n",
            "Epoch 23: val_loss did not improve from 0.03343\n",
            "240/240 [==============================] - 3s 13ms/step - loss: 0.0073 - accuracy: 0.9975 - val_loss: 0.0409 - val_accuracy: 0.9922\n",
            "Epoch 24/100\n",
            "238/240 [============================>.] - ETA: 0s - loss: 0.0058 - accuracy: 0.9980\n",
            "Epoch 24: val_loss did not improve from 0.03343\n",
            "240/240 [==============================] - 3s 13ms/step - loss: 0.0058 - accuracy: 0.9980 - val_loss: 0.0396 - val_accuracy: 0.9921\n"
          ]
        }
      ]
    },
    {
      "cell_type": "code",
      "source": [
        "best_model = load_model(model_path)\n",
        "best_model.evaluate(X_test, Y_test)"
      ],
      "metadata": {
        "colab": {
          "base_uri": "https://localhost:8080/"
        },
        "id": "hVspFjm2mhOA",
        "outputId": "ff2f6c40-2e47-446c-db7f-d1ef4f208e49"
      },
      "execution_count": 10,
      "outputs": [
        {
          "output_type": "stream",
          "name": "stdout",
          "text": [
            "313/313 [==============================] - 1s 3ms/step - loss: 0.0301 - accuracy: 0.9918\n"
          ]
        },
        {
          "output_type": "execute_result",
          "data": {
            "text/plain": [
              "[0.03014224022626877, 0.9918000102043152]"
            ]
          },
          "metadata": {},
          "execution_count": 10
        }
      ]
    },
    {
      "cell_type": "markdown",
      "source": [
        "- 학습과정 시각화"
      ],
      "metadata": {
        "id": "_gkHwINjmLlS"
      }
    },
    {
      "cell_type": "code",
      "source": [
        "y_acc = hist.history['accuracy']\n",
        "y_vloss = hist.history['val_loss']\n",
        "xs = np.arange(1, len(y_acc)+1)"
      ],
      "metadata": {
        "id": "WuMvcu9lmJ0a"
      },
      "execution_count": 11,
      "outputs": []
    },
    {
      "cell_type": "code",
      "source": [
        "plt.figure(figsize=(12,8))\n",
        "plt.plot(xs, y_acc, label='train accuracy')\n",
        "plt.plot(xs, y_vloss, label='validation loss')\n",
        "plt.legend(), plt.grid()\n",
        "plt.xlabel('Epoch')\n",
        "plt.title('MNIST CNN model v3')\n",
        "plt.show()"
      ],
      "metadata": {
        "colab": {
          "base_uri": "https://localhost:8080/",
          "height": 513
        },
        "id": "IzNReIazmO7t",
        "outputId": "9be62846-9137-4619-da19-1945249028e1"
      },
      "execution_count": 12,
      "outputs": [
        {
          "output_type": "display_data",
          "data": {
            "text/plain": [
              "<Figure size 864x576 with 1 Axes>"
            ],
            "image/png": "[encoded data removed]"
          },
          "metadata": {
            "needs_background": "light"
          }
        }
      ]
    },
    {
      "cell_type": "code",
      "source": [
        ""
      ],
      "metadata": {
        "id": "qRga_LhLmwd1"
      },
      "execution_count": null,
      "outputs": []
    }
  ]
}