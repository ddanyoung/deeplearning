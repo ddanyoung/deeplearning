{
  "nbformat": 4,
  "nbformat_minor": 0,
  "metadata": {
    "colab": {
      "name": "01_MNIST_v3.ipynb",
      "provenance": [],
      "collapsed_sections": []
    },
    "kernelspec": {
      "name": "python3",
      "display_name": "Python 3"
    },
    "language_info": {
      "name": "python"
    },
    "accelerator": "GPU"
  },
  "cells": [
    {
      "cell_type": "markdown",
      "source": [
        "# MNIST 손글씨 - CNN v2\n",
        "- 2 x Conv2D layers\n",
        "- 1 MaxPooing2D layer\n",
        "- 1 Dropout(0.25) layer\n",
        "- 1 FCN layer\n",
        "- 1 Dropout(0.5) layer\n",
        "- 1 Output layer"
      ],
      "metadata": {
        "id": "57_1gFMhl0mP"
      }
    },
    {
      "cell_type": "code",
      "execution_count": 1,
      "metadata": {
        "id": "HpIYskw0lmb3"
      },
      "outputs": [],
      "source": [
        "import numpy as np\n",
        "import matplotlib.pyplot as plt\n",
        "import tensorflow as tf\n",
        "seed = 2022\n",
        "np.random.seed(seed)\n",
        "tf.random.set_seed(seed)"
      ]
    },
    {
      "cell_type": "markdown",
      "source": [
        "- 데이터 전처리"
      ],
      "metadata": {
        "id": "ASVKVjbrl6cm"
      }
    },
    {
      "cell_type": "code",
      "source": [
        "from tensorflow.keras.datasets import mnist\n",
        "(X_train, y_train), (X_test, y_test) = mnist.load_data()\n",
        "X_train.shape, y_train.shape, X_test.shape, y_test.shape"
      ],
      "metadata": {
        "colab": {
          "base_uri": "https://localhost:8080/"
        },
        "id": "LAenEeYwl4ny",
        "outputId": "7248ac62-3d5a-43a5-8fcc-7e3b91476302"
      },
      "execution_count": 2,
      "outputs": [
        {
          "output_type": "stream",
          "name": "stdout",
          "text": [
            "Downloading data from https://storage.googleapis.com/tensorflow/tf-keras-datasets/mnist.npz\n",
            "11493376/11490434 [==============================] - 0s 0us/step\n",
            "11501568/11490434 [==============================] - 0s 0us/step\n"
          ]
        },
        {
          "output_type": "execute_result",
          "data": {
            "text/plain": [
              "((60000, 28, 28), (60000,), (10000, 28, 28), (10000,))"
            ]
          },
          "metadata": {},
          "execution_count": 2
        }
      ]
    },
    {
      "cell_type": "code",
      "source": [
        "# X_train, X_test 정규화(0 ~ 1), 이미지 차원 변경: 2차원 --> 3차원\n",
        "X_train = X_train.reshape(-1, 28, 28, 1) / 255.\n",
        "X_test = X_test.reshape(-1, 28, 28, 1) / 255.\n",
        "X_train.shape, X_test.shape"
      ],
      "metadata": {
        "colab": {
          "base_uri": "https://localhost:8080/"
        },
        "id": "wEQ1qIvsl9PT",
        "outputId": "b07c26d6-aeaa-4703-f9b6-58ba04d4807b"
      },
      "execution_count": 3,
      "outputs": [
        {
          "output_type": "execute_result",
          "data": {
            "text/plain": [
              "((60000, 28, 28, 1), (10000, 28, 28, 1))"
            ]
          },
          "metadata": {},
          "execution_count": 3
        }
      ]
    },
    {
      "cell_type": "code",
      "source": [
        "# One hot encoding\n",
        "from tensorflow.keras.utils import to_categorical\n",
        "Y_train = to_categorical(y_train)\n",
        "Y_test = to_categorical(y_test)\n",
        "Y_train.shape, Y_test.shape"
      ],
      "metadata": {
        "colab": {
          "base_uri": "https://localhost:8080/"
        },
        "id": "zvW6jSxQl_Ao",
        "outputId": "7a6df895-00a5-48b9-81de-760e78c101c1"
      },
      "execution_count": 4,
      "outputs": [
        {
          "output_type": "execute_result",
          "data": {
            "text/plain": [
              "((60000, 10), (10000, 10))"
            ]
          },
          "metadata": {},
          "execution_count": 4
        }
      ]
    },
    {
      "cell_type": "markdown",
      "source": [
        "- 모델 정의/설정/학습/평가"
      ],
      "metadata": {
        "id": "u1HwV1NumAQS"
      }
    },
    {
      "cell_type": "code",
      "source": [
        "from tensorflow.keras.models import Sequential, load_model\n",
        "from tensorflow.keras.layers import Dense, Conv2D, Flatten, MaxPooling2D, Dropout\n",
        "from tensorflow.keras.callbacks import ModelCheckpoint, EarlyStopping"
      ],
      "metadata": {
        "id": "MDoX0qAMl_60"
      },
      "execution_count": 6,
      "outputs": []
    },
    {
      "cell_type": "code",
      "source": [
        "model = Sequential([\n",
        "    Conv2D(32, kernel_size=(3,3), input_shape=(28,28,1), activation='relu'),\n",
        "    Conv2D(64, (3,3), activation='relu'),\n",
        "    MaxPooling2D(),\n",
        "    Dropout(0.25),\n",
        "    Flatten(),\n",
        "    Dense(512, activation='relu'),\n",
        "    Dropout(0.5),\n",
        "    Dense(10, activation='softmax')\n",
        "])\n",
        "model.summary()"
      ],
      "metadata": {
        "colab": {
          "base_uri": "https://localhost:8080/"
        },
        "id": "j47ZVOmDmEEL",
        "outputId": "830cfc65-a197-4c06-e784-1ca4e0879ede"
      },
      "execution_count": 7,
      "outputs": [
        {
          "output_type": "stream",
          "name": "stdout",
          "text": [
            "Model: \"sequential\"\n",
            "_________________________________________________________________\n",
            " Layer (type)                Output Shape              Param #   \n",
            "=================================================================\n",
            " conv2d (Conv2D)             (None, 26, 26, 32)        320       \n",
            "                                                                 \n",
            " conv2d_1 (Conv2D)           (None, 24, 24, 64)        18496     \n",
            "                                                                 \n",
            " max_pooling2d (MaxPooling2D  (None, 12, 12, 64)       0         \n",
            " )                                                               \n",
            "                                                                 \n",
            " dropout (Dropout)           (None, 12, 12, 64)        0         \n",
            "                                                                 \n",
            " flatten (Flatten)           (None, 9216)              0         \n",
            "                                                                 \n",
            " dense (Dense)               (None, 512)               4719104   \n",
            "                                                                 \n",
            " dropout_1 (Dropout)         (None, 512)               0         \n",
            "                                                                 \n",
            " dense_1 (Dense)             (None, 10)                5130      \n",
            "                                                                 \n",
            "=================================================================\n",
            "Total params: 4,743,050\n",
            "Trainable params: 4,743,050\n",
            "Non-trainable params: 0\n",
            "_________________________________________________________________\n"
          ]
        }
      ]
    },
    {
      "cell_type": "code",
      "source": [
        "model.compile('adam', 'categorical_crossentropy', ['accuracy'])"
      ],
      "metadata": {
        "id": "DR5ztubumFvH"
      },
      "execution_count": 8,
      "outputs": []
    },
    {
      "cell_type": "code",
      "source": [
        "model_path = 'best-mnist-cnn-v3.h5'\n",
        "mc = ModelCheckpoint(model_path, save_best_only=True, verbose=1)\n",
        "es = EarlyStopping(patience=10)"
      ],
      "metadata": {
        "id": "L2VjhHF5mHon"
      },
      "execution_count": 10,
      "outputs": []
    },
    {
      "cell_type": "code",
      "source": [
        "hist = model.fit(\n",
        "    X_train, Y_train, validation_split=0.2, epochs=100, batch_size=200,\n",
        "    callbacks=[mc, es]\n",
        ")"
      ],
      "metadata": {
        "colab": {
          "base_uri": "https://localhost:8080/"
        },
        "id": "omL7Vc7NmIli",
        "outputId": "f8095d1f-f936-4add-9f09-e591117dc24e"
      },
      "execution_count": 11,
      "outputs": [
        {
          "output_type": "stream",
          "name": "stdout",
          "text": [
            "Epoch 1/100\n",
            "240/240 [==============================] - ETA: 0s - loss: 0.2201 - accuracy: 0.9319\n",
            "Epoch 1: val_loss improved from inf to 0.05600, saving model to best-mnist-cnn-v3.h5\n",
            "240/240 [==============================] - 15s 15ms/step - loss: 0.2201 - accuracy: 0.9319 - val_loss: 0.0560 - val_accuracy: 0.9835\n",
            "Epoch 2/100\n",
            "239/240 [============================>.] - ETA: 0s - loss: 0.0622 - accuracy: 0.9809\n",
            "Epoch 2: val_loss improved from 0.05600 to 0.05138, saving model to best-mnist-cnn-v3.h5\n",
            "240/240 [==============================] - 3s 14ms/step - loss: 0.0622 - accuracy: 0.9809 - val_loss: 0.0514 - val_accuracy: 0.9854\n",
            "Epoch 3/100\n",
            "239/240 [============================>.] - ETA: 0s - loss: 0.0432 - accuracy: 0.9869\n",
            "Epoch 3: val_loss improved from 0.05138 to 0.03883, saving model to best-mnist-cnn-v3.h5\n",
            "240/240 [==============================] - 3s 14ms/step - loss: 0.0432 - accuracy: 0.9869 - val_loss: 0.0388 - val_accuracy: 0.9891\n",
            "Epoch 4/100\n",
            "238/240 [============================>.] - ETA: 0s - loss: 0.0349 - accuracy: 0.9888\n",
            "Epoch 4: val_loss improved from 0.03883 to 0.03726, saving model to best-mnist-cnn-v3.h5\n",
            "240/240 [==============================] - 3s 14ms/step - loss: 0.0349 - accuracy: 0.9887 - val_loss: 0.0373 - val_accuracy: 0.9891\n",
            "Epoch 5/100\n",
            "237/240 [============================>.] - ETA: 0s - loss: 0.0284 - accuracy: 0.9911\n",
            "Epoch 5: val_loss did not improve from 0.03726\n",
            "240/240 [==============================] - 3s 14ms/step - loss: 0.0283 - accuracy: 0.9911 - val_loss: 0.0380 - val_accuracy: 0.9898\n",
            "Epoch 6/100\n",
            "239/240 [============================>.] - ETA: 0s - loss: 0.0227 - accuracy: 0.9925\n",
            "Epoch 6: val_loss improved from 0.03726 to 0.03469, saving model to best-mnist-cnn-v3.h5\n",
            "240/240 [==============================] - 3s 14ms/step - loss: 0.0226 - accuracy: 0.9925 - val_loss: 0.0347 - val_accuracy: 0.9891\n",
            "Epoch 7/100\n",
            "236/240 [============================>.] - ETA: 0s - loss: 0.0190 - accuracy: 0.9936\n",
            "Epoch 7: val_loss did not improve from 0.03469\n",
            "240/240 [==============================] - 3s 14ms/step - loss: 0.0187 - accuracy: 0.9937 - val_loss: 0.0381 - val_accuracy: 0.9903\n",
            "Epoch 8/100\n",
            "237/240 [============================>.] - ETA: 0s - loss: 0.0174 - accuracy: 0.9941\n",
            "Epoch 8: val_loss did not improve from 0.03469\n",
            "240/240 [==============================] - 3s 14ms/step - loss: 0.0175 - accuracy: 0.9941 - val_loss: 0.0352 - val_accuracy: 0.9908\n",
            "Epoch 9/100\n",
            "237/240 [============================>.] - ETA: 0s - loss: 0.0137 - accuracy: 0.9950\n",
            "Epoch 9: val_loss did not improve from 0.03469\n",
            "240/240 [==============================] - 4s 15ms/step - loss: 0.0136 - accuracy: 0.9951 - val_loss: 0.0357 - val_accuracy: 0.9908\n",
            "Epoch 10/100\n",
            "239/240 [============================>.] - ETA: 0s - loss: 0.0126 - accuracy: 0.9957\n",
            "Epoch 10: val_loss did not improve from 0.03469\n",
            "240/240 [==============================] - 3s 14ms/step - loss: 0.0126 - accuracy: 0.9957 - val_loss: 0.0419 - val_accuracy: 0.9894\n",
            "Epoch 11/100\n",
            "237/240 [============================>.] - ETA: 0s - loss: 0.0123 - accuracy: 0.9959\n",
            "Epoch 11: val_loss did not improve from 0.03469\n",
            "240/240 [==============================] - 3s 13ms/step - loss: 0.0123 - accuracy: 0.9959 - val_loss: 0.0465 - val_accuracy: 0.9884\n",
            "Epoch 12/100\n",
            "238/240 [============================>.] - ETA: 0s - loss: 0.0107 - accuracy: 0.9963\n",
            "Epoch 12: val_loss did not improve from 0.03469\n",
            "240/240 [==============================] - 3s 14ms/step - loss: 0.0107 - accuracy: 0.9963 - val_loss: 0.0362 - val_accuracy: 0.9909\n",
            "Epoch 13/100\n",
            "239/240 [============================>.] - ETA: 0s - loss: 0.0112 - accuracy: 0.9959\n",
            "Epoch 13: val_loss did not improve from 0.03469\n",
            "240/240 [==============================] - 3s 14ms/step - loss: 0.0112 - accuracy: 0.9959 - val_loss: 0.0411 - val_accuracy: 0.9912\n",
            "Epoch 14/100\n",
            "238/240 [============================>.] - ETA: 0s - loss: 0.0100 - accuracy: 0.9965\n",
            "Epoch 14: val_loss did not improve from 0.03469\n",
            "240/240 [==============================] - 3s 14ms/step - loss: 0.0099 - accuracy: 0.9965 - val_loss: 0.0360 - val_accuracy: 0.9910\n",
            "Epoch 15/100\n",
            "237/240 [============================>.] - ETA: 0s - loss: 0.0069 - accuracy: 0.9974\n",
            "Epoch 15: val_loss did not improve from 0.03469\n",
            "240/240 [==============================] - 3s 13ms/step - loss: 0.0069 - accuracy: 0.9975 - val_loss: 0.0453 - val_accuracy: 0.9905\n",
            "Epoch 16/100\n",
            "237/240 [============================>.] - ETA: 0s - loss: 0.0078 - accuracy: 0.9973\n",
            "Epoch 16: val_loss did not improve from 0.03469\n",
            "240/240 [==============================] - 3s 14ms/step - loss: 0.0077 - accuracy: 0.9973 - val_loss: 0.0402 - val_accuracy: 0.9912\n"
          ]
        }
      ]
    },
    {
      "cell_type": "code",
      "source": [
        "best_model = load_model(model_path)\n",
        "best_model.evaluate(X_test, Y_test)"
      ],
      "metadata": {
        "colab": {
          "base_uri": "https://localhost:8080/"
        },
        "id": "hVspFjm2mhOA",
        "outputId": "9f43ac0e-def8-425d-e457-190ce2d36616"
      },
      "execution_count": 12,
      "outputs": [
        {
          "output_type": "stream",
          "name": "stdout",
          "text": [
            "313/313 [==============================] - 1s 3ms/step - loss: 0.0297 - accuracy: 0.9908\n"
          ]
        },
        {
          "output_type": "execute_result",
          "data": {
            "text/plain": [
              "[0.029700104147195816, 0.9908000230789185]"
            ]
          },
          "metadata": {},
          "execution_count": 12
        }
      ]
    },
    {
      "cell_type": "markdown",
      "source": [
        "- 학습과정 시각화"
      ],
      "metadata": {
        "id": "_gkHwINjmLlS"
      }
    },
    {
      "cell_type": "code",
      "source": [
        "y_acc = hist.history['accuracy']\n",
        "y_vloss = hist.history['val_loss']\n",
        "xs = np.arange(1, len(y_acc)+1)"
      ],
      "metadata": {
        "id": "WuMvcu9lmJ0a"
      },
      "execution_count": 13,
      "outputs": []
    },
    {
      "cell_type": "code",
      "source": [
        "plt.figure(figsize=(12,8))\n",
        "plt.plot(xs, y_acc, label='train accuracy')\n",
        "plt.plot(xs, y_vloss, label='validation loss')\n",
        "plt.legend(), plt.grid()\n",
        "plt.xlabel('Epoch')\n",
        "plt.title('MNIST CNN model v1')\n",
        "plt.show()"
      ],
      "metadata": {
        "colab": {
          "base_uri": "https://localhost:8080/",
          "height": 513
        },
        "id": "IzNReIazmO7t",
        "outputId": "1d362d07-afa6-459f-a5a8-74575b516d57"
      },
      "execution_count": 14,
      "outputs": [
        {
          "output_type": "display_data",
          "data": {
            "text/plain": [
              "<Figure size 864x576 with 1 Axes>"
            ],
            "image/png": "[encoded data removed]"
          },
          "metadata": {
            "needs_background": "light"
          }
        }
      ]
    },
    {
      "cell_type": "code",
      "source": [
        ""
      ],
      "metadata": {
        "id": "qRga_LhLmwd1"
      },
      "execution_count": null,
      "outputs": []
    }
  ]
}