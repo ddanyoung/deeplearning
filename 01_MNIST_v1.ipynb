{
  "nbformat": 4,
  "nbformat_minor": 0,
  "metadata": {
    "colab": {
      "name": "01_MNIST_v1.ipynb",
      "provenance": [],
      "authorship_tag": "ABX9TyNnhxjgrjvFzraIT++GNR89"
    },
    "kernelspec": {
      "name": "python3",
      "display_name": "Python 3"
    },
    "language_info": {
      "name": "python"
    },
    "accelerator": "GPU"
  },
  "cells": [
    {
      "cell_type": "markdown",
      "source": [
        "# MNIST 손글씨 - CNN v1\n",
        "- 2 x Conv2D layers\n",
        "- 1 FCN layer\n",
        "- 1 Output layer"
      ],
      "metadata": {
        "id": "57_1gFMhl0mP"
      }
    },
    {
      "cell_type": "code",
      "execution_count": null,
      "metadata": {
        "id": "HpIYskw0lmb3"
      },
      "outputs": [],
      "source": [
        "import numpy as np\n",
        "import matplotlib.pyplot as plt\n",
        "import tensorflow as tf\n",
        "seed = 2022\n",
        "np.random.seed(seed)\n",
        "tf.random.set_seed(seed)"
      ]
    },
    {
      "cell_type": "markdown",
      "source": [
        "- 데이터 전처리"
      ],
      "metadata": {
        "id": "ASVKVjbrl6cm"
      }
    },
    {
      "cell_type": "code",
      "source": [
        "from tensorflow.keras.datasets import mnist\n",
        "(X_train, y_train), (X_test, y_test) = mnist.load_data()\n",
        "X_train.shape, y_train.shape, X_test.shape, y_test.shape"
      ],
      "metadata": {
        "colab": {
          "base_uri": "https://localhost:8080/"
        },
        "id": "LAenEeYwl4ny",
        "outputId": "428f4485-bd1e-4156-bad3-bfb283bf52f5"
      },
      "execution_count": null,
      "outputs": [
        {
          "output_type": "stream",
          "name": "stdout",
          "text": [
            "Downloading data from https://storage.googleapis.com/tensorflow/tf-keras-datasets/mnist.npz\n",
            "11493376/11490434 [==============================] - 0s 0us/step\n",
            "11501568/11490434 [==============================] - 0s 0us/step\n"
          ]
        },
        {
          "output_type": "execute_result",
          "data": {
            "text/plain": [
              "((60000, 28, 28), (60000,), (10000, 28, 28), (10000,))"
            ]
          },
          "metadata": {},
          "execution_count": 2
        }
      ]
    },
    {
      "cell_type": "code",
      "source": [
        "# X_train, X_test 정규화(0 ~ 1), 이미지 차원 변경: 2차원 --> 3차원\n",
        "X_train = X_train.reshape(-1, 28, 28, 1) / 255.\n",
        "X_test = X_test.reshape(-1, 28, 28, 1) / 255.\n",
        "X_train.shape, X_test.shape"
      ],
      "metadata": {
        "colab": {
          "base_uri": "https://localhost:8080/"
        },
        "id": "wEQ1qIvsl9PT",
        "outputId": "807e2176-ac38-4604-d922-229609dfc9cf"
      },
      "execution_count": null,
      "outputs": [
        {
          "output_type": "execute_result",
          "data": {
            "text/plain": [
              "((60000, 28, 28, 1), (10000, 28, 28, 1))"
            ]
          },
          "metadata": {},
          "execution_count": 3
        }
      ]
    },
    {
      "cell_type": "code",
      "source": [
        "# One hot encoding\n",
        "from tensorflow.keras.utils import to_categorical\n",
        "Y_train = to_categorical(y_train)\n",
        "Y_test = to_categorical(y_test)\n",
        "Y_train.shape, Y_test.shape"
      ],
      "metadata": {
        "colab": {
          "base_uri": "https://localhost:8080/"
        },
        "id": "zvW6jSxQl_Ao",
        "outputId": "cb5fbbcc-250a-4b25-d589-232d0127516f"
      },
      "execution_count": null,
      "outputs": [
        {
          "output_type": "execute_result",
          "data": {
            "text/plain": [
              "((60000, 10), (10000, 10))"
            ]
          },
          "metadata": {},
          "execution_count": 4
        }
      ]
    },
    {
      "cell_type": "markdown",
      "source": [
        "- 모델 정의/설정/학습/평가"
      ],
      "metadata": {
        "id": "u1HwV1NumAQS"
      }
    },
    {
      "cell_type": "code",
      "source": [
        "from tensorflow.keras.models import Sequential, load_model\n",
        "from tensorflow.keras.layers import Dense, Conv2D, Flatten\n",
        "from tensorflow.keras.callbacks import ModelCheckpoint, EarlyStopping"
      ],
      "metadata": {
        "id": "MDoX0qAMl_60"
      },
      "execution_count": null,
      "outputs": []
    },
    {
      "cell_type": "code",
      "source": [
        "model = Sequential([\n",
        "    Conv2D(32, kernel_size=(3,3), input_shape=(28,28,1), activation='relu'),\n",
        "    Conv2D(64, (3,3), activation='relu'),\n",
        "    Flatten(),\n",
        "    Dense(512, activation='relu'),\n",
        "    Dense(10, activation='softmax')\n",
        "])\n",
        "model.summary()"
      ],
      "metadata": {
        "colab": {
          "base_uri": "https://localhost:8080/"
        },
        "id": "j47ZVOmDmEEL",
        "outputId": "d876829d-e31d-4863-8c7d-0f5995f7f741"
      },
      "execution_count": null,
      "outputs": [
        {
          "output_type": "stream",
          "name": "stdout",
          "text": [
            "Model: \"sequential\"\n",
            "_________________________________________________________________\n",
            " Layer (type)                Output Shape              Param #   \n",
            "=================================================================\n",
            " conv2d (Conv2D)             (None, 26, 26, 32)        320       \n",
            "                                                                 \n",
            " conv2d_1 (Conv2D)           (None, 24, 24, 64)        18496     \n",
            "                                                                 \n",
            " flatten (Flatten)           (None, 36864)             0         \n",
            "                                                                 \n",
            " dense (Dense)               (None, 512)               18874880  \n",
            "                                                                 \n",
            " dense_1 (Dense)             (None, 10)                5130      \n",
            "                                                                 \n",
            "=================================================================\n",
            "Total params: 18,898,826\n",
            "Trainable params: 18,898,826\n",
            "Non-trainable params: 0\n",
            "_________________________________________________________________\n"
          ]
        }
      ]
    },
    {
      "cell_type": "code",
      "source": [
        "model.compile('adam', 'categorical_crossentropy', ['accuracy'])"
      ],
      "metadata": {
        "id": "DR5ztubumFvH"
      },
      "execution_count": null,
      "outputs": []
    },
    {
      "cell_type": "code",
      "source": [
        "model_path = 'best-mnist-cnn-v1.h5'\n",
        "mc = ModelCheckpoint(model_path, save_best_only=True, verbose=1)\n",
        "es = EarlyStopping(patience=10)"
      ],
      "metadata": {
        "id": "L2VjhHF5mHon"
      },
      "execution_count": null,
      "outputs": []
    },
    {
      "cell_type": "code",
      "source": [
        "hist = model.fit(\n",
        "    X_train, Y_train, validation_split=0.2, epochs=100, batch_size=200,\n",
        "    callbacks=[mc, es]\n",
        ")"
      ],
      "metadata": {
        "colab": {
          "base_uri": "https://localhost:8080/"
        },
        "id": "omL7Vc7NmIli",
        "outputId": "1b1c4eef-d50c-4dac-fdc2-6dd44cd9811e"
      },
      "execution_count": null,
      "outputs": [
        {
          "output_type": "stream",
          "name": "stdout",
          "text": [
            "Epoch 1/100\n",
            "239/240 [============================>.] - ETA: 0s - loss: 0.1524 - accuracy: 0.9530\n",
            "Epoch 1: val_loss improved from inf to 0.05603, saving model to best-mnist-cnn-v1.h5\n",
            "240/240 [==============================] - 17s 24ms/step - loss: 0.1521 - accuracy: 0.9531 - val_loss: 0.0560 - val_accuracy: 0.9835\n",
            "Epoch 2/100\n",
            "238/240 [============================>.] - ETA: 0s - loss: 0.0354 - accuracy: 0.9892\n",
            "Epoch 2: val_loss improved from 0.05603 to 0.05406, saving model to best-mnist-cnn-v1.h5\n",
            "240/240 [==============================] - 5s 21ms/step - loss: 0.0353 - accuracy: 0.9892 - val_loss: 0.0541 - val_accuracy: 0.9851\n",
            "Epoch 3/100\n",
            "238/240 [============================>.] - ETA: 0s - loss: 0.0176 - accuracy: 0.9944\n",
            "Epoch 3: val_loss improved from 0.05406 to 0.04662, saving model to best-mnist-cnn-v1.h5\n",
            "240/240 [==============================] - 5s 22ms/step - loss: 0.0176 - accuracy: 0.9944 - val_loss: 0.0466 - val_accuracy: 0.9867\n",
            "Epoch 4/100\n",
            "238/240 [============================>.] - ETA: 0s - loss: 0.0100 - accuracy: 0.9970\n",
            "Epoch 4: val_loss did not improve from 0.04662\n",
            "240/240 [==============================] - 5s 20ms/step - loss: 0.0101 - accuracy: 0.9970 - val_loss: 0.0507 - val_accuracy: 0.9862\n",
            "Epoch 5/100\n",
            "238/240 [============================>.] - ETA: 0s - loss: 0.0066 - accuracy: 0.9978\n",
            "Epoch 5: val_loss did not improve from 0.04662\n",
            "240/240 [==============================] - 5s 20ms/step - loss: 0.0065 - accuracy: 0.9978 - val_loss: 0.0548 - val_accuracy: 0.9877\n",
            "Epoch 6/100\n",
            "238/240 [============================>.] - ETA: 0s - loss: 0.0057 - accuracy: 0.9982\n",
            "Epoch 6: val_loss did not improve from 0.04662\n",
            "240/240 [==============================] - 5s 19ms/step - loss: 0.0057 - accuracy: 0.9982 - val_loss: 0.0594 - val_accuracy: 0.9873\n",
            "Epoch 7/100\n",
            "238/240 [============================>.] - ETA: 0s - loss: 0.0055 - accuracy: 0.9982\n",
            "Epoch 7: val_loss did not improve from 0.04662\n",
            "240/240 [==============================] - 5s 19ms/step - loss: 0.0054 - accuracy: 0.9982 - val_loss: 0.0519 - val_accuracy: 0.9883\n",
            "Epoch 8/100\n",
            "238/240 [============================>.] - ETA: 0s - loss: 0.0046 - accuracy: 0.9984\n",
            "Epoch 8: val_loss did not improve from 0.04662\n",
            "240/240 [==============================] - 5s 19ms/step - loss: 0.0046 - accuracy: 0.9984 - val_loss: 0.0575 - val_accuracy: 0.9880\n",
            "Epoch 9/100\n",
            "238/240 [============================>.] - ETA: 0s - loss: 0.0054 - accuracy: 0.9981\n",
            "Epoch 9: val_loss did not improve from 0.04662\n",
            "240/240 [==============================] - 5s 19ms/step - loss: 0.0053 - accuracy: 0.9981 - val_loss: 0.0524 - val_accuracy: 0.9887\n",
            "Epoch 10/100\n",
            "238/240 [============================>.] - ETA: 0s - loss: 0.0040 - accuracy: 0.9986\n",
            "Epoch 10: val_loss did not improve from 0.04662\n",
            "240/240 [==============================] - 5s 19ms/step - loss: 0.0040 - accuracy: 0.9986 - val_loss: 0.0601 - val_accuracy: 0.9877\n",
            "Epoch 11/100\n",
            "238/240 [============================>.] - ETA: 0s - loss: 0.0045 - accuracy: 0.9987\n",
            "Epoch 11: val_loss did not improve from 0.04662\n",
            "240/240 [==============================] - 5s 20ms/step - loss: 0.0045 - accuracy: 0.9987 - val_loss: 0.0636 - val_accuracy: 0.9885\n",
            "Epoch 12/100\n",
            "238/240 [============================>.] - ETA: 0s - loss: 0.0034 - accuracy: 0.9988\n",
            "Epoch 12: val_loss did not improve from 0.04662\n",
            "240/240 [==============================] - 5s 20ms/step - loss: 0.0036 - accuracy: 0.9987 - val_loss: 0.0595 - val_accuracy: 0.9872\n",
            "Epoch 13/100\n",
            "238/240 [============================>.] - ETA: 0s - loss: 0.0041 - accuracy: 0.9985\n",
            "Epoch 13: val_loss did not improve from 0.04662\n",
            "240/240 [==============================] - 5s 19ms/step - loss: 0.0041 - accuracy: 0.9985 - val_loss: 0.0587 - val_accuracy: 0.9883\n"
          ]
        }
      ]
    },
    {
      "cell_type": "code",
      "source": [
        "best_model = load_model(model_path)\n",
        "best_model.evaluate(X_test, Y_test)"
      ],
      "metadata": {
        "colab": {
          "base_uri": "https://localhost:8080/"
        },
        "id": "hVspFjm2mhOA",
        "outputId": "fdd01786-5d31-40f8-db84-a086feb41afc"
      },
      "execution_count": null,
      "outputs": [
        {
          "output_type": "stream",
          "name": "stdout",
          "text": [
            "313/313 [==============================] - 1s 4ms/step - loss: 0.0420 - accuracy: 0.9873\n"
          ]
        },
        {
          "output_type": "execute_result",
          "data": {
            "text/plain": [
              "[0.04198593273758888, 0.9872999787330627]"
            ]
          },
          "metadata": {},
          "execution_count": 10
        }
      ]
    },
    {
      "cell_type": "markdown",
      "source": [
        "- 학습과정 시각화"
      ],
      "metadata": {
        "id": "_gkHwINjmLlS"
      }
    },
    {
      "cell_type": "code",
      "source": [
        "y_acc = hist.history['accuracy']\n",
        "y_vloss = hist.history['val_loss']\n",
        "xs = np.arange(1, len(y_acc)+1)"
      ],
      "metadata": {
        "id": "WuMvcu9lmJ0a"
      },
      "execution_count": null,
      "outputs": []
    },
    {
      "cell_type": "code",
      "source": [
        "plt.figure(figsize=(12,8))\n",
        "plt.plot(xs, y_acc, label='train accuracy')\n",
        "plt.plot(xs, y_vloss, label='validation loss')\n",
        "plt.legend(), plt.grid()\n",
        "plt.xlabel('Epoch')\n",
        "plt.title('MNIST CNN model v1')\n",
        "plt.show()"
      ],
      "metadata": {
        "colab": {
          "base_uri": "https://localhost:8080/",
          "height": 513
        },
        "id": "IzNReIazmO7t",
        "outputId": "a70932cd-16c2-40ee-d78c-dbffaef80c7e"
      },
      "execution_count": null,
      "outputs": [
        {
          "output_type": "display_data",
          "data": {
            "text/plain": [
              "<Figure size 864x576 with 1 Axes>"
            ],
            "image/png": "[encoded data removed]"
          },
          "metadata": {
            "needs_background": "light"
          }
        }
      ]
    },
    {
      "cell_type": "code",
      "source": [
        ""
      ],
      "metadata": {
        "id": "qRga_LhLmwd1"
      },
      "execution_count": null,
      "outputs": []
    }
  ]
}