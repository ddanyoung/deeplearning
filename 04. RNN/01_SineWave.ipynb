{
  "nbformat": 4,
  "nbformat_minor": 0,
  "metadata": {
    "colab": {
      "name": "01_SineWave.ipynb",
      "provenance": [],
      "collapsed_sections": [],
      "authorship_tag": "ABX9TyNXZDqs/s2snLzZ3Ft7ZEos"
    },
    "kernelspec": {
      "name": "python3",
      "display_name": "Python 3"
    },
    "language_info": {
      "name": "python"
    }
  },
  "cells": [
    {
      "cell_type": "markdown",
      "source": [
        "# Simple RNN (many-to-one 문제)\n",
        "- 사인파형 시계열을 입력으로 받아 다음 스텝의 출력을 예측\n",
        "- 3개의 순서열을 입력한 후 출력값이 target과 일치하게 만든다"
      ],
      "metadata": {
        "id": "0WMA-uTnuUgq"
      }
    },
    {
      "cell_type": "markdown",
      "source": [
        "- 데이터 준비"
      ],
      "metadata": {
        "id": "4MdZhqIEuujw"
      }
    },
    {
      "cell_type": "code",
      "source": [
        "import numpy as np\n",
        "import matplotlib.pyplot as plt"
      ],
      "metadata": {
        "id": "u6J-Zfhzutwj"
      },
      "execution_count": 1,
      "outputs": []
    },
    {
      "cell_type": "code",
      "source": [
        "s = np.sin(np.arange(21) * np.pi/4)\n",
        "s"
      ],
      "metadata": {
        "colab": {
          "base_uri": "https://localhost:8080/"
        },
        "id": "vCETlS1Uu1mx",
        "outputId": "9cb706af-608a-4c95-8302-d6fb276962fe"
      },
      "execution_count": 2,
      "outputs": [
        {
          "output_type": "execute_result",
          "data": {
            "text/plain": [
              "array([ 0.00000000e+00,  7.07106781e-01,  1.00000000e+00,  7.07106781e-01,\n",
              "        1.22464680e-16, -7.07106781e-01, -1.00000000e+00, -7.07106781e-01,\n",
              "       -2.44929360e-16,  7.07106781e-01,  1.00000000e+00,  7.07106781e-01,\n",
              "        3.67394040e-16, -7.07106781e-01, -1.00000000e+00, -7.07106781e-01,\n",
              "       -4.89858720e-16,  7.07106781e-01,  1.00000000e+00,  7.07106781e-01,\n",
              "        6.12323400e-16])"
            ]
          },
          "metadata": {},
          "execution_count": 2
        }
      ]
    },
    {
      "cell_type": "code",
      "source": [
        "plt.plot(s, 'ro-')\n",
        "plt.xlim(-0.5, 20.5), plt.grid()\n",
        "plt.show()"
      ],
      "metadata": {
        "colab": {
          "base_uri": "https://localhost:8080/",
          "height": 265
        },
        "id": "RNM65pCQvAUG",
        "outputId": "50521e7c-bc0a-4ab1-b013-856828d0dfb1"
      },
      "execution_count": 3,
      "outputs": [
        {
          "output_type": "display_data",
          "data": {
            "text/plain": [
              "<Figure size 432x288 with 1 Axes>"
            ],
            "image/png": "[encoded data removed]"
          },
          "metadata": {
            "needs_background": "light"
          }
        }
      ]
    },
    {
      "cell_type": "markdown",
      "source": [
        "- X_train, y_train 데이터 생성"
      ],
      "metadata": {
        "id": "yTx8h8LbwB4Z"
      }
    },
    {
      "cell_type": "code",
      "source": [
        "X_train = []\n",
        "y_train = np.empty(len(s) - 3)\n",
        "for i in range(len(s) - 3):\n",
        "  X_train.append(s[i:i+3])\n",
        "  y_train[i] = s[i+3]\n",
        "y_train"
      ],
      "metadata": {
        "colab": {
          "base_uri": "https://localhost:8080/"
        },
        "id": "0Gkhjk3nvlpw",
        "outputId": "77a28cc7-515d-4119-aab3-783b37a12cff"
      },
      "execution_count": 4,
      "outputs": [
        {
          "output_type": "execute_result",
          "data": {
            "text/plain": [
              "array([ 7.07106781e-01,  1.22464680e-16, -7.07106781e-01, -1.00000000e+00,\n",
              "       -7.07106781e-01, -2.44929360e-16,  7.07106781e-01,  1.00000000e+00,\n",
              "        7.07106781e-01,  3.67394040e-16, -7.07106781e-01, -1.00000000e+00,\n",
              "       -7.07106781e-01, -4.89858720e-16,  7.07106781e-01,  1.00000000e+00,\n",
              "        7.07106781e-01,  6.12323400e-16])"
            ]
          },
          "metadata": {},
          "execution_count": 4
        }
      ]
    },
    {
      "cell_type": "code",
      "source": [
        "np.array(X_train).shape"
      ],
      "metadata": {
        "colab": {
          "base_uri": "https://localhost:8080/"
        },
        "id": "LQ14CQHzwyoQ",
        "outputId": "73138332-85a7-4fcf-f14a-4f1d01067cd7"
      },
      "execution_count": 5,
      "outputs": [
        {
          "output_type": "execute_result",
          "data": {
            "text/plain": [
              "(18, 3)"
            ]
          },
          "metadata": {},
          "execution_count": 5
        }
      ]
    },
    {
      "cell_type": "code",
      "source": [
        "# 입력 데이터 갯수, timesteps, input dim\n",
        "X_train = np.array(X_train).reshape(-1, 3, 1)\n",
        "X_train.shape"
      ],
      "metadata": {
        "colab": {
          "base_uri": "https://localhost:8080/"
        },
        "id": "ldruI67JxFJR",
        "outputId": "7a5d83da-ec84-460e-90f9-28c8799b94d8"
      },
      "execution_count": 8,
      "outputs": [
        {
          "output_type": "execute_result",
          "data": {
            "text/plain": [
              "(18, 3, 1)"
            ]
          },
          "metadata": {},
          "execution_count": 8
        }
      ]
    },
    {
      "cell_type": "code",
      "source": [
        "X_train[0], y_train[0]"
      ],
      "metadata": {
        "colab": {
          "base_uri": "https://localhost:8080/"
        },
        "id": "46KmhQpmxUyR",
        "outputId": "321f0d99-382b-498b-a6f0-4d00ad6d8504"
      },
      "execution_count": 10,
      "outputs": [
        {
          "output_type": "execute_result",
          "data": {
            "text/plain": [
              "(array([[0.        ],\n",
              "        [0.70710678],\n",
              "        [1.        ]]), 0.7071067811865476)"
            ]
          },
          "metadata": {},
          "execution_count": 10
        }
      ]
    },
    {
      "cell_type": "code",
      "source": [
        "X_train[1], y_train[1]"
      ],
      "metadata": {
        "colab": {
          "base_uri": "https://localhost:8080/"
        },
        "id": "2tGvu6IvyBCv",
        "outputId": "1cb8e842-a066-44c0-b71b-7f5945dc49a0"
      },
      "execution_count": 11,
      "outputs": [
        {
          "output_type": "execute_result",
          "data": {
            "text/plain": [
              "(array([[0.70710678],\n",
              "        [1.        ],\n",
              "        [0.70710678]]), 1.2246467991473532e-16)"
            ]
          },
          "metadata": {},
          "execution_count": 11
        }
      ]
    },
    {
      "cell_type": "markdown",
      "source": [
        "- 순환 신경망 모델 정의/설"
      ],
      "metadata": {
        "id": "32vR11iryauS"
      }
    },
    {
      "cell_type": "code",
      "source": [
        "import tensorflow as tf\n",
        "seed = 2022\n",
        "np.random.seed(seed)\n",
        "tf.random.set_seed(seed)"
      ],
      "metadata": {
        "id": "6W1sNSLdyck2"
      },
      "execution_count": 12,
      "outputs": []
    },
    {
      "cell_type": "code",
      "source": [
        "from tensorflow.keras.models import Sequential\n",
        "from tensorflow.keras.layers import SimpleRNN, Dense"
      ],
      "metadata": {
        "id": "rpfr_1eTyhms"
      },
      "execution_count": 13,
      "outputs": []
    },
    {
      "cell_type": "code",
      "source": [
        "model = Sequential([\n",
        "    SimpleRNN(10, input_shape=X_train.shape[1:], activation='tanh'),\n",
        "    Dense(1, activation='linear'),\n",
        "])\n",
        "model.summary()"
      ],
      "metadata": {
        "colab": {
          "base_uri": "https://localhost:8080/"
        },
        "id": "pbWH_7YLy4n-",
        "outputId": "44e6dcb3-8eb8-46a1-d624-71b79ce9681f"
      },
      "execution_count": 14,
      "outputs": [
        {
          "output_type": "stream",
          "name": "stdout",
          "text": [
            "Model: \"sequential\"\n",
            "_________________________________________________________________\n",
            " Layer (type)                Output Shape              Param #   \n",
            "=================================================================\n",
            " simple_rnn (SimpleRNN)      (None, 10)                120       \n",
            "                                                                 \n",
            " dense (Dense)               (None, 1)                 11        \n",
            "                                                                 \n",
            "=================================================================\n",
            "Total params: 131\n",
            "Trainable params: 131\n",
            "Non-trainable params: 0\n",
            "_________________________________________________________________\n"
          ]
        }
      ]
    },
    {
      "cell_type": "code",
      "source": [
        "model.compile('adam', loss='mse')"
      ],
      "metadata": {
        "id": "A2DfTNp2zmM-"
      },
      "execution_count": 15,
      "outputs": []
    },
    {
      "cell_type": "markdown",
      "source": [
        "- 모델 학습전"
      ],
      "metadata": {
        "id": "SzikcUT94YbU"
      }
    },
    {
      "cell_type": "code",
      "source": [
        "plt.plot(np.arange(3, 21), y_train, 'ro-', label='target')\n",
        "plt.plot(np.arange(3, 21), model.predict(X_train), 'bo-', label='predict')\n",
        "plt.xlim(-0.5, 20.5), plt.grid()\n",
        "plt.legend(), plt.title('Befor training')\n",
        "plt.show()"
      ],
      "metadata": {
        "colab": {
          "base_uri": "https://localhost:8080/",
          "height": 281
        },
        "id": "K8wYWmak4aV0",
        "outputId": "46029abd-4269-4e0a-9f88-8a100cb2eed7"
      },
      "execution_count": 18,
      "outputs": [
        {
          "output_type": "display_data",
          "data": {
            "text/plain": [
              "<Figure size 432x288 with 1 Axes>"
            ],
            "image/png": "[encoded data removed]"
          },
          "metadata": {
            "needs_background": "light"
          }
        }
      ]
    },
    {
      "cell_type": "markdown",
      "source": [
        "- 모델 학습"
      ],
      "metadata": {
        "id": "uf0irPde5Pjo"
      }
    },
    {
      "cell_type": "code",
      "source": [
        "hist = model.fit(X_train, y_train, epochs=100, verbose=0)"
      ],
      "metadata": {
        "id": "Cqa494nh5Qo9"
      },
      "execution_count": 19,
      "outputs": []
    },
    {
      "cell_type": "markdown",
      "source": [
        "- 모델 학습후"
      ],
      "metadata": {
        "id": "Vtn2RMz-5dBf"
      }
    },
    {
      "cell_type": "code",
      "source": [
        "plt.plot(np.arange(3, 21), y_train, 'ro-', label='target')\n",
        "plt.plot(np.arange(3, 21), model.predict(X_train), 'bo-', label='predict')\n",
        "plt.xlim(-0.5, 20.5), plt.grid()\n",
        "plt.legend(), plt.title('Atfer training')\n",
        "plt.show()"
      ],
      "metadata": {
        "colab": {
          "base_uri": "https://localhost:8080/",
          "height": 281
        },
        "id": "7D_7kH6s5egc",
        "outputId": "a5b6c729-d876-4dc3-cd54-ec015e9fb59c"
      },
      "execution_count": 20,
      "outputs": [
        {
          "output_type": "display_data",
          "data": {
            "text/plain": [
              "<Figure size 432x288 with 1 Axes>"
            ],
            "image/png": "[encoded data removed]"
          },
          "metadata": {
            "needs_background": "light"
          }
        }
      ]
    }
  ]
}