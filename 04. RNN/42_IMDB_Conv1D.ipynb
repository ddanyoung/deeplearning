{
  "nbformat": 4,
  "nbformat_minor": 0,
  "metadata": {
    "colab": {
      "name": "42_IMDB_Conv1D.ipynb",
      "provenance": [],
      "collapsed_sections": [],
      "authorship_tag": "ABX9TyN5yaPEYUR568F1a622Hbq/"
    },
    "kernelspec": {
      "name": "python3",
      "display_name": "Python 3"
    },
    "language_info": {
      "name": "python"
    },
    "accelerator": "GPU"
  },
  "cells": [
    {
      "cell_type": "markdown",
      "source": [
        "# IMDB 영화리뷰 감성분석 - Conv1D\n",
        "- Conv1D + Conv1D + Dense\n",
        "- Conv1D + LSTM + Dense\n",
        "- Conv1D + Dense + Dense"
      ],
      "metadata": {
        "id": "p2d_cse4CSS5"
      }
    },
    {
      "cell_type": "code",
      "execution_count": 1,
      "metadata": {
        "id": "VzevdBA-CPWy"
      },
      "outputs": [],
      "source": [
        "import numpy as np\n",
        "import tensorflow as tf\n",
        "seed = 2022\n",
        "np.random.seed(seed)\n",
        "tf.random.set_seed(seed)"
      ]
    },
    {
      "cell_type": "code",
      "source": [
        "from tensorflow.keras.datasets import imdb\n",
        "from tensorflow.keras.models import Sequential, load_model\n",
        "from tensorflow.keras.layers import Embedding, LSTM, Dense, Dropout\n",
        "from tensorflow.keras.layers import Conv1D, MaxPooling1D, GlobalMaxPooling1D\n",
        "from tensorflow.keras.callbacks import ModelCheckpoint, EarlyStopping\n",
        "from tensorflow.keras.preprocessing.sequence import pad_sequences\n",
        "from sklearn.model_selection import train_test_split"
      ],
      "metadata": {
        "id": "bTFbn7IZC6bY"
      },
      "execution_count": 2,
      "outputs": []
    },
    {
      "cell_type": "code",
      "source": [
        "num_words = 10000\n",
        "(X_train, y_train), (_, _) = imdb.load_data(num_words=num_words)"
      ],
      "metadata": {
        "colab": {
          "base_uri": "https://localhost:8080/"
        },
        "id": "uFFSW8GHC9yP",
        "outputId": "dcb136a9-00ba-4308-c0a4-827818d8f88c"
      },
      "execution_count": 3,
      "outputs": [
        {
          "output_type": "stream",
          "name": "stdout",
          "text": [
            "Downloading data from https://storage.googleapis.com/tensorflow/tf-keras-datasets/imdb.npz\n",
            "17465344/17464789 [==============================] - 0s 0us/step\n",
            "17473536/17464789 [==============================] - 0s 0us/step\n"
          ]
        }
      ]
    },
    {
      "cell_type": "code",
      "source": [
        "X_train, X_test, y_train, y_test = train_test_split(\n",
        "    X_train, y_train, stratify=y_train, test_size=0.2, random_state=seed\n",
        ")\n",
        "X_train.shape, X_test.shape, y_train.shape, y_test.shape"
      ],
      "metadata": {
        "colab": {
          "base_uri": "https://localhost:8080/"
        },
        "id": "1agxO4noDAjM",
        "outputId": "6538ebd7-e7c1-4d27-9238-51afa84cb8d6"
      },
      "execution_count": 4,
      "outputs": [
        {
          "output_type": "execute_result",
          "data": {
            "text/plain": [
              "((20000,), (5000,), (20000,), (5000,))"
            ]
          },
          "metadata": {},
          "execution_count": 4
        }
      ]
    },
    {
      "cell_type": "code",
      "source": [
        "max_len = 500\n",
        "X_train = pad_sequences(X_train, maxlen=max_len)\n",
        "X_test = pad_sequences(X_test, maxlen=max_len)\n",
        "X_train.shape, X_test.shape"
      ],
      "metadata": {
        "colab": {
          "base_uri": "https://localhost:8080/"
        },
        "id": "WaHCY0jPDJPG",
        "outputId": "2a0505b2-55fd-4ceb-e21d-ea8d3db2a7d5"
      },
      "execution_count": 5,
      "outputs": [
        {
          "output_type": "execute_result",
          "data": {
            "text/plain": [
              "((20000, 500), (5000, 500))"
            ]
          },
          "metadata": {},
          "execution_count": 5
        }
      ]
    },
    {
      "cell_type": "markdown",
      "source": [
        "- Case 1) Conv1D x 2"
      ],
      "metadata": {
        "id": "O0ToZO99DNAa"
      }
    },
    {
      "cell_type": "code",
      "source": [
        "model1 = Sequential([ \n",
        "    Embedding(num_words, 100, input_length=max_len),\n",
        "    Dropout(0.25),\n",
        "    Conv1D(64, 7, activation='relu'),\n",
        "    MaxPooling1D(7),\n",
        "    Conv1D(64, 5, activation='relu'),\n",
        "    MaxPooling1D(5),\n",
        "    GlobalMaxPooling1D(),\n",
        "    Dense(1, activation='sigmoid')\n",
        "])\n",
        "model1.summary()"
      ],
      "metadata": {
        "colab": {
          "base_uri": "https://localhost:8080/"
        },
        "id": "W_Au2mEbDMEe",
        "outputId": "2844603c-227d-4415-98df-206ecf92271b"
      },
      "execution_count": 6,
      "outputs": [
        {
          "output_type": "stream",
          "name": "stdout",
          "text": [
            "Model: \"sequential\"\n",
            "_________________________________________________________________\n",
            " Layer (type)                Output Shape              Param #   \n",
            "=================================================================\n",
            " embedding (Embedding)       (None, 500, 100)          1000000   \n",
            "                                                                 \n",
            " dropout (Dropout)           (None, 500, 100)          0         \n",
            "                                                                 \n",
            " conv1d (Conv1D)             (None, 494, 64)           44864     \n",
            "                                                                 \n",
            " max_pooling1d (MaxPooling1D  (None, 70, 64)           0         \n",
            " )                                                               \n",
            "                                                                 \n",
            " conv1d_1 (Conv1D)           (None, 66, 64)            20544     \n",
            "                                                                 \n",
            " max_pooling1d_1 (MaxPooling  (None, 13, 64)           0         \n",
            " 1D)                                                             \n",
            "                                                                 \n",
            " global_max_pooling1d (Globa  (None, 64)               0         \n",
            " lMaxPooling1D)                                                  \n",
            "                                                                 \n",
            " dense (Dense)               (None, 1)                 65        \n",
            "                                                                 \n",
            "=================================================================\n",
            "Total params: 1,065,473\n",
            "Trainable params: 1,065,473\n",
            "Non-trainable params: 0\n",
            "_________________________________________________________________\n"
          ]
        }
      ]
    },
    {
      "cell_type": "code",
      "source": [
        "model1.compile('adam', 'binary_crossentropy', ['accuracy'])\n",
        "model1_path = 'best-imdb-conv1d-conv1d.h5'\n",
        "mc1 = ModelCheckpoint(model1_path, verbose=1, save_best_only=True)\n",
        "es1 = EarlyStopping(patience=5)"
      ],
      "metadata": {
        "id": "yoW8fbAcGgTf"
      },
      "execution_count": 7,
      "outputs": []
    },
    {
      "cell_type": "code",
      "source": [
        "hist1 = model1.fit(\n",
        "    X_train, y_train, validation_split=0.2,\n",
        "    epochs=30, batch_size=64, callbacks=[mc1, es1]\n",
        ")"
      ],
      "metadata": {
        "colab": {
          "base_uri": "https://localhost:8080/"
        },
        "id": "rUvdXVrVIVft",
        "outputId": "7f409f3e-0f8f-47c6-869c-6e0e5ffd21d7"
      },
      "execution_count": 8,
      "outputs": [
        {
          "output_type": "stream",
          "name": "stdout",
          "text": [
            "Epoch 1/30\n",
            "248/250 [============================>.] - ETA: 0s - loss: 0.5363 - accuracy: 0.6916\n",
            "Epoch 1: val_loss improved from inf to 0.34546, saving model to best-imdb-conv1d-conv1d.h5\n",
            "250/250 [==============================] - 15s 10ms/step - loss: 0.5344 - accuracy: 0.6931 - val_loss: 0.3455 - val_accuracy: 0.8535\n",
            "Epoch 2/30\n",
            "244/250 [============================>.] - ETA: 0s - loss: 0.2573 - accuracy: 0.8973\n",
            "Epoch 2: val_loss improved from 0.34546 to 0.32187, saving model to best-imdb-conv1d-conv1d.h5\n",
            "250/250 [==============================] - 2s 9ms/step - loss: 0.2584 - accuracy: 0.8968 - val_loss: 0.3219 - val_accuracy: 0.8620\n",
            "Epoch 3/30\n",
            "249/250 [============================>.] - ETA: 0s - loss: 0.1565 - accuracy: 0.9428\n",
            "Epoch 3: val_loss did not improve from 0.32187\n",
            "250/250 [==============================] - 2s 9ms/step - loss: 0.1564 - accuracy: 0.9429 - val_loss: 0.3553 - val_accuracy: 0.8597\n",
            "Epoch 4/30\n",
            "250/250 [==============================] - ETA: 0s - loss: 0.0814 - accuracy: 0.9721\n",
            "Epoch 4: val_loss did not improve from 0.32187\n",
            "250/250 [==============================] - 2s 9ms/step - loss: 0.0814 - accuracy: 0.9721 - val_loss: 0.4312 - val_accuracy: 0.8572\n",
            "Epoch 5/30\n",
            "250/250 [==============================] - ETA: 0s - loss: 0.0376 - accuracy: 0.9886\n",
            "Epoch 5: val_loss did not improve from 0.32187\n",
            "250/250 [==============================] - 2s 9ms/step - loss: 0.0376 - accuracy: 0.9886 - val_loss: 0.5483 - val_accuracy: 0.8558\n",
            "Epoch 6/30\n",
            "244/250 [============================>.] - ETA: 0s - loss: 0.0187 - accuracy: 0.9949\n",
            "Epoch 6: val_loss did not improve from 0.32187\n",
            "250/250 [==============================] - 2s 9ms/step - loss: 0.0185 - accuracy: 0.9950 - val_loss: 0.6578 - val_accuracy: 0.8568\n",
            "Epoch 7/30\n",
            "250/250 [==============================] - ETA: 0s - loss: 0.0088 - accuracy: 0.9984\n",
            "Epoch 7: val_loss did not improve from 0.32187\n",
            "250/250 [==============================] - 2s 9ms/step - loss: 0.0088 - accuracy: 0.9984 - val_loss: 0.7456 - val_accuracy: 0.8583\n"
          ]
        }
      ]
    },
    {
      "cell_type": "code",
      "source": [
        "best_model1 = load_model(model1_path)\n",
        "best_model1.evaluate(X_test, y_test)"
      ],
      "metadata": {
        "colab": {
          "base_uri": "https://localhost:8080/"
        },
        "id": "reJ6KaSEIW9R",
        "outputId": "3bb86bf1-f6dc-46c3-a8e2-7165685b11cc"
      },
      "execution_count": 9,
      "outputs": [
        {
          "output_type": "stream",
          "name": "stdout",
          "text": [
            "157/157 [==============================] - 1s 4ms/step - loss: 0.3150 - accuracy: 0.8624\n"
          ]
        },
        {
          "output_type": "execute_result",
          "data": {
            "text/plain": [
              "[0.3149791657924652, 0.8623999953269958]"
            ]
          },
          "metadata": {},
          "execution_count": 9
        }
      ]
    },
    {
      "cell_type": "markdown",
      "source": [
        "- Case 2) Conv1D + LSTM"
      ],
      "metadata": {
        "id": "YXDYxM_XGc-3"
      }
    },
    {
      "cell_type": "code",
      "source": [
        "model2 = Sequential([ \n",
        "    Embedding(num_words, 100, input_length=max_len),\n",
        "    Dropout(0.25),\n",
        "    Conv1D(64, 5, activation='relu'),\n",
        "    MaxPooling1D(5),\n",
        "    LSTM(100),\n",
        "    Dense(1, activation='sigmoid')\n",
        "])\n",
        "model2.summary()"
      ],
      "metadata": {
        "colab": {
          "base_uri": "https://localhost:8080/"
        },
        "id": "altPNbRjEbI3",
        "outputId": "f3d58285-e14a-480a-a5e0-1645780a21c5"
      },
      "execution_count": 10,
      "outputs": [
        {
          "output_type": "stream",
          "name": "stdout",
          "text": [
            "Model: \"sequential_1\"\n",
            "_________________________________________________________________\n",
            " Layer (type)                Output Shape              Param #   \n",
            "=================================================================\n",
            " embedding_1 (Embedding)     (None, 500, 100)          1000000   \n",
            "                                                                 \n",
            " dropout_1 (Dropout)         (None, 500, 100)          0         \n",
            "                                                                 \n",
            " conv1d_2 (Conv1D)           (None, 496, 64)           32064     \n",
            "                                                                 \n",
            " max_pooling1d_2 (MaxPooling  (None, 99, 64)           0         \n",
            " 1D)                                                             \n",
            "                                                                 \n",
            " lstm (LSTM)                 (None, 100)               66000     \n",
            "                                                                 \n",
            " dense_1 (Dense)             (None, 1)                 101       \n",
            "                                                                 \n",
            "=================================================================\n",
            "Total params: 1,098,165\n",
            "Trainable params: 1,098,165\n",
            "Non-trainable params: 0\n",
            "_________________________________________________________________\n"
          ]
        }
      ]
    },
    {
      "cell_type": "code",
      "source": [
        "model2.compile('adam', 'binary_crossentropy', ['accuracy'])\n",
        "model2_path = 'best-imdb-conv1d-lstm.h5'\n",
        "mc2 = ModelCheckpoint(model2_path, verbose=1, save_best_only=True)\n",
        "es2 = EarlyStopping(patience=5)"
      ],
      "metadata": {
        "id": "Yjy6G5fMG6is"
      },
      "execution_count": 11,
      "outputs": []
    },
    {
      "cell_type": "code",
      "source": [
        "hist2 = model2.fit(\n",
        "    X_train, y_train, validation_split=0.2,\n",
        "    epochs=30, batch_size=64, callbacks=[mc2, es2]\n",
        ")"
      ],
      "metadata": {
        "colab": {
          "base_uri": "https://localhost:8080/"
        },
        "id": "d_2WzZS4IUzX",
        "outputId": "7788a90b-9baa-49ee-8034-aa4340d9c164"
      },
      "execution_count": 12,
      "outputs": [
        {
          "output_type": "stream",
          "name": "stdout",
          "text": [
            "Epoch 1/30\n",
            "247/250 [============================>.] - ETA: 0s - loss: 0.4187 - accuracy: 0.7851\n",
            "Epoch 1: val_loss improved from inf to 0.29747, saving model to best-imdb-conv1d-lstm.h5\n",
            "250/250 [==============================] - 6s 15ms/step - loss: 0.4171 - accuracy: 0.7864 - val_loss: 0.2975 - val_accuracy: 0.8870\n",
            "Epoch 2/30\n",
            "247/250 [============================>.] - ETA: 0s - loss: 0.1989 - accuracy: 0.9228\n",
            "Epoch 2: val_loss improved from 0.29747 to 0.26544, saving model to best-imdb-conv1d-lstm.h5\n",
            "250/250 [==============================] - 3s 13ms/step - loss: 0.1998 - accuracy: 0.9223 - val_loss: 0.2654 - val_accuracy: 0.8905\n",
            "Epoch 3/30\n",
            "248/250 [============================>.] - ETA: 0s - loss: 0.1188 - accuracy: 0.9586\n",
            "Epoch 3: val_loss did not improve from 0.26544\n",
            "250/250 [==============================] - 3s 13ms/step - loss: 0.1188 - accuracy: 0.9584 - val_loss: 0.3053 - val_accuracy: 0.8857\n",
            "Epoch 4/30\n",
            "246/250 [============================>.] - ETA: 0s - loss: 0.0718 - accuracy: 0.9762\n",
            "Epoch 4: val_loss did not improve from 0.26544\n",
            "250/250 [==============================] - 3s 13ms/step - loss: 0.0723 - accuracy: 0.9762 - val_loss: 0.3610 - val_accuracy: 0.8802\n",
            "Epoch 5/30\n",
            "247/250 [============================>.] - ETA: 0s - loss: 0.0519 - accuracy: 0.9834\n",
            "Epoch 5: val_loss did not improve from 0.26544\n",
            "250/250 [==============================] - 3s 13ms/step - loss: 0.0524 - accuracy: 0.9832 - val_loss: 0.4309 - val_accuracy: 0.8842\n",
            "Epoch 6/30\n",
            "250/250 [==============================] - ETA: 0s - loss: 0.0317 - accuracy: 0.9905\n",
            "Epoch 6: val_loss did not improve from 0.26544\n",
            "250/250 [==============================] - 3s 13ms/step - loss: 0.0317 - accuracy: 0.9905 - val_loss: 0.5809 - val_accuracy: 0.8643\n",
            "Epoch 7/30\n",
            "248/250 [============================>.] - ETA: 0s - loss: 0.0282 - accuracy: 0.9915\n",
            "Epoch 7: val_loss did not improve from 0.26544\n",
            "250/250 [==============================] - 3s 13ms/step - loss: 0.0281 - accuracy: 0.9915 - val_loss: 0.5142 - val_accuracy: 0.8863\n"
          ]
        }
      ]
    },
    {
      "cell_type": "code",
      "source": [
        "best_model2 = load_model(model2_path)\n",
        "best_model2.evaluate(X_test, y_test)"
      ],
      "metadata": {
        "colab": {
          "base_uri": "https://localhost:8080/"
        },
        "id": "ziwEISgyIX7K",
        "outputId": "baf27248-feab-45af-b43d-5f1f269a1822"
      },
      "execution_count": 13,
      "outputs": [
        {
          "output_type": "stream",
          "name": "stdout",
          "text": [
            "157/157 [==============================] - 1s 5ms/step - loss: 0.2801 - accuracy: 0.8890\n"
          ]
        },
        {
          "output_type": "execute_result",
          "data": {
            "text/plain": [
              "[0.28011444211006165, 0.8889999985694885]"
            ]
          },
          "metadata": {},
          "execution_count": 13
        }
      ]
    },
    {
      "cell_type": "markdown",
      "source": [
        "- Case 3) Conv1D + Dense"
      ],
      "metadata": {
        "id": "kh1qKYujHUFC"
      }
    },
    {
      "cell_type": "code",
      "source": [
        "model3 = Sequential([ \n",
        "    Embedding(num_words, 100, input_length=max_len),\n",
        "    Dropout(0.25),\n",
        "    Conv1D(64, 5, activation='relu'),\n",
        "    MaxPooling1D(5),\n",
        "    GlobalMaxPooling1D(),\n",
        "    Dense(100, activation='relu'),\n",
        "    Dense(1, activation='sigmoid')\n",
        "])\n",
        "model3.summary()"
      ],
      "metadata": {
        "colab": {
          "base_uri": "https://localhost:8080/"
        },
        "id": "WiQbUs6WG6Jz",
        "outputId": "bd9a32ec-d54f-433e-e9b1-c81ad74275c0"
      },
      "execution_count": 14,
      "outputs": [
        {
          "output_type": "stream",
          "name": "stdout",
          "text": [
            "Model: \"sequential_2\"\n",
            "_________________________________________________________________\n",
            " Layer (type)                Output Shape              Param #   \n",
            "=================================================================\n",
            " embedding_2 (Embedding)     (None, 500, 100)          1000000   \n",
            "                                                                 \n",
            " dropout_2 (Dropout)         (None, 500, 100)          0         \n",
            "                                                                 \n",
            " conv1d_3 (Conv1D)           (None, 496, 64)           32064     \n",
            "                                                                 \n",
            " max_pooling1d_3 (MaxPooling  (None, 99, 64)           0         \n",
            " 1D)                                                             \n",
            "                                                                 \n",
            " global_max_pooling1d_1 (Glo  (None, 64)               0         \n",
            " balMaxPooling1D)                                                \n",
            "                                                                 \n",
            " dense_2 (Dense)             (None, 100)               6500      \n",
            "                                                                 \n",
            " dense_3 (Dense)             (None, 1)                 101       \n",
            "                                                                 \n",
            "=================================================================\n",
            "Total params: 1,038,665\n",
            "Trainable params: 1,038,665\n",
            "Non-trainable params: 0\n",
            "_________________________________________________________________\n"
          ]
        }
      ]
    },
    {
      "cell_type": "code",
      "source": [
        "model3.compile('adam', 'binary_crossentropy', ['accuracy'])\n",
        "model3_path = 'best-imdb-conv1d-dense.h5'\n",
        "mc3 = ModelCheckpoint(model3_path, verbose=1, save_best_only=True)\n",
        "es3 = EarlyStopping(patience=5)"
      ],
      "metadata": {
        "id": "JEH8QS1fHwRq"
      },
      "execution_count": 15,
      "outputs": []
    },
    {
      "cell_type": "code",
      "source": [
        "hist3 = model3.fit(\n",
        "    X_train, y_train, validation_split=0.2,\n",
        "    epochs=30, batch_size=64, callbacks=[mc3, es3]\n",
        ")"
      ],
      "metadata": {
        "colab": {
          "base_uri": "https://localhost:8080/"
        },
        "id": "o2tzcl9zIUDz",
        "outputId": "656ad75f-d392-4d85-ab8b-6ef0ef2d32a2"
      },
      "execution_count": 16,
      "outputs": [
        {
          "output_type": "stream",
          "name": "stdout",
          "text": [
            "Epoch 1/30\n",
            "248/250 [============================>.] - ETA: 0s - loss: 0.5295 - accuracy: 0.7164\n",
            "Epoch 1: val_loss improved from inf to 0.33980, saving model to best-imdb-conv1d-dense.h5\n",
            "250/250 [==============================] - 3s 9ms/step - loss: 0.5280 - accuracy: 0.7172 - val_loss: 0.3398 - val_accuracy: 0.8562\n",
            "Epoch 2/30\n",
            "246/250 [============================>.] - ETA: 0s - loss: 0.2539 - accuracy: 0.8976\n",
            "Epoch 2: val_loss improved from 0.33980 to 0.28536, saving model to best-imdb-conv1d-dense.h5\n",
            "250/250 [==============================] - 2s 9ms/step - loss: 0.2547 - accuracy: 0.8969 - val_loss: 0.2854 - val_accuracy: 0.8860\n",
            "Epoch 3/30\n",
            "246/250 [============================>.] - ETA: 0s - loss: 0.1192 - accuracy: 0.9599\n",
            "Epoch 3: val_loss did not improve from 0.28536\n",
            "250/250 [==============================] - 2s 8ms/step - loss: 0.1197 - accuracy: 0.9594 - val_loss: 0.3043 - val_accuracy: 0.8802\n",
            "Epoch 4/30\n",
            "249/250 [============================>.] - ETA: 0s - loss: 0.0467 - accuracy: 0.9894\n",
            "Epoch 4: val_loss did not improve from 0.28536\n",
            "250/250 [==============================] - 2s 8ms/step - loss: 0.0467 - accuracy: 0.9893 - val_loss: 0.3471 - val_accuracy: 0.8817\n",
            "Epoch 5/30\n",
            "245/250 [============================>.] - ETA: 0s - loss: 0.0171 - accuracy: 0.9970\n",
            "Epoch 5: val_loss did not improve from 0.28536\n",
            "250/250 [==============================] - 2s 8ms/step - loss: 0.0171 - accuracy: 0.9971 - val_loss: 0.3874 - val_accuracy: 0.8838\n",
            "Epoch 6/30\n",
            "247/250 [============================>.] - ETA: 0s - loss: 0.0065 - accuracy: 0.9994\n",
            "Epoch 6: val_loss did not improve from 0.28536\n",
            "250/250 [==============================] - 2s 8ms/step - loss: 0.0065 - accuracy: 0.9994 - val_loss: 0.4424 - val_accuracy: 0.8808\n",
            "Epoch 7/30\n",
            "250/250 [==============================] - ETA: 0s - loss: 0.0034 - accuracy: 0.9996\n",
            "Epoch 7: val_loss did not improve from 0.28536\n",
            "250/250 [==============================] - 2s 8ms/step - loss: 0.0034 - accuracy: 0.9996 - val_loss: 0.4643 - val_accuracy: 0.8832\n"
          ]
        }
      ]
    },
    {
      "cell_type": "code",
      "source": [
        "best_model3 = load_model(model3_path)\n",
        "best_model3.evaluate(X_test, y_test)"
      ],
      "metadata": {
        "colab": {
          "base_uri": "https://localhost:8080/"
        },
        "id": "4u7B-SCCIYtF",
        "outputId": "6a8c3ea6-a8f5-4e69-fdd3-8ae94b1cb29f"
      },
      "execution_count": 17,
      "outputs": [
        {
          "output_type": "stream",
          "name": "stdout",
          "text": [
            "157/157 [==============================] - 1s 3ms/step - loss: 0.2841 - accuracy: 0.8798\n"
          ]
        },
        {
          "output_type": "execute_result",
          "data": {
            "text/plain": [
              "[0.28412964940071106, 0.879800021648407]"
            ]
          },
          "metadata": {},
          "execution_count": 17
        }
      ]
    }
  ]
}