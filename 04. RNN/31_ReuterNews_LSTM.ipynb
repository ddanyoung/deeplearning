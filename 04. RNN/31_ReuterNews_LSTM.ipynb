{
  "nbformat": 4,
  "nbformat_minor": 0,
  "metadata": {
    "colab": {
      "name": "31_ReuterNews_LSTM.ipynb",
      "provenance": [],
      "collapsed_sections": [],
      "authorship_tag": "ABX9TyO10RpTMn8SPQ6EuU/gBpXB"
    },
    "kernelspec": {
      "name": "python3",
      "display_name": "Python 3"
    },
    "language_info": {
      "name": "python"
    },
    "accelerator": "GPU"
  },
  "cells": [
    {
      "cell_type": "markdown",
      "source": [
        "# 로이터 뉴스 분류하기 - LSTM"
      ],
      "metadata": {
        "id": "RevqhWEaLKkw"
      }
    },
    {
      "cell_type": "markdown",
      "source": [
        "### 데이터 탐색"
      ],
      "metadata": {
        "id": "TOh6uHEvLT4g"
      }
    },
    {
      "cell_type": "code",
      "execution_count": 2,
      "metadata": {
        "id": "O9-FQLcaKv3N"
      },
      "outputs": [],
      "source": [
        "import numpy as np\n",
        "import seaborn as sns\n",
        "import matplotlib.pyplot as plt\n",
        "from tensorflow.keras.datasets import reuters"
      ]
    },
    {
      "cell_type": "code",
      "source": [
        "(X_train, y_train), (X_test, y_test) = reuters.load_data()\n",
        "len(X_train), len(X_test)"
      ],
      "metadata": {
        "colab": {
          "base_uri": "https://localhost:8080/"
        },
        "id": "X8wB0L8FLhHz",
        "outputId": "b230036e-ebb3-49be-dd1f-b13c08f8bb10"
      },
      "execution_count": 3,
      "outputs": [
        {
          "output_type": "stream",
          "name": "stdout",
          "text": [
            "Downloading data from https://storage.googleapis.com/tensorflow/tf-keras-datasets/reuters.npz\n",
            "2113536/2110848 [==============================] - 0s 0us/step\n",
            "2121728/2110848 [==============================] - 0s 0us/step\n"
          ]
        },
        {
          "output_type": "execute_result",
          "data": {
            "text/plain": [
              "(8982, 2246)"
            ]
          },
          "metadata": {},
          "execution_count": 3
        }
      ]
    },
    {
      "cell_type": "code",
      "source": [
        "# 카테고리 갯수\n",
        "max(y_train) + 1"
      ],
      "metadata": {
        "colab": {
          "base_uri": "https://localhost:8080/"
        },
        "id": "MS2ohOwnLtHy",
        "outputId": "9416aa46-3938-43e2-e17f-a020c9014491"
      },
      "execution_count": 4,
      "outputs": [
        {
          "output_type": "execute_result",
          "data": {
            "text/plain": [
              "46"
            ]
          },
          "metadata": {},
          "execution_count": 4
        }
      ]
    },
    {
      "cell_type": "code",
      "source": [
        "# 첫번째 뉴스\n",
        "print(X_train[0])"
      ],
      "metadata": {
        "colab": {
          "base_uri": "https://localhost:8080/"
        },
        "id": "Ct3bp-DrL58Y",
        "outputId": "fdc74959-004d-4081-dd69-c71a0a1ebced"
      },
      "execution_count": 5,
      "outputs": [
        {
          "output_type": "stream",
          "name": "stdout",
          "text": [
            "[1, 27595, 28842, 8, 43, 10, 447, 5, 25, 207, 270, 5, 3095, 111, 16, 369, 186, 90, 67, 7, 89, 5, 19, 102, 6, 19, 124, 15, 90, 67, 84, 22, 482, 26, 7, 48, 4, 49, 8, 864, 39, 209, 154, 6, 151, 6, 83, 11, 15, 22, 155, 11, 15, 7, 48, 9, 4579, 1005, 504, 6, 258, 6, 272, 11, 15, 22, 134, 44, 11, 15, 16, 8, 197, 1245, 90, 67, 52, 29, 209, 30, 32, 132, 6, 109, 15, 17, 12]\n"
          ]
        }
      ]
    },
    {
      "cell_type": "code",
      "source": [
        "type(reuters.get_word_index())"
      ],
      "metadata": {
        "colab": {
          "base_uri": "https://localhost:8080/"
        },
        "id": "tWxfu5lAMCYH",
        "outputId": "220070fc-8e75-4b63-fae7-f512b8ac29da"
      },
      "execution_count": 6,
      "outputs": [
        {
          "output_type": "stream",
          "name": "stdout",
          "text": [
            "Downloading data from https://storage.googleapis.com/tensorflow/tf-keras-datasets/reuters_word_index.json\n",
            "557056/550378 [==============================] - 0s 0us/step\n",
            "565248/550378 [==============================] - 0s 0us/step\n"
          ]
        },
        {
          "output_type": "execute_result",
          "data": {
            "text/plain": [
              "dict"
            ]
          },
          "metadata": {},
          "execution_count": 6
        }
      ]
    },
    {
      "cell_type": "code",
      "source": [
        "reuters.get_word_index()['the']"
      ],
      "metadata": {
        "colab": {
          "base_uri": "https://localhost:8080/"
        },
        "id": "Ni86nKcJMUC8",
        "outputId": "877a7042-7b6a-4828-91e2-ae79e116ef9a"
      },
      "execution_count": 7,
      "outputs": [
        {
          "output_type": "execute_result",
          "data": {
            "text/plain": [
              "1"
            ]
          },
          "metadata": {},
          "execution_count": 7
        }
      ]
    },
    {
      "cell_type": "code",
      "source": [
        "index_word = {}\n",
        "for key, value in reuters.get_word_index().items():\n",
        "  index_word[value] = key\n",
        "len(index_word)"
      ],
      "metadata": {
        "colab": {
          "base_uri": "https://localhost:8080/"
        },
        "id": "WKdla0H2MaWQ",
        "outputId": "771933b2-a778-47b9-a64a-1c37e39c1df9"
      },
      "execution_count": 8,
      "outputs": [
        {
          "output_type": "execute_result",
          "data": {
            "text/plain": [
              "30979"
            ]
          },
          "metadata": {},
          "execution_count": 8
        }
      ]
    },
    {
      "cell_type": "code",
      "source": [
        "# 첫번째 기사 복원\n",
        "' '.join(index_word[index] for index in X_train[0])"
      ],
      "metadata": {
        "colab": {
          "base_uri": "https://localhost:8080/",
          "height": 70
        },
        "id": "j-j-W9gVM8Cv",
        "outputId": "fb79ceb5-cb4a-4b0c-dce6-d9307ea593ca"
      },
      "execution_count": 9,
      "outputs": [
        {
          "output_type": "execute_result",
          "data": {
            "text/plain": [
              "'the wattie nondiscriminatory mln loss for plc said at only ended said commonwealth could 1 traders now april 0 a after said from 1985 and from foreign 000 april 0 prices its account year a but in this mln home an states earlier and rise and revs vs 000 its 16 vs 000 a but 3 psbr oils several and shareholders and dividend vs 000 its all 4 vs 000 1 mln agreed largely april 0 are 2 states will billion total and against 000 pct dlrs'"
            ],
            "application/vnd.google.colaboratory.intrinsic+json": {
              "type": "string"
            }
          },
          "metadata": {},
          "execution_count": 9
        }
      ]
    },
    {
      "cell_type": "code",
      "source": [
        "# 뉴스 기사의 최대/평균 길이\n",
        "max(len(s) for s in X_train), sum(map(len, X_train)) / len(X_train)"
      ],
      "metadata": {
        "colab": {
          "base_uri": "https://localhost:8080/"
        },
        "id": "YlM5KAz5NFIF",
        "outputId": "f45adaa3-bacf-4a8d-8014-ca10690dbe11"
      },
      "execution_count": 10,
      "outputs": [
        {
          "output_type": "execute_result",
          "data": {
            "text/plain": [
              "(2376, 145.5398574927633)"
            ]
          },
          "metadata": {},
          "execution_count": 10
        }
      ]
    },
    {
      "cell_type": "code",
      "source": [
        "# 뉴스 기사 단어수의 분포\n",
        "plt.hist([len(s) for s in X_train], bins=50)\n",
        "plt.xlabel('length of samples')\n",
        "plt.ylabel('number of samples')\n",
        "plt.show()"
      ],
      "metadata": {
        "colab": {
          "base_uri": "https://localhost:8080/",
          "height": 279
        },
        "id": "PxNAJeMiNwV-",
        "outputId": "79b23cd3-200f-422e-e036-5fb269a308b9"
      },
      "execution_count": 11,
      "outputs": [
        {
          "output_type": "display_data",
          "data": {
            "text/plain": [
              "<Figure size 432x288 with 1 Axes>"
            ],
            "image/png": "[encoded data removed]"
          },
          "metadata": {
            "needs_background": "light"
          }
        }
      ]
    },
    {
      "cell_type": "code",
      "source": [
        "# 뉴스 그룹의 분포\n",
        "import warnings\n",
        "warnings.filterwarnings('ignore')\n",
        "plt.figure(figsize=(12, 5))\n",
        "sns.countplot(y_train);"
      ],
      "metadata": {
        "colab": {
          "base_uri": "https://localhost:8080/",
          "height": 320
        },
        "id": "eF_MINFHOGi8",
        "outputId": "4e6560e6-648e-4bf8-9201-221b2be29efc"
      },
      "execution_count": 12,
      "outputs": [
        {
          "output_type": "display_data",
          "data": {
            "text/plain": [
              "<Figure size 864x360 with 1 Axes>"
            ],
            "image/png": "[encoded data removed]"
          },
          "metadata": {
            "needs_background": "light"
          }
        }
      ]
    },
    {
      "cell_type": "markdown",
      "source": [
        "### LSTM으로 로이터 뉴스 분류\n",
        "- 문장길이: 100 단어 까지 (최대: 2,376)\n",
        "- 단어: 빈도수 기준 1,000 단어 (총단어수: 30,979)"
      ],
      "metadata": {
        "id": "XWgPaCmAPgwR"
      }
    },
    {
      "cell_type": "code",
      "source": [
        "max_words = 1000\n",
        "max_len=100"
      ],
      "metadata": {
        "id": "QlDDVvGNOeej"
      },
      "execution_count": 13,
      "outputs": []
    },
    {
      "cell_type": "code",
      "source": [
        "(X_train, y_train), (X_test, y_test) = reuters.load_data(\n",
        "    num_words=max_words, test_split=0.2\n",
        ")"
      ],
      "metadata": {
        "id": "ili6hx60Qp95"
      },
      "execution_count": 14,
      "outputs": []
    },
    {
      "cell_type": "code",
      "source": [
        "import tensorflow as tf\n",
        "seed = 2022\n",
        "np.random.seed(seed)\n",
        "tf.random.set_seed(seed)"
      ],
      "metadata": {
        "id": "1f3W3TfWQ2pO"
      },
      "execution_count": 15,
      "outputs": []
    },
    {
      "cell_type": "code",
      "source": [
        "from tensorflow.keras.models import Sequential, load_model\n",
        "from tensorflow.keras.layers import Embedding, LSTM, Dense\n",
        "from tensorflow.keras.callbacks import ModelCheckpoint, EarlyStopping\n",
        "from tensorflow.keras.preprocessing.sequence import pad_sequences\n",
        "from tensorflow.keras.utils import to_categorical"
      ],
      "metadata": {
        "id": "KI0b2eQqRga2"
      },
      "execution_count": 16,
      "outputs": []
    },
    {
      "cell_type": "code",
      "source": [
        "X_train = pad_sequences(X_train, maxlen=max_len)\n",
        "X_test = pad_sequences(X_test, maxlen=max_len)\n",
        "Y_train = to_categorical(y_train)\n",
        "Y_test = to_categorical(y_test)\n",
        "X_train.shape, X_test.shape, Y_train.shape, Y_test.shape"
      ],
      "metadata": {
        "colab": {
          "base_uri": "https://localhost:8080/"
        },
        "id": "BCfCcWvHRtFb",
        "outputId": "10767066-96c0-4231-c0b1-33939ddae7c0"
      },
      "execution_count": 17,
      "outputs": [
        {
          "output_type": "execute_result",
          "data": {
            "text/plain": [
              "((8982, 100), (2246, 100), (8982, 46), (2246, 46))"
            ]
          },
          "metadata": {},
          "execution_count": 17
        }
      ]
    },
    {
      "cell_type": "markdown",
      "source": [
        "- 모델 정의/설정/학습"
      ],
      "metadata": {
        "id": "NaaQbfuzSFUH"
      }
    },
    {
      "cell_type": "code",
      "source": [
        "model = Sequential([\n",
        "    Embedding(max_words, 64, input_length=max_len),\n",
        "    LSTM(100),\n",
        "    Dense(46, activation='softmax')\n",
        "])\n",
        "model.summary()"
      ],
      "metadata": {
        "colab": {
          "base_uri": "https://localhost:8080/"
        },
        "id": "1_ntdfn8SGul",
        "outputId": "28386712-8537-4177-a149-295b1623f019"
      },
      "execution_count": 18,
      "outputs": [
        {
          "output_type": "stream",
          "name": "stdout",
          "text": [
            "Model: \"sequential\"\n",
            "_________________________________________________________________\n",
            " Layer (type)                Output Shape              Param #   \n",
            "=================================================================\n",
            " embedding (Embedding)       (None, 100, 64)           64000     \n",
            "                                                                 \n",
            " lstm (LSTM)                 (None, 100)               66000     \n",
            "                                                                 \n",
            " dense (Dense)               (None, 46)                4646      \n",
            "                                                                 \n",
            "=================================================================\n",
            "Total params: 134,646\n",
            "Trainable params: 134,646\n",
            "Non-trainable params: 0\n",
            "_________________________________________________________________\n"
          ]
        }
      ]
    },
    {
      "cell_type": "code",
      "source": [
        "model.compile('adam', 'categorical_crossentropy', ['accuracy'])"
      ],
      "metadata": {
        "id": "BK7GFWVjS44E"
      },
      "execution_count": 19,
      "outputs": []
    },
    {
      "cell_type": "code",
      "source": [
        "model_path = 'best-reuters-lstm.h5'\n",
        "mc = ModelCheckpoint(model_path, verbos=1, save_best_only=True)\n",
        "es = EarlyStopping(patience=10)"
      ],
      "metadata": {
        "id": "7703LKMDS9rJ"
      },
      "execution_count": 20,
      "outputs": []
    },
    {
      "cell_type": "code",
      "source": [
        "hist = model.fit(\n",
        "    X_train, Y_train, validation_split=0.2,\n",
        "    epochs=100, batch_size=128, callbacks=[mc, es]\n",
        ")"
      ],
      "metadata": {
        "colab": {
          "base_uri": "https://localhost:8080/"
        },
        "id": "RGpK1Ge1TI0H",
        "outputId": "d144114f-68a8-4fae-e852-82049c1945bb"
      },
      "execution_count": 21,
      "outputs": [
        {
          "output_type": "stream",
          "name": "stdout",
          "text": [
            "Epoch 1/100\n",
            "57/57 [==============================] - 8s 20ms/step - loss: 2.7159 - accuracy: 0.3317 - val_loss: 2.4040 - val_accuracy: 0.3450\n",
            "Epoch 2/100\n",
            "57/57 [==============================] - 1s 15ms/step - loss: 2.4047 - accuracy: 0.3534 - val_loss: 2.3877 - val_accuracy: 0.3450\n",
            "Epoch 3/100\n",
            "57/57 [==============================] - 1s 21ms/step - loss: 2.1751 - accuracy: 0.4408 - val_loss: 2.0166 - val_accuracy: 0.4708\n",
            "Epoch 4/100\n",
            "57/57 [==============================] - 1s 20ms/step - loss: 1.9721 - accuracy: 0.4882 - val_loss: 1.9116 - val_accuracy: 0.5070\n",
            "Epoch 5/100\n",
            "57/57 [==============================] - 1s 19ms/step - loss: 1.8619 - accuracy: 0.5133 - val_loss: 2.0038 - val_accuracy: 0.4608\n",
            "Epoch 6/100\n",
            "57/57 [==============================] - 1s 20ms/step - loss: 1.7804 - accuracy: 0.5319 - val_loss: 1.7339 - val_accuracy: 0.5409\n",
            "Epoch 7/100\n",
            "57/57 [==============================] - 1s 18ms/step - loss: 1.6983 - accuracy: 0.5587 - val_loss: 1.7108 - val_accuracy: 0.5593\n",
            "Epoch 8/100\n",
            "57/57 [==============================] - 1s 22ms/step - loss: 1.6546 - accuracy: 0.5729 - val_loss: 1.6576 - val_accuracy: 0.5804\n",
            "Epoch 9/100\n",
            "57/57 [==============================] - 1s 20ms/step - loss: 1.5608 - accuracy: 0.6049 - val_loss: 1.5748 - val_accuracy: 0.6055\n",
            "Epoch 10/100\n",
            "57/57 [==============================] - 1s 17ms/step - loss: 1.5060 - accuracy: 0.6139 - val_loss: 1.6022 - val_accuracy: 0.6027\n",
            "Epoch 11/100\n",
            "57/57 [==============================] - 1s 13ms/step - loss: 1.4750 - accuracy: 0.6213 - val_loss: 1.4882 - val_accuracy: 0.6305\n",
            "Epoch 12/100\n",
            "57/57 [==============================] - 1s 11ms/step - loss: 1.3836 - accuracy: 0.6447 - val_loss: 1.4848 - val_accuracy: 0.6266\n",
            "Epoch 13/100\n",
            "57/57 [==============================] - 1s 10ms/step - loss: 1.3368 - accuracy: 0.6569 - val_loss: 1.4646 - val_accuracy: 0.6394\n",
            "Epoch 14/100\n",
            "57/57 [==============================] - 1s 11ms/step - loss: 1.2950 - accuracy: 0.6707 - val_loss: 1.4108 - val_accuracy: 0.6439\n",
            "Epoch 15/100\n",
            "57/57 [==============================] - 1s 11ms/step - loss: 1.2383 - accuracy: 0.6836 - val_loss: 1.4096 - val_accuracy: 0.6466\n",
            "Epoch 16/100\n",
            "57/57 [==============================] - 1s 11ms/step - loss: 1.2281 - accuracy: 0.6836 - val_loss: 1.3495 - val_accuracy: 0.6700\n",
            "Epoch 17/100\n",
            "57/57 [==============================] - 1s 11ms/step - loss: 1.1618 - accuracy: 0.6991 - val_loss: 1.3204 - val_accuracy: 0.6795\n",
            "Epoch 18/100\n",
            "57/57 [==============================] - 1s 11ms/step - loss: 1.1177 - accuracy: 0.7109 - val_loss: 1.2983 - val_accuracy: 0.6784\n",
            "Epoch 19/100\n",
            "57/57 [==============================] - 1s 10ms/step - loss: 1.0969 - accuracy: 0.7161 - val_loss: 1.3068 - val_accuracy: 0.6828\n",
            "Epoch 20/100\n",
            "57/57 [==============================] - 1s 11ms/step - loss: 1.0326 - accuracy: 0.7356 - val_loss: 1.3099 - val_accuracy: 0.6728\n",
            "Epoch 21/100\n",
            "57/57 [==============================] - 1s 11ms/step - loss: 1.0061 - accuracy: 0.7397 - val_loss: 1.2749 - val_accuracy: 0.6873\n",
            "Epoch 22/100\n",
            "57/57 [==============================] - 1s 11ms/step - loss: 0.9794 - accuracy: 0.7481 - val_loss: 1.2530 - val_accuracy: 0.7001\n",
            "Epoch 23/100\n",
            "57/57 [==============================] - 1s 11ms/step - loss: 0.9303 - accuracy: 0.7626 - val_loss: 1.2340 - val_accuracy: 0.7012\n",
            "Epoch 24/100\n",
            "57/57 [==============================] - 1s 11ms/step - loss: 0.9021 - accuracy: 0.7702 - val_loss: 1.2423 - val_accuracy: 0.7034\n",
            "Epoch 25/100\n",
            "57/57 [==============================] - 1s 10ms/step - loss: 0.8654 - accuracy: 0.7765 - val_loss: 1.2475 - val_accuracy: 0.6995\n",
            "Epoch 26/100\n",
            "57/57 [==============================] - 1s 10ms/step - loss: 0.8366 - accuracy: 0.7855 - val_loss: 1.2420 - val_accuracy: 0.7045\n",
            "Epoch 27/100\n",
            "57/57 [==============================] - 1s 11ms/step - loss: 0.8144 - accuracy: 0.7923 - val_loss: 1.2688 - val_accuracy: 0.7012\n",
            "Epoch 28/100\n",
            "57/57 [==============================] - 1s 10ms/step - loss: 0.7918 - accuracy: 0.7939 - val_loss: 1.2580 - val_accuracy: 0.7028\n",
            "Epoch 29/100\n",
            "57/57 [==============================] - 1s 10ms/step - loss: 0.8234 - accuracy: 0.7889 - val_loss: 1.2885 - val_accuracy: 0.7001\n",
            "Epoch 30/100\n",
            "57/57 [==============================] - 1s 11ms/step - loss: 0.7702 - accuracy: 0.8040 - val_loss: 1.3023 - val_accuracy: 0.7017\n",
            "Epoch 31/100\n",
            "57/57 [==============================] - 1s 11ms/step - loss: 0.7468 - accuracy: 0.8090 - val_loss: 1.2591 - val_accuracy: 0.7067\n",
            "Epoch 32/100\n",
            "57/57 [==============================] - 1s 10ms/step - loss: 0.7112 - accuracy: 0.8171 - val_loss: 1.3022 - val_accuracy: 0.7028\n",
            "Epoch 33/100\n",
            "57/57 [==============================] - 1s 10ms/step - loss: 0.6935 - accuracy: 0.8220 - val_loss: 1.3005 - val_accuracy: 0.6945\n"
          ]
        }
      ]
    },
    {
      "cell_type": "code",
      "source": [
        "best_model = load_model(model_path)\n",
        "best_model.evaluate(X_test, Y_test)"
      ],
      "metadata": {
        "colab": {
          "base_uri": "https://localhost:8080/"
        },
        "id": "JzPqaFmDTRjX",
        "outputId": "452e5b6b-7d2e-4939-da95-5941fd9676fe"
      },
      "execution_count": 22,
      "outputs": [
        {
          "output_type": "stream",
          "name": "stdout",
          "text": [
            "71/71 [==============================] - 1s 4ms/step - loss: 1.2683 - accuracy: 0.6857\n"
          ]
        },
        {
          "output_type": "execute_result",
          "data": {
            "text/plain": [
              "[1.2683037519454956, 0.6856634020805359]"
            ]
          },
          "metadata": {},
          "execution_count": 22
        }
      ]
    },
    {
      "cell_type": "markdown",
      "source": [
        "- 학습과정 시각화"
      ],
      "metadata": {
        "id": "8PwqJfrRU0OU"
      }
    },
    {
      "cell_type": "code",
      "source": [
        "y_acc = hist.history['accuracy']\n",
        "y_vloss = hist.history['val_loss']\n",
        "xs = np.arange(1, len(y_acc)+1)"
      ],
      "metadata": {
        "id": "mYwcx4HvR9Rh"
      },
      "execution_count": 23,
      "outputs": []
    },
    {
      "cell_type": "code",
      "source": [
        "plt.figure(figsize=(12,8))\n",
        "plt.plot(xs, y_acc, label='train accuracy')\n",
        "plt.plot(xs, y_vloss, label='validation loss')\n",
        "plt.legend(), plt.grid()\n",
        "plt.xlabel('Epoch')\n",
        "plt.show()"
      ],
      "metadata": {
        "colab": {
          "base_uri": "https://localhost:8080/",
          "height": 499
        },
        "id": "8kSUyBwaU-TU",
        "outputId": "34308001-4c4b-4ac7-da14-90f5d3cea127"
      },
      "execution_count": 24,
      "outputs": [
        {
          "output_type": "display_data",
          "data": {
            "text/plain": [
              "<Figure size 864x576 with 1 Axes>"
            ],
            "image/png": "[encoded data removed]"
          },
          "metadata": {
            "needs_background": "light"
          }
        }
      ]
    }
  ]
}