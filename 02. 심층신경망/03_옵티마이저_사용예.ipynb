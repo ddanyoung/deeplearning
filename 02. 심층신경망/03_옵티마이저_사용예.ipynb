{
 "cells": [
  {
   "cell_type": "markdown",
   "metadata": {},
   "source": [
    "# 신경망 모델에서 옵티마이저 사용법\n",
    "### - 이진분류: 유방암 예측 사례"
   ]
  },
  {
   "cell_type": "code",
   "execution_count": 1,
   "metadata": {},
   "outputs": [],
   "source": [
    "import numpy as np\n",
    "import matplotlib.pyplot as plt\n",
    "from sklearn.datasets import load_breast_cancer\n",
    "from sklearn.preprocessing import StandardScaler\n",
    "from sklearn.model_selection import train_test_split"
   ]
  },
  {
   "cell_type": "code",
   "execution_count": 2,
   "metadata": {},
   "outputs": [],
   "source": [
    "cancer = load_breast_cancer()\n",
    "cancer_std = StandardScaler().fit_transform(cancer.data)\n",
    "X_train, X_test, y_train, y_test = train_test_split(\n",
    "    cancer_std, cancer.target, stratify=cancer.target,\n",
    "    test_size=0.2, random_state=2022\n",
    ")"
   ]
  },
  {
   "cell_type": "markdown",
   "metadata": {},
   "source": [
    "### 1. Adam optimizer"
   ]
  },
  {
   "cell_type": "code",
   "execution_count": 52,
   "metadata": {},
   "outputs": [],
   "source": [
    "from tensorflow.keras.models import Sequential\n",
    "from tensorflow.keras.layers import Dense"
   ]
  },
  {
   "cell_type": "code",
   "execution_count": 53,
   "metadata": {},
   "outputs": [],
   "source": [
    "model = Sequential([\n",
    "    Dense(100, input_dim=30, activation='relu'),\n",
    "    Dense(24, activation='relu'),\n",
    "    Dense(1, activation='sigmoid')\n",
    "])"
   ]
  },
  {
   "cell_type": "markdown",
   "metadata": {},
   "source": [
    "#### Adam 하이퍼 파라미터\n",
    "- learning_rate: 0보다 크거나 같은 float 값. 학습률.\n",
    "- beta_1: 0보다 크고 1보다 작은 float 값. 일반적으로 1에 가깝게 설정됩니다.\n",
    "- beta_2: 0보다 크고 1보다 작은 float 값. 일반적으로 1에 가깝게 설정됩니다.\n",
    "- epsilon: 0보다 크거나 같은 float형 fuzz factor. None인 경우 K.epsilon()이 사용됩니다.\n",
    "- decay: 0보다 크거나 같은 float 값. 업데이트마다 적용되는 학습률의 감소율입니다.\n",
    "- amsgrad: 불리언. Adam의 변형인 AMSGrad의 적용 여부를 설정합니다"
   ]
  },
  {
   "cell_type": "code",
   "execution_count": 54,
   "metadata": {},
   "outputs": [],
   "source": [
    "from tensorflow.keras.optimizers import Adam\n",
    "adam = Adam(learning_rate=0.001, beta_1=0.9, beta_2=0.999,\n",
    "            epsilon=None, decay=0.0, amsgrad=False)"
   ]
  },
  {
   "cell_type": "code",
   "execution_count": 55,
   "metadata": {},
   "outputs": [],
   "source": [
    "model.compile(optimizer=adam, loss='binary_crossentropy', metrics=['accuracy'])"
   ]
  },
  {
   "cell_type": "code",
   "execution_count": 56,
   "metadata": {},
   "outputs": [],
   "source": [
    "hist = model.fit(X_train, y_train, validation_split=0.2,\n",
    "                 epochs=100, batch_size=100, verbose=0)"
   ]
  },
  {
   "cell_type": "code",
   "execution_count": 57,
   "metadata": {},
   "outputs": [
    {
     "name": "stdout",
     "output_type": "stream",
     "text": [
      "114/1 [============================================================================================================================================================================================================================================================================================================================================================================================================================================================================================================================================================================================================================================================================================================================================================================================================================================================================================================================================================================================================================================================================================================================================================================================================================================================================================================================================================================================================================================================================================================================================================================================================================================================================================================================================================================================================================================================================================================================================================================================================================================================================================================================================================================================================================================================================================================================================================================================================================================================================================================================================================================================================================================================================================================================================================================================================================================================================================================================================================================================================================================================================================================================================================================================================================================================================================================================================================================================================================================================================================================================================================] - 0s 88us/sample - loss: 0.2236 - accuracy: 0.9825\n"
     ]
    },
    {
     "data": {
      "text/plain": [
       "[0.07075211810961105, 0.98245615]"
      ]
     },
     "execution_count": 57,
     "metadata": {},
     "output_type": "execute_result"
    }
   ],
   "source": [
    "model.evaluate(X_test, y_test)"
   ]
  },
  {
   "cell_type": "code",
   "execution_count": 58,
   "metadata": {},
   "outputs": [],
   "source": [
    "y_acc = hist.history['accuracy']\n",
    "y_vloss = hist.history['val_loss']\n",
    "xs = np.arange(1, len(y_acc)+1)"
   ]
  },
  {
   "cell_type": "code",
   "execution_count": 59,
   "metadata": {},
   "outputs": [
    {
     "data": {
      "image/png": "[encoded data removed]",
      "text/plain": [
       "<Figure size 864x576 with 1 Axes>"
      ]
     },
     "metadata": {
      "needs_background": "light"
     },
     "output_type": "display_data"
    }
   ],
   "source": [
    "plt.figure(figsize=(12,8))\n",
    "plt.plot(xs, y_acc, label='train accuracy')\n",
    "plt.plot(xs, y_vloss, label='validation loss')\n",
    "plt.legend()\n",
    "plt.grid()\n",
    "plt.ylim([0,1.1])\n",
    "plt.xlabel('Epoch')\n",
    "plt.title('Adam optimizer')\n",
    "plt.show()"
   ]
  },
  {
   "cell_type": "markdown",
   "metadata": {},
   "source": [
    "### 2. RMSprop Optimizer"
   ]
  },
  {
   "cell_type": "code",
   "execution_count": 27,
   "metadata": {},
   "outputs": [],
   "source": [
    "model2 = Sequential([\n",
    "    Dense(100, input_dim=30, activation='relu'),\n",
    "    Dense(24, activation='relu'),\n",
    "    Dense(1, activation='sigmoid')\n",
    "])"
   ]
  },
  {
   "cell_type": "markdown",
   "metadata": {},
   "source": [
    "#### RMSProp 하이퍼 파라미터\n",
    "- lr: 0보다 크거나 같은 float 값. 학습률.\n",
    "- rho: 0보다 크거나 같은 float 값.\n",
    "- epsilon: 0보다 크거나 같은 float형 fuzz factor. None인 경우 K.epsilon()이 사용됩니다.\n",
    "- decay: 0보다 크거나 같은 float 값. 업데이트마다 적용되는 학습률의 감소율입니다."
   ]
  },
  {
   "cell_type": "code",
   "execution_count": 28,
   "metadata": {},
   "outputs": [],
   "source": [
    "from tensorflow.keras.optimizers import RMSprop\n",
    "rmsp = RMSprop(learning_rate=0.001, rho=0.9, epsilon=None, decay=0.0)"
   ]
  },
  {
   "cell_type": "code",
   "execution_count": 29,
   "metadata": {},
   "outputs": [],
   "source": [
    "model2.compile(rmsp, 'binary_crossentropy', metrics=['accuracy'])"
   ]
  },
  {
   "cell_type": "code",
   "execution_count": 30,
   "metadata": {},
   "outputs": [
    {
     "name": "stdout",
     "output_type": "stream",
     "text": [
      "Train on 364 samples, validate on 91 samples\n",
      "Epoch 1/100\n",
      "364/364 - 1s - loss: 0.6796 - accuracy: 0.5769 - val_loss: 0.5003 - val_accuracy: 0.7802\n",
      "Epoch 2/100\n",
      "364/364 - 0s - loss: 0.4269 - accuracy: 0.8544 - val_loss: 0.3696 - val_accuracy: 0.8352\n",
      "Epoch 3/100\n",
      "364/364 - 0s - loss: 0.3193 - accuracy: 0.9231 - val_loss: 0.2945 - val_accuracy: 0.9231\n",
      "Epoch 4/100\n",
      "364/364 - 0s - loss: 0.2537 - accuracy: 0.9478 - val_loss: 0.2467 - val_accuracy: 0.9231\n",
      "Epoch 5/100\n",
      "364/364 - 0s - loss: 0.2115 - accuracy: 0.9505 - val_loss: 0.2142 - val_accuracy: 0.9341\n",
      "Epoch 6/100\n",
      "364/364 - 0s - loss: 0.1792 - accuracy: 0.9670 - val_loss: 0.1887 - val_accuracy: 0.9231\n",
      "Epoch 7/100\n",
      "364/364 - 0s - loss: 0.1549 - accuracy: 0.9725 - val_loss: 0.1686 - val_accuracy: 0.9231\n",
      "Epoch 8/100\n",
      "364/364 - 0s - loss: 0.1359 - accuracy: 0.9753 - val_loss: 0.1544 - val_accuracy: 0.9231\n",
      "Epoch 9/100\n",
      "364/364 - 0s - loss: 0.1208 - accuracy: 0.9725 - val_loss: 0.1437 - val_accuracy: 0.9231\n",
      "Epoch 10/100\n",
      "364/364 - 0s - loss: 0.1086 - accuracy: 0.9753 - val_loss: 0.1354 - val_accuracy: 0.9231\n",
      "Epoch 11/100\n",
      "364/364 - 0s - loss: 0.0983 - accuracy: 0.9753 - val_loss: 0.1283 - val_accuracy: 0.9341\n",
      "Epoch 12/100\n",
      "364/364 - 0s - loss: 0.0901 - accuracy: 0.9753 - val_loss: 0.1232 - val_accuracy: 0.9451\n",
      "Epoch 13/100\n",
      "364/364 - 0s - loss: 0.0824 - accuracy: 0.9808 - val_loss: 0.1199 - val_accuracy: 0.9451\n",
      "Epoch 14/100\n",
      "364/364 - 0s - loss: 0.0760 - accuracy: 0.9808 - val_loss: 0.1169 - val_accuracy: 0.9451\n",
      "Epoch 15/100\n",
      "364/364 - 0s - loss: 0.0706 - accuracy: 0.9808 - val_loss: 0.1128 - val_accuracy: 0.9451\n",
      "Epoch 16/100\n",
      "364/364 - 0s - loss: 0.0661 - accuracy: 0.9808 - val_loss: 0.1120 - val_accuracy: 0.9341\n",
      "Epoch 17/100\n",
      "364/364 - 0s - loss: 0.0613 - accuracy: 0.9863 - val_loss: 0.1089 - val_accuracy: 0.9341\n",
      "Epoch 18/100\n",
      "364/364 - 0s - loss: 0.0585 - accuracy: 0.9808 - val_loss: 0.1076 - val_accuracy: 0.9451\n",
      "Epoch 19/100\n",
      "364/364 - 0s - loss: 0.0546 - accuracy: 0.9863 - val_loss: 0.1088 - val_accuracy: 0.9341\n",
      "Epoch 20/100\n",
      "364/364 - 0s - loss: 0.0511 - accuracy: 0.9890 - val_loss: 0.1074 - val_accuracy: 0.9451\n",
      "Epoch 21/100\n",
      "364/364 - 0s - loss: 0.0488 - accuracy: 0.9890 - val_loss: 0.1051 - val_accuracy: 0.9560\n",
      "Epoch 22/100\n",
      "364/364 - 0s - loss: 0.0459 - accuracy: 0.9890 - val_loss: 0.1040 - val_accuracy: 0.9560\n",
      "Epoch 23/100\n",
      "364/364 - 0s - loss: 0.0433 - accuracy: 0.9890 - val_loss: 0.1048 - val_accuracy: 0.9560\n",
      "Epoch 24/100\n",
      "364/364 - 0s - loss: 0.0416 - accuracy: 0.9890 - val_loss: 0.1012 - val_accuracy: 0.9560\n",
      "Epoch 25/100\n",
      "364/364 - 0s - loss: 0.0392 - accuracy: 0.9890 - val_loss: 0.1015 - val_accuracy: 0.9560\n",
      "Epoch 26/100\n",
      "364/364 - 0s - loss: 0.0369 - accuracy: 0.9918 - val_loss: 0.1033 - val_accuracy: 0.9560\n",
      "Epoch 27/100\n",
      "364/364 - 0s - loss: 0.0355 - accuracy: 0.9890 - val_loss: 0.1016 - val_accuracy: 0.9560\n",
      "Epoch 28/100\n",
      "364/364 - 0s - loss: 0.0336 - accuracy: 0.9918 - val_loss: 0.1047 - val_accuracy: 0.9560\n",
      "Epoch 29/100\n",
      "364/364 - 0s - loss: 0.0319 - accuracy: 0.9918 - val_loss: 0.1022 - val_accuracy: 0.9560\n",
      "Epoch 30/100\n",
      "364/364 - 0s - loss: 0.0295 - accuracy: 0.9918 - val_loss: 0.1009 - val_accuracy: 0.9560\n",
      "Epoch 31/100\n",
      "364/364 - 0s - loss: 0.0279 - accuracy: 0.9918 - val_loss: 0.1010 - val_accuracy: 0.9560\n",
      "Epoch 32/100\n",
      "364/364 - 0s - loss: 0.0265 - accuracy: 0.9918 - val_loss: 0.1035 - val_accuracy: 0.9560\n",
      "Epoch 33/100\n",
      "364/364 - 0s - loss: 0.0251 - accuracy: 0.9918 - val_loss: 0.1051 - val_accuracy: 0.9560\n",
      "Epoch 34/100\n",
      "364/364 - 0s - loss: 0.0234 - accuracy: 0.9918 - val_loss: 0.1065 - val_accuracy: 0.9560\n",
      "Epoch 35/100\n",
      "364/364 - 0s - loss: 0.0226 - accuracy: 0.9918 - val_loss: 0.1044 - val_accuracy: 0.9560\n",
      "Epoch 36/100\n",
      "364/364 - 0s - loss: 0.0207 - accuracy: 0.9945 - val_loss: 0.1048 - val_accuracy: 0.9560\n",
      "Epoch 37/100\n",
      "364/364 - 0s - loss: 0.0196 - accuracy: 0.9918 - val_loss: 0.1094 - val_accuracy: 0.9560\n",
      "Epoch 38/100\n",
      "364/364 - 0s - loss: 0.0183 - accuracy: 0.9945 - val_loss: 0.1107 - val_accuracy: 0.9560\n",
      "Epoch 39/100\n",
      "364/364 - 0s - loss: 0.0174 - accuracy: 0.9918 - val_loss: 0.1143 - val_accuracy: 0.9451\n",
      "Epoch 40/100\n",
      "364/364 - 0s - loss: 0.0162 - accuracy: 0.9918 - val_loss: 0.1099 - val_accuracy: 0.9560\n",
      "Epoch 41/100\n",
      "364/364 - 0s - loss: 0.0152 - accuracy: 0.9973 - val_loss: 0.1130 - val_accuracy: 0.9560\n",
      "Epoch 42/100\n",
      "364/364 - 0s - loss: 0.0141 - accuracy: 0.9973 - val_loss: 0.1166 - val_accuracy: 0.9560\n",
      "Epoch 43/100\n",
      "364/364 - 0s - loss: 0.0130 - accuracy: 0.9973 - val_loss: 0.1196 - val_accuracy: 0.9560\n",
      "Epoch 44/100\n",
      "364/364 - 0s - loss: 0.0122 - accuracy: 0.9973 - val_loss: 0.1207 - val_accuracy: 0.9560\n",
      "Epoch 45/100\n",
      "364/364 - 0s - loss: 0.0113 - accuracy: 1.0000 - val_loss: 0.1227 - val_accuracy: 0.9560\n",
      "Epoch 46/100\n",
      "364/364 - 0s - loss: 0.0106 - accuracy: 1.0000 - val_loss: 0.1282 - val_accuracy: 0.9451\n",
      "Epoch 47/100\n",
      "364/364 - 0s - loss: 0.0097 - accuracy: 1.0000 - val_loss: 0.1262 - val_accuracy: 0.9560\n",
      "Epoch 48/100\n",
      "364/364 - 0s - loss: 0.0087 - accuracy: 1.0000 - val_loss: 0.1309 - val_accuracy: 0.9451\n",
      "Epoch 49/100\n",
      "364/364 - 0s - loss: 0.0084 - accuracy: 1.0000 - val_loss: 0.1285 - val_accuracy: 0.9451\n",
      "Epoch 50/100\n",
      "364/364 - 0s - loss: 0.0075 - accuracy: 1.0000 - val_loss: 0.1335 - val_accuracy: 0.9451\n",
      "Epoch 51/100\n",
      "364/364 - 0s - loss: 0.0071 - accuracy: 1.0000 - val_loss: 0.1343 - val_accuracy: 0.9451\n",
      "Epoch 52/100\n",
      "364/364 - 0s - loss: 0.0068 - accuracy: 1.0000 - val_loss: 0.1318 - val_accuracy: 0.9451\n",
      "Epoch 53/100\n",
      "364/364 - 0s - loss: 0.0058 - accuracy: 1.0000 - val_loss: 0.1328 - val_accuracy: 0.9560\n",
      "Epoch 54/100\n",
      "364/364 - 0s - loss: 0.0052 - accuracy: 1.0000 - val_loss: 0.1423 - val_accuracy: 0.9451\n",
      "Epoch 55/100\n",
      "364/364 - 0s - loss: 0.0051 - accuracy: 1.0000 - val_loss: 0.1506 - val_accuracy: 0.9451\n",
      "Epoch 56/100\n",
      "364/364 - 0s - loss: 0.0045 - accuracy: 1.0000 - val_loss: 0.1506 - val_accuracy: 0.9451\n",
      "Epoch 57/100\n",
      "364/364 - 0s - loss: 0.0041 - accuracy: 1.0000 - val_loss: 0.1430 - val_accuracy: 0.9451\n",
      "Epoch 58/100\n",
      "364/364 - 0s - loss: 0.0037 - accuracy: 1.0000 - val_loss: 0.1510 - val_accuracy: 0.9451\n",
      "Epoch 59/100\n",
      "364/364 - 0s - loss: 0.0035 - accuracy: 1.0000 - val_loss: 0.1542 - val_accuracy: 0.9451\n",
      "Epoch 60/100\n",
      "364/364 - 0s - loss: 0.0032 - accuracy: 1.0000 - val_loss: 0.1584 - val_accuracy: 0.9451\n",
      "Epoch 61/100\n",
      "364/364 - 0s - loss: 0.0029 - accuracy: 1.0000 - val_loss: 0.1670 - val_accuracy: 0.9451\n",
      "Epoch 62/100\n",
      "364/364 - 0s - loss: 0.0026 - accuracy: 1.0000 - val_loss: 0.1688 - val_accuracy: 0.9451\n",
      "Epoch 63/100\n",
      "364/364 - 0s - loss: 0.0023 - accuracy: 1.0000 - val_loss: 0.1675 - val_accuracy: 0.9451\n",
      "Epoch 64/100\n",
      "364/364 - 0s - loss: 0.0022 - accuracy: 1.0000 - val_loss: 0.1706 - val_accuracy: 0.9451\n",
      "Epoch 65/100\n",
      "364/364 - 0s - loss: 0.0021 - accuracy: 1.0000 - val_loss: 0.1810 - val_accuracy: 0.9451\n",
      "Epoch 66/100\n",
      "364/364 - 0s - loss: 0.0019 - accuracy: 1.0000 - val_loss: 0.1743 - val_accuracy: 0.9451\n",
      "Epoch 67/100\n",
      "364/364 - 0s - loss: 0.0016 - accuracy: 1.0000 - val_loss: 0.1815 - val_accuracy: 0.9451\n",
      "Epoch 68/100\n",
      "364/364 - 0s - loss: 0.0014 - accuracy: 1.0000 - val_loss: 0.1821 - val_accuracy: 0.9451\n",
      "Epoch 69/100\n",
      "364/364 - 0s - loss: 0.0013 - accuracy: 1.0000 - val_loss: 0.1904 - val_accuracy: 0.9451\n",
      "Epoch 70/100\n",
      "364/364 - 0s - loss: 0.0012 - accuracy: 1.0000 - val_loss: 0.1921 - val_accuracy: 0.9451\n",
      "Epoch 71/100\n",
      "364/364 - 0s - loss: 0.0010 - accuracy: 1.0000 - val_loss: 0.1933 - val_accuracy: 0.9451\n",
      "Epoch 72/100\n",
      "364/364 - 0s - loss: 9.5520e-04 - accuracy: 1.0000 - val_loss: 0.1886 - val_accuracy: 0.9451\n",
      "Epoch 73/100\n",
      "364/364 - 0s - loss: 8.4511e-04 - accuracy: 1.0000 - val_loss: 0.1905 - val_accuracy: 0.9451\n",
      "Epoch 74/100\n",
      "364/364 - 0s - loss: 8.1900e-04 - accuracy: 1.0000 - val_loss: 0.2057 - val_accuracy: 0.9451\n",
      "Epoch 75/100\n",
      "364/364 - 0s - loss: 7.1382e-04 - accuracy: 1.0000 - val_loss: 0.2069 - val_accuracy: 0.9451\n",
      "Epoch 76/100\n",
      "364/364 - 0s - loss: 6.0750e-04 - accuracy: 1.0000 - val_loss: 0.2057 - val_accuracy: 0.9451\n",
      "Epoch 77/100\n",
      "364/364 - 0s - loss: 5.3425e-04 - accuracy: 1.0000 - val_loss: 0.2108 - val_accuracy: 0.9451\n",
      "Epoch 78/100\n",
      "364/364 - 0s - loss: 4.9477e-04 - accuracy: 1.0000 - val_loss: 0.2076 - val_accuracy: 0.9451\n",
      "Epoch 79/100\n",
      "364/364 - 0s - loss: 4.5298e-04 - accuracy: 1.0000 - val_loss: 0.2075 - val_accuracy: 0.9451\n",
      "Epoch 80/100\n",
      "364/364 - 0s - loss: 4.0693e-04 - accuracy: 1.0000 - val_loss: 0.2165 - val_accuracy: 0.9451\n",
      "Epoch 81/100\n",
      "364/364 - 0s - loss: 3.6666e-04 - accuracy: 1.0000 - val_loss: 0.2184 - val_accuracy: 0.9451\n",
      "Epoch 82/100\n",
      "364/364 - 0s - loss: 3.1903e-04 - accuracy: 1.0000 - val_loss: 0.2245 - val_accuracy: 0.9451\n",
      "Epoch 83/100\n",
      "364/364 - 0s - loss: 3.0494e-04 - accuracy: 1.0000 - val_loss: 0.2358 - val_accuracy: 0.9451\n",
      "Epoch 84/100\n",
      "364/364 - 0s - loss: 2.7641e-04 - accuracy: 1.0000 - val_loss: 0.2287 - val_accuracy: 0.9451\n",
      "Epoch 85/100\n",
      "364/364 - 0s - loss: 2.2366e-04 - accuracy: 1.0000 - val_loss: 0.2255 - val_accuracy: 0.9451\n",
      "Epoch 86/100\n",
      "364/364 - 0s - loss: 2.1554e-04 - accuracy: 1.0000 - val_loss: 0.2362 - val_accuracy: 0.9451\n",
      "Epoch 87/100\n",
      "364/364 - 0s - loss: 1.7629e-04 - accuracy: 1.0000 - val_loss: 0.2380 - val_accuracy: 0.9451\n",
      "Epoch 88/100\n",
      "364/364 - 0s - loss: 1.5603e-04 - accuracy: 1.0000 - val_loss: 0.2296 - val_accuracy: 0.9451\n",
      "Epoch 89/100\n",
      "364/364 - 0s - loss: 1.4658e-04 - accuracy: 1.0000 - val_loss: 0.2494 - val_accuracy: 0.9451\n",
      "Epoch 90/100\n",
      "364/364 - 0s - loss: 1.3426e-04 - accuracy: 1.0000 - val_loss: 0.2478 - val_accuracy: 0.9451\n",
      "Epoch 91/100\n",
      "364/364 - 0s - loss: 1.1945e-04 - accuracy: 1.0000 - val_loss: 0.2506 - val_accuracy: 0.9451\n",
      "Epoch 92/100\n",
      "364/364 - 0s - loss: 1.0356e-04 - accuracy: 1.0000 - val_loss: 0.2551 - val_accuracy: 0.9451\n",
      "Epoch 93/100\n",
      "364/364 - 0s - loss: 9.2928e-05 - accuracy: 1.0000 - val_loss: 0.2579 - val_accuracy: 0.9451\n",
      "Epoch 94/100\n",
      "364/364 - 0s - loss: 7.8793e-05 - accuracy: 1.0000 - val_loss: 0.2614 - val_accuracy: 0.9451\n",
      "Epoch 95/100\n",
      "364/364 - 0s - loss: 7.0549e-05 - accuracy: 1.0000 - val_loss: 0.2689 - val_accuracy: 0.9451\n",
      "Epoch 96/100\n",
      "364/364 - 0s - loss: 6.3745e-05 - accuracy: 1.0000 - val_loss: 0.2628 - val_accuracy: 0.9451\n",
      "Epoch 97/100\n",
      "364/364 - 0s - loss: 5.7025e-05 - accuracy: 1.0000 - val_loss: 0.2690 - val_accuracy: 0.9451\n",
      "Epoch 98/100\n",
      "364/364 - 0s - loss: 5.1027e-05 - accuracy: 1.0000 - val_loss: 0.2704 - val_accuracy: 0.9451\n",
      "Epoch 99/100\n",
      "364/364 - 0s - loss: 4.3349e-05 - accuracy: 1.0000 - val_loss: 0.2691 - val_accuracy: 0.9451\n",
      "Epoch 100/100\n",
      "364/364 - 0s - loss: 4.1977e-05 - accuracy: 1.0000 - val_loss: 0.2716 - val_accuracy: 0.9451\n"
     ]
    }
   ],
   "source": [
    "hist2 = model2.fit(X_train, y_train, validation_split=0.2,\n",
    "                   epochs=100, batch_size=100, verbose=2)"
   ]
  },
  {
   "cell_type": "code",
   "execution_count": 31,
   "metadata": {},
   "outputs": [
    {
     "name": "stdout",
     "output_type": "stream",
     "text": [
      "114/1 [============================================================================================================================================================================================================================================================================================================================================================================================================================================================================================================================================================================================================================================================================================================================================================================================================================================================================================================================================================================================================================================================================================================================================================================================================================================================================================================================================================================================================================================================================================================================================================================================================================================================================================================================================================================================================================================================================================================================================================================================================================================================================================================================================================================================================================================================================================================================================================================================================================================================================================================================================================================================================================================================================================================================================================================================================================================================================================================================================================================================================================================================================================================================================================================================================================================================================================================================================================================================================================================================================================================================================================] - 0s 61us/sample - loss: 0.9960 - accuracy: 0.9825\n"
     ]
    },
    {
     "data": {
      "text/plain": [
       "[0.2767320142634082, 0.98245615]"
      ]
     },
     "execution_count": 31,
     "metadata": {},
     "output_type": "execute_result"
    }
   ],
   "source": [
    "model2.evaluate(X_test, y_test)"
   ]
  },
  {
   "cell_type": "code",
   "execution_count": 32,
   "metadata": {},
   "outputs": [],
   "source": [
    "y_acc2 = hist2.history['accuracy']\n",
    "y_vloss2 = hist2.history['val_loss']\n",
    "xs = np.arange(1, len(y_acc2)+1)"
   ]
  },
  {
   "cell_type": "code",
   "execution_count": 60,
   "metadata": {},
   "outputs": [
    {
     "data": {
      "image/png": "[encoded data removed]",
      "text/plain": [
       "<Figure size 1440x576 with 2 Axes>"
      ]
     },
     "metadata": {
      "needs_background": "light"
     },
     "output_type": "display_data"
    }
   ],
   "source": [
    "plt.figure(figsize=(20,8))\n",
    "plt.subplot(121)\n",
    "plt.plot(xs, y_acc, label='train accuracy')\n",
    "plt.plot(xs, y_vloss, label='validation loss')\n",
    "plt.legend()\n",
    "plt.grid()\n",
    "plt.ylim([0,1.1])\n",
    "plt.xlabel('Epoch')\n",
    "plt.title('Adam optimizer')\n",
    "\n",
    "plt.subplot(122)\n",
    "plt.plot(xs, y_acc2, label='train accuracy')\n",
    "plt.plot(xs, y_vloss2, label='validation loss')\n",
    "plt.legend()\n",
    "plt.grid()\n",
    "plt.ylim([0,1.1])\n",
    "plt.xlabel('Epoch')\n",
    "plt.title('RMSprop optimizer')\n",
    "plt.show()"
   ]
  },
  {
   "cell_type": "code",
   "execution_count": null,
   "metadata": {},
   "outputs": [],
   "source": []
  },
  {
   "cell_type": "code",
   "execution_count": null,
   "metadata": {},
   "outputs": [],
   "source": []
  }
 ],
 "metadata": {
  "interpreter": {
   "hash": "9f5feb42f08914aecde0ece13ac07afe9f84906579ba918f8c70eb200f669000"
  },
  "kernelspec": {
   "display_name": "Python 3.7.6 ('min')",
   "language": "python",
   "name": "python3"
  },
  "language_info": {
   "codemirror_mode": {
    "name": "ipython",
    "version": 3
   },
   "file_extension": ".py",
   "mimetype": "text/x-python",
   "name": "python",
   "nbconvert_exporter": "python",
   "pygments_lexer": "ipython3",
   "version": "3.7.6"
  },
  "orig_nbformat": 4
 },
 "nbformat": 4,
 "nbformat_minor": 2
}
