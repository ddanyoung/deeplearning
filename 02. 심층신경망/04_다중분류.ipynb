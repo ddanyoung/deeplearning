{
 "cells": [
  {
   "cell_type": "markdown",
   "metadata": {},
   "source": [
    "# 다중분류\n",
    "- Wine data"
   ]
  },
  {
   "cell_type": "code",
   "execution_count": 1,
   "metadata": {},
   "outputs": [],
   "source": [
    "import numpy as np\n",
    "import pandas as pd\n",
    "import matplotlib.pyplot as plt\n",
    "import tensorflow as tf\n",
    "seed = 2022\n",
    "np.random.seed(seed)\n",
    "tf.random.set_seed(seed)"
   ]
  },
  {
   "cell_type": "markdown",
   "metadata": {},
   "source": [
    "- 데이터 전처리"
   ]
  },
  {
   "cell_type": "code",
   "execution_count": 4,
   "metadata": {},
   "outputs": [
    {
     "data": {
      "text/plain": [
       "(178, 13)"
      ]
     },
     "execution_count": 4,
     "metadata": {},
     "output_type": "execute_result"
    }
   ],
   "source": [
    "from sklearn.datasets import load_wine\n",
    "wine = load_wine()\n",
    "wine.data.shape"
   ]
  },
  {
   "cell_type": "code",
   "execution_count": 5,
   "metadata": {},
   "outputs": [],
   "source": [
    "# X 데이터는 표준화\n",
    "from sklearn.preprocessing import StandardScaler\n",
    "wine_std = StandardScaler().fit_transform(wine.data)"
   ]
  },
  {
   "cell_type": "code",
   "execution_count": 7,
   "metadata": {},
   "outputs": [
    {
     "data": {
      "text/plain": [
       "array([[1., 0., 0.],\n",
       "       [1., 0., 0.],\n",
       "       [1., 0., 0.],\n",
       "       [1., 0., 0.],\n",
       "       [1., 0., 0.]], dtype=float32)"
      ]
     },
     "execution_count": 7,
     "metadata": {},
     "output_type": "execute_result"
    }
   ],
   "source": [
    "# y 데이터는 원핫인코딩\n",
    "from tensorflow.keras.utils import to_categorical\n",
    "Y = to_categorical(wine.target)\n",
    "Y[:5]"
   ]
  },
  {
   "cell_type": "code",
   "execution_count": 8,
   "metadata": {},
   "outputs": [
    {
     "data": {
      "text/plain": [
       "((142, 13), (36, 13), (142, 3), (36, 3))"
      ]
     },
     "execution_count": 8,
     "metadata": {},
     "output_type": "execute_result"
    }
   ],
   "source": [
    "from sklearn.model_selection import train_test_split\n",
    "X_train, X_test, Y_train, Y_test = train_test_split(\n",
    "    wine_std, Y, stratify=Y, test_size=0.2, random_state=seed\n",
    ")\n",
    "X_train.shape, X_test.shape, Y_train.shape, Y_test.shape"
   ]
  },
  {
   "cell_type": "markdown",
   "metadata": {},
   "source": [
    "- 모델 정의/설정/학습/평가"
   ]
  },
  {
   "cell_type": "code",
   "execution_count": 9,
   "metadata": {},
   "outputs": [],
   "source": [
    "from tensorflow.keras.models import Sequential\n",
    "from tensorflow.keras.layers import Dense"
   ]
  },
  {
   "cell_type": "code",
   "execution_count": 10,
   "metadata": {},
   "outputs": [
    {
     "name": "stdout",
     "output_type": "stream",
     "text": [
      "Model: \"sequential\"\n",
      "_________________________________________________________________\n",
      "Layer (type)                 Output Shape              Param #   \n",
      "=================================================================\n",
      "dense (Dense)                (None, 30)                420       \n",
      "_________________________________________________________________\n",
      "dense_1 (Dense)              (None, 12)                372       \n",
      "_________________________________________________________________\n",
      "dense_2 (Dense)              (None, 3)                 39        \n",
      "=================================================================\n",
      "Total params: 831\n",
      "Trainable params: 831\n",
      "Non-trainable params: 0\n",
      "_________________________________________________________________\n"
     ]
    }
   ],
   "source": [
    "model = Sequential([\n",
    "    Dense(30, input_dim=13, activation='relu'),\n",
    "    Dense(12, activation='relu'),\n",
    "    Dense(3, activation='softmax')                      # 노드수는 Y의 의 종류(N)의 수, 활성화 함수는 soft max\n",
    "])\n",
    "model.summary()"
   ]
  },
  {
   "cell_type": "code",
   "execution_count": 11,
   "metadata": {},
   "outputs": [],
   "source": [
    "# 다중분류시 손실 함수는 categorical_crossentropy\n",
    "model.compile('adam', loss='categorical_crossentropy', metrics=['accuracy'])"
   ]
  },
  {
   "cell_type": "code",
   "execution_count": 12,
   "metadata": {},
   "outputs": [
    {
     "name": "stdout",
     "output_type": "stream",
     "text": [
      "Train on 113 samples, validate on 29 samples\n",
      "Epoch 1/100\n",
      "113/113 [==============================] - 1s 12ms/sample - loss: 1.9095 - accuracy: 0.3186 - val_loss: 1.6898 - val_accuracy: 0.2414\n",
      "Epoch 2/100\n",
      "113/113 [==============================] - 0s 150us/sample - loss: 1.7999 - accuracy: 0.3274 - val_loss: 1.5986 - val_accuracy: 0.2414\n",
      "Epoch 3/100\n",
      "113/113 [==============================] - 0s 186us/sample - loss: 1.7001 - accuracy: 0.3363 - val_loss: 1.5158 - val_accuracy: 0.2414\n",
      "Epoch 4/100\n",
      "113/113 [==============================] - 0s 257us/sample - loss: 1.6108 - accuracy: 0.3363 - val_loss: 1.4396 - val_accuracy: 0.2759\n",
      "Epoch 5/100\n",
      "113/113 [==============================] - 0s 274us/sample - loss: 1.5274 - accuracy: 0.3363 - val_loss: 1.3706 - val_accuracy: 0.3103\n",
      "Epoch 6/100\n",
      "113/113 [==============================] - 0s 256us/sample - loss: 1.4495 - accuracy: 0.3628 - val_loss: 1.3057 - val_accuracy: 0.3448\n",
      "Epoch 7/100\n",
      "113/113 [==============================] - 0s 221us/sample - loss: 1.3791 - accuracy: 0.3894 - val_loss: 1.2463 - val_accuracy: 0.3448\n",
      "Epoch 8/100\n",
      "113/113 [==============================] - 0s 292us/sample - loss: 1.3133 - accuracy: 0.3982 - val_loss: 1.1944 - val_accuracy: 0.4138\n",
      "Epoch 9/100\n",
      "113/113 [==============================] - 0s 265us/sample - loss: 1.2561 - accuracy: 0.4159 - val_loss: 1.1484 - val_accuracy: 0.4483\n",
      "Epoch 10/100\n",
      "113/113 [==============================] - 0s 195us/sample - loss: 1.2038 - accuracy: 0.4513 - val_loss: 1.1071 - val_accuracy: 0.4828\n",
      "Epoch 11/100\n",
      "113/113 [==============================] - 0s 371us/sample - loss: 1.1546 - accuracy: 0.4867 - val_loss: 1.0701 - val_accuracy: 0.5172\n",
      "Epoch 12/100\n",
      "113/113 [==============================] - 0s 265us/sample - loss: 1.1117 - accuracy: 0.4956 - val_loss: 1.0354 - val_accuracy: 0.5172\n",
      "Epoch 13/100\n",
      "113/113 [==============================] - 0s 274us/sample - loss: 1.0707 - accuracy: 0.5044 - val_loss: 1.0039 - val_accuracy: 0.5517\n",
      "Epoch 14/100\n",
      "113/113 [==============================] - 0s 265us/sample - loss: 1.0331 - accuracy: 0.5310 - val_loss: 0.9748 - val_accuracy: 0.5862\n",
      "Epoch 15/100\n",
      "113/113 [==============================] - 0s 460us/sample - loss: 0.9976 - accuracy: 0.5398 - val_loss: 0.9471 - val_accuracy: 0.6207\n",
      "Epoch 16/100\n",
      "113/113 [==============================] - 0s 221us/sample - loss: 0.9663 - accuracy: 0.5575 - val_loss: 0.9205 - val_accuracy: 0.6207\n",
      "Epoch 17/100\n",
      "113/113 [==============================] - 0s 195us/sample - loss: 0.9365 - accuracy: 0.5841 - val_loss: 0.8954 - val_accuracy: 0.6552\n",
      "Epoch 18/100\n",
      "113/113 [==============================] - 0s 354us/sample - loss: 0.9088 - accuracy: 0.5841 - val_loss: 0.8719 - val_accuracy: 0.6552\n",
      "Epoch 19/100\n",
      "113/113 [==============================] - 0s 203us/sample - loss: 0.8825 - accuracy: 0.5841 - val_loss: 0.8504 - val_accuracy: 0.6552\n",
      "Epoch 20/100\n",
      "113/113 [==============================] - 0s 858us/sample - loss: 0.8580 - accuracy: 0.5929 - val_loss: 0.8297 - val_accuracy: 0.6552\n",
      "Epoch 21/100\n",
      "113/113 [==============================] - 0s 593us/sample - loss: 0.8358 - accuracy: 0.6195 - val_loss: 0.8097 - val_accuracy: 0.6552\n",
      "Epoch 22/100\n",
      "113/113 [==============================] - 0s 380us/sample - loss: 0.8128 - accuracy: 0.6372 - val_loss: 0.7907 - val_accuracy: 0.6552\n",
      "Epoch 23/100\n",
      "113/113 [==============================] - 0s 274us/sample - loss: 0.7920 - accuracy: 0.6372 - val_loss: 0.7727 - val_accuracy: 0.6897\n",
      "Epoch 24/100\n",
      "113/113 [==============================] - 0s 248us/sample - loss: 0.7718 - accuracy: 0.6372 - val_loss: 0.7555 - val_accuracy: 0.6897\n",
      "Epoch 25/100\n",
      "113/113 [==============================] - 0s 363us/sample - loss: 0.7520 - accuracy: 0.6637 - val_loss: 0.7394 - val_accuracy: 0.6897\n",
      "Epoch 26/100\n",
      "113/113 [==============================] - 0s 195us/sample - loss: 0.7337 - accuracy: 0.6814 - val_loss: 0.7235 - val_accuracy: 0.7241\n",
      "Epoch 27/100\n",
      "113/113 [==============================] - 0s 256us/sample - loss: 0.7151 - accuracy: 0.7257 - val_loss: 0.7083 - val_accuracy: 0.7586\n",
      "Epoch 28/100\n",
      "113/113 [==============================] - 0s 257us/sample - loss: 0.6978 - accuracy: 0.7345 - val_loss: 0.6940 - val_accuracy: 0.7586\n",
      "Epoch 29/100\n",
      "113/113 [==============================] - 0s 301us/sample - loss: 0.6804 - accuracy: 0.7345 - val_loss: 0.6801 - val_accuracy: 0.7586\n",
      "Epoch 30/100\n",
      "113/113 [==============================] - 0s 212us/sample - loss: 0.6643 - accuracy: 0.7345 - val_loss: 0.6665 - val_accuracy: 0.7586\n",
      "Epoch 31/100\n",
      "113/113 [==============================] - 0s 221us/sample - loss: 0.6484 - accuracy: 0.7611 - val_loss: 0.6529 - val_accuracy: 0.7931\n",
      "Epoch 32/100\n",
      "113/113 [==============================] - 0s 265us/sample - loss: 0.6334 - accuracy: 0.7788 - val_loss: 0.6392 - val_accuracy: 0.8276\n",
      "Epoch 33/100\n",
      "113/113 [==============================] - 0s 318us/sample - loss: 0.6186 - accuracy: 0.8142 - val_loss: 0.6259 - val_accuracy: 0.8276\n",
      "Epoch 34/100\n",
      "113/113 [==============================] - 0s 248us/sample - loss: 0.6044 - accuracy: 0.8230 - val_loss: 0.6132 - val_accuracy: 0.8966\n",
      "Epoch 35/100\n",
      "113/113 [==============================] - 0s 248us/sample - loss: 0.5905 - accuracy: 0.8319 - val_loss: 0.6007 - val_accuracy: 0.8966\n",
      "Epoch 36/100\n",
      "113/113 [==============================] - 0s 274us/sample - loss: 0.5767 - accuracy: 0.8407 - val_loss: 0.5885 - val_accuracy: 0.8966\n",
      "Epoch 37/100\n",
      "113/113 [==============================] - 0s 256us/sample - loss: 0.5635 - accuracy: 0.8407 - val_loss: 0.5763 - val_accuracy: 0.8966\n",
      "Epoch 38/100\n",
      "113/113 [==============================] - 0s 159us/sample - loss: 0.5501 - accuracy: 0.8407 - val_loss: 0.5641 - val_accuracy: 0.8966\n",
      "Epoch 39/100\n",
      "113/113 [==============================] - 0s 195us/sample - loss: 0.5375 - accuracy: 0.8407 - val_loss: 0.5515 - val_accuracy: 0.8966\n",
      "Epoch 40/100\n",
      "113/113 [==============================] - 0s 256us/sample - loss: 0.5250 - accuracy: 0.8407 - val_loss: 0.5390 - val_accuracy: 0.8966\n",
      "Epoch 41/100\n",
      "113/113 [==============================] - 0s 407us/sample - loss: 0.5125 - accuracy: 0.8584 - val_loss: 0.5269 - val_accuracy: 0.8966\n",
      "Epoch 42/100\n",
      "113/113 [==============================] - 0s 310us/sample - loss: 0.5002 - accuracy: 0.8584 - val_loss: 0.5153 - val_accuracy: 0.8966\n",
      "Epoch 43/100\n",
      "113/113 [==============================] - 0s 336us/sample - loss: 0.4883 - accuracy: 0.8584 - val_loss: 0.5040 - val_accuracy: 0.9310\n",
      "Epoch 44/100\n",
      "113/113 [==============================] - 0s 283us/sample - loss: 0.4768 - accuracy: 0.8584 - val_loss: 0.4932 - val_accuracy: 0.9310\n",
      "Epoch 45/100\n",
      "113/113 [==============================] - 0s 256us/sample - loss: 0.4653 - accuracy: 0.8761 - val_loss: 0.4830 - val_accuracy: 0.9310\n",
      "Epoch 46/100\n",
      "113/113 [==============================] - 0s 177us/sample - loss: 0.4544 - accuracy: 0.8850 - val_loss: 0.4729 - val_accuracy: 0.9655\n",
      "Epoch 47/100\n",
      "113/113 [==============================] - 0s 239us/sample - loss: 0.4438 - accuracy: 0.8850 - val_loss: 0.4631 - val_accuracy: 0.9655\n",
      "Epoch 48/100\n",
      "113/113 [==============================] - 0s 256us/sample - loss: 0.4334 - accuracy: 0.8850 - val_loss: 0.4536 - val_accuracy: 0.9655\n",
      "Epoch 49/100\n",
      "113/113 [==============================] - 0s 248us/sample - loss: 0.4231 - accuracy: 0.8938 - val_loss: 0.4442 - val_accuracy: 0.9655\n",
      "Epoch 50/100\n",
      "113/113 [==============================] - 0s 203us/sample - loss: 0.4132 - accuracy: 0.9115 - val_loss: 0.4351 - val_accuracy: 0.9310\n",
      "Epoch 51/100\n",
      "113/113 [==============================] - 0s 248us/sample - loss: 0.4035 - accuracy: 0.9292 - val_loss: 0.4264 - val_accuracy: 0.9310\n",
      "Epoch 52/100\n",
      "113/113 [==============================] - 0s 310us/sample - loss: 0.3942 - accuracy: 0.9292 - val_loss: 0.4178 - val_accuracy: 0.9310\n",
      "Epoch 53/100\n",
      "113/113 [==============================] - ETA: 0s - loss: 0.3925 - accuracy: 0.95 - 0s 212us/sample - loss: 0.3851 - accuracy: 0.9558 - val_loss: 0.4095 - val_accuracy: 0.9310\n",
      "Epoch 54/100\n",
      "113/113 [==============================] - 0s 159us/sample - loss: 0.3760 - accuracy: 0.9558 - val_loss: 0.4013 - val_accuracy: 0.9310\n",
      "Epoch 55/100\n",
      "113/113 [==============================] - 0s 310us/sample - loss: 0.3672 - accuracy: 0.9646 - val_loss: 0.3931 - val_accuracy: 0.9310\n",
      "Epoch 56/100\n",
      "113/113 [==============================] - 0s 248us/sample - loss: 0.3583 - accuracy: 0.9646 - val_loss: 0.3848 - val_accuracy: 0.9310\n",
      "Epoch 57/100\n",
      "113/113 [==============================] - 0s 159us/sample - loss: 0.3495 - accuracy: 0.9646 - val_loss: 0.3766 - val_accuracy: 0.9310\n",
      "Epoch 58/100\n",
      "113/113 [==============================] - 0s 203us/sample - loss: 0.3410 - accuracy: 0.9646 - val_loss: 0.3687 - val_accuracy: 0.9310\n",
      "Epoch 59/100\n",
      "113/113 [==============================] - 0s 230us/sample - loss: 0.3327 - accuracy: 0.9646 - val_loss: 0.3608 - val_accuracy: 0.9310\n",
      "Epoch 60/100\n",
      "113/113 [==============================] - 0s 221us/sample - loss: 0.3245 - accuracy: 0.9646 - val_loss: 0.3528 - val_accuracy: 0.9310\n",
      "Epoch 61/100\n",
      "113/113 [==============================] - 0s 212us/sample - loss: 0.3165 - accuracy: 0.9735 - val_loss: 0.3450 - val_accuracy: 0.9310\n",
      "Epoch 62/100\n",
      "113/113 [==============================] - 0s 177us/sample - loss: 0.3088 - accuracy: 0.9735 - val_loss: 0.3371 - val_accuracy: 0.9310\n",
      "Epoch 63/100\n",
      "113/113 [==============================] - 0s 221us/sample - loss: 0.3011 - accuracy: 0.9735 - val_loss: 0.3292 - val_accuracy: 0.9310\n",
      "Epoch 64/100\n",
      "113/113 [==============================] - 0s 230us/sample - loss: 0.2936 - accuracy: 0.9735 - val_loss: 0.3216 - val_accuracy: 0.9310\n",
      "Epoch 65/100\n",
      "113/113 [==============================] - 0s 274us/sample - loss: 0.2863 - accuracy: 0.9735 - val_loss: 0.3142 - val_accuracy: 0.9310\n",
      "Epoch 66/100\n",
      "113/113 [==============================] - 0s 159us/sample - loss: 0.2790 - accuracy: 0.9735 - val_loss: 0.3067 - val_accuracy: 0.9310\n",
      "Epoch 67/100\n",
      "113/113 [==============================] - 0s 177us/sample - loss: 0.2719 - accuracy: 0.9735 - val_loss: 0.2993 - val_accuracy: 0.9310\n",
      "Epoch 68/100\n",
      "113/113 [==============================] - 0s 212us/sample - loss: 0.2649 - accuracy: 0.9735 - val_loss: 0.2921 - val_accuracy: 0.9310\n",
      "Epoch 69/100\n",
      "113/113 [==============================] - 0s 230us/sample - loss: 0.2578 - accuracy: 0.9735 - val_loss: 0.2852 - val_accuracy: 0.9310\n",
      "Epoch 70/100\n",
      "113/113 [==============================] - 0s 248us/sample - loss: 0.2505 - accuracy: 0.9735 - val_loss: 0.2787 - val_accuracy: 0.9310\n",
      "Epoch 71/100\n",
      "113/113 [==============================] - 0s 177us/sample - loss: 0.2437 - accuracy: 0.9735 - val_loss: 0.2724 - val_accuracy: 0.9655\n",
      "Epoch 72/100\n",
      "113/113 [==============================] - 0s 168us/sample - loss: 0.2368 - accuracy: 0.9735 - val_loss: 0.2663 - val_accuracy: 0.9655\n",
      "Epoch 73/100\n",
      "113/113 [==============================] - 0s 203us/sample - loss: 0.2305 - accuracy: 0.9735 - val_loss: 0.2603 - val_accuracy: 0.9655\n",
      "Epoch 74/100\n",
      "113/113 [==============================] - 0s 203us/sample - loss: 0.2245 - accuracy: 0.9735 - val_loss: 0.2543 - val_accuracy: 0.9655\n",
      "Epoch 75/100\n",
      "113/113 [==============================] - 0s 230us/sample - loss: 0.2186 - accuracy: 0.9735 - val_loss: 0.2481 - val_accuracy: 0.9655\n",
      "Epoch 76/100\n",
      "113/113 [==============================] - 0s 168us/sample - loss: 0.2130 - accuracy: 0.9735 - val_loss: 0.2418 - val_accuracy: 0.9655\n",
      "Epoch 77/100\n",
      "113/113 [==============================] - 0s 150us/sample - loss: 0.2076 - accuracy: 0.9735 - val_loss: 0.2358 - val_accuracy: 0.9655\n",
      "Epoch 78/100\n",
      "113/113 [==============================] - 0s 248us/sample - loss: 0.2025 - accuracy: 0.9735 - val_loss: 0.2299 - val_accuracy: 0.9655\n",
      "Epoch 79/100\n",
      "113/113 [==============================] - 0s 177us/sample - loss: 0.1973 - accuracy: 0.9735 - val_loss: 0.2243 - val_accuracy: 0.9655\n",
      "Epoch 80/100\n",
      "113/113 [==============================] - 0s 221us/sample - loss: 0.1923 - accuracy: 0.9823 - val_loss: 0.2191 - val_accuracy: 0.9655\n",
      "Epoch 81/100\n",
      "113/113 [==============================] - 0s 212us/sample - loss: 0.1876 - accuracy: 0.9823 - val_loss: 0.2139 - val_accuracy: 0.9655\n",
      "Epoch 82/100\n",
      "113/113 [==============================] - 0s 1ms/sample - loss: 0.1829 - accuracy: 0.9823 - val_loss: 0.2089 - val_accuracy: 0.9655\n",
      "Epoch 83/100\n",
      "113/113 [==============================] - 0s 239us/sample - loss: 0.1784 - accuracy: 0.9823 - val_loss: 0.2039 - val_accuracy: 0.9655\n",
      "Epoch 84/100\n",
      "113/113 [==============================] - 0s 1ms/sample - loss: 0.1742 - accuracy: 0.9823 - val_loss: 0.1990 - val_accuracy: 0.9655\n",
      "Epoch 85/100\n",
      "113/113 [==============================] - 0s 203us/sample - loss: 0.1700 - accuracy: 0.9823 - val_loss: 0.1941 - val_accuracy: 0.9655\n",
      "Epoch 86/100\n",
      "113/113 [==============================] - 0s 230us/sample - loss: 0.1659 - accuracy: 0.9823 - val_loss: 0.1894 - val_accuracy: 0.9655\n",
      "Epoch 87/100\n",
      "113/113 [==============================] - 0s 292us/sample - loss: 0.1620 - accuracy: 0.9823 - val_loss: 0.1848 - val_accuracy: 0.9655\n",
      "Epoch 88/100\n",
      "113/113 [==============================] - 0s 168us/sample - loss: 0.1582 - accuracy: 0.9823 - val_loss: 0.1803 - val_accuracy: 0.9655\n",
      "Epoch 89/100\n",
      "113/113 [==============================] - 0s 239us/sample - loss: 0.1546 - accuracy: 0.9823 - val_loss: 0.1760 - val_accuracy: 0.9655\n",
      "Epoch 90/100\n",
      "113/113 [==============================] - 0s 451us/sample - loss: 0.1509 - accuracy: 0.9823 - val_loss: 0.1720 - val_accuracy: 0.9655\n",
      "Epoch 91/100\n",
      "113/113 [==============================] - 0s 318us/sample - loss: 0.1475 - accuracy: 0.9823 - val_loss: 0.1680 - val_accuracy: 0.9655\n",
      "Epoch 92/100\n",
      "113/113 [==============================] - 0s 256us/sample - loss: 0.1439 - accuracy: 0.9823 - val_loss: 0.1640 - val_accuracy: 0.9655\n",
      "Epoch 93/100\n",
      "113/113 [==============================] - 0s 230us/sample - loss: 0.1406 - accuracy: 0.9823 - val_loss: 0.1596 - val_accuracy: 0.9655\n",
      "Epoch 94/100\n",
      "113/113 [==============================] - 0s 212us/sample - loss: 0.1372 - accuracy: 0.9823 - val_loss: 0.1553 - val_accuracy: 0.9655\n",
      "Epoch 95/100\n",
      "113/113 [==============================] - 0s 168us/sample - loss: 0.1340 - accuracy: 0.9823 - val_loss: 0.1513 - val_accuracy: 0.9655\n",
      "Epoch 96/100\n",
      "113/113 [==============================] - 0s 239us/sample - loss: 0.1309 - accuracy: 0.9823 - val_loss: 0.1476 - val_accuracy: 0.9655\n",
      "Epoch 97/100\n",
      "113/113 [==============================] - 0s 177us/sample - loss: 0.1280 - accuracy: 0.9823 - val_loss: 0.1441 - val_accuracy: 1.0000\n",
      "Epoch 98/100\n",
      "113/113 [==============================] - 0s 212us/sample - loss: 0.1252 - accuracy: 0.9823 - val_loss: 0.1408 - val_accuracy: 1.0000\n",
      "Epoch 99/100\n",
      "113/113 [==============================] - 0s 195us/sample - loss: 0.1225 - accuracy: 0.9823 - val_loss: 0.1376 - val_accuracy: 1.0000\n",
      "Epoch 100/100\n",
      "113/113 [==============================] - 0s 150us/sample - loss: 0.1200 - accuracy: 0.9823 - val_loss: 0.1346 - val_accuracy: 1.0000\n"
     ]
    }
   ],
   "source": [
    "hist = model.fit(X_train, Y_train, validation_split=0.2, \n",
    "                            epochs=100, batch_size=100)"
   ]
  },
  {
   "cell_type": "code",
   "execution_count": 13,
   "metadata": {},
   "outputs": [
    {
     "name": "stdout",
     "output_type": "stream",
     "text": [
      "36/1 [========================================================================================================================================================================================================================================================================================================================================================================================================================================================================================================================================================================================================================================================================================================================================================================================================================================================================================================================================================================================================================================================================================================================] - 0s 139us/sample - loss: 0.1239 - accuracy: 0.9722\n"
     ]
    },
    {
     "data": {
      "text/plain": [
       "[0.11983568304114872, 0.9722222]"
      ]
     },
     "execution_count": 13,
     "metadata": {},
     "output_type": "execute_result"
    }
   ],
   "source": [
    " model.evaluate(X_test, Y_test)"
   ]
  },
  {
   "cell_type": "markdown",
   "metadata": {},
   "source": [
    "- 학습과정 시각화"
   ]
  },
  {
   "cell_type": "code",
   "execution_count": 14,
   "metadata": {},
   "outputs": [],
   "source": [
    "y_acc = hist.history['accuracy']\n",
    "y_vloss = hist.history['val_loss']\n",
    "xs = np.arange(1, len(y_acc)+1)"
   ]
  },
  {
   "cell_type": "code",
   "execution_count": 15,
   "metadata": {},
   "outputs": [
    {
     "data": {
      "image/png": "[encoded data removed]",
      "text/plain": [
       "<Figure size 864x576 with 1 Axes>"
      ]
     },
     "metadata": {
      "needs_background": "light"
     },
     "output_type": "display_data"
    }
   ],
   "source": [
    "plt.figure(figsize=(12, 8))\n",
    "plt.plot(xs, y_acc, label='train accuracy')\n",
    "plt.plot(xs, y_vloss, label='validataion loss')\n",
    "plt.legend()\n",
    "plt.xlabel('Epoch')\n",
    "plt.show()"
   ]
  },
  {
   "cell_type": "markdown",
   "metadata": {},
   "source": [
    "- Epoch 횟수를 더 늘려서 학습을 해보자"
   ]
  },
  {
   "cell_type": "code",
   "execution_count": 30,
   "metadata": {},
   "outputs": [
    {
     "name": "stdout",
     "output_type": "stream",
     "text": [
      "Model: \"sequential_3\"\n",
      "_________________________________________________________________\n",
      "Layer (type)                 Output Shape              Param #   \n",
      "=================================================================\n",
      "dense_9 (Dense)              (None, 30)                420       \n",
      "_________________________________________________________________\n",
      "dense_10 (Dense)             (None, 12)                372       \n",
      "_________________________________________________________________\n",
      "dense_11 (Dense)             (None, 3)                 39        \n",
      "=================================================================\n",
      "Total params: 831\n",
      "Trainable params: 831\n",
      "Non-trainable params: 0\n",
      "_________________________________________________________________\n"
     ]
    }
   ],
   "source": [
    "model2 = Sequential([\n",
    "    Dense(30, input_dim=13, activation='relu'),\n",
    "    Dense(12, activation='relu'),\n",
    "    Dense(3, activation='softmax')                      # 노드수는 Y의 의 종류(N)의 수, 활성화 함수는 soft max\n",
    "])\n",
    "model2.summary()"
   ]
  },
  {
   "cell_type": "code",
   "execution_count": null,
   "metadata": {},
   "outputs": [],
   "source": []
  },
  {
   "cell_type": "code",
   "execution_count": 31,
   "metadata": {},
   "outputs": [],
   "source": [
    "model2.compile('adam', loss='categorical_crossentropy', metrics=['accuracy'])"
   ]
  },
  {
   "cell_type": "code",
   "execution_count": 32,
   "metadata": {},
   "outputs": [],
   "source": [
    "hist2 = model2.fit(X_train, Y_train, validation_split=0.2, \n",
    "                            epochs=1000, batch_size=100, verbose=0)"
   ]
  },
  {
   "cell_type": "code",
   "execution_count": 33,
   "metadata": {},
   "outputs": [
    {
     "name": "stdout",
     "output_type": "stream",
     "text": [
      "36/1 [========================================================================================================================================================================================================================================================================================================================================================================================================================================================================================================================================================================================================================================================================================================================================================================================================================================================================================================================================================================================================================================================================================================================] - 0s 139us/sample - loss: 5.5813e-04 - accuracy: 1.0000\n"
     ]
    },
    {
     "data": {
      "text/plain": [
       "[0.0007846774145339926, 1.0]"
      ]
     },
     "execution_count": 33,
     "metadata": {},
     "output_type": "execute_result"
    }
   ],
   "source": [
    "model2.evaluate(X_test, Y_test)"
   ]
  },
  {
   "cell_type": "code",
   "execution_count": 34,
   "metadata": {},
   "outputs": [],
   "source": [
    "y_acc2 = hist2.history['accuracy']\n",
    "y_vloss2 = hist2.history['val_loss']\n",
    "xs2 = np.arange(1, len(y_acc2)+1)"
   ]
  },
  {
   "cell_type": "code",
   "execution_count": 35,
   "metadata": {},
   "outputs": [
    {
     "data": {
      "image/png": "[encoded data removed]",
      "text/plain": [
       "<Figure size 864x576 with 1 Axes>"
      ]
     },
     "metadata": {
      "needs_background": "light"
     },
     "output_type": "display_data"
    }
   ],
   "source": [
    "plt.figure(figsize=(12, 8))\n",
    "plt.plot(xs2, y_acc2, label='train accuracy')\n",
    "plt.plot(xs2, y_vloss2, label='validataion loss')\n",
    "plt.legend()\n",
    "plt.xlabel('Epoch')\n",
    "plt.show()"
   ]
  },
  {
   "cell_type": "markdown",
   "metadata": {},
   "source": [
    "- 모델 저장 및 로드"
   ]
  },
  {
   "cell_type": "code",
   "execution_count": 38,
   "metadata": {},
   "outputs": [
    {
     "name": "stdout",
     "output_type": "stream",
     "text": [
      "WARNING:tensorflow:From c:\\Users\\min\\Anaconda3\\envs\\min\\lib\\site-packages\\tensorflow_core\\python\\ops\\resource_variable_ops.py:1781: calling BaseResourceVariable.__init__ (from tensorflow.python.ops.resource_variable_ops) with constraint is deprecated and will be removed in a future version.\n",
      "Instructions for updating:\n",
      "If using Keras pass *_constraint arguments to layers.\n",
      "INFO:tensorflow:Assets written to: wine.h5py\\assets\n"
     ]
    }
   ],
   "source": [
    "model2.save(\"wine.h5py\")"
   ]
  },
  {
   "cell_type": "code",
   "execution_count": 40,
   "metadata": {},
   "outputs": [],
   "source": [
    "from tensorflow.keras.models import load_model\n",
    "my_model = load_model(\"wine.h5py\")"
   ]
  },
  {
   "cell_type": "code",
   "execution_count": 41,
   "metadata": {},
   "outputs": [
    {
     "name": "stdout",
     "output_type": "stream",
     "text": [
      "36/1 [========================================================================================================================================================================================================================================================================================================================================================================================================================================================================================================================================================================================================================================================================================================================================================================================================================================================================================================================================================================================================================================================================================================================] - 0s 3ms/sample - loss: 5.5810e-04 - accuracy: 1.0000\n"
     ]
    },
    {
     "data": {
      "text/plain": [
       "[0.0007846684861255602, 1.0]"
      ]
     },
     "execution_count": 41,
     "metadata": {},
     "output_type": "execute_result"
    }
   ],
   "source": [
    "my_model.evaluate(X_test, Y_test)"
   ]
  },
  {
   "cell_type": "markdown",
   "metadata": {},
   "source": [
    "- 실제 데이터로 테스트"
   ]
  },
  {
   "cell_type": "code",
   "execution_count": 43,
   "metadata": {},
   "outputs": [
    {
     "data": {
      "text/plain": [
       "(array([-1.13720713, -0.23011443, -2.43634632, -0.59905169, -0.192495  ,\n",
       "        -0.10433159,  0.14128858, -0.82071924, -0.33447089, -0.76049691,\n",
       "         1.37126518,  0.49197446, -0.11748635]),\n",
       " array([0., 1., 0.], dtype=float32))"
      ]
     },
     "execution_count": 43,
     "metadata": {},
     "output_type": "execute_result"
    }
   ],
   "source": [
    "wine_std[100], Y[100]"
   ]
  },
  {
   "cell_type": "code",
   "execution_count": 44,
   "metadata": {},
   "outputs": [
    {
     "data": {
      "text/plain": [
       "array(['class_0', 'class_1', 'class_2'], dtype='<U7')"
      ]
     },
     "execution_count": 44,
     "metadata": {},
     "output_type": "execute_result"
    }
   ],
   "source": [
    "wine.target_names"
   ]
  },
  {
   "cell_type": "code",
   "execution_count": 46,
   "metadata": {},
   "outputs": [
    {
     "name": "stdout",
     "output_type": "stream",
     "text": [
      "1/1 [==============================] - 0s 7ms/sample - loss: 2.0266e-06 - accuracy: 1.0000\n"
     ]
    },
    {
     "data": {
      "text/plain": [
       "[2.0265599687263602e-06, 1.0]"
      ]
     },
     "execution_count": 46,
     "metadata": {},
     "output_type": "execute_result"
    }
   ],
   "source": [
    "my_model.evaluate(wine_std[100].reshape(1, -1), Y[100].reshape(1, -1))"
   ]
  },
  {
   "cell_type": "code",
   "execution_count": null,
   "metadata": {},
   "outputs": [],
   "source": []
  },
  {
   "cell_type": "code",
   "execution_count": null,
   "metadata": {},
   "outputs": [],
   "source": []
  }
 ],
 "metadata": {
  "interpreter": {
   "hash": "9f5feb42f08914aecde0ece13ac07afe9f84906579ba918f8c70eb200f669000"
  },
  "kernelspec": {
   "display_name": "Python 3.7.6 ('min')",
   "language": "python",
   "name": "python3"
  },
  "language_info": {
   "codemirror_mode": {
    "name": "ipython",
    "version": 3
   },
   "file_extension": ".py",
   "mimetype": "text/x-python",
   "name": "python",
   "nbconvert_exporter": "python",
   "pygments_lexer": "ipython3",
   "version": "3.7.6"
  },
  "orig_nbformat": 4
 },
 "nbformat": 4,
 "nbformat_minor": 2
}
