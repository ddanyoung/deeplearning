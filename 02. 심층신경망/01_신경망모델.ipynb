{
 "cells": [
  {
   "cell_type": "markdown",
   "metadata": {},
   "source": [
    "# 신경망 모델\n",
    "### - 이진분류: 유방암 예측 사례"
   ]
  },
  {
   "cell_type": "code",
   "execution_count": 1,
   "metadata": {},
   "outputs": [],
   "source": [
    "import numpy as np\n",
    "import pandas as pd\n",
    "import matplotlib.pyplot as plt"
   ]
  },
  {
   "cell_type": "markdown",
   "metadata": {},
   "source": [
    "- 데이터 준비"
   ]
  },
  {
   "cell_type": "code",
   "execution_count": 2,
   "metadata": {},
   "outputs": [
    {
     "data": {
      "text/html": [
       "<div>\n",
       "<style scoped>\n",
       "    .dataframe tbody tr th:only-of-type {\n",
       "        vertical-align: middle;\n",
       "    }\n",
       "\n",
       "    .dataframe tbody tr th {\n",
       "        vertical-align: top;\n",
       "    }\n",
       "\n",
       "    .dataframe thead th {\n",
       "        text-align: right;\n",
       "    }\n",
       "</style>\n",
       "<table border=\"1\" class=\"dataframe\">\n",
       "  <thead>\n",
       "    <tr style=\"text-align: right;\">\n",
       "      <th></th>\n",
       "      <th>mean radius</th>\n",
       "      <th>mean texture</th>\n",
       "      <th>mean perimeter</th>\n",
       "      <th>mean area</th>\n",
       "      <th>mean smoothness</th>\n",
       "      <th>mean compactness</th>\n",
       "      <th>mean concavity</th>\n",
       "      <th>mean concave points</th>\n",
       "      <th>mean symmetry</th>\n",
       "      <th>mean fractal dimension</th>\n",
       "      <th>...</th>\n",
       "      <th>worst texture</th>\n",
       "      <th>worst perimeter</th>\n",
       "      <th>worst area</th>\n",
       "      <th>worst smoothness</th>\n",
       "      <th>worst compactness</th>\n",
       "      <th>worst concavity</th>\n",
       "      <th>worst concave points</th>\n",
       "      <th>worst symmetry</th>\n",
       "      <th>worst fractal dimension</th>\n",
       "      <th>target</th>\n",
       "    </tr>\n",
       "  </thead>\n",
       "  <tbody>\n",
       "    <tr>\n",
       "      <th>0</th>\n",
       "      <td>17.99</td>\n",
       "      <td>10.38</td>\n",
       "      <td>122.80</td>\n",
       "      <td>1001.0</td>\n",
       "      <td>0.11840</td>\n",
       "      <td>0.27760</td>\n",
       "      <td>0.3001</td>\n",
       "      <td>0.14710</td>\n",
       "      <td>0.2419</td>\n",
       "      <td>0.07871</td>\n",
       "      <td>...</td>\n",
       "      <td>17.33</td>\n",
       "      <td>184.60</td>\n",
       "      <td>2019.0</td>\n",
       "      <td>0.1622</td>\n",
       "      <td>0.6656</td>\n",
       "      <td>0.7119</td>\n",
       "      <td>0.2654</td>\n",
       "      <td>0.4601</td>\n",
       "      <td>0.11890</td>\n",
       "      <td>0</td>\n",
       "    </tr>\n",
       "    <tr>\n",
       "      <th>1</th>\n",
       "      <td>20.57</td>\n",
       "      <td>17.77</td>\n",
       "      <td>132.90</td>\n",
       "      <td>1326.0</td>\n",
       "      <td>0.08474</td>\n",
       "      <td>0.07864</td>\n",
       "      <td>0.0869</td>\n",
       "      <td>0.07017</td>\n",
       "      <td>0.1812</td>\n",
       "      <td>0.05667</td>\n",
       "      <td>...</td>\n",
       "      <td>23.41</td>\n",
       "      <td>158.80</td>\n",
       "      <td>1956.0</td>\n",
       "      <td>0.1238</td>\n",
       "      <td>0.1866</td>\n",
       "      <td>0.2416</td>\n",
       "      <td>0.1860</td>\n",
       "      <td>0.2750</td>\n",
       "      <td>0.08902</td>\n",
       "      <td>0</td>\n",
       "    </tr>\n",
       "    <tr>\n",
       "      <th>2</th>\n",
       "      <td>19.69</td>\n",
       "      <td>21.25</td>\n",
       "      <td>130.00</td>\n",
       "      <td>1203.0</td>\n",
       "      <td>0.10960</td>\n",
       "      <td>0.15990</td>\n",
       "      <td>0.1974</td>\n",
       "      <td>0.12790</td>\n",
       "      <td>0.2069</td>\n",
       "      <td>0.05999</td>\n",
       "      <td>...</td>\n",
       "      <td>25.53</td>\n",
       "      <td>152.50</td>\n",
       "      <td>1709.0</td>\n",
       "      <td>0.1444</td>\n",
       "      <td>0.4245</td>\n",
       "      <td>0.4504</td>\n",
       "      <td>0.2430</td>\n",
       "      <td>0.3613</td>\n",
       "      <td>0.08758</td>\n",
       "      <td>0</td>\n",
       "    </tr>\n",
       "    <tr>\n",
       "      <th>3</th>\n",
       "      <td>11.42</td>\n",
       "      <td>20.38</td>\n",
       "      <td>77.58</td>\n",
       "      <td>386.1</td>\n",
       "      <td>0.14250</td>\n",
       "      <td>0.28390</td>\n",
       "      <td>0.2414</td>\n",
       "      <td>0.10520</td>\n",
       "      <td>0.2597</td>\n",
       "      <td>0.09744</td>\n",
       "      <td>...</td>\n",
       "      <td>26.50</td>\n",
       "      <td>98.87</td>\n",
       "      <td>567.7</td>\n",
       "      <td>0.2098</td>\n",
       "      <td>0.8663</td>\n",
       "      <td>0.6869</td>\n",
       "      <td>0.2575</td>\n",
       "      <td>0.6638</td>\n",
       "      <td>0.17300</td>\n",
       "      <td>0</td>\n",
       "    </tr>\n",
       "    <tr>\n",
       "      <th>4</th>\n",
       "      <td>20.29</td>\n",
       "      <td>14.34</td>\n",
       "      <td>135.10</td>\n",
       "      <td>1297.0</td>\n",
       "      <td>0.10030</td>\n",
       "      <td>0.13280</td>\n",
       "      <td>0.1980</td>\n",
       "      <td>0.10430</td>\n",
       "      <td>0.1809</td>\n",
       "      <td>0.05883</td>\n",
       "      <td>...</td>\n",
       "      <td>16.67</td>\n",
       "      <td>152.20</td>\n",
       "      <td>1575.0</td>\n",
       "      <td>0.1374</td>\n",
       "      <td>0.2050</td>\n",
       "      <td>0.4000</td>\n",
       "      <td>0.1625</td>\n",
       "      <td>0.2364</td>\n",
       "      <td>0.07678</td>\n",
       "      <td>0</td>\n",
       "    </tr>\n",
       "  </tbody>\n",
       "</table>\n",
       "<p>5 rows × 31 columns</p>\n",
       "</div>"
      ],
      "text/plain": [
       "   mean radius  mean texture  mean perimeter  mean area  mean smoothness  \\\n",
       "0        17.99         10.38          122.80     1001.0          0.11840   \n",
       "1        20.57         17.77          132.90     1326.0          0.08474   \n",
       "2        19.69         21.25          130.00     1203.0          0.10960   \n",
       "3        11.42         20.38           77.58      386.1          0.14250   \n",
       "4        20.29         14.34          135.10     1297.0          0.10030   \n",
       "\n",
       "   mean compactness  mean concavity  mean concave points  mean symmetry  \\\n",
       "0           0.27760          0.3001              0.14710         0.2419   \n",
       "1           0.07864          0.0869              0.07017         0.1812   \n",
       "2           0.15990          0.1974              0.12790         0.2069   \n",
       "3           0.28390          0.2414              0.10520         0.2597   \n",
       "4           0.13280          0.1980              0.10430         0.1809   \n",
       "\n",
       "   mean fractal dimension  ...  worst texture  worst perimeter  worst area  \\\n",
       "0                 0.07871  ...          17.33           184.60      2019.0   \n",
       "1                 0.05667  ...          23.41           158.80      1956.0   \n",
       "2                 0.05999  ...          25.53           152.50      1709.0   \n",
       "3                 0.09744  ...          26.50            98.87       567.7   \n",
       "4                 0.05883  ...          16.67           152.20      1575.0   \n",
       "\n",
       "   worst smoothness  worst compactness  worst concavity  worst concave points  \\\n",
       "0            0.1622             0.6656           0.7119                0.2654   \n",
       "1            0.1238             0.1866           0.2416                0.1860   \n",
       "2            0.1444             0.4245           0.4504                0.2430   \n",
       "3            0.2098             0.8663           0.6869                0.2575   \n",
       "4            0.1374             0.2050           0.4000                0.1625   \n",
       "\n",
       "   worst symmetry  worst fractal dimension  target  \n",
       "0          0.4601                  0.11890       0  \n",
       "1          0.2750                  0.08902       0  \n",
       "2          0.3613                  0.08758       0  \n",
       "3          0.6638                  0.17300       0  \n",
       "4          0.2364                  0.07678       0  \n",
       "\n",
       "[5 rows x 31 columns]"
      ]
     },
     "execution_count": 2,
     "metadata": {},
     "output_type": "execute_result"
    }
   ],
   "source": [
    "from sklearn.datasets import load_breast_cancer\n",
    "cancer = load_breast_cancer()\n",
    "df = pd.DataFrame(cancer.data, columns=cancer.feature_names)\n",
    "df['target'] = cancer.target\n",
    "df.head()"
   ]
  },
  {
   "cell_type": "code",
   "execution_count": 3,
   "metadata": {},
   "outputs": [
    {
     "data": {
      "text/plain": [
       "(569, 31)"
      ]
     },
     "execution_count": 3,
     "metadata": {},
     "output_type": "execute_result"
    }
   ],
   "source": [
    "df.shape"
   ]
  },
  {
   "cell_type": "markdown",
   "metadata": {},
   "source": [
    "### 1. 데이터를 정규/표준화 하지 않은 경우"
   ]
  },
  {
   "cell_type": "code",
   "execution_count": 4,
   "metadata": {},
   "outputs": [],
   "source": [
    "from sklearn.model_selection import train_test_split\n",
    "X_train, X_test, y_train, y_test = train_test_split(\n",
    "    cancer.data, cancer.target, stratify=cancer.target,\n",
    "    test_size=0.2, random_state=2022\n",
    ")"
   ]
  },
  {
   "cell_type": "markdown",
   "metadata": {},
   "source": [
    "- 모델 정의"
   ]
  },
  {
   "cell_type": "code",
   "execution_count": 5,
   "metadata": {},
   "outputs": [],
   "source": [
    "from tensorflow.keras.models import Sequential\n",
    "from tensorflow.keras.layers import Dense           # Fully Connected Network"
   ]
  },
  {
   "cell_type": "code",
   "execution_count": 7,
   "metadata": {},
   "outputs": [
    {
     "name": "stdout",
     "output_type": "stream",
     "text": [
      "Model: \"sequential\"\n",
      "_________________________________________________________________\n",
      "Layer (type)                 Output Shape              Param #   \n",
      "=================================================================\n",
      "dense (Dense)                (None, 100)               3100      \n",
      "_________________________________________________________________\n",
      "dense_1 (Dense)              (None, 24)                2424      \n",
      "_________________________________________________________________\n",
      "dense_2 (Dense)              (None, 1)                 25        \n",
      "=================================================================\n",
      "Total params: 5,549\n",
      "Trainable params: 5,549\n",
      "Non-trainable params: 0\n",
      "_________________________________________________________________\n"
     ]
    }
   ],
   "source": [
    "model = Sequential([\n",
    "    Dense(100, input_shape = (30, ),  activation='relu'),\n",
    "    Dense(24, activation='relu'),\n",
    "    Dense(1, activation='sigmoid')\n",
    "])\n",
    "model.summary()"
   ]
  },
  {
   "cell_type": "markdown",
   "metadata": {},
   "source": [
    "- 모델 설정(컴파일)"
   ]
  },
  {
   "cell_type": "code",
   "execution_count": 8,
   "metadata": {},
   "outputs": [],
   "source": [
    "model.compile(optimizer='adam', loss='binary_crossentropy', metrics=['accuracy'])"
   ]
  },
  {
   "cell_type": "markdown",
   "metadata": {},
   "source": [
    "- 모델 학슴"
   ]
  },
  {
   "cell_type": "code",
   "execution_count": 9,
   "metadata": {},
   "outputs": [
    {
     "name": "stdout",
     "output_type": "stream",
     "text": [
      "Train on 364 samples, validate on 91 samples\n",
      "Epoch 1/100\n",
      "364/364 [==============================] - 2s 6ms/sample - loss: 16.4931 - accuracy: 0.3791 - val_loss: 1.1200 - val_accuracy: 0.4396\n",
      "Epoch 2/100\n",
      "364/364 [==============================] - 0s 110us/sample - loss: 5.0741 - accuracy: 0.5934 - val_loss: 6.0919 - val_accuracy: 0.6593\n",
      "Epoch 3/100\n",
      "364/364 [==============================] - 0s 151us/sample - loss: 3.5885 - accuracy: 0.6676 - val_loss: 2.3741 - val_accuracy: 0.3626\n",
      "Epoch 4/100\n",
      "364/364 [==============================] - 0s 151us/sample - loss: 3.1065 - accuracy: 0.3819 - val_loss: 2.8245 - val_accuracy: 0.3626\n",
      "Epoch 5/100\n",
      "364/364 [==============================] - 0s 154us/sample - loss: 1.3693 - accuracy: 0.6044 - val_loss: 0.8931 - val_accuracy: 0.8242\n",
      "Epoch 6/100\n",
      "364/364 [==============================] - 0s 137us/sample - loss: 1.5136 - accuracy: 0.7967 - val_loss: 1.0400 - val_accuracy: 0.8462\n",
      "Epoch 7/100\n",
      "364/364 [==============================] - 0s 181us/sample - loss: 0.7680 - accuracy: 0.8819 - val_loss: 0.6952 - val_accuracy: 0.8462\n",
      "Epoch 8/100\n",
      "364/364 [==============================] - 0s 148us/sample - loss: 0.7842 - accuracy: 0.7830 - val_loss: 0.7172 - val_accuracy: 0.8022\n",
      "Epoch 9/100\n",
      "364/364 [==============================] - 0s 110us/sample - loss: 0.4516 - accuracy: 0.8571 - val_loss: 0.4183 - val_accuracy: 0.9121\n",
      "Epoch 10/100\n",
      "364/364 [==============================] - 0s 143us/sample - loss: 0.4530 - accuracy: 0.9038 - val_loss: 0.4166 - val_accuracy: 0.9121\n",
      "Epoch 11/100\n",
      "364/364 [==============================] - 0s 170us/sample - loss: 0.3169 - accuracy: 0.9203 - val_loss: 0.3894 - val_accuracy: 0.8681\n",
      "Epoch 12/100\n",
      "364/364 [==============================] - 0s 140us/sample - loss: 0.3599 - accuracy: 0.8819 - val_loss: 0.3694 - val_accuracy: 0.8681\n",
      "Epoch 13/100\n",
      "364/364 [==============================] - 0s 129us/sample - loss: 0.2563 - accuracy: 0.9203 - val_loss: 0.3627 - val_accuracy: 0.9011\n",
      "Epoch 14/100\n",
      "364/364 [==============================] - 0s 115us/sample - loss: 0.2728 - accuracy: 0.9231 - val_loss: 0.3326 - val_accuracy: 0.9121\n",
      "Epoch 15/100\n",
      "364/364 [==============================] - 0s 110us/sample - loss: 0.2292 - accuracy: 0.9176 - val_loss: 0.3470 - val_accuracy: 0.8901\n",
      "Epoch 16/100\n",
      "364/364 [==============================] - 0s 157us/sample - loss: 0.2376 - accuracy: 0.9093 - val_loss: 0.3378 - val_accuracy: 0.9011\n",
      "Epoch 17/100\n",
      "364/364 [==============================] - 0s 118us/sample - loss: 0.2329 - accuracy: 0.9258 - val_loss: 0.3308 - val_accuracy: 0.9011\n",
      "Epoch 18/100\n",
      "364/364 [==============================] - 0s 137us/sample - loss: 0.2226 - accuracy: 0.9203 - val_loss: 0.3369 - val_accuracy: 0.8901\n",
      "Epoch 19/100\n",
      "364/364 [==============================] - 0s 110us/sample - loss: 0.2176 - accuracy: 0.9176 - val_loss: 0.3260 - val_accuracy: 0.9011\n",
      "Epoch 20/100\n",
      "364/364 [==============================] - 0s 118us/sample - loss: 0.2207 - accuracy: 0.9341 - val_loss: 0.3258 - val_accuracy: 0.9011\n",
      "Epoch 21/100\n",
      "364/364 [==============================] - 0s 126us/sample - loss: 0.2077 - accuracy: 0.9286 - val_loss: 0.3197 - val_accuracy: 0.9121\n",
      "Epoch 22/100\n",
      "364/364 [==============================] - 0s 129us/sample - loss: 0.2052 - accuracy: 0.9231 - val_loss: 0.3157 - val_accuracy: 0.9121\n",
      "Epoch 23/100\n",
      "364/364 [==============================] - 0s 126us/sample - loss: 0.2009 - accuracy: 0.9258 - val_loss: 0.3136 - val_accuracy: 0.9011\n",
      "Epoch 24/100\n",
      "364/364 [==============================] - 0s 126us/sample - loss: 0.2045 - accuracy: 0.9286 - val_loss: 0.3098 - val_accuracy: 0.9121\n",
      "Epoch 25/100\n",
      "364/364 [==============================] - 0s 143us/sample - loss: 0.1993 - accuracy: 0.9258 - val_loss: 0.3093 - val_accuracy: 0.9121\n",
      "Epoch 26/100\n",
      "364/364 [==============================] - 0s 104us/sample - loss: 0.2022 - accuracy: 0.9258 - val_loss: 0.3099 - val_accuracy: 0.9121\n",
      "Epoch 27/100\n",
      "364/364 [==============================] - 0s 124us/sample - loss: 0.1994 - accuracy: 0.9258 - val_loss: 0.3144 - val_accuracy: 0.9231\n",
      "Epoch 28/100\n",
      "364/364 [==============================] - 0s 140us/sample - loss: 0.2013 - accuracy: 0.9231 - val_loss: 0.3067 - val_accuracy: 0.9011\n",
      "Epoch 29/100\n",
      "364/364 [==============================] - 0s 115us/sample - loss: 0.1938 - accuracy: 0.9258 - val_loss: 0.3086 - val_accuracy: 0.9121\n",
      "Epoch 30/100\n",
      "364/364 [==============================] - 0s 124us/sample - loss: 0.1910 - accuracy: 0.9286 - val_loss: 0.3042 - val_accuracy: 0.8901\n",
      "Epoch 31/100\n",
      "364/364 [==============================] - 0s 129us/sample - loss: 0.2046 - accuracy: 0.9258 - val_loss: 0.3012 - val_accuracy: 0.9121\n",
      "Epoch 32/100\n",
      "364/364 [==============================] - 0s 102us/sample - loss: 0.1950 - accuracy: 0.9258 - val_loss: 0.3061 - val_accuracy: 0.9231\n",
      "Epoch 33/100\n",
      "364/364 [==============================] - ETA: 0s - loss: 0.2222 - accuracy: 0.91 - 0s 135us/sample - loss: 0.1917 - accuracy: 0.9286 - val_loss: 0.2988 - val_accuracy: 0.9011\n",
      "Epoch 34/100\n",
      "364/364 [==============================] - 0s 102us/sample - loss: 0.1921 - accuracy: 0.9231 - val_loss: 0.3018 - val_accuracy: 0.9231\n",
      "Epoch 35/100\n",
      "364/364 [==============================] - 0s 96us/sample - loss: 0.1882 - accuracy: 0.9313 - val_loss: 0.2969 - val_accuracy: 0.9011\n",
      "Epoch 36/100\n",
      "364/364 [==============================] - 0s 189us/sample - loss: 0.1964 - accuracy: 0.9286 - val_loss: 0.2925 - val_accuracy: 0.9231\n",
      "Epoch 37/100\n",
      "364/364 [==============================] - 0s 135us/sample - loss: 0.1826 - accuracy: 0.9286 - val_loss: 0.2890 - val_accuracy: 0.9011\n",
      "Epoch 38/100\n",
      "364/364 [==============================] - 0s 151us/sample - loss: 0.1819 - accuracy: 0.9341 - val_loss: 0.2876 - val_accuracy: 0.9231\n",
      "Epoch 39/100\n",
      "364/364 [==============================] - 0s 148us/sample - loss: 0.1825 - accuracy: 0.9286 - val_loss: 0.2856 - val_accuracy: 0.9011\n",
      "Epoch 40/100\n",
      "364/364 [==============================] - 0s 107us/sample - loss: 0.1993 - accuracy: 0.9286 - val_loss: 0.2845 - val_accuracy: 0.9231\n",
      "Epoch 41/100\n",
      "364/364 [==============================] - 0s 113us/sample - loss: 0.2147 - accuracy: 0.9203 - val_loss: 0.2848 - val_accuracy: 0.9231\n",
      "Epoch 42/100\n",
      "364/364 [==============================] - 0s 343us/sample - loss: 0.2021 - accuracy: 0.9313 - val_loss: 0.2819 - val_accuracy: 0.9011\n",
      "Epoch 43/100\n",
      "364/364 [==============================] - 0s 231us/sample - loss: 0.1932 - accuracy: 0.9258 - val_loss: 0.3187 - val_accuracy: 0.9121\n",
      "Epoch 44/100\n",
      "364/364 [==============================] - 0s 272us/sample - loss: 0.2157 - accuracy: 0.9066 - val_loss: 0.2848 - val_accuracy: 0.9011\n",
      "Epoch 45/100\n",
      "364/364 [==============================] - 0s 167us/sample - loss: 0.1924 - accuracy: 0.9313 - val_loss: 0.2997 - val_accuracy: 0.9121\n",
      "Epoch 46/100\n",
      "364/364 [==============================] - 0s 176us/sample - loss: 0.1755 - accuracy: 0.9368 - val_loss: 0.2810 - val_accuracy: 0.9011\n",
      "Epoch 47/100\n",
      "364/364 [==============================] - 0s 140us/sample - loss: 0.1805 - accuracy: 0.9341 - val_loss: 0.2908 - val_accuracy: 0.9121\n",
      "Epoch 48/100\n",
      "364/364 [==============================] - 0s 132us/sample - loss: 0.1813 - accuracy: 0.9258 - val_loss: 0.2729 - val_accuracy: 0.8901\n",
      "Epoch 49/100\n",
      "364/364 [==============================] - 0s 129us/sample - loss: 0.1926 - accuracy: 0.9286 - val_loss: 0.2692 - val_accuracy: 0.9231\n",
      "Epoch 50/100\n",
      "364/364 [==============================] - 0s 162us/sample - loss: 0.1893 - accuracy: 0.9258 - val_loss: 0.2721 - val_accuracy: 0.9231\n",
      "Epoch 51/100\n",
      "364/364 [==============================] - 0s 113us/sample - loss: 0.1742 - accuracy: 0.9313 - val_loss: 0.2645 - val_accuracy: 0.9011\n",
      "Epoch 52/100\n",
      "364/364 [==============================] - 0s 115us/sample - loss: 0.1674 - accuracy: 0.9396 - val_loss: 0.2823 - val_accuracy: 0.9121\n",
      "Epoch 53/100\n",
      "364/364 [==============================] - 0s 126us/sample - loss: 0.1767 - accuracy: 0.9258 - val_loss: 0.2649 - val_accuracy: 0.9011\n",
      "Epoch 54/100\n",
      "364/364 [==============================] - 0s 170us/sample - loss: 0.1746 - accuracy: 0.9368 - val_loss: 0.2625 - val_accuracy: 0.9121\n",
      "Epoch 55/100\n",
      "364/364 [==============================] - 0s 129us/sample - loss: 0.1777 - accuracy: 0.9286 - val_loss: 0.2664 - val_accuracy: 0.9231\n",
      "Epoch 56/100\n",
      "364/364 [==============================] - 0s 541us/sample - loss: 0.1670 - accuracy: 0.9368 - val_loss: 0.2596 - val_accuracy: 0.9231\n",
      "Epoch 57/100\n",
      "364/364 [==============================] - 0s 297us/sample - loss: 0.1713 - accuracy: 0.9286 - val_loss: 0.2635 - val_accuracy: 0.9231\n",
      "Epoch 58/100\n",
      "364/364 [==============================] - 0s 181us/sample - loss: 0.1676 - accuracy: 0.9341 - val_loss: 0.2557 - val_accuracy: 0.9121\n",
      "Epoch 59/100\n",
      "364/364 [==============================] - 0s 162us/sample - loss: 0.1741 - accuracy: 0.9286 - val_loss: 0.2608 - val_accuracy: 0.9231\n",
      "Epoch 60/100\n",
      "364/364 [==============================] - 0s 318us/sample - loss: 0.1583 - accuracy: 0.9396 - val_loss: 0.2547 - val_accuracy: 0.9011\n",
      "Epoch 61/100\n",
      "364/364 [==============================] - 0s 181us/sample - loss: 0.1655 - accuracy: 0.9423 - val_loss: 0.2649 - val_accuracy: 0.9121\n",
      "Epoch 62/100\n",
      "364/364 [==============================] - 0s 187us/sample - loss: 0.1639 - accuracy: 0.9286 - val_loss: 0.2509 - val_accuracy: 0.9121\n",
      "Epoch 63/100\n",
      "364/364 [==============================] - 0s 176us/sample - loss: 0.1714 - accuracy: 0.9505 - val_loss: 0.2570 - val_accuracy: 0.9231\n",
      "Epoch 64/100\n",
      "364/364 [==============================] - 0s 181us/sample - loss: 0.1653 - accuracy: 0.9258 - val_loss: 0.2445 - val_accuracy: 0.9121\n",
      "Epoch 65/100\n",
      "364/364 [==============================] - 0s 129us/sample - loss: 0.1687 - accuracy: 0.9423 - val_loss: 0.2479 - val_accuracy: 0.9231\n",
      "Epoch 66/100\n",
      "364/364 [==============================] - 0s 135us/sample - loss: 0.1577 - accuracy: 0.9341 - val_loss: 0.2488 - val_accuracy: 0.9231\n",
      "Epoch 67/100\n",
      "364/364 [==============================] - 0s 157us/sample - loss: 0.1707 - accuracy: 0.9368 - val_loss: 0.2496 - val_accuracy: 0.9231\n",
      "Epoch 68/100\n",
      "364/364 [==============================] - 0s 244us/sample - loss: 0.1578 - accuracy: 0.9313 - val_loss: 0.2475 - val_accuracy: 0.9231\n",
      "Epoch 69/100\n",
      "364/364 [==============================] - 0s 220us/sample - loss: 0.1545 - accuracy: 0.9396 - val_loss: 0.2397 - val_accuracy: 0.9121\n",
      "Epoch 70/100\n",
      "364/364 [==============================] - 0s 170us/sample - loss: 0.1583 - accuracy: 0.9368 - val_loss: 0.2500 - val_accuracy: 0.9231\n",
      "Epoch 71/100\n",
      "364/364 [==============================] - 0s 220us/sample - loss: 0.1589 - accuracy: 0.9451 - val_loss: 0.2394 - val_accuracy: 0.9231\n",
      "Epoch 72/100\n",
      "364/364 [==============================] - 0s 209us/sample - loss: 0.1614 - accuracy: 0.9423 - val_loss: 0.2501 - val_accuracy: 0.9231\n",
      "Epoch 73/100\n",
      "364/364 [==============================] - 0s 332us/sample - loss: 0.1801 - accuracy: 0.9313 - val_loss: 0.2438 - val_accuracy: 0.9231\n",
      "Epoch 74/100\n",
      "364/364 [==============================] - 0s 379us/sample - loss: 0.1679 - accuracy: 0.9286 - val_loss: 0.2365 - val_accuracy: 0.9231\n",
      "Epoch 75/100\n",
      "364/364 [==============================] - 0s 297us/sample - loss: 0.1723 - accuracy: 0.9423 - val_loss: 0.2407 - val_accuracy: 0.9231\n",
      "Epoch 76/100\n",
      "364/364 [==============================] - 0s 203us/sample - loss: 0.1698 - accuracy: 0.9286 - val_loss: 0.2290 - val_accuracy: 0.9121\n",
      "Epoch 77/100\n",
      "364/364 [==============================] - 0s 118us/sample - loss: 0.1621 - accuracy: 0.9451 - val_loss: 0.2278 - val_accuracy: 0.9121\n",
      "Epoch 78/100\n",
      "364/364 [==============================] - 0s 146us/sample - loss: 0.1542 - accuracy: 0.9313 - val_loss: 0.2405 - val_accuracy: 0.9231\n",
      "Epoch 79/100\n",
      "364/364 [==============================] - 0s 184us/sample - loss: 0.1705 - accuracy: 0.9396 - val_loss: 0.2370 - val_accuracy: 0.9231\n",
      "Epoch 80/100\n",
      "364/364 [==============================] - 0s 181us/sample - loss: 0.1776 - accuracy: 0.9231 - val_loss: 0.2286 - val_accuracy: 0.9121\n",
      "Epoch 81/100\n",
      "364/364 [==============================] - 0s 222us/sample - loss: 0.1528 - accuracy: 0.9396 - val_loss: 0.2341 - val_accuracy: 0.9231\n",
      "Epoch 82/100\n",
      "364/364 [==============================] - 0s 154us/sample - loss: 0.1481 - accuracy: 0.9423 - val_loss: 0.2509 - val_accuracy: 0.9121\n",
      "Epoch 83/100\n",
      "364/364 [==============================] - 0s 129us/sample - loss: 0.1528 - accuracy: 0.9341 - val_loss: 0.2257 - val_accuracy: 0.9121\n",
      "Epoch 84/100\n",
      "364/364 [==============================] - 0s 162us/sample - loss: 0.1474 - accuracy: 0.9451 - val_loss: 0.2345 - val_accuracy: 0.9231\n",
      "Epoch 85/100\n",
      "364/364 [==============================] - 0s 423us/sample - loss: 0.1511 - accuracy: 0.9396 - val_loss: 0.2207 - val_accuracy: 0.9121\n",
      "Epoch 86/100\n",
      "364/364 [==============================] - 0s 118us/sample - loss: 0.1400 - accuracy: 0.9423 - val_loss: 0.2568 - val_accuracy: 0.9121\n",
      "Epoch 87/100\n",
      "364/364 [==============================] - 0s 132us/sample - loss: 0.1550 - accuracy: 0.9341 - val_loss: 0.2201 - val_accuracy: 0.9121\n",
      "Epoch 88/100\n",
      "364/364 [==============================] - 0s 192us/sample - loss: 0.1359 - accuracy: 0.9533 - val_loss: 0.2678 - val_accuracy: 0.9011\n",
      "Epoch 89/100\n",
      "364/364 [==============================] - 0s 148us/sample - loss: 0.1541 - accuracy: 0.9396 - val_loss: 0.2196 - val_accuracy: 0.9121\n",
      "Epoch 90/100\n",
      "364/364 [==============================] - 0s 165us/sample - loss: 0.1583 - accuracy: 0.9313 - val_loss: 0.2285 - val_accuracy: 0.9231\n",
      "Epoch 91/100\n",
      "364/364 [==============================] - 0s 167us/sample - loss: 0.1481 - accuracy: 0.9533 - val_loss: 0.2158 - val_accuracy: 0.9121\n",
      "Epoch 92/100\n",
      "364/364 [==============================] - 0s 113us/sample - loss: 0.1357 - accuracy: 0.9396 - val_loss: 0.2431 - val_accuracy: 0.9121\n",
      "Epoch 93/100\n",
      "364/364 [==============================] - 0s 115us/sample - loss: 0.1468 - accuracy: 0.9396 - val_loss: 0.2149 - val_accuracy: 0.9121\n",
      "Epoch 94/100\n",
      "364/364 [==============================] - 0s 143us/sample - loss: 0.1509 - accuracy: 0.9368 - val_loss: 0.2201 - val_accuracy: 0.9231\n",
      "Epoch 95/100\n",
      "364/364 [==============================] - 0s 115us/sample - loss: 0.1601 - accuracy: 0.9423 - val_loss: 0.2226 - val_accuracy: 0.9231\n",
      "Epoch 96/100\n",
      "364/364 [==============================] - 0s 132us/sample - loss: 0.1667 - accuracy: 0.9341 - val_loss: 0.2070 - val_accuracy: 0.9231\n",
      "Epoch 97/100\n",
      "364/364 [==============================] - 0s 154us/sample - loss: 0.1714 - accuracy: 0.9396 - val_loss: 0.2386 - val_accuracy: 0.9121\n",
      "Epoch 98/100\n",
      "364/364 [==============================] - 0s 135us/sample - loss: 0.1471 - accuracy: 0.9341 - val_loss: 0.2091 - val_accuracy: 0.9231\n",
      "Epoch 99/100\n",
      "364/364 [==============================] - 0s 115us/sample - loss: 0.1644 - accuracy: 0.9368 - val_loss: 0.2587 - val_accuracy: 0.9121\n",
      "Epoch 100/100\n",
      "364/364 [==============================] - 0s 132us/sample - loss: 0.1563 - accuracy: 0.9313 - val_loss: 0.2074 - val_accuracy: 0.9121\n"
     ]
    }
   ],
   "source": [
    "history = model.fit(X_train, y_train, validation_split=0.2,\n",
    "                                epochs=100, batch_size=100)"
   ]
  },
  {
   "cell_type": "markdown",
   "metadata": {},
   "source": [
    "- 모델 평가"
   ]
  },
  {
   "cell_type": "code",
   "execution_count": 10,
   "metadata": {},
   "outputs": [
    {
     "name": "stdout",
     "output_type": "stream",
     "text": [
      "114/114 [==============================] - 0s 184us/sample - loss: 0.2270 - accuracy: 0.9035\n"
     ]
    },
    {
     "data": {
      "text/plain": [
       "[0.22698267144069337, 0.9035088]"
      ]
     },
     "execution_count": 10,
     "metadata": {},
     "output_type": "execute_result"
    }
   ],
   "source": [
    "model.evaluate(X_test, y_test)"
   ]
  },
  {
   "cell_type": "markdown",
   "metadata": {},
   "source": [
    "- 훈련과정 시각화: epoch에 따른 accuracy, val_loss의 변화"
   ]
  },
  {
   "cell_type": "code",
   "execution_count": 11,
   "metadata": {},
   "outputs": [],
   "source": [
    "y_acc = history.history['accuracy']\n",
    "y_vloss = history.history['val_loss']\n",
    "xs = np.arange(1, len(y_acc)+1)"
   ]
  },
  {
   "cell_type": "code",
   "execution_count": 12,
   "metadata": {},
   "outputs": [
    {
     "data": {
      "image/png": "[encoded data removed]",
      "text/plain": [
       "<Figure size 864x576 with 1 Axes>"
      ]
     },
     "metadata": {
      "needs_background": "light"
     },
     "output_type": "display_data"
    }
   ],
   "source": [
    "plt.figure(figsize=(12, 8))\n",
    "plt.plot(xs, y_acc, label='train accuracy')\n",
    "plt.plot(xs, y_vloss, label='validataion loss')\n",
    "plt.legend(), plt.grid()\n",
    "plt.ylim([0, 1])\n",
    "plt.xlabel('Epoch')\n",
    "plt.title('No feature transform')\n",
    "plt.show()"
   ]
  },
  {
   "cell_type": "markdown",
   "metadata": {},
   "source": [
    "### 2. 데이터를 정규/표준화한 경우"
   ]
  },
  {
   "cell_type": "code",
   "execution_count": 13,
   "metadata": {},
   "outputs": [],
   "source": [
    "from sklearn.preprocessing import StandardScaler\n",
    "cancer_std = StandardScaler().fit_transform(cancer.data)"
   ]
  },
  {
   "cell_type": "code",
   "execution_count": 14,
   "metadata": {},
   "outputs": [],
   "source": [
    "X_train2, X_test2, y_train2, y_test2 = train_test_split(\n",
    "    cancer_std, cancer.target, stratify=cancer.target,\n",
    "    test_size=0.2, random_state=2022\n",
    ")"
   ]
  },
  {
   "cell_type": "markdown",
   "metadata": {},
   "source": [
    "- 모델 정의"
   ]
  },
  {
   "cell_type": "code",
   "execution_count": 15,
   "metadata": {},
   "outputs": [
    {
     "name": "stdout",
     "output_type": "stream",
     "text": [
      "Model: \"sequential_1\"\n",
      "_________________________________________________________________\n",
      "Layer (type)                 Output Shape              Param #   \n",
      "=================================================================\n",
      "dense_3 (Dense)              (None, 100)               3100      \n",
      "_________________________________________________________________\n",
      "dense_4 (Dense)              (None, 24)                2424      \n",
      "_________________________________________________________________\n",
      "dense_5 (Dense)              (None, 1)                 25        \n",
      "=================================================================\n",
      "Total params: 5,549\n",
      "Trainable params: 5,549\n",
      "Non-trainable params: 0\n",
      "_________________________________________________________________\n"
     ]
    }
   ],
   "source": [
    "model2 = Sequential()\n",
    "model2.add(Dense(100, input_dim=30, activation='relu'))\n",
    "model2.add(Dense(24, activation='relu'))\n",
    "model2.add(Dense(1, activation='sigmoid'))\n",
    "model2.summary()"
   ]
  },
  {
   "cell_type": "markdown",
   "metadata": {},
   "source": [
    "- 모델 설정"
   ]
  },
  {
   "cell_type": "code",
   "execution_count": 16,
   "metadata": {},
   "outputs": [],
   "source": [
    "model2.compile(optimizer='adam', loss='binary_crossentropy', metrics=['accuracy'])"
   ]
  },
  {
   "cell_type": "markdown",
   "metadata": {},
   "source": [
    "- 모델 학습"
   ]
  },
  {
   "cell_type": "code",
   "execution_count": 17,
   "metadata": {},
   "outputs": [
    {
     "name": "stdout",
     "output_type": "stream",
     "text": [
      "Train on 364 samples, validate on 91 samples\n",
      "Epoch 1/100\n",
      "364/364 [==============================] - 1s 3ms/sample - loss: 0.6686 - accuracy: 0.5687 - val_loss: 0.5621 - val_accuracy: 0.8352\n",
      "Epoch 2/100\n",
      "364/364 [==============================] - 0s 148us/sample - loss: 0.5092 - accuracy: 0.8544 - val_loss: 0.4528 - val_accuracy: 0.9011\n",
      "Epoch 3/100\n",
      "364/364 [==============================] - 0s 305us/sample - loss: 0.4001 - accuracy: 0.9121 - val_loss: 0.3721 - val_accuracy: 0.9121\n",
      "Epoch 4/100\n",
      "364/364 [==============================] - 0s 373us/sample - loss: 0.3226 - accuracy: 0.9341 - val_loss: 0.3099 - val_accuracy: 0.9121\n",
      "Epoch 5/100\n",
      "364/364 [==============================] - 0s 316us/sample - loss: 0.2642 - accuracy: 0.9368 - val_loss: 0.2629 - val_accuracy: 0.9231\n",
      "Epoch 6/100\n",
      "364/364 [==============================] - 0s 280us/sample - loss: 0.2201 - accuracy: 0.9423 - val_loss: 0.2291 - val_accuracy: 0.9231\n",
      "Epoch 7/100\n",
      "364/364 [==============================] - 0s 236us/sample - loss: 0.1873 - accuracy: 0.9451 - val_loss: 0.2032 - val_accuracy: 0.9231\n",
      "Epoch 8/100\n",
      "364/364 [==============================] - 0s 192us/sample - loss: 0.1621 - accuracy: 0.9560 - val_loss: 0.1831 - val_accuracy: 0.9341\n",
      "Epoch 9/100\n",
      "364/364 [==============================] - 0s 264us/sample - loss: 0.1429 - accuracy: 0.9615 - val_loss: 0.1674 - val_accuracy: 0.9341\n",
      "Epoch 10/100\n",
      "364/364 [==============================] - 0s 184us/sample - loss: 0.1270 - accuracy: 0.9670 - val_loss: 0.1551 - val_accuracy: 0.9451\n",
      "Epoch 11/100\n",
      "364/364 [==============================] - 0s 253us/sample - loss: 0.1143 - accuracy: 0.9698 - val_loss: 0.1452 - val_accuracy: 0.9451\n",
      "Epoch 12/100\n",
      "364/364 [==============================] - 0s 258us/sample - loss: 0.1039 - accuracy: 0.9753 - val_loss: 0.1374 - val_accuracy: 0.9560\n",
      "Epoch 13/100\n",
      "364/364 [==============================] - 0s 165us/sample - loss: 0.0949 - accuracy: 0.9835 - val_loss: 0.1313 - val_accuracy: 0.9560\n",
      "Epoch 14/100\n",
      "364/364 [==============================] - 0s 165us/sample - loss: 0.0870 - accuracy: 0.9863 - val_loss: 0.1261 - val_accuracy: 0.9560\n",
      "Epoch 15/100\n",
      "364/364 [==============================] - 0s 299us/sample - loss: 0.0818 - accuracy: 0.9835 - val_loss: 0.1224 - val_accuracy: 0.9560\n",
      "Epoch 16/100\n",
      "364/364 [==============================] - 0s 203us/sample - loss: 0.0763 - accuracy: 0.9835 - val_loss: 0.1191 - val_accuracy: 0.9560\n",
      "Epoch 17/100\n",
      "364/364 [==============================] - 0s 214us/sample - loss: 0.0722 - accuracy: 0.9835 - val_loss: 0.1158 - val_accuracy: 0.9560\n",
      "Epoch 18/100\n",
      "364/364 [==============================] - 0s 327us/sample - loss: 0.0682 - accuracy: 0.9835 - val_loss: 0.1131 - val_accuracy: 0.9560\n",
      "Epoch 19/100\n",
      "364/364 [==============================] - 0s 217us/sample - loss: 0.0648 - accuracy: 0.9808 - val_loss: 0.1112 - val_accuracy: 0.9560\n",
      "Epoch 20/100\n",
      "364/364 [==============================] - 0s 203us/sample - loss: 0.0621 - accuracy: 0.9808 - val_loss: 0.1099 - val_accuracy: 0.9560\n",
      "Epoch 21/100\n",
      "364/364 [==============================] - 0s 313us/sample - loss: 0.0591 - accuracy: 0.9835 - val_loss: 0.1079 - val_accuracy: 0.9560\n",
      "Epoch 22/100\n",
      "364/364 [==============================] - 0s 189us/sample - loss: 0.0568 - accuracy: 0.9835 - val_loss: 0.1059 - val_accuracy: 0.9560\n",
      "Epoch 23/100\n",
      "364/364 [==============================] - 0s 211us/sample - loss: 0.0544 - accuracy: 0.9835 - val_loss: 0.1039 - val_accuracy: 0.9560\n",
      "Epoch 24/100\n",
      "364/364 [==============================] - 0s 253us/sample - loss: 0.0524 - accuracy: 0.9863 - val_loss: 0.1018 - val_accuracy: 0.9560\n",
      "Epoch 25/100\n",
      "364/364 [==============================] - 0s 294us/sample - loss: 0.0503 - accuracy: 0.9863 - val_loss: 0.1004 - val_accuracy: 0.9560\n",
      "Epoch 26/100\n",
      "364/364 [==============================] - 0s 203us/sample - loss: 0.0483 - accuracy: 0.9863 - val_loss: 0.0992 - val_accuracy: 0.9560\n",
      "Epoch 27/100\n",
      "364/364 [==============================] - 0s 159us/sample - loss: 0.0466 - accuracy: 0.9863 - val_loss: 0.0989 - val_accuracy: 0.9670\n",
      "Epoch 28/100\n",
      "364/364 [==============================] - 0s 239us/sample - loss: 0.0449 - accuracy: 0.9863 - val_loss: 0.0988 - val_accuracy: 0.9670\n",
      "Epoch 29/100\n",
      "364/364 [==============================] - 0s 170us/sample - loss: 0.0434 - accuracy: 0.9863 - val_loss: 0.0976 - val_accuracy: 0.9670\n",
      "Epoch 30/100\n",
      "364/364 [==============================] - 0s 253us/sample - loss: 0.0419 - accuracy: 0.9863 - val_loss: 0.0967 - val_accuracy: 0.9670\n",
      "Epoch 31/100\n",
      "364/364 [==============================] - 0s 146us/sample - loss: 0.0404 - accuracy: 0.9890 - val_loss: 0.0958 - val_accuracy: 0.9670\n",
      "Epoch 32/100\n",
      "364/364 [==============================] - 0s 228us/sample - loss: 0.0388 - accuracy: 0.9890 - val_loss: 0.0961 - val_accuracy: 0.9560\n",
      "Epoch 33/100\n",
      "364/364 [==============================] - 0s 266us/sample - loss: 0.0375 - accuracy: 0.9890 - val_loss: 0.0960 - val_accuracy: 0.9560\n",
      "Epoch 34/100\n",
      "364/364 [==============================] - ETA: 0s - loss: 0.0134 - accuracy: 1.00 - 0s 231us/sample - loss: 0.0361 - accuracy: 0.9890 - val_loss: 0.0950 - val_accuracy: 0.9670\n",
      "Epoch 35/100\n",
      "364/364 [==============================] - 0s 601us/sample - loss: 0.0349 - accuracy: 0.9890 - val_loss: 0.0940 - val_accuracy: 0.9670\n",
      "Epoch 36/100\n",
      "364/364 [==============================] - 0s 231us/sample - loss: 0.0335 - accuracy: 0.9890 - val_loss: 0.0933 - val_accuracy: 0.9670\n",
      "Epoch 37/100\n",
      "364/364 [==============================] - 0s 239us/sample - loss: 0.0326 - accuracy: 0.9918 - val_loss: 0.0929 - val_accuracy: 0.9670\n",
      "Epoch 38/100\n",
      "364/364 [==============================] - 0s 135us/sample - loss: 0.0314 - accuracy: 0.9918 - val_loss: 0.0920 - val_accuracy: 0.9670\n",
      "Epoch 39/100\n",
      "364/364 [==============================] - 0s 154us/sample - loss: 0.0302 - accuracy: 0.9918 - val_loss: 0.0921 - val_accuracy: 0.9670\n",
      "Epoch 40/100\n",
      "364/364 [==============================] - 0s 135us/sample - loss: 0.0292 - accuracy: 0.9918 - val_loss: 0.0918 - val_accuracy: 0.9670\n",
      "Epoch 41/100\n",
      "364/364 [==============================] - 0s 198us/sample - loss: 0.0282 - accuracy: 0.9918 - val_loss: 0.0924 - val_accuracy: 0.9670\n",
      "Epoch 42/100\n",
      "364/364 [==============================] - 0s 159us/sample - loss: 0.0271 - accuracy: 0.9918 - val_loss: 0.0922 - val_accuracy: 0.9670\n",
      "Epoch 43/100\n",
      "364/364 [==============================] - 0s 143us/sample - loss: 0.0262 - accuracy: 0.9918 - val_loss: 0.0917 - val_accuracy: 0.9670\n",
      "Epoch 44/100\n",
      "364/364 [==============================] - 0s 132us/sample - loss: 0.0252 - accuracy: 0.9918 - val_loss: 0.0910 - val_accuracy: 0.9670\n",
      "Epoch 45/100\n",
      "364/364 [==============================] - 0s 143us/sample - loss: 0.0242 - accuracy: 0.9918 - val_loss: 0.0909 - val_accuracy: 0.9670\n",
      "Epoch 46/100\n",
      "364/364 [==============================] - 0s 167us/sample - loss: 0.0233 - accuracy: 0.9918 - val_loss: 0.0912 - val_accuracy: 0.9670\n",
      "Epoch 47/100\n",
      "364/364 [==============================] - 0s 541us/sample - loss: 0.0225 - accuracy: 0.9918 - val_loss: 0.0915 - val_accuracy: 0.9670\n",
      "Epoch 48/100\n",
      "364/364 [==============================] - 0s 206us/sample - loss: 0.0218 - accuracy: 0.9918 - val_loss: 0.0918 - val_accuracy: 0.9670\n",
      "Epoch 49/100\n",
      "364/364 [==============================] - 0s 146us/sample - loss: 0.0210 - accuracy: 0.9918 - val_loss: 0.0917 - val_accuracy: 0.9670\n",
      "Epoch 50/100\n",
      "364/364 [==============================] - 0s 231us/sample - loss: 0.0202 - accuracy: 0.9918 - val_loss: 0.0924 - val_accuracy: 0.9560\n",
      "Epoch 51/100\n",
      "364/364 [==============================] - 0s 159us/sample - loss: 0.0195 - accuracy: 0.9945 - val_loss: 0.0921 - val_accuracy: 0.9670\n",
      "Epoch 52/100\n",
      "364/364 [==============================] - 0s 124us/sample - loss: 0.0187 - accuracy: 0.9945 - val_loss: 0.0915 - val_accuracy: 0.9670\n",
      "Epoch 53/100\n",
      "364/364 [==============================] - 0s 148us/sample - loss: 0.0180 - accuracy: 0.9945 - val_loss: 0.0914 - val_accuracy: 0.9670\n",
      "Epoch 54/100\n",
      "364/364 [==============================] - 0s 170us/sample - loss: 0.0174 - accuracy: 0.9973 - val_loss: 0.0912 - val_accuracy: 0.9670\n",
      "Epoch 55/100\n",
      "364/364 [==============================] - 0s 118us/sample - loss: 0.0166 - accuracy: 1.0000 - val_loss: 0.0911 - val_accuracy: 0.9670\n",
      "Epoch 56/100\n",
      "364/364 [==============================] - 0s 165us/sample - loss: 0.0161 - accuracy: 1.0000 - val_loss: 0.0914 - val_accuracy: 0.9670\n",
      "Epoch 57/100\n",
      "364/364 [==============================] - 0s 118us/sample - loss: 0.0155 - accuracy: 1.0000 - val_loss: 0.0913 - val_accuracy: 0.9670\n",
      "Epoch 58/100\n",
      "364/364 [==============================] - 0s 239us/sample - loss: 0.0150 - accuracy: 1.0000 - val_loss: 0.0906 - val_accuracy: 0.9670\n",
      "Epoch 59/100\n",
      "364/364 [==============================] - 0s 118us/sample - loss: 0.0144 - accuracy: 1.0000 - val_loss: 0.0907 - val_accuracy: 0.9670\n",
      "Epoch 60/100\n",
      "364/364 [==============================] - 0s 192us/sample - loss: 0.0139 - accuracy: 1.0000 - val_loss: 0.0907 - val_accuracy: 0.9670\n",
      "Epoch 61/100\n",
      "364/364 [==============================] - 0s 159us/sample - loss: 0.0133 - accuracy: 1.0000 - val_loss: 0.0908 - val_accuracy: 0.9670\n",
      "Epoch 62/100\n",
      "364/364 [==============================] - 0s 198us/sample - loss: 0.0129 - accuracy: 1.0000 - val_loss: 0.0914 - val_accuracy: 0.9670\n",
      "Epoch 63/100\n",
      "364/364 [==============================] - 0s 121us/sample - loss: 0.0124 - accuracy: 1.0000 - val_loss: 0.0921 - val_accuracy: 0.9670\n",
      "Epoch 64/100\n",
      "364/364 [==============================] - 0s 162us/sample - loss: 0.0120 - accuracy: 1.0000 - val_loss: 0.0923 - val_accuracy: 0.9670\n",
      "Epoch 65/100\n",
      "364/364 [==============================] - 0s 217us/sample - loss: 0.0116 - accuracy: 1.0000 - val_loss: 0.0922 - val_accuracy: 0.9670\n",
      "Epoch 66/100\n",
      "364/364 [==============================] - 0s 135us/sample - loss: 0.0111 - accuracy: 1.0000 - val_loss: 0.0924 - val_accuracy: 0.9670\n",
      "Epoch 67/100\n",
      "364/364 [==============================] - 0s 211us/sample - loss: 0.0108 - accuracy: 1.0000 - val_loss: 0.0924 - val_accuracy: 0.9670\n",
      "Epoch 68/100\n",
      "364/364 [==============================] - 0s 162us/sample - loss: 0.0104 - accuracy: 1.0000 - val_loss: 0.0927 - val_accuracy: 0.9670\n",
      "Epoch 69/100\n",
      "364/364 [==============================] - 0s 357us/sample - loss: 0.0100 - accuracy: 1.0000 - val_loss: 0.0926 - val_accuracy: 0.9670\n",
      "Epoch 70/100\n",
      "364/364 [==============================] - 0s 148us/sample - loss: 0.0097 - accuracy: 1.0000 - val_loss: 0.0926 - val_accuracy: 0.9670\n",
      "Epoch 71/100\n",
      "364/364 [==============================] - 0s 143us/sample - loss: 0.0093 - accuracy: 1.0000 - val_loss: 0.0928 - val_accuracy: 0.9670\n",
      "Epoch 72/100\n",
      "364/364 [==============================] - 0s 192us/sample - loss: 0.0091 - accuracy: 1.0000 - val_loss: 0.0932 - val_accuracy: 0.9670\n",
      "Epoch 73/100\n",
      "364/364 [==============================] - 0s 132us/sample - loss: 0.0088 - accuracy: 1.0000 - val_loss: 0.0939 - val_accuracy: 0.9670\n",
      "Epoch 74/100\n",
      "364/364 [==============================] - 0s 222us/sample - loss: 0.0084 - accuracy: 1.0000 - val_loss: 0.0942 - val_accuracy: 0.9670\n",
      "Epoch 75/100\n",
      "364/364 [==============================] - 0s 143us/sample - loss: 0.0082 - accuracy: 1.0000 - val_loss: 0.0945 - val_accuracy: 0.9670\n",
      "Epoch 76/100\n",
      "364/364 [==============================] - 0s 165us/sample - loss: 0.0079 - accuracy: 1.0000 - val_loss: 0.0944 - val_accuracy: 0.9670\n",
      "Epoch 77/100\n",
      "364/364 [==============================] - 0s 137us/sample - loss: 0.0076 - accuracy: 1.0000 - val_loss: 0.0949 - val_accuracy: 0.9670\n",
      "Epoch 78/100\n",
      "364/364 [==============================] - 0s 233us/sample - loss: 0.0074 - accuracy: 1.0000 - val_loss: 0.0950 - val_accuracy: 0.9670\n",
      "Epoch 79/100\n",
      "364/364 [==============================] - 0s 151us/sample - loss: 0.0072 - accuracy: 1.0000 - val_loss: 0.0952 - val_accuracy: 0.9670\n",
      "Epoch 80/100\n",
      "364/364 [==============================] - 0s 146us/sample - loss: 0.0070 - accuracy: 1.0000 - val_loss: 0.0953 - val_accuracy: 0.9670\n",
      "Epoch 81/100\n",
      "364/364 [==============================] - 0s 157us/sample - loss: 0.0067 - accuracy: 1.0000 - val_loss: 0.0953 - val_accuracy: 0.9670\n",
      "Epoch 82/100\n",
      "364/364 [==============================] - 0s 146us/sample - loss: 0.0065 - accuracy: 1.0000 - val_loss: 0.0955 - val_accuracy: 0.9670\n",
      "Epoch 83/100\n",
      "364/364 [==============================] - 0s 170us/sample - loss: 0.0063 - accuracy: 1.0000 - val_loss: 0.0958 - val_accuracy: 0.9670\n",
      "Epoch 84/100\n",
      "364/364 [==============================] - 0s 132us/sample - loss: 0.0061 - accuracy: 1.0000 - val_loss: 0.0961 - val_accuracy: 0.9670\n",
      "Epoch 85/100\n",
      "364/364 [==============================] - 0s 159us/sample - loss: 0.0059 - accuracy: 1.0000 - val_loss: 0.0965 - val_accuracy: 0.9670\n",
      "Epoch 86/100\n",
      "364/364 [==============================] - 0s 135us/sample - loss: 0.0058 - accuracy: 1.0000 - val_loss: 0.0967 - val_accuracy: 0.9670\n",
      "Epoch 87/100\n",
      "364/364 [==============================] - 0s 135us/sample - loss: 0.0056 - accuracy: 1.0000 - val_loss: 0.0971 - val_accuracy: 0.9670\n",
      "Epoch 88/100\n",
      "364/364 [==============================] - 0s 126us/sample - loss: 0.0054 - accuracy: 1.0000 - val_loss: 0.0975 - val_accuracy: 0.9670\n",
      "Epoch 89/100\n",
      "364/364 [==============================] - 0s 162us/sample - loss: 0.0053 - accuracy: 1.0000 - val_loss: 0.0980 - val_accuracy: 0.9670\n",
      "Epoch 90/100\n",
      "364/364 [==============================] - 0s 135us/sample - loss: 0.0051 - accuracy: 1.0000 - val_loss: 0.0987 - val_accuracy: 0.9670\n",
      "Epoch 91/100\n",
      "364/364 [==============================] - 0s 110us/sample - loss: 0.0050 - accuracy: 1.0000 - val_loss: 0.0991 - val_accuracy: 0.9670\n",
      "Epoch 92/100\n",
      "364/364 [==============================] - 0s 129us/sample - loss: 0.0048 - accuracy: 1.0000 - val_loss: 0.0997 - val_accuracy: 0.9670\n",
      "Epoch 93/100\n",
      "364/364 [==============================] - 0s 113us/sample - loss: 0.0047 - accuracy: 1.0000 - val_loss: 0.1002 - val_accuracy: 0.9670\n",
      "Epoch 94/100\n",
      "364/364 [==============================] - 0s 113us/sample - loss: 0.0046 - accuracy: 1.0000 - val_loss: 0.1008 - val_accuracy: 0.9670\n",
      "Epoch 95/100\n",
      "364/364 [==============================] - 0s 146us/sample - loss: 0.0044 - accuracy: 1.0000 - val_loss: 0.1009 - val_accuracy: 0.9670\n",
      "Epoch 96/100\n",
      "364/364 [==============================] - 0s 104us/sample - loss: 0.0043 - accuracy: 1.0000 - val_loss: 0.1010 - val_accuracy: 0.9670\n",
      "Epoch 97/100\n",
      "364/364 [==============================] - 0s 181us/sample - loss: 0.0042 - accuracy: 1.0000 - val_loss: 0.1010 - val_accuracy: 0.9670\n",
      "Epoch 98/100\n",
      "364/364 [==============================] - 0s 110us/sample - loss: 0.0041 - accuracy: 1.0000 - val_loss: 0.1012 - val_accuracy: 0.9670\n",
      "Epoch 99/100\n",
      "364/364 [==============================] - 0s 126us/sample - loss: 0.0040 - accuracy: 1.0000 - val_loss: 0.1013 - val_accuracy: 0.9670\n",
      "Epoch 100/100\n",
      "364/364 [==============================] - 0s 121us/sample - loss: 0.0039 - accuracy: 1.0000 - val_loss: 0.1013 - val_accuracy: 0.9670\n"
     ]
    }
   ],
   "source": [
    "hist2 = model2.fit(X_train2, y_train2, validation_split=0.2,\n",
    "                                epochs=100, batch_size=100)"
   ]
  },
  {
   "cell_type": "markdown",
   "metadata": {},
   "source": [
    "- 모델 평가"
   ]
  },
  {
   "cell_type": "code",
   "execution_count": 18,
   "metadata": {},
   "outputs": [
    {
     "name": "stdout",
     "output_type": "stream",
     "text": [
      "114/114 [==============================] - 0s 210us/sample - loss: 0.0706 - accuracy: 0.9825\n"
     ]
    },
    {
     "data": {
      "text/plain": [
       "[0.07061574536195972, 0.98245615]"
      ]
     },
     "execution_count": 18,
     "metadata": {},
     "output_type": "execute_result"
    }
   ],
   "source": [
    "model2.evaluate(X_test2, y_test2)"
   ]
  },
  {
   "cell_type": "markdown",
   "metadata": {},
   "source": [
    "- 학습과정 시각화"
   ]
  },
  {
   "cell_type": "code",
   "execution_count": 19,
   "metadata": {},
   "outputs": [],
   "source": [
    "y_acc2 = hist2.history['accuracy']\n",
    "y_vloss2 = hist2.history['val_loss']\n",
    "xs = np.arange(1, len(y_acc2)+1)"
   ]
  },
  {
   "cell_type": "code",
   "execution_count": 20,
   "metadata": {},
   "outputs": [
    {
     "data": {
      "image/png": "[encoded data removed]",
      "text/plain": [
       "<Figure size 864x576 with 1 Axes>"
      ]
     },
     "metadata": {
      "needs_background": "light"
     },
     "output_type": "display_data"
    }
   ],
   "source": [
    "plt.figure(figsize=(12, 8))\n",
    "plt.plot(xs, y_acc2, label='train accuracy')\n",
    "plt.plot(xs, y_vloss2, label='validataion loss')\n",
    "plt.legend(), plt.grid()\n",
    "plt.ylim([0, 1.2])\n",
    "plt.xlabel('Epoch')\n",
    "plt.title('After feature transform')\n",
    "plt.show()"
   ]
  }
 ],
 "metadata": {
  "interpreter": {
   "hash": "9f5feb42f08914aecde0ece13ac07afe9f84906579ba918f8c70eb200f669000"
  },
  "kernelspec": {
   "display_name": "Python 3.7.6 ('min')",
   "language": "python",
   "name": "python3"
  },
  "language_info": {
   "codemirror_mode": {
    "name": "ipython",
    "version": 3
   },
   "file_extension": ".py",
   "mimetype": "text/x-python",
   "name": "python",
   "nbconvert_exporter": "python",
   "pygments_lexer": "ipython3",
   "version": "3.7.6"
  },
  "orig_nbformat": 4
 },
 "nbformat": 4,
 "nbformat_minor": 2
}
