{
 "cells": [
  {
   "cell_type": "markdown",
   "metadata": {},
   "source": [
    "# 신경망 모델\n",
    "##  이진분류: 유방암 예측 사례"
   ]
  },
  {
   "cell_type": "code",
   "execution_count": 1,
   "metadata": {},
   "outputs": [],
   "source": [
    "import numpy as np\n",
    "import pandas as pd\n",
    "import matplotlib.pyplot as plt"
   ]
  },
  {
   "cell_type": "markdown",
   "metadata": {},
   "source": [
    "- 데이터 준비"
   ]
  },
  {
   "cell_type": "code",
   "execution_count": 2,
   "metadata": {},
   "outputs": [
    {
     "data": {
      "text/html": [
       "<div>\n",
       "<style scoped>\n",
       "    .dataframe tbody tr th:only-of-type {\n",
       "        vertical-align: middle;\n",
       "    }\n",
       "\n",
       "    .dataframe tbody tr th {\n",
       "        vertical-align: top;\n",
       "    }\n",
       "\n",
       "    .dataframe thead th {\n",
       "        text-align: right;\n",
       "    }\n",
       "</style>\n",
       "<table border=\"1\" class=\"dataframe\">\n",
       "  <thead>\n",
       "    <tr style=\"text-align: right;\">\n",
       "      <th></th>\n",
       "      <th>mean radius</th>\n",
       "      <th>mean texture</th>\n",
       "      <th>mean perimeter</th>\n",
       "      <th>mean area</th>\n",
       "      <th>mean smoothness</th>\n",
       "      <th>mean compactness</th>\n",
       "      <th>mean concavity</th>\n",
       "      <th>mean concave points</th>\n",
       "      <th>mean symmetry</th>\n",
       "      <th>mean fractal dimension</th>\n",
       "      <th>...</th>\n",
       "      <th>worst texture</th>\n",
       "      <th>worst perimeter</th>\n",
       "      <th>worst area</th>\n",
       "      <th>worst smoothness</th>\n",
       "      <th>worst compactness</th>\n",
       "      <th>worst concavity</th>\n",
       "      <th>worst concave points</th>\n",
       "      <th>worst symmetry</th>\n",
       "      <th>worst fractal dimension</th>\n",
       "      <th>target</th>\n",
       "    </tr>\n",
       "  </thead>\n",
       "  <tbody>\n",
       "    <tr>\n",
       "      <th>0</th>\n",
       "      <td>17.99</td>\n",
       "      <td>10.38</td>\n",
       "      <td>122.80</td>\n",
       "      <td>1001.0</td>\n",
       "      <td>0.11840</td>\n",
       "      <td>0.27760</td>\n",
       "      <td>0.3001</td>\n",
       "      <td>0.14710</td>\n",
       "      <td>0.2419</td>\n",
       "      <td>0.07871</td>\n",
       "      <td>...</td>\n",
       "      <td>17.33</td>\n",
       "      <td>184.60</td>\n",
       "      <td>2019.0</td>\n",
       "      <td>0.1622</td>\n",
       "      <td>0.6656</td>\n",
       "      <td>0.7119</td>\n",
       "      <td>0.2654</td>\n",
       "      <td>0.4601</td>\n",
       "      <td>0.11890</td>\n",
       "      <td>0</td>\n",
       "    </tr>\n",
       "    <tr>\n",
       "      <th>1</th>\n",
       "      <td>20.57</td>\n",
       "      <td>17.77</td>\n",
       "      <td>132.90</td>\n",
       "      <td>1326.0</td>\n",
       "      <td>0.08474</td>\n",
       "      <td>0.07864</td>\n",
       "      <td>0.0869</td>\n",
       "      <td>0.07017</td>\n",
       "      <td>0.1812</td>\n",
       "      <td>0.05667</td>\n",
       "      <td>...</td>\n",
       "      <td>23.41</td>\n",
       "      <td>158.80</td>\n",
       "      <td>1956.0</td>\n",
       "      <td>0.1238</td>\n",
       "      <td>0.1866</td>\n",
       "      <td>0.2416</td>\n",
       "      <td>0.1860</td>\n",
       "      <td>0.2750</td>\n",
       "      <td>0.08902</td>\n",
       "      <td>0</td>\n",
       "    </tr>\n",
       "    <tr>\n",
       "      <th>2</th>\n",
       "      <td>19.69</td>\n",
       "      <td>21.25</td>\n",
       "      <td>130.00</td>\n",
       "      <td>1203.0</td>\n",
       "      <td>0.10960</td>\n",
       "      <td>0.15990</td>\n",
       "      <td>0.1974</td>\n",
       "      <td>0.12790</td>\n",
       "      <td>0.2069</td>\n",
       "      <td>0.05999</td>\n",
       "      <td>...</td>\n",
       "      <td>25.53</td>\n",
       "      <td>152.50</td>\n",
       "      <td>1709.0</td>\n",
       "      <td>0.1444</td>\n",
       "      <td>0.4245</td>\n",
       "      <td>0.4504</td>\n",
       "      <td>0.2430</td>\n",
       "      <td>0.3613</td>\n",
       "      <td>0.08758</td>\n",
       "      <td>0</td>\n",
       "    </tr>\n",
       "    <tr>\n",
       "      <th>3</th>\n",
       "      <td>11.42</td>\n",
       "      <td>20.38</td>\n",
       "      <td>77.58</td>\n",
       "      <td>386.1</td>\n",
       "      <td>0.14250</td>\n",
       "      <td>0.28390</td>\n",
       "      <td>0.2414</td>\n",
       "      <td>0.10520</td>\n",
       "      <td>0.2597</td>\n",
       "      <td>0.09744</td>\n",
       "      <td>...</td>\n",
       "      <td>26.50</td>\n",
       "      <td>98.87</td>\n",
       "      <td>567.7</td>\n",
       "      <td>0.2098</td>\n",
       "      <td>0.8663</td>\n",
       "      <td>0.6869</td>\n",
       "      <td>0.2575</td>\n",
       "      <td>0.6638</td>\n",
       "      <td>0.17300</td>\n",
       "      <td>0</td>\n",
       "    </tr>\n",
       "    <tr>\n",
       "      <th>4</th>\n",
       "      <td>20.29</td>\n",
       "      <td>14.34</td>\n",
       "      <td>135.10</td>\n",
       "      <td>1297.0</td>\n",
       "      <td>0.10030</td>\n",
       "      <td>0.13280</td>\n",
       "      <td>0.1980</td>\n",
       "      <td>0.10430</td>\n",
       "      <td>0.1809</td>\n",
       "      <td>0.05883</td>\n",
       "      <td>...</td>\n",
       "      <td>16.67</td>\n",
       "      <td>152.20</td>\n",
       "      <td>1575.0</td>\n",
       "      <td>0.1374</td>\n",
       "      <td>0.2050</td>\n",
       "      <td>0.4000</td>\n",
       "      <td>0.1625</td>\n",
       "      <td>0.2364</td>\n",
       "      <td>0.07678</td>\n",
       "      <td>0</td>\n",
       "    </tr>\n",
       "  </tbody>\n",
       "</table>\n",
       "<p>5 rows × 31 columns</p>\n",
       "</div>"
      ],
      "text/plain": [
       "   mean radius  mean texture  mean perimeter  mean area  mean smoothness  \\\n",
       "0        17.99         10.38          122.80     1001.0          0.11840   \n",
       "1        20.57         17.77          132.90     1326.0          0.08474   \n",
       "2        19.69         21.25          130.00     1203.0          0.10960   \n",
       "3        11.42         20.38           77.58      386.1          0.14250   \n",
       "4        20.29         14.34          135.10     1297.0          0.10030   \n",
       "\n",
       "   mean compactness  mean concavity  mean concave points  mean symmetry  \\\n",
       "0           0.27760          0.3001              0.14710         0.2419   \n",
       "1           0.07864          0.0869              0.07017         0.1812   \n",
       "2           0.15990          0.1974              0.12790         0.2069   \n",
       "3           0.28390          0.2414              0.10520         0.2597   \n",
       "4           0.13280          0.1980              0.10430         0.1809   \n",
       "\n",
       "   mean fractal dimension  ...  worst texture  worst perimeter  worst area  \\\n",
       "0                 0.07871  ...          17.33           184.60      2019.0   \n",
       "1                 0.05667  ...          23.41           158.80      1956.0   \n",
       "2                 0.05999  ...          25.53           152.50      1709.0   \n",
       "3                 0.09744  ...          26.50            98.87       567.7   \n",
       "4                 0.05883  ...          16.67           152.20      1575.0   \n",
       "\n",
       "   worst smoothness  worst compactness  worst concavity  worst concave points  \\\n",
       "0            0.1622             0.6656           0.7119                0.2654   \n",
       "1            0.1238             0.1866           0.2416                0.1860   \n",
       "2            0.1444             0.4245           0.4504                0.2430   \n",
       "3            0.2098             0.8663           0.6869                0.2575   \n",
       "4            0.1374             0.2050           0.4000                0.1625   \n",
       "\n",
       "   worst symmetry  worst fractal dimension  target  \n",
       "0          0.4601                  0.11890       0  \n",
       "1          0.2750                  0.08902       0  \n",
       "2          0.3613                  0.08758       0  \n",
       "3          0.6638                  0.17300       0  \n",
       "4          0.2364                  0.07678       0  \n",
       "\n",
       "[5 rows x 31 columns]"
      ]
     },
     "execution_count": 2,
     "metadata": {},
     "output_type": "execute_result"
    }
   ],
   "source": [
    "from sklearn.datasets import load_breast_cancer\n",
    "cancer = load_breast_cancer()\n",
    "df = pd.DataFrame(cancer.data, columns=cancer.feature_names)\n",
    "df['target'] = cancer.target\n",
    "df.head()"
   ]
  },
  {
   "cell_type": "code",
   "execution_count": 3,
   "metadata": {},
   "outputs": [
    {
     "data": {
      "text/plain": [
       "(569, 31)"
      ]
     },
     "execution_count": 3,
     "metadata": {},
     "output_type": "execute_result"
    }
   ],
   "source": [
    "df.shape"
   ]
  },
  {
   "cell_type": "markdown",
   "metadata": {},
   "source": [
    "### 1. 데이터를 정규/표준화 하지 않은 경우"
   ]
  },
  {
   "cell_type": "code",
   "execution_count": 4,
   "metadata": {},
   "outputs": [],
   "source": [
    "from sklearn.model_selection import train_test_split\n",
    "X_train, X_test, y_train, y_test = train_test_split(\n",
    "    cancer.data, cancer.target, stratify=cancer.target,\n",
    "    test_size=0.2, random_state=2022\n",
    ")"
   ]
  },
  {
   "cell_type": "markdown",
   "metadata": {},
   "source": [
    "- 모델 정의"
   ]
  },
  {
   "cell_type": "code",
   "execution_count": 5,
   "metadata": {},
   "outputs": [],
   "source": [
    "from tensorflow.keras.models import Sequential\n",
    "from tensorflow.keras.layers import Dense           # Fully Connected Network"
   ]
  },
  {
   "cell_type": "code",
   "execution_count": 6,
   "metadata": {},
   "outputs": [
    {
     "name": "stdout",
     "output_type": "stream",
     "text": [
      "Model: \"sequential\"\n",
      "_________________________________________________________________\n",
      "Layer (type)                 Output Shape              Param #   \n",
      "=================================================================\n",
      "dense (Dense)                (None, 100)               3100      \n",
      "_________________________________________________________________\n",
      "dense_1 (Dense)              (None, 24)                2424      \n",
      "_________________________________________________________________\n",
      "dense_2 (Dense)              (None, 1)                 25        \n",
      "=================================================================\n",
      "Total params: 5,549\n",
      "Trainable params: 5,549\n",
      "Non-trainable params: 0\n",
      "_________________________________________________________________\n"
     ]
    }
   ],
   "source": [
    "model = Sequential([\n",
    "    Dense(100, input_shape = (30, ),  activation='relu'),\n",
    "    Dense(24, activation='relu'),\n",
    "    Dense(1, activation='sigmoid')\n",
    "])\n",
    "model.summary()"
   ]
  },
  {
   "cell_type": "markdown",
   "metadata": {},
   "source": [
    "- 모델 설정(컴파일)"
   ]
  },
  {
   "cell_type": "code",
   "execution_count": 7,
   "metadata": {},
   "outputs": [],
   "source": [
    "model.compile(optimizer='adam', loss='binary_crossentropy', metrics=['accuracy'])"
   ]
  },
  {
   "cell_type": "markdown",
   "metadata": {},
   "source": [
    "- 모델 학슴"
   ]
  },
  {
   "cell_type": "code",
   "execution_count": 8,
   "metadata": {},
   "outputs": [
    {
     "name": "stdout",
     "output_type": "stream",
     "text": [
      "Train on 364 samples, validate on 91 samples\n",
      "Epoch 1/100\n",
      "364/364 [==============================] - 2s 5ms/sample - loss: 6.1344 - accuracy: 0.4533 - val_loss: 4.4246 - val_accuracy: 0.3516\n",
      "Epoch 2/100\n",
      "364/364 [==============================] - 0s 124us/sample - loss: 2.5238 - accuracy: 0.4918 - val_loss: 1.7591 - val_accuracy: 0.7033\n",
      "Epoch 3/100\n",
      "364/364 [==============================] - 0s 159us/sample - loss: 0.9811 - accuracy: 0.7940 - val_loss: 1.0584 - val_accuracy: 0.7143\n",
      "Epoch 4/100\n",
      "364/364 [==============================] - 0s 176us/sample - loss: 0.7442 - accuracy: 0.7253 - val_loss: 0.2282 - val_accuracy: 0.9341\n",
      "Epoch 5/100\n",
      "364/364 [==============================] - 0s 137us/sample - loss: 0.4312 - accuracy: 0.8984 - val_loss: 0.3110 - val_accuracy: 0.9341\n",
      "Epoch 6/100\n",
      "364/364 [==============================] - 0s 143us/sample - loss: 0.1837 - accuracy: 0.9478 - val_loss: 0.6314 - val_accuracy: 0.8022\n",
      "Epoch 7/100\n",
      "364/364 [==============================] - 0s 140us/sample - loss: 0.4884 - accuracy: 0.8544 - val_loss: 0.2123 - val_accuracy: 0.9341\n",
      "Epoch 8/100\n",
      "364/364 [==============================] - 0s 104us/sample - loss: 0.2965 - accuracy: 0.9286 - val_loss: 0.3155 - val_accuracy: 0.9231\n",
      "Epoch 9/100\n",
      "364/364 [==============================] - 0s 132us/sample - loss: 0.2613 - accuracy: 0.9341 - val_loss: 0.3059 - val_accuracy: 0.9231\n",
      "Epoch 10/100\n",
      "364/364 [==============================] - 0s 137us/sample - loss: 0.2124 - accuracy: 0.9121 - val_loss: 0.2523 - val_accuracy: 0.9231\n",
      "Epoch 11/100\n",
      "364/364 [==============================] - 0s 137us/sample - loss: 0.2139 - accuracy: 0.9451 - val_loss: 0.2491 - val_accuracy: 0.9121\n",
      "Epoch 12/100\n",
      "364/364 [==============================] - 0s 110us/sample - loss: 0.1572 - accuracy: 0.9423 - val_loss: 0.3652 - val_accuracy: 0.8791\n",
      "Epoch 13/100\n",
      "364/364 [==============================] - 0s 99us/sample - loss: 0.1873 - accuracy: 0.9121 - val_loss: 0.2484 - val_accuracy: 0.9231\n",
      "Epoch 14/100\n",
      "364/364 [==============================] - 0s 93us/sample - loss: 0.1673 - accuracy: 0.9423 - val_loss: 0.2497 - val_accuracy: 0.9231\n",
      "Epoch 15/100\n",
      "364/364 [==============================] - 0s 137us/sample - loss: 0.1524 - accuracy: 0.9368 - val_loss: 0.2769 - val_accuracy: 0.9121\n",
      "Epoch 16/100\n",
      "364/364 [==============================] - 0s 480us/sample - loss: 0.1574 - accuracy: 0.9341 - val_loss: 0.2416 - val_accuracy: 0.9231\n",
      "Epoch 17/100\n",
      "364/364 [==============================] - 0s 148us/sample - loss: 0.1453 - accuracy: 0.9451 - val_loss: 0.2486 - val_accuracy: 0.9231\n",
      "Epoch 18/100\n",
      "364/364 [==============================] - 0s 231us/sample - loss: 0.1452 - accuracy: 0.9341 - val_loss: 0.2246 - val_accuracy: 0.9231\n",
      "Epoch 19/100\n",
      "364/364 [==============================] - 0s 110us/sample - loss: 0.1607 - accuracy: 0.9423 - val_loss: 0.2327 - val_accuracy: 0.9231\n",
      "Epoch 20/100\n",
      "364/364 [==============================] - 0s 198us/sample - loss: 0.1632 - accuracy: 0.9258 - val_loss: 0.2359 - val_accuracy: 0.9231\n",
      "Epoch 21/100\n",
      "364/364 [==============================] - 0s 104us/sample - loss: 0.1359 - accuracy: 0.9478 - val_loss: 0.2131 - val_accuracy: 0.9231\n",
      "Epoch 22/100\n",
      "364/364 [==============================] - 0s 96us/sample - loss: 0.1410 - accuracy: 0.9451 - val_loss: 0.2707 - val_accuracy: 0.9121\n",
      "Epoch 23/100\n",
      "364/364 [==============================] - 0s 93us/sample - loss: 0.1510 - accuracy: 0.9313 - val_loss: 0.2109 - val_accuracy: 0.9121\n",
      "Epoch 24/100\n",
      "364/364 [==============================] - 0s 118us/sample - loss: 0.1728 - accuracy: 0.9423 - val_loss: 0.2689 - val_accuracy: 0.9121\n",
      "Epoch 25/100\n",
      "364/364 [==============================] - 0s 135us/sample - loss: 0.1980 - accuracy: 0.9286 - val_loss: 0.2124 - val_accuracy: 0.9121\n",
      "Epoch 26/100\n",
      "364/364 [==============================] - 0s 151us/sample - loss: 0.1784 - accuracy: 0.9505 - val_loss: 0.2333 - val_accuracy: 0.9231\n",
      "Epoch 27/100\n",
      "364/364 [==============================] - 0s 115us/sample - loss: 0.1490 - accuracy: 0.9451 - val_loss: 0.2229 - val_accuracy: 0.9231\n",
      "Epoch 28/100\n",
      "364/364 [==============================] - 0s 121us/sample - loss: 0.1448 - accuracy: 0.9423 - val_loss: 0.2140 - val_accuracy: 0.9231\n",
      "Epoch 29/100\n",
      "364/364 [==============================] - 0s 99us/sample - loss: 0.1516 - accuracy: 0.9478 - val_loss: 0.2477 - val_accuracy: 0.9121\n",
      "Epoch 30/100\n",
      "364/364 [==============================] - 0s 93us/sample - loss: 0.1466 - accuracy: 0.9396 - val_loss: 0.2116 - val_accuracy: 0.9231\n",
      "Epoch 31/100\n",
      "364/364 [==============================] - 0s 104us/sample - loss: 0.1622 - accuracy: 0.9478 - val_loss: 0.2481 - val_accuracy: 0.9121\n",
      "Epoch 32/100\n",
      "364/364 [==============================] - 0s 220us/sample - loss: 0.1753 - accuracy: 0.9341 - val_loss: 0.2054 - val_accuracy: 0.9121\n",
      "Epoch 33/100\n",
      "364/364 [==============================] - 0s 110us/sample - loss: 0.1791 - accuracy: 0.9341 - val_loss: 0.2304 - val_accuracy: 0.9121\n",
      "Epoch 34/100\n",
      "364/364 [==============================] - 0s 135us/sample - loss: 0.1724 - accuracy: 0.9286 - val_loss: 0.2031 - val_accuracy: 0.9121\n",
      "Epoch 35/100\n",
      "364/364 [==============================] - 0s 107us/sample - loss: 0.1539 - accuracy: 0.9505 - val_loss: 0.2174 - val_accuracy: 0.9231\n",
      "Epoch 36/100\n",
      "364/364 [==============================] - 0s 203us/sample - loss: 0.1416 - accuracy: 0.9368 - val_loss: 0.2153 - val_accuracy: 0.9231\n",
      "Epoch 37/100\n",
      "364/364 [==============================] - 0s 176us/sample - loss: 0.1336 - accuracy: 0.9505 - val_loss: 0.2201 - val_accuracy: 0.9231\n",
      "Epoch 38/100\n",
      "364/364 [==============================] - 0s 239us/sample - loss: 0.1405 - accuracy: 0.9478 - val_loss: 0.2401 - val_accuracy: 0.9121\n",
      "Epoch 39/100\n",
      "364/364 [==============================] - 0s 195us/sample - loss: 0.1301 - accuracy: 0.9533 - val_loss: 0.2124 - val_accuracy: 0.9231\n",
      "Epoch 40/100\n",
      "364/364 [==============================] - 0s 118us/sample - loss: 0.1435 - accuracy: 0.9505 - val_loss: 0.2205 - val_accuracy: 0.9231\n",
      "Epoch 41/100\n",
      "364/364 [==============================] - 0s 151us/sample - loss: 0.1314 - accuracy: 0.9478 - val_loss: 0.2173 - val_accuracy: 0.9231\n",
      "Epoch 42/100\n",
      "364/364 [==============================] - 0s 121us/sample - loss: 0.1307 - accuracy: 0.9533 - val_loss: 0.2202 - val_accuracy: 0.9231\n",
      "Epoch 43/100\n",
      "364/364 [==============================] - 0s 225us/sample - loss: 0.1302 - accuracy: 0.9451 - val_loss: 0.2200 - val_accuracy: 0.9231\n",
      "Epoch 44/100\n",
      "364/364 [==============================] - 0s 113us/sample - loss: 0.1286 - accuracy: 0.9505 - val_loss: 0.2224 - val_accuracy: 0.9231\n",
      "Epoch 45/100\n",
      "364/364 [==============================] - 0s 107us/sample - loss: 0.1280 - accuracy: 0.9478 - val_loss: 0.2172 - val_accuracy: 0.9231\n",
      "Epoch 46/100\n",
      "364/364 [==============================] - 0s 71us/sample - loss: 0.1323 - accuracy: 0.9451 - val_loss: 0.2142 - val_accuracy: 0.9231\n",
      "Epoch 47/100\n",
      "364/364 [==============================] - 0s 74us/sample - loss: 0.1379 - accuracy: 0.9478 - val_loss: 0.2030 - val_accuracy: 0.9231\n",
      "Epoch 48/100\n",
      "364/364 [==============================] - 0s 126us/sample - loss: 0.1663 - accuracy: 0.9313 - val_loss: 0.3221 - val_accuracy: 0.9121\n",
      "Epoch 49/100\n",
      "364/364 [==============================] - 0s 71us/sample - loss: 0.1532 - accuracy: 0.9396 - val_loss: 0.2031 - val_accuracy: 0.9121\n",
      "Epoch 50/100\n",
      "364/364 [==============================] - 0s 85us/sample - loss: 0.1544 - accuracy: 0.9423 - val_loss: 0.2088 - val_accuracy: 0.9121\n",
      "Epoch 51/100\n",
      "364/364 [==============================] - 0s 82us/sample - loss: 0.1479 - accuracy: 0.9478 - val_loss: 0.2255 - val_accuracy: 0.9121\n",
      "Epoch 52/100\n",
      "364/364 [==============================] - 0s 107us/sample - loss: 0.1303 - accuracy: 0.9505 - val_loss: 0.2051 - val_accuracy: 0.9121\n",
      "Epoch 53/100\n",
      "364/364 [==============================] - 0s 157us/sample - loss: 0.1300 - accuracy: 0.9505 - val_loss: 0.2598 - val_accuracy: 0.9121\n",
      "Epoch 54/100\n",
      "364/364 [==============================] - 0s 124us/sample - loss: 0.1370 - accuracy: 0.9533 - val_loss: 0.2084 - val_accuracy: 0.9231\n",
      "Epoch 55/100\n",
      "364/364 [==============================] - 0s 269us/sample - loss: 0.1257 - accuracy: 0.9560 - val_loss: 0.2447 - val_accuracy: 0.9121\n",
      "Epoch 56/100\n",
      "364/364 [==============================] - 0s 82us/sample - loss: 0.1278 - accuracy: 0.9533 - val_loss: 0.2022 - val_accuracy: 0.9121\n",
      "Epoch 57/100\n",
      "364/364 [==============================] - 0s 82us/sample - loss: 0.1438 - accuracy: 0.9505 - val_loss: 0.2182 - val_accuracy: 0.9231\n",
      "Epoch 58/100\n",
      "364/364 [==============================] - 0s 74us/sample - loss: 0.1306 - accuracy: 0.9533 - val_loss: 0.2351 - val_accuracy: 0.9121\n",
      "Epoch 59/100\n",
      "364/364 [==============================] - 0s 74us/sample - loss: 0.1257 - accuracy: 0.9505 - val_loss: 0.2201 - val_accuracy: 0.9231\n",
      "Epoch 60/100\n",
      "364/364 [==============================] - 0s 88us/sample - loss: 0.1286 - accuracy: 0.9478 - val_loss: 0.2240 - val_accuracy: 0.9231\n",
      "Epoch 61/100\n",
      "364/364 [==============================] - 0s 74us/sample - loss: 0.1276 - accuracy: 0.9560 - val_loss: 0.2101 - val_accuracy: 0.9231\n",
      "Epoch 62/100\n",
      "364/364 [==============================] - 0s 82us/sample - loss: 0.1328 - accuracy: 0.9505 - val_loss: 0.3021 - val_accuracy: 0.9231\n",
      "Epoch 63/100\n",
      "364/364 [==============================] - 0s 74us/sample - loss: 0.1470 - accuracy: 0.9423 - val_loss: 0.1972 - val_accuracy: 0.9231\n",
      "Epoch 64/100\n",
      "364/364 [==============================] - 0s 82us/sample - loss: 0.1557 - accuracy: 0.9368 - val_loss: 0.2937 - val_accuracy: 0.9231\n",
      "Epoch 65/100\n",
      "364/364 [==============================] - 0s 63us/sample - loss: 0.1721 - accuracy: 0.9368 - val_loss: 0.2305 - val_accuracy: 0.9121\n",
      "Epoch 66/100\n",
      "364/364 [==============================] - 0s 74us/sample - loss: 0.1712 - accuracy: 0.9176 - val_loss: 0.2028 - val_accuracy: 0.9121\n",
      "Epoch 67/100\n",
      "364/364 [==============================] - 0s 140us/sample - loss: 0.1344 - accuracy: 0.9505 - val_loss: 0.2117 - val_accuracy: 0.9121\n",
      "Epoch 68/100\n",
      "364/364 [==============================] - 0s 88us/sample - loss: 0.1297 - accuracy: 0.9560 - val_loss: 0.2288 - val_accuracy: 0.9121\n",
      "Epoch 69/100\n",
      "364/364 [==============================] - 0s 82us/sample - loss: 0.1201 - accuracy: 0.9560 - val_loss: 0.2031 - val_accuracy: 0.9231\n",
      "Epoch 70/100\n",
      "364/364 [==============================] - 0s 77us/sample - loss: 0.1272 - accuracy: 0.9505 - val_loss: 0.3586 - val_accuracy: 0.8791\n",
      "Epoch 71/100\n",
      "364/364 [==============================] - 0s 93us/sample - loss: 0.1769 - accuracy: 0.9368 - val_loss: 0.2078 - val_accuracy: 0.9231\n",
      "Epoch 72/100\n",
      "364/364 [==============================] - 0s 71us/sample - loss: 0.1560 - accuracy: 0.9368 - val_loss: 0.2588 - val_accuracy: 0.9121\n",
      "Epoch 73/100\n",
      "364/364 [==============================] - 0s 74us/sample - loss: 0.1474 - accuracy: 0.9478 - val_loss: 0.2186 - val_accuracy: 0.9231\n",
      "Epoch 74/100\n",
      "364/364 [==============================] - 0s 91us/sample - loss: 0.1421 - accuracy: 0.9396 - val_loss: 0.2099 - val_accuracy: 0.9121\n",
      "Epoch 75/100\n",
      "364/364 [==============================] - 0s 88us/sample - loss: 0.1322 - accuracy: 0.9478 - val_loss: 0.3632 - val_accuracy: 0.8901\n",
      "Epoch 76/100\n",
      "364/364 [==============================] - 0s 88us/sample - loss: 0.1677 - accuracy: 0.9341 - val_loss: 0.2058 - val_accuracy: 0.9121\n",
      "Epoch 77/100\n",
      "364/364 [==============================] - 0s 71us/sample - loss: 0.1391 - accuracy: 0.9396 - val_loss: 0.1991 - val_accuracy: 0.9121\n",
      "Epoch 78/100\n",
      "364/364 [==============================] - 0s 66us/sample - loss: 0.1362 - accuracy: 0.9478 - val_loss: 0.2080 - val_accuracy: 0.9231\n",
      "Epoch 79/100\n",
      "364/364 [==============================] - 0s 66us/sample - loss: 0.1234 - accuracy: 0.9560 - val_loss: 0.2039 - val_accuracy: 0.9231\n",
      "Epoch 80/100\n",
      "364/364 [==============================] - 0s 88us/sample - loss: 0.1216 - accuracy: 0.9505 - val_loss: 0.2469 - val_accuracy: 0.9121\n",
      "Epoch 81/100\n",
      "364/364 [==============================] - 0s 107us/sample - loss: 0.1363 - accuracy: 0.9423 - val_loss: 0.2621 - val_accuracy: 0.9231\n",
      "Epoch 82/100\n",
      "364/364 [==============================] - 0s 88us/sample - loss: 0.1453 - accuracy: 0.9396 - val_loss: 0.2178 - val_accuracy: 0.9231\n",
      "Epoch 83/100\n",
      "364/364 [==============================] - 0s 63us/sample - loss: 0.1268 - accuracy: 0.9505 - val_loss: 0.2170 - val_accuracy: 0.9231\n",
      "Epoch 84/100\n",
      "364/364 [==============================] - 0s 85us/sample - loss: 0.1254 - accuracy: 0.9560 - val_loss: 0.2630 - val_accuracy: 0.9121\n",
      "Epoch 85/100\n",
      "364/364 [==============================] - 0s 129us/sample - loss: 0.1222 - accuracy: 0.9505 - val_loss: 0.2089 - val_accuracy: 0.9121\n",
      "Epoch 86/100\n",
      "364/364 [==============================] - 0s 74us/sample - loss: 0.1224 - accuracy: 0.9505 - val_loss: 0.2286 - val_accuracy: 0.9121\n",
      "Epoch 87/100\n",
      "364/364 [==============================] - 0s 74us/sample - loss: 0.1205 - accuracy: 0.9478 - val_loss: 0.2215 - val_accuracy: 0.9231\n",
      "Epoch 88/100\n",
      "364/364 [==============================] - 0s 211us/sample - loss: 0.1191 - accuracy: 0.9478 - val_loss: 0.2855 - val_accuracy: 0.9231\n",
      "Epoch 89/100\n",
      "364/364 [==============================] - 0s 93us/sample - loss: 0.1721 - accuracy: 0.9258 - val_loss: 0.2013 - val_accuracy: 0.9121\n",
      "Epoch 90/100\n",
      "364/364 [==============================] - 0s 99us/sample - loss: 0.1505 - accuracy: 0.9423 - val_loss: 0.1989 - val_accuracy: 0.9231\n",
      "Epoch 91/100\n",
      "364/364 [==============================] - ETA: 0s - loss: 0.1281 - accuracy: 0.96 - 0s 140us/sample - loss: 0.1345 - accuracy: 0.9533 - val_loss: 0.2599 - val_accuracy: 0.9231\n",
      "Epoch 92/100\n",
      "364/364 [==============================] - 0s 104us/sample - loss: 0.1299 - accuracy: 0.9478 - val_loss: 0.1889 - val_accuracy: 0.9121\n",
      "Epoch 93/100\n",
      "364/364 [==============================] - 0s 118us/sample - loss: 0.1245 - accuracy: 0.9588 - val_loss: 0.2614 - val_accuracy: 0.9341\n",
      "Epoch 94/100\n",
      "364/364 [==============================] - 0s 93us/sample - loss: 0.1264 - accuracy: 0.9505 - val_loss: 0.1874 - val_accuracy: 0.9121\n",
      "Epoch 95/100\n",
      "364/364 [==============================] - 0s 66us/sample - loss: 0.1410 - accuracy: 0.9396 - val_loss: 0.2010 - val_accuracy: 0.9231\n",
      "Epoch 96/100\n",
      "364/364 [==============================] - 0s 77us/sample - loss: 0.1655 - accuracy: 0.9423 - val_loss: 0.3009 - val_accuracy: 0.9231\n",
      "Epoch 97/100\n",
      "364/364 [==============================] - 0s 60us/sample - loss: 0.1500 - accuracy: 0.9368 - val_loss: 0.1956 - val_accuracy: 0.9121\n",
      "Epoch 98/100\n",
      "364/364 [==============================] - 0s 80us/sample - loss: 0.1310 - accuracy: 0.9451 - val_loss: 0.2071 - val_accuracy: 0.9121\n",
      "Epoch 99/100\n",
      "364/364 [==============================] - 0s 80us/sample - loss: 0.1300 - accuracy: 0.9533 - val_loss: 0.3139 - val_accuracy: 0.9121\n",
      "Epoch 100/100\n",
      "364/364 [==============================] - 0s 82us/sample - loss: 0.1573 - accuracy: 0.9368 - val_loss: 0.2058 - val_accuracy: 0.9231\n"
     ]
    }
   ],
   "source": [
    "history = model.fit(X_train, y_train, validation_split=0.2,\n",
    "                                epochs=100, batch_size=100)"
   ]
  },
  {
   "cell_type": "markdown",
   "metadata": {},
   "source": [
    "- 모델 평가"
   ]
  },
  {
   "cell_type": "code",
   "execution_count": 9,
   "metadata": {},
   "outputs": [
    {
     "name": "stdout",
     "output_type": "stream",
     "text": [
      "114/1 [============================================================================================================================================================================================================================================================================================================================================================================================================================================================================================================================================================================================================================================================================================================================================================================================================================================================================================================================================================================================================================================================================================================================================================================================================================================================================================================================================================================================================================================================================================================================================================================================================================================================================================================================================================================================================================================================================================================================================================================================================================================================================================================================================================================================================================================================================================================================================================================================================================================================================================================================================================================================================================================================================================================================================================================================================================================================================================================================================================================================================================================================================================================================================================================================================================================================================================================================================================================================================================================================================================================================================================] - 0s 61us/sample - loss: 0.3499 - accuracy: 0.9035\n"
     ]
    },
    {
     "data": {
      "text/plain": [
       "[0.29114959689608794, 0.9035088]"
      ]
     },
     "execution_count": 9,
     "metadata": {},
     "output_type": "execute_result"
    }
   ],
   "source": [
    "model.evaluate(X_test, y_test)"
   ]
  },
  {
   "cell_type": "markdown",
   "metadata": {},
   "source": [
    "- 훈련과정 시각화: epoch에 따른 accuracy, val_loss의 변화"
   ]
  },
  {
   "cell_type": "code",
   "execution_count": 10,
   "metadata": {},
   "outputs": [],
   "source": [
    "y_acc = history.history['accuracy']\n",
    "y_vloss = history.history['val_loss']\n",
    "xs = np.arange(1, len(y_acc)+1)"
   ]
  },
  {
   "cell_type": "code",
   "execution_count": 11,
   "metadata": {},
   "outputs": [
    {
     "data": {
      "image/png": "[encoded data removed]",
      "text/plain": [
       "<Figure size 864x576 with 1 Axes>"
      ]
     },
     "metadata": {
      "needs_background": "light"
     },
     "output_type": "display_data"
    }
   ],
   "source": [
    "plt.figure(figsize=(12, 8))\n",
    "plt.plot(xs, y_acc, label='train accuracy')\n",
    "plt.plot(xs, y_vloss, label='validataion loss')\n",
    "plt.legend(), plt.grid()\n",
    "plt.ylim([0, 1])\n",
    "plt.xlabel('Epoch')\n",
    "plt.title('No feature transform')\n",
    "plt.show()"
   ]
  },
  {
   "cell_type": "markdown",
   "metadata": {},
   "source": [
    "### 2. 데이터를 정규/표준화한 경우"
   ]
  },
  {
   "cell_type": "code",
   "execution_count": 12,
   "metadata": {},
   "outputs": [],
   "source": [
    "from sklearn.preprocessing import StandardScaler\n",
    "cancer_std = StandardScaler().fit_transform(cancer.data)"
   ]
  },
  {
   "cell_type": "code",
   "execution_count": 13,
   "metadata": {},
   "outputs": [],
   "source": [
    "X_train2, X_test2, y_train2, y_test2 = train_test_split(\n",
    "    cancer_std, cancer.target, stratify=cancer.target,\n",
    "    test_size=0.2, random_state=2022\n",
    ")"
   ]
  },
  {
   "cell_type": "markdown",
   "metadata": {},
   "source": [
    "- 모델 정의"
   ]
  },
  {
   "cell_type": "code",
   "execution_count": 14,
   "metadata": {},
   "outputs": [
    {
     "name": "stdout",
     "output_type": "stream",
     "text": [
      "Model: \"sequential_1\"\n",
      "_________________________________________________________________\n",
      "Layer (type)                 Output Shape              Param #   \n",
      "=================================================================\n",
      "dense_3 (Dense)              (None, 100)               3100      \n",
      "_________________________________________________________________\n",
      "dense_4 (Dense)              (None, 24)                2424      \n",
      "_________________________________________________________________\n",
      "dense_5 (Dense)              (None, 1)                 25        \n",
      "=================================================================\n",
      "Total params: 5,549\n",
      "Trainable params: 5,549\n",
      "Non-trainable params: 0\n",
      "_________________________________________________________________\n"
     ]
    }
   ],
   "source": [
    "model2 = Sequential()\n",
    "model2.add(Dense(100, input_dim=30, activation='relu'))\n",
    "model2.add(Dense(24, activation='relu'))\n",
    "model2.add(Dense(1, activation='sigmoid'))\n",
    "model2.summary()"
   ]
  },
  {
   "cell_type": "markdown",
   "metadata": {},
   "source": [
    "- 모델 설정"
   ]
  },
  {
   "cell_type": "code",
   "execution_count": 16,
   "metadata": {},
   "outputs": [],
   "source": [
    "model2.compile(optimizer='adam', loss='binary_crossentropy', metrics=['accuracy'])"
   ]
  },
  {
   "cell_type": "markdown",
   "metadata": {},
   "source": [
    "- 모델 학습"
   ]
  },
  {
   "cell_type": "code",
   "execution_count": 17,
   "metadata": {},
   "outputs": [
    {
     "name": "stdout",
     "output_type": "stream",
     "text": [
      "Train on 364 samples, validate on 91 samples\n",
      "Epoch 1/100\n",
      "364/364 [==============================] - 1s 2ms/sample - loss: 0.8443 - accuracy: 0.3077 - val_loss: 0.7192 - val_accuracy: 0.4286\n",
      "Epoch 2/100\n",
      "364/364 [==============================] - 0s 55us/sample - loss: 0.6424 - accuracy: 0.5714 - val_loss: 0.5570 - val_accuracy: 0.7473\n",
      "Epoch 3/100\n",
      "364/364 [==============================] - 0s 93us/sample - loss: 0.4936 - accuracy: 0.8489 - val_loss: 0.4315 - val_accuracy: 0.9121\n",
      "Epoch 4/100\n",
      "364/364 [==============================] - 0s 80us/sample - loss: 0.3824 - accuracy: 0.9148 - val_loss: 0.3396 - val_accuracy: 0.9231\n",
      "Epoch 5/100\n",
      "364/364 [==============================] - 0s 63us/sample - loss: 0.3033 - accuracy: 0.9368 - val_loss: 0.2760 - val_accuracy: 0.9341\n",
      "Epoch 6/100\n",
      "364/364 [==============================] - 0s 85us/sample - loss: 0.2476 - accuracy: 0.9451 - val_loss: 0.2330 - val_accuracy: 0.9231\n",
      "Epoch 7/100\n",
      "364/364 [==============================] - 0s 91us/sample - loss: 0.2076 - accuracy: 0.9396 - val_loss: 0.2033 - val_accuracy: 0.9231\n",
      "Epoch 8/100\n",
      "364/364 [==============================] - 0s 165us/sample - loss: 0.1784 - accuracy: 0.9478 - val_loss: 0.1822 - val_accuracy: 0.9231\n",
      "Epoch 9/100\n",
      "364/364 [==============================] - 0s 423us/sample - loss: 0.1563 - accuracy: 0.9533 - val_loss: 0.1667 - val_accuracy: 0.9231\n",
      "Epoch 10/100\n",
      "364/364 [==============================] - 0s 132us/sample - loss: 0.1387 - accuracy: 0.9588 - val_loss: 0.1553 - val_accuracy: 0.9341\n",
      "Epoch 11/100\n",
      "364/364 [==============================] - 0s 124us/sample - loss: 0.1238 - accuracy: 0.9643 - val_loss: 0.1464 - val_accuracy: 0.9341\n",
      "Epoch 12/100\n",
      "364/364 [==============================] - 0s 91us/sample - loss: 0.1119 - accuracy: 0.9725 - val_loss: 0.1394 - val_accuracy: 0.9341\n",
      "Epoch 13/100\n",
      "364/364 [==============================] - 0s 69us/sample - loss: 0.1025 - accuracy: 0.9780 - val_loss: 0.1344 - val_accuracy: 0.9341\n",
      "Epoch 14/100\n",
      "364/364 [==============================] - 0s 71us/sample - loss: 0.0949 - accuracy: 0.9808 - val_loss: 0.1306 - val_accuracy: 0.9451\n",
      "Epoch 15/100\n",
      "364/364 [==============================] - 0s 77us/sample - loss: 0.0884 - accuracy: 0.9808 - val_loss: 0.1279 - val_accuracy: 0.9451\n",
      "Epoch 16/100\n",
      "364/364 [==============================] - 0s 63us/sample - loss: 0.0834 - accuracy: 0.9835 - val_loss: 0.1257 - val_accuracy: 0.9451\n",
      "Epoch 17/100\n",
      "364/364 [==============================] - 0s 60us/sample - loss: 0.0786 - accuracy: 0.9863 - val_loss: 0.1238 - val_accuracy: 0.9560\n",
      "Epoch 18/100\n",
      "364/364 [==============================] - 0s 66us/sample - loss: 0.0749 - accuracy: 0.9863 - val_loss: 0.1218 - val_accuracy: 0.9560\n",
      "Epoch 19/100\n",
      "364/364 [==============================] - 0s 60us/sample - loss: 0.0714 - accuracy: 0.9863 - val_loss: 0.1200 - val_accuracy: 0.9560\n",
      "Epoch 20/100\n",
      "364/364 [==============================] - ETA: 0s - loss: 0.0722 - accuracy: 0.97 - 0s 118us/sample - loss: 0.0681 - accuracy: 0.9863 - val_loss: 0.1191 - val_accuracy: 0.9560\n",
      "Epoch 21/100\n",
      "364/364 [==============================] - 0s 88us/sample - loss: 0.0653 - accuracy: 0.9863 - val_loss: 0.1178 - val_accuracy: 0.9560\n",
      "Epoch 22/100\n",
      "364/364 [==============================] - 0s 162us/sample - loss: 0.0628 - accuracy: 0.9863 - val_loss: 0.1167 - val_accuracy: 0.9560\n",
      "Epoch 23/100\n",
      "364/364 [==============================] - 0s 80us/sample - loss: 0.0604 - accuracy: 0.9863 - val_loss: 0.1154 - val_accuracy: 0.9560\n",
      "Epoch 24/100\n",
      "364/364 [==============================] - 0s 96us/sample - loss: 0.0580 - accuracy: 0.9863 - val_loss: 0.1146 - val_accuracy: 0.9560\n",
      "Epoch 25/100\n",
      "364/364 [==============================] - 0s 99us/sample - loss: 0.0559 - accuracy: 0.9863 - val_loss: 0.1139 - val_accuracy: 0.9560\n",
      "Epoch 26/100\n",
      "364/364 [==============================] - 0s 77us/sample - loss: 0.0539 - accuracy: 0.9863 - val_loss: 0.1130 - val_accuracy: 0.9560\n",
      "Epoch 27/100\n",
      "364/364 [==============================] - 0s 124us/sample - loss: 0.0520 - accuracy: 0.9863 - val_loss: 0.1120 - val_accuracy: 0.9560\n",
      "Epoch 28/100\n",
      "364/364 [==============================] - 0s 124us/sample - loss: 0.0504 - accuracy: 0.9863 - val_loss: 0.1112 - val_accuracy: 0.9560\n",
      "Epoch 29/100\n",
      "364/364 [==============================] - 0s 71us/sample - loss: 0.0488 - accuracy: 0.9863 - val_loss: 0.1103 - val_accuracy: 0.9560\n",
      "Epoch 30/100\n",
      "364/364 [==============================] - 0s 77us/sample - loss: 0.0472 - accuracy: 0.9863 - val_loss: 0.1094 - val_accuracy: 0.9560\n",
      "Epoch 31/100\n",
      "364/364 [==============================] - 0s 93us/sample - loss: 0.0456 - accuracy: 0.9863 - val_loss: 0.1088 - val_accuracy: 0.9560\n",
      "Epoch 32/100\n",
      "364/364 [==============================] - 0s 99us/sample - loss: 0.0442 - accuracy: 0.9863 - val_loss: 0.1079 - val_accuracy: 0.9560\n",
      "Epoch 33/100\n",
      "364/364 [==============================] - 0s 118us/sample - loss: 0.0428 - accuracy: 0.9863 - val_loss: 0.1077 - val_accuracy: 0.9560\n",
      "Epoch 34/100\n",
      "364/364 [==============================] - 0s 209us/sample - loss: 0.0414 - accuracy: 0.9863 - val_loss: 0.1070 - val_accuracy: 0.9560\n",
      "Epoch 35/100\n",
      "364/364 [==============================] - 0s 148us/sample - loss: 0.0399 - accuracy: 0.9863 - val_loss: 0.1072 - val_accuracy: 0.9560\n",
      "Epoch 36/100\n",
      "364/364 [==============================] - 0s 151us/sample - loss: 0.0386 - accuracy: 0.9863 - val_loss: 0.1071 - val_accuracy: 0.9560\n",
      "Epoch 37/100\n",
      "364/364 [==============================] - 0s 305us/sample - loss: 0.0376 - accuracy: 0.9863 - val_loss: 0.1070 - val_accuracy: 0.9560\n",
      "Epoch 38/100\n",
      "364/364 [==============================] - 0s 124us/sample - loss: 0.0361 - accuracy: 0.9863 - val_loss: 0.1071 - val_accuracy: 0.9560\n",
      "Epoch 39/100\n",
      "364/364 [==============================] - 0s 154us/sample - loss: 0.0350 - accuracy: 0.9863 - val_loss: 0.1074 - val_accuracy: 0.9560\n",
      "Epoch 40/100\n",
      "364/364 [==============================] - 0s 173us/sample - loss: 0.0338 - accuracy: 0.9863 - val_loss: 0.1077 - val_accuracy: 0.9560\n",
      "Epoch 41/100\n",
      "364/364 [==============================] - 0s 129us/sample - loss: 0.0326 - accuracy: 0.9863 - val_loss: 0.1073 - val_accuracy: 0.9560\n",
      "Epoch 42/100\n",
      "364/364 [==============================] - 0s 222us/sample - loss: 0.0315 - accuracy: 0.9863 - val_loss: 0.1078 - val_accuracy: 0.9560\n",
      "Epoch 43/100\n",
      "364/364 [==============================] - 0s 118us/sample - loss: 0.0304 - accuracy: 0.9863 - val_loss: 0.1082 - val_accuracy: 0.9560\n",
      "Epoch 44/100\n",
      "364/364 [==============================] - 0s 203us/sample - loss: 0.0294 - accuracy: 0.9863 - val_loss: 0.1080 - val_accuracy: 0.9560\n",
      "Epoch 45/100\n",
      "364/364 [==============================] - 0s 214us/sample - loss: 0.0284 - accuracy: 0.9890 - val_loss: 0.1082 - val_accuracy: 0.9560\n",
      "Epoch 46/100\n",
      "364/364 [==============================] - 0s 115us/sample - loss: 0.0275 - accuracy: 0.9890 - val_loss: 0.1081 - val_accuracy: 0.9560\n",
      "Epoch 47/100\n",
      "364/364 [==============================] - 0s 104us/sample - loss: 0.0264 - accuracy: 0.9890 - val_loss: 0.1076 - val_accuracy: 0.9560\n",
      "Epoch 48/100\n",
      "364/364 [==============================] - 0s 99us/sample - loss: 0.0255 - accuracy: 0.9890 - val_loss: 0.1074 - val_accuracy: 0.9560\n",
      "Epoch 49/100\n",
      "364/364 [==============================] - 0s 93us/sample - loss: 0.0247 - accuracy: 0.9890 - val_loss: 0.1074 - val_accuracy: 0.9560\n",
      "Epoch 50/100\n",
      "364/364 [==============================] - 0s 124us/sample - loss: 0.0238 - accuracy: 0.9890 - val_loss: 0.1076 - val_accuracy: 0.9560\n",
      "Epoch 51/100\n",
      "364/364 [==============================] - ETA: 0s - loss: 0.0175 - accuracy: 0.99 - 0s 129us/sample - loss: 0.0230 - accuracy: 0.9918 - val_loss: 0.1083 - val_accuracy: 0.9560\n",
      "Epoch 52/100\n",
      "364/364 [==============================] - 0s 113us/sample - loss: 0.0221 - accuracy: 0.9918 - val_loss: 0.1090 - val_accuracy: 0.9560\n",
      "Epoch 53/100\n",
      "364/364 [==============================] - 0s 143us/sample - loss: 0.0213 - accuracy: 0.9945 - val_loss: 0.1095 - val_accuracy: 0.9560\n",
      "Epoch 54/100\n",
      "364/364 [==============================] - 0s 151us/sample - loss: 0.0205 - accuracy: 0.9945 - val_loss: 0.1103 - val_accuracy: 0.9560\n",
      "Epoch 55/100\n",
      "364/364 [==============================] - 0s 118us/sample - loss: 0.0198 - accuracy: 0.9945 - val_loss: 0.1105 - val_accuracy: 0.9560\n",
      "Epoch 56/100\n",
      "364/364 [==============================] - 0s 96us/sample - loss: 0.0192 - accuracy: 0.9945 - val_loss: 0.1115 - val_accuracy: 0.9560\n",
      "Epoch 57/100\n",
      "364/364 [==============================] - 0s 115us/sample - loss: 0.0184 - accuracy: 0.9945 - val_loss: 0.1116 - val_accuracy: 0.9560\n",
      "Epoch 58/100\n",
      "364/364 [==============================] - 0s 107us/sample - loss: 0.0176 - accuracy: 0.9945 - val_loss: 0.1128 - val_accuracy: 0.9560\n",
      "Epoch 59/100\n",
      "364/364 [==============================] - 0s 118us/sample - loss: 0.0172 - accuracy: 0.9945 - val_loss: 0.1141 - val_accuracy: 0.9560\n",
      "Epoch 60/100\n",
      "364/364 [==============================] - 0s 173us/sample - loss: 0.0164 - accuracy: 0.9973 - val_loss: 0.1147 - val_accuracy: 0.9560\n",
      "Epoch 61/100\n",
      "364/364 [==============================] - 0s 113us/sample - loss: 0.0157 - accuracy: 0.9973 - val_loss: 0.1149 - val_accuracy: 0.9560\n",
      "Epoch 62/100\n",
      "364/364 [==============================] - 0s 159us/sample - loss: 0.0152 - accuracy: 1.0000 - val_loss: 0.1156 - val_accuracy: 0.9560\n",
      "Epoch 63/100\n",
      "364/364 [==============================] - 0s 187us/sample - loss: 0.0146 - accuracy: 1.0000 - val_loss: 0.1161 - val_accuracy: 0.9560\n",
      "Epoch 64/100\n",
      "364/364 [==============================] - 0s 162us/sample - loss: 0.0141 - accuracy: 1.0000 - val_loss: 0.1181 - val_accuracy: 0.9560\n",
      "Epoch 65/100\n",
      "364/364 [==============================] - 0s 132us/sample - loss: 0.0136 - accuracy: 1.0000 - val_loss: 0.1198 - val_accuracy: 0.9560\n",
      "Epoch 66/100\n",
      "364/364 [==============================] - 0s 104us/sample - loss: 0.0131 - accuracy: 1.0000 - val_loss: 0.1202 - val_accuracy: 0.9560\n",
      "Epoch 67/100\n",
      "364/364 [==============================] - 0s 104us/sample - loss: 0.0127 - accuracy: 1.0000 - val_loss: 0.1205 - val_accuracy: 0.9560\n",
      "Epoch 68/100\n",
      "364/364 [==============================] - 0s 129us/sample - loss: 0.0121 - accuracy: 1.0000 - val_loss: 0.1209 - val_accuracy: 0.9560\n",
      "Epoch 69/100\n",
      "364/364 [==============================] - 0s 93us/sample - loss: 0.0118 - accuracy: 1.0000 - val_loss: 0.1216 - val_accuracy: 0.9560\n",
      "Epoch 70/100\n",
      "364/364 [==============================] - 0s 132us/sample - loss: 0.0114 - accuracy: 1.0000 - val_loss: 0.1212 - val_accuracy: 0.9560\n",
      "Epoch 71/100\n",
      "364/364 [==============================] - 0s 151us/sample - loss: 0.0110 - accuracy: 1.0000 - val_loss: 0.1225 - val_accuracy: 0.9560\n",
      "Epoch 72/100\n",
      "364/364 [==============================] - 0s 126us/sample - loss: 0.0105 - accuracy: 1.0000 - val_loss: 0.1228 - val_accuracy: 0.9560\n",
      "Epoch 73/100\n",
      "364/364 [==============================] - 0s 113us/sample - loss: 0.0102 - accuracy: 1.0000 - val_loss: 0.1223 - val_accuracy: 0.9560\n",
      "Epoch 74/100\n",
      "364/364 [==============================] - 0s 222us/sample - loss: 0.0098 - accuracy: 1.0000 - val_loss: 0.1229 - val_accuracy: 0.9560\n",
      "Epoch 75/100\n",
      "364/364 [==============================] - 0s 437us/sample - loss: 0.0096 - accuracy: 1.0000 - val_loss: 0.1230 - val_accuracy: 0.9560\n",
      "Epoch 76/100\n",
      "364/364 [==============================] - 0s 357us/sample - loss: 0.0092 - accuracy: 1.0000 - val_loss: 0.1242 - val_accuracy: 0.9560\n",
      "Epoch 77/100\n",
      "364/364 [==============================] - 0s 187us/sample - loss: 0.0089 - accuracy: 1.0000 - val_loss: 0.1252 - val_accuracy: 0.9560\n",
      "Epoch 78/100\n",
      "364/364 [==============================] - 0s 91us/sample - loss: 0.0086 - accuracy: 1.0000 - val_loss: 0.1257 - val_accuracy: 0.9560\n",
      "Epoch 79/100\n",
      "364/364 [==============================] - 0s 225us/sample - loss: 0.0083 - accuracy: 1.0000 - val_loss: 0.1265 - val_accuracy: 0.9560\n",
      "Epoch 80/100\n",
      "364/364 [==============================] - 0s 151us/sample - loss: 0.0080 - accuracy: 1.0000 - val_loss: 0.1269 - val_accuracy: 0.9560\n",
      "Epoch 81/100\n",
      "364/364 [==============================] - 0s 156us/sample - loss: 0.0077 - accuracy: 1.0000 - val_loss: 0.1275 - val_accuracy: 0.9560\n",
      "Epoch 82/100\n",
      "364/364 [==============================] - 0s 88us/sample - loss: 0.0075 - accuracy: 1.0000 - val_loss: 0.1274 - val_accuracy: 0.9560\n",
      "Epoch 83/100\n",
      "364/364 [==============================] - 0s 96us/sample - loss: 0.0073 - accuracy: 1.0000 - val_loss: 0.1278 - val_accuracy: 0.9451\n",
      "Epoch 84/100\n",
      "364/364 [==============================] - 0s 74us/sample - loss: 0.0070 - accuracy: 1.0000 - val_loss: 0.1281 - val_accuracy: 0.9560\n",
      "Epoch 85/100\n",
      "364/364 [==============================] - 0s 349us/sample - loss: 0.0068 - accuracy: 1.0000 - val_loss: 0.1278 - val_accuracy: 0.9560\n",
      "Epoch 86/100\n",
      "364/364 [==============================] - 0s 85us/sample - loss: 0.0066 - accuracy: 1.0000 - val_loss: 0.1271 - val_accuracy: 0.9560\n",
      "Epoch 87/100\n",
      "364/364 [==============================] - 0s 71us/sample - loss: 0.0063 - accuracy: 1.0000 - val_loss: 0.1276 - val_accuracy: 0.9560\n",
      "Epoch 88/100\n",
      "364/364 [==============================] - 0s 82us/sample - loss: 0.0061 - accuracy: 1.0000 - val_loss: 0.1290 - val_accuracy: 0.9451\n",
      "Epoch 89/100\n",
      "364/364 [==============================] - 0s 80us/sample - loss: 0.0059 - accuracy: 1.0000 - val_loss: 0.1306 - val_accuracy: 0.9451\n",
      "Epoch 90/100\n",
      "364/364 [==============================] - 0s 148us/sample - loss: 0.0058 - accuracy: 1.0000 - val_loss: 0.1320 - val_accuracy: 0.9451\n",
      "Epoch 91/100\n",
      "364/364 [==============================] - 0s 159us/sample - loss: 0.0056 - accuracy: 1.0000 - val_loss: 0.1327 - val_accuracy: 0.9451\n",
      "Epoch 92/100\n",
      "364/364 [==============================] - 0s 102us/sample - loss: 0.0054 - accuracy: 1.0000 - val_loss: 0.1330 - val_accuracy: 0.9451\n",
      "Epoch 93/100\n",
      "364/364 [==============================] - 0s 99us/sample - loss: 0.0053 - accuracy: 1.0000 - val_loss: 0.1330 - val_accuracy: 0.9451\n",
      "Epoch 94/100\n",
      "364/364 [==============================] - 0s 91us/sample - loss: 0.0051 - accuracy: 1.0000 - val_loss: 0.1331 - val_accuracy: 0.9451\n",
      "Epoch 95/100\n",
      "364/364 [==============================] - 0s 74us/sample - loss: 0.0049 - accuracy: 1.0000 - val_loss: 0.1327 - val_accuracy: 0.9451\n",
      "Epoch 96/100\n",
      "364/364 [==============================] - 0s 71us/sample - loss: 0.0048 - accuracy: 1.0000 - val_loss: 0.1335 - val_accuracy: 0.9451\n",
      "Epoch 97/100\n",
      "364/364 [==============================] - 0s 107us/sample - loss: 0.0046 - accuracy: 1.0000 - val_loss: 0.1345 - val_accuracy: 0.9451\n",
      "Epoch 98/100\n",
      "364/364 [==============================] - 0s 71us/sample - loss: 0.0045 - accuracy: 1.0000 - val_loss: 0.1355 - val_accuracy: 0.9451\n",
      "Epoch 99/100\n",
      "364/364 [==============================] - 0s 88us/sample - loss: 0.0044 - accuracy: 1.0000 - val_loss: 0.1358 - val_accuracy: 0.9451\n",
      "Epoch 100/100\n",
      "364/364 [==============================] - 0s 80us/sample - loss: 0.0042 - accuracy: 1.0000 - val_loss: 0.1358 - val_accuracy: 0.9451\n"
     ]
    }
   ],
   "source": [
    "\n",
    "hist2 = model2.fit(X_train2, y_train2, validation_split=0.2,\n",
    "                                epochs=100, batch_size=100)"
   ]
  },
  {
   "cell_type": "markdown",
   "metadata": {},
   "source": [
    "- 모델 평가"
   ]
  },
  {
   "cell_type": "code",
   "execution_count": 18,
   "metadata": {},
   "outputs": [
    {
     "name": "stdout",
     "output_type": "stream",
     "text": [
      "114/1 [============================================================================================================================================================================================================================================================================================================================================================================================================================================================================================================================================================================================================================================================================================================================================================================================================================================================================================================================================================================================================================================================================================================================================================================================================================================================================================================================================================================================================================================================================================================================================================================================================================================================================================================================================================================================================================================================================================================================================================================================================================================================================================================================================================================================================================================================================================================================================================================================================================================================================================================================================================================================================================================================================================================================================================================================================================================================================================================================================================================================================================================================================================================================================================================================================================================================================================================================================================================================================================================================================================================================================================] - 0s 61us/sample - loss: 0.2211 - accuracy: 0.9825\n"
     ]
    },
    {
     "data": {
      "text/plain": [
       "[0.0786508604099876, 0.98245615]"
      ]
     },
     "execution_count": 18,
     "metadata": {},
     "output_type": "execute_result"
    }
   ],
   "source": [
    "model2.evaluate(X_test2, y_test2)"
   ]
  },
  {
   "cell_type": "markdown",
   "metadata": {},
   "source": [
    "- 학습과정 시각화"
   ]
  },
  {
   "cell_type": "code",
   "execution_count": 19,
   "metadata": {},
   "outputs": [],
   "source": [
    "y_acc2 = hist2.history['accuracy']\n",
    "y_vloss2 = hist2.history['val_loss']\n",
    "xs = np.arange(1, len(y_acc2)+1)"
   ]
  },
  {
   "cell_type": "code",
   "execution_count": 20,
   "metadata": {},
   "outputs": [
    {
     "data": {
      "image/png": "[encoded data removed]",
      "text/plain": [
       "<Figure size 864x576 with 1 Axes>"
      ]
     },
     "metadata": {
      "needs_background": "light"
     },
     "output_type": "display_data"
    }
   ],
   "source": [
    "plt.figure(figsize=(12, 8))\n",
    "plt.plot(xs, y_acc2, label='train accuracy')\n",
    "plt.plot(xs, y_vloss2, label='validataion loss')\n",
    "plt.legend(), plt.grid()\n",
    "plt.ylim([0, 1.2])\n",
    "plt.xlabel('Epoch')\n",
    "plt.title('After feature transform')\n",
    "plt.show()"
   ]
  }
 ],
 "metadata": {
  "interpreter": {
   "hash": "9f5feb42f08914aecde0ece13ac07afe9f84906579ba918f8c70eb200f669000"
  },
  "kernelspec": {
   "display_name": "Python 3.7.6 ('min')",
   "language": "python",
   "name": "python3"
  },
  "language_info": {
   "codemirror_mode": {
    "name": "ipython",
    "version": 3
   },
   "file_extension": ".py",
   "mimetype": "text/x-python",
   "name": "python",
   "nbconvert_exporter": "python",
   "pygments_lexer": "ipython3",
   "version": "3.7.6"
  },
  "orig_nbformat": 4
 },
 "nbformat": 4,
 "nbformat_minor": 2
}
