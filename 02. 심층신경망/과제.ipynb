{
 "cells": [
  {
   "cell_type": "code",
   "execution_count": 2,
   "metadata": {},
   "outputs": [],
   "source": [
    "import numpy as np\n",
    "import pandas as pd\n",
    "import matplotlib.pyplot as plt\n",
    "import tensorflow as tf\n",
    "seed = 2022\n",
    "np.random.seed(seed)\n",
    "tf.random.set_seed(seed)"
   ]
  },
  {
   "cell_type": "code",
   "execution_count": 3,
   "metadata": {},
   "outputs": [],
   "source": [
    "from sklearn.datasets import load_digits\n",
    "from sklearn.preprocessing import StandardScaler\n",
    "from tensorflow.keras.utils import to_categorical\n",
    "from sklearn.model_selection import train_test_split"
   ]
  },
  {
   "cell_type": "code",
   "execution_count": 4,
   "metadata": {},
   "outputs": [],
   "source": [
    "digits = load_digits()\n",
    "digits_std = StandardScaler().fit_transform(digits.data)\n",
    "y_onehot = to_categorical(digits.target)\n",
    "X_train, X_test, Y_train, Y_test = train_test_split(\n",
    "    digits_std, y_onehot, stratify=y_onehot, test_size=0.2, random_state=seed\n",
    ")"
   ]
  },
  {
   "cell_type": "code",
   "execution_count": 5,
   "metadata": {},
   "outputs": [
    {
     "data": {
      "text/plain": [
       "(1797, 64)"
      ]
     },
     "execution_count": 5,
     "metadata": {},
     "output_type": "execute_result"
    }
   ],
   "source": [
    "digits.data.shape"
   ]
  },
  {
   "cell_type": "code",
   "execution_count": 6,
   "metadata": {},
   "outputs": [],
   "source": [
    "from tensorflow.keras.models import Sequential, load_model\n",
    "from tensorflow.keras.layers import Dense\n",
    "from tensorflow.keras.callbacks import ModelCheckpoint, EarlyStopping"
   ]
  },
  {
   "cell_type": "code",
   "execution_count": 74,
   "metadata": {},
   "outputs": [],
   "source": [
    "del model"
   ]
  },
  {
   "cell_type": "code",
   "execution_count": 75,
   "metadata": {},
   "outputs": [
    {
     "name": "stdout",
     "output_type": "stream",
     "text": [
      "Model: \"sequential_15\"\n",
      "_________________________________________________________________\n",
      "Layer (type)                 Output Shape              Param #   \n",
      "=================================================================\n",
      "dense_59 (Dense)             (None, 100)               6500      \n",
      "_________________________________________________________________\n",
      "dense_60 (Dense)             (None, 93)                9393      \n",
      "_________________________________________________________________\n",
      "dense_61 (Dense)             (None, 84)                7896      \n",
      "_________________________________________________________________\n",
      "dense_62 (Dense)             (None, 10)                850       \n",
      "=================================================================\n",
      "Total params: 24,639\n",
      "Trainable params: 24,639\n",
      "Non-trainable params: 0\n",
      "_________________________________________________________________\n"
     ]
    }
   ],
   "source": [
    "model = Sequential([\n",
    "    Dense(100, input_dim=64, activation='relu'),\n",
    "    Dense(93, activation='relu'),\n",
    "    Dense(84, activation='relu'),\n",
    "    Dense(10, activation='softmax')\n",
    "])\n",
    "model.summary()"
   ]
  },
  {
   "cell_type": "code",
   "execution_count": 76,
   "metadata": {},
   "outputs": [],
   "source": [
    "model.compile('adam', 'categorical_crossentropy', ['accuracy'])"
   ]
  },
  {
   "cell_type": "code",
   "execution_count": 77,
   "metadata": {},
   "outputs": [],
   "source": [
    "mc = ModelCheckpoint('digit_best.h5py', monitor='val_loss',\n",
    "                                        verbose=1, save_best_only=True)\n",
    "es = EarlyStopping(patience=30)"
   ]
  },
  {
   "cell_type": "code",
   "execution_count": 78,
   "metadata": {},
   "outputs": [
    {
     "name": "stdout",
     "output_type": "stream",
     "text": [
      "\n",
      "Epoch 00001: val_loss improved from inf to 1.83502, saving model to digit_best.h5py\n",
      "INFO:tensorflow:Assets written to: digit_best.h5py\\assets\n",
      "\n",
      "Epoch 00002: val_loss improved from 1.83502 to 1.17722, saving model to digit_best.h5py\n",
      "INFO:tensorflow:Assets written to: digit_best.h5py\\assets\n",
      "\n",
      "Epoch 00003: val_loss improved from 1.17722 to 0.60045, saving model to digit_best.h5py\n",
      "INFO:tensorflow:Assets written to: digit_best.h5py\\assets\n",
      "\n",
      "Epoch 00004: val_loss improved from 0.60045 to 0.36119, saving model to digit_best.h5py\n",
      "INFO:tensorflow:Assets written to: digit_best.h5py\\assets\n",
      "\n",
      "Epoch 00005: val_loss improved from 0.36119 to 0.26223, saving model to digit_best.h5py\n",
      "INFO:tensorflow:Assets written to: digit_best.h5py\\assets\n",
      "\n",
      "Epoch 00006: val_loss improved from 0.26223 to 0.21424, saving model to digit_best.h5py\n",
      "INFO:tensorflow:Assets written to: digit_best.h5py\\assets\n",
      "\n",
      "Epoch 00007: val_loss improved from 0.21424 to 0.19310, saving model to digit_best.h5py\n",
      "INFO:tensorflow:Assets written to: digit_best.h5py\\assets\n",
      "\n",
      "Epoch 00008: val_loss improved from 0.19310 to 0.17131, saving model to digit_best.h5py\n",
      "INFO:tensorflow:Assets written to: digit_best.h5py\\assets\n",
      "\n",
      "Epoch 00009: val_loss improved from 0.17131 to 0.17014, saving model to digit_best.h5py\n",
      "INFO:tensorflow:Assets written to: digit_best.h5py\\assets\n",
      "\n",
      "Epoch 00010: val_loss improved from 0.17014 to 0.15292, saving model to digit_best.h5py\n",
      "INFO:tensorflow:Assets written to: digit_best.h5py\\assets\n",
      "\n",
      "Epoch 00011: val_loss improved from 0.15292 to 0.14895, saving model to digit_best.h5py\n",
      "INFO:tensorflow:Assets written to: digit_best.h5py\\assets\n",
      "\n",
      "Epoch 00012: val_loss improved from 0.14895 to 0.14643, saving model to digit_best.h5py\n",
      "INFO:tensorflow:Assets written to: digit_best.h5py\\assets\n",
      "\n",
      "Epoch 00013: val_loss improved from 0.14643 to 0.14135, saving model to digit_best.h5py\n",
      "INFO:tensorflow:Assets written to: digit_best.h5py\\assets\n",
      "\n",
      "Epoch 00014: val_loss did not improve from 0.14135\n",
      "\n",
      "Epoch 00015: val_loss improved from 0.14135 to 0.13488, saving model to digit_best.h5py\n",
      "INFO:tensorflow:Assets written to: digit_best.h5py\\assets\n",
      "\n",
      "Epoch 00016: val_loss improved from 0.13488 to 0.13330, saving model to digit_best.h5py\n",
      "INFO:tensorflow:Assets written to: digit_best.h5py\\assets\n",
      "\n",
      "Epoch 00017: val_loss did not improve from 0.13330\n",
      "\n",
      "Epoch 00018: val_loss did not improve from 0.13330\n",
      "\n",
      "Epoch 00019: val_loss improved from 0.13330 to 0.12943, saving model to digit_best.h5py\n",
      "INFO:tensorflow:Assets written to: digit_best.h5py\\assets\n",
      "\n",
      "Epoch 00020: val_loss did not improve from 0.12943\n",
      "\n",
      "Epoch 00021: val_loss did not improve from 0.12943\n",
      "\n",
      "Epoch 00022: val_loss did not improve from 0.12943\n",
      "\n",
      "Epoch 00023: val_loss improved from 0.12943 to 0.12850, saving model to digit_best.h5py\n",
      "INFO:tensorflow:Assets written to: digit_best.h5py\\assets\n",
      "\n",
      "Epoch 00024: val_loss did not improve from 0.12850\n",
      "\n",
      "Epoch 00025: val_loss did not improve from 0.12850\n",
      "\n",
      "Epoch 00026: val_loss did not improve from 0.12850\n",
      "\n",
      "Epoch 00027: val_loss did not improve from 0.12850\n",
      "\n",
      "Epoch 00028: val_loss did not improve from 0.12850\n",
      "\n",
      "Epoch 00029: val_loss did not improve from 0.12850\n",
      "\n",
      "Epoch 00030: val_loss did not improve from 0.12850\n",
      "\n",
      "Epoch 00031: val_loss did not improve from 0.12850\n",
      "\n",
      "Epoch 00032: val_loss did not improve from 0.12850\n",
      "\n",
      "Epoch 00033: val_loss did not improve from 0.12850\n",
      "\n",
      "Epoch 00034: val_loss did not improve from 0.12850\n",
      "\n",
      "Epoch 00035: val_loss did not improve from 0.12850\n",
      "\n",
      "Epoch 00036: val_loss did not improve from 0.12850\n",
      "\n",
      "Epoch 00037: val_loss did not improve from 0.12850\n",
      "\n",
      "Epoch 00038: val_loss did not improve from 0.12850\n",
      "\n",
      "Epoch 00039: val_loss did not improve from 0.12850\n",
      "\n",
      "Epoch 00040: val_loss did not improve from 0.12850\n",
      "\n",
      "Epoch 00041: val_loss did not improve from 0.12850\n",
      "\n",
      "Epoch 00042: val_loss did not improve from 0.12850\n",
      "\n",
      "Epoch 00043: val_loss did not improve from 0.12850\n",
      "\n",
      "Epoch 00044: val_loss did not improve from 0.12850\n",
      "\n",
      "Epoch 00045: val_loss did not improve from 0.12850\n",
      "\n",
      "Epoch 00046: val_loss did not improve from 0.12850\n",
      "\n",
      "Epoch 00047: val_loss did not improve from 0.12850\n",
      "\n",
      "Epoch 00048: val_loss did not improve from 0.12850\n",
      "\n",
      "Epoch 00049: val_loss did not improve from 0.12850\n",
      "\n",
      "Epoch 00050: val_loss did not improve from 0.12850\n",
      "\n",
      "Epoch 00051: val_loss did not improve from 0.12850\n",
      "\n",
      "Epoch 00052: val_loss did not improve from 0.12850\n",
      "\n",
      "Epoch 00053: val_loss did not improve from 0.12850\n"
     ]
    }
   ],
   "source": [
    "hist = model.fit(X_train, Y_train, validation_split=0.2,\n",
    "                            epochs=1000, batch_size=100, verbose=0,\n",
    "                            callbacks=[mc, es])"
   ]
  },
  {
   "cell_type": "code",
   "execution_count": 79,
   "metadata": {},
   "outputs": [
    {
     "name": "stdout",
     "output_type": "stream",
     "text": [
      "360/1 [================================================================================================================================================================================================================================================================================================================================================================================================================================================================================================================================================================================================================================================================================================================================================================================================================================================================================================================================================================================================================================================================================================================================================================================================================================================================================================================================================================================================================================================================================================================================================================================================================================================================================================================================================================================================================================================================================================================================================================================================================================================================================================================================================================================================================================================================================================================================================================================================================================================================================================================================================================================================================================================================================================================================================================================================================================================================================================================================================================================================================================================================================================================================================================================================================================================================================================================================================================================================================================================================================================================================================================================================================================================================================================================================================================================================================================================================================================================================================================================================================================================================================================================================================================================================================================================================================================================================================================================================================================================================================================================================================================================================================================================================================================================================================================================================================================================================================================================================================================================================================================================================================================================================================================================================================================================================================================================================================================================================================================================================================================================================================================================================================================================================================================================================================================================================================================================================================================================================================================================================================================================================================================================================================================================================================================================================================================================================================================================================================================================================================================================================================================================================================================================================================================================================================================================================================================================================================================================================================================================================================================================================================================================================================================================================================================================================================================================================================================================================================================================================================================================================================================================================================================================================================================================================================================================================================================================================================================================================================================================================================================================================================================================================================================================================================================================================================================================================================================================================================================================================================================================================================================================================================================================================================================================================================================================================================================================================================================================================================================================================================================================================================================================================================================================================================================================================================================================================================================================================================================================================================================================================================================================================================================================================================================================================================================================================================================================================================================================================================================================================================================================================================================================================================================================================================================================================================================================================================================================================================================================================================================================================================================================================================================================================================================================================================================================================================================================================================================================================================================================================================================================================================================================================================================================================================================================] - 0s 341us/sample - loss: 0.0312 - accuracy: 0.9778\n"
     ]
    },
    {
     "data": {
      "text/plain": [
       "[0.05994543820205662, 0.9777778]"
      ]
     },
     "execution_count": 79,
     "metadata": {},
     "output_type": "execute_result"
    }
   ],
   "source": [
    "best_model = load_model('digit_best.h5py')\n",
    "best_model.evaluate(X_test, Y_test)"
   ]
  },
  {
   "cell_type": "code",
   "execution_count": 80,
   "metadata": {},
   "outputs": [],
   "source": [
    "y_acc = hist.history['accuracy']\n",
    "y_vloss = hist.history['val_loss']\n",
    "xs = np.arange(1, len(y_acc) + 1)"
   ]
  },
  {
   "cell_type": "code",
   "execution_count": 81,
   "metadata": {},
   "outputs": [
    {
     "data": {
      "image/png": "[encoded data removed]",
      "text/plain": [
       "<Figure size 864x576 with 1 Axes>"
      ]
     },
     "metadata": {
      "needs_background": "light"
     },
     "output_type": "display_data"
    }
   ],
   "source": [
    "plt.figure(figsize=(12, 8))\n",
    "plt.plot(xs, y_acc, label='train accuracy')\n",
    "plt.plot(xs, y_vloss, label='validataion loss')\n",
    "plt.legend(), plt.grid()\n",
    "plt.ylim([0, 1.2])\n",
    "plt.xlabel('Epoch')\n",
    "plt.show()"
   ]
  },
  {
   "cell_type": "code",
   "execution_count": null,
   "metadata": {},
   "outputs": [],
   "source": []
  }
 ],
 "metadata": {
  "interpreter": {
   "hash": "9f5feb42f08914aecde0ece13ac07afe9f84906579ba918f8c70eb200f669000"
  },
  "kernelspec": {
   "display_name": "Python 3",
   "language": "python",
   "name": "python3"
  },
  "language_info": {
   "codemirror_mode": {
    "name": "ipython",
    "version": 3
   },
   "file_extension": ".py",
   "mimetype": "text/x-python",
   "name": "python",
   "nbconvert_exporter": "python",
   "pygments_lexer": "ipython3",
   "version": "3.7.6"
  },
  "toc": {
   "base_numbering": 1,
   "nav_menu": {},
   "number_sections": true,
   "sideBar": true,
   "skip_h1_title": false,
   "title_cell": "Table of Contents",
   "title_sidebar": "Contents",
   "toc_cell": false,
   "toc_position": {},
   "toc_section_display": true,
   "toc_window_display": false
  },
  "varInspector": {
   "cols": {
    "lenName": 16,
    "lenType": 16,
    "lenVar": 40
   },
   "kernels_config": {
    "python": {
     "delete_cmd_postfix": "",
     "delete_cmd_prefix": "del ",
     "library": "var_list.py",
     "varRefreshCmd": "print(var_dic_list())"
    },
    "r": {
     "delete_cmd_postfix": ") ",
     "delete_cmd_prefix": "rm(",
     "library": "var_list.r",
     "varRefreshCmd": "cat(var_dic_list()) "
    }
   },
   "types_to_exclude": [
    "module",
    "function",
    "builtin_function_or_method",
    "instance",
    "_Feature"
   ],
   "window_display": false
  }
 },
 "nbformat": 4,
 "nbformat_minor": 2
}
