{
 "cells": [
  {
   "cell_type": "markdown",
   "metadata": {},
   "source": [
    "# 회귀 - 캘리포니아 하우징"
   ]
  },
  {
   "cell_type": "code",
   "execution_count": 1,
   "metadata": {},
   "outputs": [],
   "source": [
    "import numpy as np\n",
    "import pandas as pd\n",
    "import matplotlib.pyplot as plt\n",
    "import tensorflow as tf\n",
    "seed = 2022\n",
    "np.random.seed(seed)\n",
    "tf.random.set_seed(seed)"
   ]
  },
  {
   "cell_type": "code",
   "execution_count": 2,
   "metadata": {},
   "outputs": [],
   "source": [
    "from sklearn.datasets import fetch_california_housing\n",
    "house = fetch_california_housing()"
   ]
  },
  {
   "cell_type": "code",
   "execution_count": 3,
   "metadata": {},
   "outputs": [
    {
     "data": {
      "text/html": [
       "<div>\n",
       "<style scoped>\n",
       "    .dataframe tbody tr th:only-of-type {\n",
       "        vertical-align: middle;\n",
       "    }\n",
       "\n",
       "    .dataframe tbody tr th {\n",
       "        vertical-align: top;\n",
       "    }\n",
       "\n",
       "    .dataframe thead th {\n",
       "        text-align: right;\n",
       "    }\n",
       "</style>\n",
       "<table border=\"1\" class=\"dataframe\">\n",
       "  <thead>\n",
       "    <tr style=\"text-align: right;\">\n",
       "      <th></th>\n",
       "      <th>MedInc</th>\n",
       "      <th>HouseAge</th>\n",
       "      <th>AveRooms</th>\n",
       "      <th>AveBedrms</th>\n",
       "      <th>Population</th>\n",
       "      <th>AveOccup</th>\n",
       "      <th>Latitude</th>\n",
       "      <th>Longitude</th>\n",
       "      <th>target</th>\n",
       "    </tr>\n",
       "  </thead>\n",
       "  <tbody>\n",
       "    <tr>\n",
       "      <th>0</th>\n",
       "      <td>8.3252</td>\n",
       "      <td>41.0</td>\n",
       "      <td>6.984127</td>\n",
       "      <td>1.023810</td>\n",
       "      <td>322.0</td>\n",
       "      <td>2.555556</td>\n",
       "      <td>37.88</td>\n",
       "      <td>-122.23</td>\n",
       "      <td>4.526</td>\n",
       "    </tr>\n",
       "    <tr>\n",
       "      <th>1</th>\n",
       "      <td>8.3014</td>\n",
       "      <td>21.0</td>\n",
       "      <td>6.238137</td>\n",
       "      <td>0.971880</td>\n",
       "      <td>2401.0</td>\n",
       "      <td>2.109842</td>\n",
       "      <td>37.86</td>\n",
       "      <td>-122.22</td>\n",
       "      <td>3.585</td>\n",
       "    </tr>\n",
       "    <tr>\n",
       "      <th>2</th>\n",
       "      <td>7.2574</td>\n",
       "      <td>52.0</td>\n",
       "      <td>8.288136</td>\n",
       "      <td>1.073446</td>\n",
       "      <td>496.0</td>\n",
       "      <td>2.802260</td>\n",
       "      <td>37.85</td>\n",
       "      <td>-122.24</td>\n",
       "      <td>3.521</td>\n",
       "    </tr>\n",
       "    <tr>\n",
       "      <th>3</th>\n",
       "      <td>5.6431</td>\n",
       "      <td>52.0</td>\n",
       "      <td>5.817352</td>\n",
       "      <td>1.073059</td>\n",
       "      <td>558.0</td>\n",
       "      <td>2.547945</td>\n",
       "      <td>37.85</td>\n",
       "      <td>-122.25</td>\n",
       "      <td>3.413</td>\n",
       "    </tr>\n",
       "    <tr>\n",
       "      <th>4</th>\n",
       "      <td>3.8462</td>\n",
       "      <td>52.0</td>\n",
       "      <td>6.281853</td>\n",
       "      <td>1.081081</td>\n",
       "      <td>565.0</td>\n",
       "      <td>2.181467</td>\n",
       "      <td>37.85</td>\n",
       "      <td>-122.25</td>\n",
       "      <td>3.422</td>\n",
       "    </tr>\n",
       "  </tbody>\n",
       "</table>\n",
       "</div>"
      ],
      "text/plain": [
       "   MedInc  HouseAge  AveRooms  AveBedrms  Population  AveOccup  Latitude  \\\n",
       "0  8.3252      41.0  6.984127   1.023810       322.0  2.555556     37.88   \n",
       "1  8.3014      21.0  6.238137   0.971880      2401.0  2.109842     37.86   \n",
       "2  7.2574      52.0  8.288136   1.073446       496.0  2.802260     37.85   \n",
       "3  5.6431      52.0  5.817352   1.073059       558.0  2.547945     37.85   \n",
       "4  3.8462      52.0  6.281853   1.081081       565.0  2.181467     37.85   \n",
       "\n",
       "   Longitude  target  \n",
       "0    -122.23   4.526  \n",
       "1    -122.22   3.585  \n",
       "2    -122.24   3.521  \n",
       "3    -122.25   3.413  \n",
       "4    -122.25   3.422  "
      ]
     },
     "execution_count": 3,
     "metadata": {},
     "output_type": "execute_result"
    }
   ],
   "source": [
    "df = pd.DataFrame(house.data, columns=house.feature_names)\n",
    "df['target'] = house.target\n",
    "df.head()"
   ]
  },
  {
   "cell_type": "code",
   "execution_count": 4,
   "metadata": {},
   "outputs": [
    {
     "data": {
      "text/plain": [
       "(20640, 9)"
      ]
     },
     "execution_count": 4,
     "metadata": {},
     "output_type": "execute_result"
    }
   ],
   "source": [
    "df.shape"
   ]
  },
  {
   "cell_type": "code",
   "execution_count": 5,
   "metadata": {},
   "outputs": [],
   "source": [
    "from sklearn.model_selection import train_test_split\n",
    "X_train, X_test, y_train, y_test = train_test_split(\n",
    "    house.data, house.target, test_size=0.2, random_state=seed\n",
    ")"
   ]
  },
  {
   "cell_type": "markdown",
   "metadata": {},
   "source": [
    "- 회귀모델 정의/설정/학습/평가"
   ]
  },
  {
   "cell_type": "code",
   "execution_count": 6,
   "metadata": {},
   "outputs": [],
   "source": [
    "from tensorflow.keras.models import Sequential\n",
    "from tensorflow.keras.layers import Dense"
   ]
  },
  {
   "cell_type": "code",
   "execution_count": 27,
   "metadata": {},
   "outputs": [
    {
     "name": "stdout",
     "output_type": "stream",
     "text": [
      "Model: \"sequential_2\"\n",
      "_________________________________________________________________\n",
      "Layer (type)                 Output Shape              Param #   \n",
      "=================================================================\n",
      "dense_6 (Dense)              (None, 20)                180       \n",
      "_________________________________________________________________\n",
      "dense_7 (Dense)              (None, 6)                 126       \n",
      "_________________________________________________________________\n",
      "dense_8 (Dense)              (None, 1)                 7         \n",
      "=================================================================\n",
      "Total params: 313\n",
      "Trainable params: 313\n",
      "Non-trainable params: 0\n",
      "_________________________________________________________________\n"
     ]
    }
   ],
   "source": [
    "model = Sequential([\n",
    "    Dense(20, input_dim=8, activation='relu'),\n",
    "    Dense(6, activation='relu'),\n",
    "    Dense(1)                                    # 회귀에서는 출력층에 활성화함수를 사용하지 않음\n",
    "])\n",
    "model.summary()"
   ]
  },
  {
   "cell_type": "code",
   "execution_count": 28,
   "metadata": {},
   "outputs": [],
   "source": [
    "model.compile(optimizer='rmsprop', loss='mean_squared_error')        # 회귀에서는 metrics 사용하지 않음"
   ]
  },
  {
   "cell_type": "code",
   "execution_count": 29,
   "metadata": {},
   "outputs": [
    {
     "name": "stdout",
     "output_type": "stream",
     "text": [
      "Train on 14860 samples, validate on 1652 samples\n",
      "Epoch 1/100\n",
      "14860/14860 [==============================] - 1s 46us/sample - loss: 22895.1452 - val_loss: 302.2048\n",
      "Epoch 2/100\n",
      "14860/14860 [==============================] - 0s 8us/sample - loss: 95.9567 - val_loss: 59.1271\n",
      "Epoch 3/100\n",
      "14860/14860 [==============================] - 0s 16us/sample - loss: 18.8789 - val_loss: 6.7924\n",
      "Epoch 4/100\n",
      "14860/14860 [==============================] - 0s 12us/sample - loss: 16.5403 - val_loss: 5.6200\n",
      "Epoch 5/100\n",
      "14860/14860 [==============================] - 0s 8us/sample - loss: 12.4770 - val_loss: 3.4467\n",
      "Epoch 6/100\n",
      "14860/14860 [==============================] - 0s 7us/sample - loss: 11.8311 - val_loss: 15.0861\n",
      "Epoch 7/100\n",
      "14860/14860 [==============================] - 0s 8us/sample - loss: 12.2467 - val_loss: 34.3953\n",
      "Epoch 8/100\n",
      "14860/14860 [==============================] - 0s 8us/sample - loss: 10.8459 - val_loss: 22.9160\n",
      "Epoch 9/100\n",
      "14860/14860 [==============================] - 0s 7us/sample - loss: 14.1027 - val_loss: 2.8567\n",
      "Epoch 10/100\n",
      "14860/14860 [==============================] - 0s 7us/sample - loss: 9.3544 - val_loss: 2.1798\n",
      "Epoch 11/100\n",
      "14860/14860 [==============================] - 0s 7us/sample - loss: 12.0514 - val_loss: 1.6725\n",
      "Epoch 12/100\n",
      "14860/14860 [==============================] - 0s 8us/sample - loss: 9.8510 - val_loss: 1.8919\n",
      "Epoch 13/100\n",
      "14860/14860 [==============================] - 0s 12us/sample - loss: 10.5443 - val_loss: 8.2654\n",
      "Epoch 14/100\n",
      "14860/14860 [==============================] - 0s 9us/sample - loss: 10.8539 - val_loss: 1.6233\n",
      "Epoch 15/100\n",
      "14860/14860 [==============================] - 0s 9us/sample - loss: 9.8098 - val_loss: 11.5073\n",
      "Epoch 16/100\n",
      "14860/14860 [==============================] - 0s 14us/sample - loss: 9.3503 - val_loss: 1.6387\n",
      "Epoch 17/100\n",
      "14860/14860 [==============================] - 0s 12us/sample - loss: 9.9563 - val_loss: 3.8821\n",
      "Epoch 18/100\n",
      "14860/14860 [==============================] - 0s 13us/sample - loss: 10.2998 - val_loss: 1.2429\n",
      "Epoch 19/100\n",
      "14860/14860 [==============================] - 0s 13us/sample - loss: 10.6747 - val_loss: 1.4538\n",
      "Epoch 20/100\n",
      "14860/14860 [==============================] - 0s 11us/sample - loss: 9.9664 - val_loss: 1.1767\n",
      "Epoch 21/100\n",
      "14860/14860 [==============================] - ETA: 0s - loss: 10.94 - 0s 10us/sample - loss: 10.6163 - val_loss: 1.1003\n",
      "Epoch 22/100\n",
      "14860/14860 [==============================] - 0s 8us/sample - loss: 9.7374 - val_loss: 8.7055\n",
      "Epoch 23/100\n",
      "14860/14860 [==============================] - 0s 7us/sample - loss: 10.9057 - val_loss: 1.1706\n",
      "Epoch 24/100\n",
      "14860/14860 [==============================] - 0s 9us/sample - loss: 8.5276 - val_loss: 1.1810\n",
      "Epoch 25/100\n",
      "14860/14860 [==============================] - 0s 11us/sample - loss: 9.4428 - val_loss: 62.3812\n",
      "Epoch 26/100\n",
      "14860/14860 [==============================] - 0s 8us/sample - loss: 9.5077 - val_loss: 60.9412\n",
      "Epoch 27/100\n",
      "14860/14860 [==============================] - 0s 8us/sample - loss: 9.6121 - val_loss: 3.0978\n",
      "Epoch 28/100\n",
      "14860/14860 [==============================] - 0s 10us/sample - loss: 9.9587 - val_loss: 0.9753\n",
      "Epoch 29/100\n",
      "14860/14860 [==============================] - 0s 8us/sample - loss: 9.5291 - val_loss: 2.4656\n",
      "Epoch 30/100\n",
      "14860/14860 [==============================] - 0s 8us/sample - loss: 8.0926 - val_loss: 44.3610\n",
      "Epoch 31/100\n",
      "14860/14860 [==============================] - 0s 8us/sample - loss: 9.1776 - val_loss: 2.5360\n",
      "Epoch 32/100\n",
      "14860/14860 [==============================] - 0s 7us/sample - loss: 11.0305 - val_loss: 1.7095\n",
      "Epoch 33/100\n",
      "14860/14860 [==============================] - 0s 8us/sample - loss: 7.9018 - val_loss: 79.1066\n",
      "Epoch 34/100\n",
      "14860/14860 [==============================] - 0s 9us/sample - loss: 7.9796 - val_loss: 1.7100\n",
      "Epoch 35/100\n",
      "14860/14860 [==============================] - 0s 8us/sample - loss: 8.6399 - val_loss: 6.8159\n",
      "Epoch 36/100\n",
      "14860/14860 [==============================] - 0s 8us/sample - loss: 8.9260 - val_loss: 3.9677\n",
      "Epoch 37/100\n",
      "14860/14860 [==============================] - 0s 8us/sample - loss: 8.9971 - val_loss: 1.0583\n",
      "Epoch 38/100\n",
      "14860/14860 [==============================] - 0s 7us/sample - loss: 8.8477 - val_loss: 1.5387\n",
      "Epoch 39/100\n",
      "14860/14860 [==============================] - 0s 7us/sample - loss: 9.3464 - val_loss: 3.8144\n",
      "Epoch 40/100\n",
      "14860/14860 [==============================] - 0s 10us/sample - loss: 8.4167 - val_loss: 1.0253\n",
      "Epoch 41/100\n",
      "14860/14860 [==============================] - 0s 9us/sample - loss: 7.8014 - val_loss: 5.1282\n",
      "Epoch 42/100\n",
      "14860/14860 [==============================] - 0s 8us/sample - loss: 9.4248 - val_loss: 12.1672\n",
      "Epoch 43/100\n",
      "14860/14860 [==============================] - 0s 7us/sample - loss: 8.9290 - val_loss: 1.1888\n",
      "Epoch 44/100\n",
      "14860/14860 [==============================] - 0s 7us/sample - loss: 7.9270 - val_loss: 1.1271\n",
      "Epoch 45/100\n",
      "14860/14860 [==============================] - 0s 7us/sample - loss: 6.5077 - val_loss: 0.9560\n",
      "Epoch 46/100\n",
      "14860/14860 [==============================] - 0s 8us/sample - loss: 8.4999 - val_loss: 4.3472\n",
      "Epoch 47/100\n",
      "14860/14860 [==============================] - 0s 7us/sample - loss: 8.0951 - val_loss: 10.6955\n",
      "Epoch 48/100\n",
      "14860/14860 [==============================] - 0s 7us/sample - loss: 9.2679 - val_loss: 0.9205\n",
      "Epoch 49/100\n",
      "14860/14860 [==============================] - 0s 9us/sample - loss: 7.7823 - val_loss: 0.8193\n",
      "Epoch 50/100\n",
      "14860/14860 [==============================] - 0s 8us/sample - loss: 8.6782 - val_loss: 0.9148\n",
      "Epoch 51/100\n",
      "14860/14860 [==============================] - 0s 8us/sample - loss: 8.4562 - val_loss: 2.2172\n",
      "Epoch 52/100\n",
      "14860/14860 [==============================] - 0s 8us/sample - loss: 8.4033 - val_loss: 0.8988\n",
      "Epoch 53/100\n",
      "14860/14860 [==============================] - 0s 8us/sample - loss: 7.7577 - val_loss: 1.2320\n",
      "Epoch 54/100\n",
      "14860/14860 [==============================] - 0s 8us/sample - loss: 7.9447 - val_loss: 1.7362\n",
      "Epoch 55/100\n",
      "14860/14860 [==============================] - 0s 7us/sample - loss: 8.2257 - val_loss: 1.3850\n",
      "Epoch 56/100\n",
      "14860/14860 [==============================] - 0s 7us/sample - loss: 7.8782 - val_loss: 0.7642\n",
      "Epoch 57/100\n",
      "14860/14860 [==============================] - 0s 8us/sample - loss: 9.3534 - val_loss: 0.8211\n",
      "Epoch 58/100\n",
      "14860/14860 [==============================] - 0s 8us/sample - loss: 5.9531 - val_loss: 1.2409\n",
      "Epoch 59/100\n",
      "14860/14860 [==============================] - 0s 7us/sample - loss: 8.6196 - val_loss: 0.8309\n",
      "Epoch 60/100\n",
      "14860/14860 [==============================] - 0s 8us/sample - loss: 7.6809 - val_loss: 4.5163\n",
      "Epoch 61/100\n",
      "14860/14860 [==============================] - 0s 8us/sample - loss: 7.8620 - val_loss: 79.7366\n",
      "Epoch 62/100\n",
      "14860/14860 [==============================] - 0s 7us/sample - loss: 6.9248 - val_loss: 3.8975\n",
      "Epoch 63/100\n",
      "14860/14860 [==============================] - 0s 7us/sample - loss: 7.2822 - val_loss: 19.2442\n",
      "Epoch 64/100\n",
      "14860/14860 [==============================] - 0s 8us/sample - loss: 7.5222 - val_loss: 0.8958\n",
      "Epoch 65/100\n",
      "14860/14860 [==============================] - 0s 8us/sample - loss: 7.6680 - val_loss: 16.1768\n",
      "Epoch 66/100\n",
      "14860/14860 [==============================] - 0s 8us/sample - loss: 7.3915 - val_loss: 0.7447\n",
      "Epoch 67/100\n",
      "14860/14860 [==============================] - 0s 8us/sample - loss: 7.1965 - val_loss: 0.7731\n",
      "Epoch 68/100\n",
      "14860/14860 [==============================] - 0s 8us/sample - loss: 7.1850 - val_loss: 0.7579\n",
      "Epoch 69/100\n",
      "14860/14860 [==============================] - 0s 8us/sample - loss: 7.3626 - val_loss: 17.3540\n",
      "Epoch 70/100\n",
      "14860/14860 [==============================] - 0s 7us/sample - loss: 7.3830 - val_loss: 3.8052\n",
      "Epoch 71/100\n",
      "14860/14860 [==============================] - 0s 8us/sample - loss: 8.6109 - val_loss: 17.1037\n",
      "Epoch 72/100\n",
      "14860/14860 [==============================] - 0s 8us/sample - loss: 7.8936 - val_loss: 0.7306\n",
      "Epoch 73/100\n",
      "14860/14860 [==============================] - 0s 7us/sample - loss: 7.1269 - val_loss: 0.8690\n",
      "Epoch 74/100\n",
      "14860/14860 [==============================] - 0s 8us/sample - loss: 7.4302 - val_loss: 1.4033\n",
      "Epoch 75/100\n",
      "14860/14860 [==============================] - 0s 8us/sample - loss: 7.5886 - val_loss: 1.1625\n",
      "Epoch 76/100\n",
      "14860/14860 [==============================] - 0s 8us/sample - loss: 6.6297 - val_loss: 0.7370\n",
      "Epoch 77/100\n",
      "14860/14860 [==============================] - 0s 8us/sample - loss: 7.4245 - val_loss: 4.9480\n",
      "Epoch 78/100\n",
      "14860/14860 [==============================] - 0s 15us/sample - loss: 6.4811 - val_loss: 29.3023\n",
      "Epoch 79/100\n",
      "14860/14860 [==============================] - 0s 9us/sample - loss: 7.0251 - val_loss: 0.8881\n",
      "Epoch 80/100\n",
      "14860/14860 [==============================] - 0s 7us/sample - loss: 8.0299 - val_loss: 0.6960\n",
      "Epoch 81/100\n",
      "14860/14860 [==============================] - 0s 7us/sample - loss: 6.8894 - val_loss: 1.1305\n",
      "Epoch 82/100\n",
      "14860/14860 [==============================] - 0s 8us/sample - loss: 7.3943 - val_loss: 6.8178\n",
      "Epoch 83/100\n",
      "14860/14860 [==============================] - 0s 8us/sample - loss: 6.9675 - val_loss: 1.2900\n",
      "Epoch 84/100\n",
      "14860/14860 [==============================] - 0s 8us/sample - loss: 6.4256 - val_loss: 1.1402\n",
      "Epoch 85/100\n",
      "14860/14860 [==============================] - 0s 9us/sample - loss: 7.9164 - val_loss: 1.9040\n",
      "Epoch 86/100\n",
      "14860/14860 [==============================] - 0s 9us/sample - loss: 4.9408 - val_loss: 10.9641\n",
      "Epoch 87/100\n",
      "14860/14860 [==============================] - 0s 10us/sample - loss: 7.0836 - val_loss: 6.4691\n",
      "Epoch 88/100\n",
      "14860/14860 [==============================] - 0s 11us/sample - loss: 6.6522 - val_loss: 0.7428\n",
      "Epoch 89/100\n",
      "14860/14860 [==============================] - 0s 9us/sample - loss: 7.1761 - val_loss: 17.5117\n",
      "Epoch 90/100\n",
      "14860/14860 [==============================] - 0s 9us/sample - loss: 6.2012 - val_loss: 83.3657\n",
      "Epoch 91/100\n",
      "14860/14860 [==============================] - 0s 9us/sample - loss: 7.8810 - val_loss: 0.8751\n",
      "Epoch 92/100\n",
      "14860/14860 [==============================] - 0s 13us/sample - loss: 6.2928 - val_loss: 1.2081\n",
      "Epoch 93/100\n",
      "14860/14860 [==============================] - 0s 14us/sample - loss: 6.3585 - val_loss: 1.0659\n",
      "Epoch 94/100\n",
      "14860/14860 [==============================] - 0s 10us/sample - loss: 7.1877 - val_loss: 0.7475\n",
      "Epoch 95/100\n",
      "14860/14860 [==============================] - 0s 8us/sample - loss: 6.5415 - val_loss: 9.3648\n",
      "Epoch 96/100\n",
      "14860/14860 [==============================] - 0s 8us/sample - loss: 6.1233 - val_loss: 37.2994\n",
      "Epoch 97/100\n",
      "14860/14860 [==============================] - 0s 11us/sample - loss: 5.8801 - val_loss: 50.6779\n",
      "Epoch 98/100\n",
      "14860/14860 [==============================] - 0s 10us/sample - loss: 7.1130 - val_loss: 1.3361\n",
      "Epoch 99/100\n",
      "14860/14860 [==============================] - 0s 14us/sample - loss: 5.9465 - val_loss: 0.8736\n",
      "Epoch 100/100\n",
      "14860/14860 [==============================] - 0s 11us/sample - loss: 7.2992 - val_loss: 9.3715\n"
     ]
    }
   ],
   "source": [
    "hist = model.fit(X_train, y_train, validation_split=0.1,\n",
    "                            epochs=100, batch_size=256)"
   ]
  },
  {
   "cell_type": "markdown",
   "metadata": {},
   "source": [
    "- 학습과정 시각화"
   ]
  },
  {
   "cell_type": "code",
   "execution_count": 30,
   "metadata": {},
   "outputs": [],
   "source": [
    "y_loss = hist.history['loss']\n",
    "y_vloss = hist.history['val_loss']\n",
    "xs = np.arange(1, len(y_loss)+1)"
   ]
  },
  {
   "cell_type": "code",
   "execution_count": 33,
   "metadata": {},
   "outputs": [
    {
     "data": {
      "image/png": "[encoded data removed]",
      "text/plain": [
       "<Figure size 864x576 with 1 Axes>"
      ]
     },
     "metadata": {
      "needs_background": "light"
     },
     "output_type": "display_data"
    }
   ],
   "source": [
    "plt.figure(figsize=(12, 8))\n",
    "plt.plot(xs, y_loss, label='train loss')\n",
    "plt.plot(xs, y_vloss, label='validataion loss')\n",
    "plt.legend(), plt.grid(), plt.ylim(0, 300)\n",
    "plt.xlabel('Epoch')\n",
    "plt.show()"
   ]
  },
  {
   "cell_type": "markdown",
   "metadata": {},
   "source": [
    "- 평가"
   ]
  },
  {
   "cell_type": "code",
   "execution_count": 34,
   "metadata": {},
   "outputs": [],
   "source": [
    "pred = model.predict(X_test)"
   ]
  },
  {
   "cell_type": "code",
   "execution_count": 35,
   "metadata": {},
   "outputs": [
    {
     "data": {
      "text/html": [
       "<div>\n",
       "<style scoped>\n",
       "    .dataframe tbody tr th:only-of-type {\n",
       "        vertical-align: middle;\n",
       "    }\n",
       "\n",
       "    .dataframe tbody tr th {\n",
       "        vertical-align: top;\n",
       "    }\n",
       "\n",
       "    .dataframe thead th {\n",
       "        text-align: right;\n",
       "    }\n",
       "</style>\n",
       "<table border=\"1\" class=\"dataframe\">\n",
       "  <thead>\n",
       "    <tr style=\"text-align: right;\">\n",
       "      <th></th>\n",
       "      <th>y_test</th>\n",
       "      <th>pred</th>\n",
       "    </tr>\n",
       "  </thead>\n",
       "  <tbody>\n",
       "    <tr>\n",
       "      <th>0</th>\n",
       "      <td>4.771</td>\n",
       "      <td>8.111302</td>\n",
       "    </tr>\n",
       "    <tr>\n",
       "      <th>1</th>\n",
       "      <td>1.371</td>\n",
       "      <td>4.172201</td>\n",
       "    </tr>\n",
       "    <tr>\n",
       "      <th>2</th>\n",
       "      <td>1.233</td>\n",
       "      <td>7.767546</td>\n",
       "    </tr>\n",
       "    <tr>\n",
       "      <th>3</th>\n",
       "      <td>0.938</td>\n",
       "      <td>4.200616</td>\n",
       "    </tr>\n",
       "    <tr>\n",
       "      <th>4</th>\n",
       "      <td>3.260</td>\n",
       "      <td>4.694179</td>\n",
       "    </tr>\n",
       "  </tbody>\n",
       "</table>\n",
       "</div>"
      ],
      "text/plain": [
       "   y_test      pred\n",
       "0   4.771  8.111302\n",
       "1   1.371  4.172201\n",
       "2   1.233  7.767546\n",
       "3   0.938  4.200616\n",
       "4   3.260  4.694179"
      ]
     },
     "execution_count": 35,
     "metadata": {},
     "output_type": "execute_result"
    }
   ],
   "source": [
    "dft = pd.DataFrame({'y_test': y_test, 'pred': pred.flatten()})\n",
    "dft.head()"
   ]
  },
  {
   "cell_type": "code",
   "execution_count": 36,
   "metadata": {},
   "outputs": [
    {
     "data": {
      "text/plain": [
       "(9.047708281640423, -5.991565750003127)"
      ]
     },
     "execution_count": 36,
     "metadata": {},
     "output_type": "execute_result"
    }
   ],
   "source": [
    "from sklearn.metrics import mean_squared_error, r2_score\n",
    "mean_squared_error(y_test, pred), r2_score(y_test, pred)"
   ]
  },
  {
   "cell_type": "code",
   "execution_count": null,
   "metadata": {},
   "outputs": [],
   "source": []
  },
  {
   "cell_type": "code",
   "execution_count": null,
   "metadata": {},
   "outputs": [],
   "source": []
  },
  {
   "cell_type": "code",
   "execution_count": null,
   "metadata": {},
   "outputs": [],
   "source": []
  },
  {
   "cell_type": "code",
   "execution_count": null,
   "metadata": {},
   "outputs": [],
   "source": []
  }
 ],
 "metadata": {
  "interpreter": {
   "hash": "9f5feb42f08914aecde0ece13ac07afe9f84906579ba918f8c70eb200f669000"
  },
  "kernelspec": {
   "display_name": "Python 3.7.6 ('min')",
   "language": "python",
   "name": "python3"
  },
  "language_info": {
   "codemirror_mode": {
    "name": "ipython",
    "version": 3
   },
   "file_extension": ".py",
   "mimetype": "text/x-python",
   "name": "python",
   "nbconvert_exporter": "python",
   "pygments_lexer": "ipython3",
   "version": "3.7.6"
  },
  "orig_nbformat": 4
 },
 "nbformat": 4,
 "nbformat_minor": 2
}
