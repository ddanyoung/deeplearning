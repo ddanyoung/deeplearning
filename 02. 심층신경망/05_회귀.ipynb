{
 "cells": [
  {
   "cell_type": "markdown",
   "metadata": {},
   "source": [
    "# 회귀 - 캘리포니아 하우징"
   ]
  },
  {
   "cell_type": "code",
   "execution_count": 1,
   "metadata": {},
   "outputs": [],
   "source": [
    "import numpy as np\n",
    "import pandas as pd\n",
    "import matplotlib.pyplot as plt\n",
    "import tensorflow as tf\n",
    "seed = 2022\n",
    "np.random.seed(seed)\n",
    "tf.random.set_seed(seed)"
   ]
  },
  {
   "cell_type": "code",
   "execution_count": 2,
   "metadata": {},
   "outputs": [],
   "source": [
    "from sklearn.datasets import fetch_california_housing\n",
    "house = fetch_california_housing()"
   ]
  },
  {
   "cell_type": "code",
   "execution_count": 3,
   "metadata": {},
   "outputs": [
    {
     "data": {
      "text/html": [
       "<div>\n",
       "<style scoped>\n",
       "    .dataframe tbody tr th:only-of-type {\n",
       "        vertical-align: middle;\n",
       "    }\n",
       "\n",
       "    .dataframe tbody tr th {\n",
       "        vertical-align: top;\n",
       "    }\n",
       "\n",
       "    .dataframe thead th {\n",
       "        text-align: right;\n",
       "    }\n",
       "</style>\n",
       "<table border=\"1\" class=\"dataframe\">\n",
       "  <thead>\n",
       "    <tr style=\"text-align: right;\">\n",
       "      <th></th>\n",
       "      <th>MedInc</th>\n",
       "      <th>HouseAge</th>\n",
       "      <th>AveRooms</th>\n",
       "      <th>AveBedrms</th>\n",
       "      <th>Population</th>\n",
       "      <th>AveOccup</th>\n",
       "      <th>Latitude</th>\n",
       "      <th>Longitude</th>\n",
       "      <th>target</th>\n",
       "    </tr>\n",
       "  </thead>\n",
       "  <tbody>\n",
       "    <tr>\n",
       "      <th>0</th>\n",
       "      <td>8.3252</td>\n",
       "      <td>41.0</td>\n",
       "      <td>6.984127</td>\n",
       "      <td>1.023810</td>\n",
       "      <td>322.0</td>\n",
       "      <td>2.555556</td>\n",
       "      <td>37.88</td>\n",
       "      <td>-122.23</td>\n",
       "      <td>4.526</td>\n",
       "    </tr>\n",
       "    <tr>\n",
       "      <th>1</th>\n",
       "      <td>8.3014</td>\n",
       "      <td>21.0</td>\n",
       "      <td>6.238137</td>\n",
       "      <td>0.971880</td>\n",
       "      <td>2401.0</td>\n",
       "      <td>2.109842</td>\n",
       "      <td>37.86</td>\n",
       "      <td>-122.22</td>\n",
       "      <td>3.585</td>\n",
       "    </tr>\n",
       "    <tr>\n",
       "      <th>2</th>\n",
       "      <td>7.2574</td>\n",
       "      <td>52.0</td>\n",
       "      <td>8.288136</td>\n",
       "      <td>1.073446</td>\n",
       "      <td>496.0</td>\n",
       "      <td>2.802260</td>\n",
       "      <td>37.85</td>\n",
       "      <td>-122.24</td>\n",
       "      <td>3.521</td>\n",
       "    </tr>\n",
       "    <tr>\n",
       "      <th>3</th>\n",
       "      <td>5.6431</td>\n",
       "      <td>52.0</td>\n",
       "      <td>5.817352</td>\n",
       "      <td>1.073059</td>\n",
       "      <td>558.0</td>\n",
       "      <td>2.547945</td>\n",
       "      <td>37.85</td>\n",
       "      <td>-122.25</td>\n",
       "      <td>3.413</td>\n",
       "    </tr>\n",
       "    <tr>\n",
       "      <th>4</th>\n",
       "      <td>3.8462</td>\n",
       "      <td>52.0</td>\n",
       "      <td>6.281853</td>\n",
       "      <td>1.081081</td>\n",
       "      <td>565.0</td>\n",
       "      <td>2.181467</td>\n",
       "      <td>37.85</td>\n",
       "      <td>-122.25</td>\n",
       "      <td>3.422</td>\n",
       "    </tr>\n",
       "  </tbody>\n",
       "</table>\n",
       "</div>"
      ],
      "text/plain": [
       "   MedInc  HouseAge  AveRooms  AveBedrms  Population  AveOccup  Latitude  \\\n",
       "0  8.3252      41.0  6.984127   1.023810       322.0  2.555556     37.88   \n",
       "1  8.3014      21.0  6.238137   0.971880      2401.0  2.109842     37.86   \n",
       "2  7.2574      52.0  8.288136   1.073446       496.0  2.802260     37.85   \n",
       "3  5.6431      52.0  5.817352   1.073059       558.0  2.547945     37.85   \n",
       "4  3.8462      52.0  6.281853   1.081081       565.0  2.181467     37.85   \n",
       "\n",
       "   Longitude  target  \n",
       "0    -122.23   4.526  \n",
       "1    -122.22   3.585  \n",
       "2    -122.24   3.521  \n",
       "3    -122.25   3.413  \n",
       "4    -122.25   3.422  "
      ]
     },
     "execution_count": 3,
     "metadata": {},
     "output_type": "execute_result"
    }
   ],
   "source": [
    "df = pd.DataFrame(house.data, columns=house.feature_names)\n",
    "df['target'] = house.target\n",
    "df.head()"
   ]
  },
  {
   "cell_type": "code",
   "execution_count": 4,
   "metadata": {},
   "outputs": [
    {
     "data": {
      "text/plain": [
       "(20640, 9)"
      ]
     },
     "execution_count": 4,
     "metadata": {},
     "output_type": "execute_result"
    }
   ],
   "source": [
    "df.shape"
   ]
  },
  {
   "cell_type": "code",
   "execution_count": 5,
   "metadata": {},
   "outputs": [],
   "source": [
    "from sklearn.model_selection import train_test_split\n",
    "X_train, X_test, y_train, y_test = train_test_split(\n",
    "    house.data, house.target, test_size=0.2, random_state=seed\n",
    ")"
   ]
  },
  {
   "cell_type": "markdown",
   "metadata": {},
   "source": [
    "- 회귀모델 정의/설정/학습/평가"
   ]
  },
  {
   "cell_type": "code",
   "execution_count": 6,
   "metadata": {},
   "outputs": [],
   "source": [
    "from tensorflow.keras.models import Sequential\n",
    "from tensorflow.keras.layers import Dense"
   ]
  },
  {
   "cell_type": "code",
   "execution_count": 8,
   "metadata": {},
   "outputs": [
    {
     "name": "stdout",
     "output_type": "stream",
     "text": [
      "Model: \"sequential_1\"\n",
      "_________________________________________________________________\n",
      "Layer (type)                 Output Shape              Param #   \n",
      "=================================================================\n",
      "dense_3 (Dense)              (None, 20)                180       \n",
      "_________________________________________________________________\n",
      "dense_4 (Dense)              (None, 6)                 126       \n",
      "_________________________________________________________________\n",
      "dense_5 (Dense)              (None, 1)                 7         \n",
      "=================================================================\n",
      "Total params: 313\n",
      "Trainable params: 313\n",
      "Non-trainable params: 0\n",
      "_________________________________________________________________\n"
     ]
    }
   ],
   "source": [
    "model = Sequential([\n",
    "    Dense(20, input_dim=8, activation='relu'),\n",
    "    Dense(6, activation='relu'),\n",
    "    Dense(1)                                    # 회귀에서는 출력층에 활성화함수를 사용하지 않음\n",
    "])\n",
    "model.summary()"
   ]
  },
  {
   "cell_type": "code",
   "execution_count": 9,
   "metadata": {},
   "outputs": [],
   "source": [
    "model.compile(optimizer='rmsprop', loss='mean_squared_error')        # 회귀에서는 metrics 사용하지 않음"
   ]
  },
  {
   "cell_type": "code",
   "execution_count": 10,
   "metadata": {},
   "outputs": [
    {
     "name": "stdout",
     "output_type": "stream",
     "text": [
      "Train on 14860 samples, validate on 1652 samples\n",
      "Epoch 1/100\n",
      "14860/14860 [==============================] - 1s 96us/sample - loss: 119.7981 - val_loss: 11.7457\n",
      "Epoch 2/100\n",
      "14860/14860 [==============================] - 0s 23us/sample - loss: 3.0829 - val_loss: 1.6505\n",
      "Epoch 3/100\n",
      "14860/14860 [==============================] - 0s 13us/sample - loss: 2.5424 - val_loss: 5.1262\n",
      "Epoch 4/100\n",
      "14860/14860 [==============================] - 0s 12us/sample - loss: 2.5149 - val_loss: 2.4021\n",
      "Epoch 5/100\n",
      "14860/14860 [==============================] - 0s 11us/sample - loss: 2.6275 - val_loss: 1.4104\n",
      "Epoch 6/100\n",
      "14860/14860 [==============================] - 0s 20us/sample - loss: 2.4051 - val_loss: 1.8221\n",
      "Epoch 7/100\n",
      "14860/14860 [==============================] - 0s 14us/sample - loss: 2.3820 - val_loss: 3.6006\n",
      "Epoch 8/100\n",
      "14860/14860 [==============================] - 0s 12us/sample - loss: 2.2602 - val_loss: 1.9167\n",
      "Epoch 9/100\n",
      "14860/14860 [==============================] - 0s 10us/sample - loss: 2.4052 - val_loss: 1.3055\n",
      "Epoch 10/100\n",
      "14860/14860 [==============================] - 0s 19us/sample - loss: 2.1756 - val_loss: 1.2110\n",
      "Epoch 11/100\n",
      "14860/14860 [==============================] - 0s 11us/sample - loss: 2.3100 - val_loss: 1.4632\n",
      "Epoch 12/100\n",
      "14860/14860 [==============================] - 0s 11us/sample - loss: 2.0688 - val_loss: 1.3130\n",
      "Epoch 13/100\n",
      "14860/14860 [==============================] - 0s 12us/sample - loss: 2.4197 - val_loss: 1.1515\n",
      "Epoch 14/100\n",
      "14860/14860 [==============================] - 0s 10us/sample - loss: 1.9352 - val_loss: 1.2022\n",
      "Epoch 15/100\n",
      "14860/14860 [==============================] - 0s 10us/sample - loss: 2.0495 - val_loss: 6.4906\n",
      "Epoch 16/100\n",
      "14860/14860 [==============================] - 0s 10us/sample - loss: 2.0907 - val_loss: 1.1175\n",
      "Epoch 17/100\n",
      "14860/14860 [==============================] - 0s 10us/sample - loss: 2.0102 - val_loss: 1.0133\n",
      "Epoch 18/100\n",
      "14860/14860 [==============================] - 0s 11us/sample - loss: 1.9275 - val_loss: 1.0916\n",
      "Epoch 19/100\n",
      "14860/14860 [==============================] - 0s 10us/sample - loss: 2.0641 - val_loss: 1.0892\n",
      "Epoch 20/100\n",
      "14860/14860 [==============================] - 0s 10us/sample - loss: 1.9800 - val_loss: 1.4374\n",
      "Epoch 21/100\n",
      "14860/14860 [==============================] - 0s 10us/sample - loss: 1.9508 - val_loss: 1.2154\n",
      "Epoch 22/100\n",
      "14860/14860 [==============================] - 0s 10us/sample - loss: 1.7868 - val_loss: 2.6279\n",
      "Epoch 23/100\n",
      "14860/14860 [==============================] - 0s 11us/sample - loss: 2.0090 - val_loss: 1.1530\n",
      "Epoch 24/100\n",
      "14860/14860 [==============================] - 0s 10us/sample - loss: 1.7999 - val_loss: 0.9698\n",
      "Epoch 25/100\n",
      "14860/14860 [==============================] - 0s 11us/sample - loss: 1.7984 - val_loss: 4.8320\n",
      "Epoch 26/100\n",
      "14860/14860 [==============================] - 0s 12us/sample - loss: 2.0128 - val_loss: 1.5260\n",
      "Epoch 27/100\n",
      "14860/14860 [==============================] - 0s 10us/sample - loss: 1.7889 - val_loss: 1.1854\n",
      "Epoch 28/100\n",
      "14860/14860 [==============================] - 0s 10us/sample - loss: 1.8248 - val_loss: 1.2448\n",
      "Epoch 29/100\n",
      "14860/14860 [==============================] - 0s 11us/sample - loss: 1.7846 - val_loss: 3.8140\n",
      "Epoch 30/100\n",
      "14860/14860 [==============================] - 0s 12us/sample - loss: 1.7653 - val_loss: 6.4085\n",
      "Epoch 31/100\n",
      "14860/14860 [==============================] - 0s 11us/sample - loss: 1.6452 - val_loss: 2.5406\n",
      "Epoch 32/100\n",
      "14860/14860 [==============================] - 0s 10us/sample - loss: 1.8285 - val_loss: 0.8871\n",
      "Epoch 33/100\n",
      "14860/14860 [==============================] - 0s 11us/sample - loss: 1.6546 - val_loss: 10.2441\n",
      "Epoch 34/100\n",
      "14860/14860 [==============================] - 0s 10us/sample - loss: 1.7374 - val_loss: 0.9841\n",
      "Epoch 35/100\n",
      "14860/14860 [==============================] - ETA: 0s - loss: 1.680 - 0s 10us/sample - loss: 1.6672 - val_loss: 0.9909\n",
      "Epoch 36/100\n",
      "14860/14860 [==============================] - 0s 10us/sample - loss: 1.6627 - val_loss: 1.4548\n",
      "Epoch 37/100\n",
      "14860/14860 [==============================] - 0s 11us/sample - loss: 1.7153 - val_loss: 0.8980\n",
      "Epoch 38/100\n",
      "14860/14860 [==============================] - 0s 11us/sample - loss: 1.6475 - val_loss: 1.1394\n",
      "Epoch 39/100\n",
      "14860/14860 [==============================] - 0s 11us/sample - loss: 1.6156 - val_loss: 13.9107\n",
      "Epoch 40/100\n",
      "14860/14860 [==============================] - 0s 12us/sample - loss: 1.6409 - val_loss: 0.9490\n",
      "Epoch 41/100\n",
      "14860/14860 [==============================] - 0s 12us/sample - loss: 1.5839 - val_loss: 0.8313\n",
      "Epoch 42/100\n",
      "14860/14860 [==============================] - ETA: 0s - loss: 1.629 - 0s 13us/sample - loss: 1.5885 - val_loss: 1.1558\n",
      "Epoch 43/100\n",
      "14860/14860 [==============================] - 0s 11us/sample - loss: 1.5916 - val_loss: 2.3832\n",
      "Epoch 44/100\n",
      "14860/14860 [==============================] - 0s 11us/sample - loss: 1.6061 - val_loss: 1.1263\n",
      "Epoch 45/100\n",
      "14860/14860 [==============================] - 0s 11us/sample - loss: 1.5286 - val_loss: 0.8221\n",
      "Epoch 46/100\n",
      "14860/14860 [==============================] - 0s 12us/sample - loss: 1.5475 - val_loss: 1.9978\n",
      "Epoch 47/100\n",
      "14860/14860 [==============================] - 0s 13us/sample - loss: 1.5223 - val_loss: 1.7252\n",
      "Epoch 48/100\n",
      "14860/14860 [==============================] - 0s 11us/sample - loss: 1.6637 - val_loss: 1.3716\n",
      "Epoch 49/100\n",
      "14860/14860 [==============================] - 0s 10us/sample - loss: 1.4848 - val_loss: 0.8031\n",
      "Epoch 50/100\n",
      "14860/14860 [==============================] - 0s 10us/sample - loss: 1.5306 - val_loss: 0.9192\n",
      "Epoch 51/100\n",
      "14860/14860 [==============================] - 0s 12us/sample - loss: 1.5734 - val_loss: 1.1412\n",
      "Epoch 52/100\n",
      "14860/14860 [==============================] - 0s 10us/sample - loss: 1.4790 - val_loss: 1.1896\n",
      "Epoch 53/100\n",
      "14860/14860 [==============================] - 0s 11us/sample - loss: 1.4284 - val_loss: 1.5698\n",
      "Epoch 54/100\n",
      "14860/14860 [==============================] - 0s 10us/sample - loss: 1.4747 - val_loss: 0.7863\n",
      "Epoch 55/100\n",
      "14860/14860 [==============================] - 0s 18us/sample - loss: 1.4573 - val_loss: 1.6288\n",
      "Epoch 56/100\n",
      "14860/14860 [==============================] - 0s 11us/sample - loss: 1.4499 - val_loss: 0.8662\n",
      "Epoch 57/100\n",
      "14860/14860 [==============================] - 0s 11us/sample - loss: 1.5581 - val_loss: 0.8862\n",
      "Epoch 58/100\n",
      "14860/14860 [==============================] - 0s 11us/sample - loss: 1.3621 - val_loss: 0.9454\n",
      "Epoch 59/100\n",
      "14860/14860 [==============================] - 0s 11us/sample - loss: 1.3936 - val_loss: 0.8051\n",
      "Epoch 60/100\n",
      "14860/14860 [==============================] - 0s 10us/sample - loss: 1.4121 - val_loss: 2.1756\n",
      "Epoch 61/100\n",
      "14860/14860 [==============================] - 0s 12us/sample - loss: 1.4682 - val_loss: 6.3240\n",
      "Epoch 62/100\n",
      "14860/14860 [==============================] - 0s 11us/sample - loss: 1.3443 - val_loss: 1.4003\n",
      "Epoch 63/100\n",
      "14860/14860 [==============================] - 0s 12us/sample - loss: 1.4106 - val_loss: 1.2078\n",
      "Epoch 64/100\n",
      "14860/14860 [==============================] - 0s 11us/sample - loss: 1.3525 - val_loss: 1.1852\n",
      "Epoch 65/100\n",
      "14860/14860 [==============================] - 0s 11us/sample - loss: 1.4359 - val_loss: 1.9472\n",
      "Epoch 66/100\n",
      "14860/14860 [==============================] - 0s 11us/sample - loss: 1.3344 - val_loss: 0.7705\n",
      "Epoch 67/100\n",
      "14860/14860 [==============================] - 0s 11us/sample - loss: 1.3058 - val_loss: 1.4688\n",
      "Epoch 68/100\n",
      "14860/14860 [==============================] - 0s 10us/sample - loss: 1.3465 - val_loss: 0.7933\n",
      "Epoch 69/100\n",
      "14860/14860 [==============================] - 0s 10us/sample - loss: 1.2928 - val_loss: 0.7792\n",
      "Epoch 70/100\n",
      "14860/14860 [==============================] - 0s 10us/sample - loss: 1.3376 - val_loss: 0.7451\n",
      "Epoch 71/100\n",
      "14860/14860 [==============================] - 0s 18us/sample - loss: 1.3709 - val_loss: 1.4894\n",
      "Epoch 72/100\n",
      "14860/14860 [==============================] - 0s 11us/sample - loss: 1.2728 - val_loss: 0.9308\n",
      "Epoch 73/100\n",
      "14860/14860 [==============================] - 0s 11us/sample - loss: 1.3010 - val_loss: 0.8671\n",
      "Epoch 74/100\n",
      "14860/14860 [==============================] - 0s 11us/sample - loss: 1.2978 - val_loss: 0.8107\n",
      "Epoch 75/100\n",
      "14860/14860 [==============================] - 0s 11us/sample - loss: 1.2873 - val_loss: 1.1096\n",
      "Epoch 76/100\n",
      "14860/14860 [==============================] - 0s 10us/sample - loss: 1.2192 - val_loss: 2.1228\n",
      "Epoch 77/100\n",
      "14860/14860 [==============================] - 0s 11us/sample - loss: 1.2968 - val_loss: 0.7821\n",
      "Epoch 78/100\n",
      "14860/14860 [==============================] - 0s 10us/sample - loss: 1.1969 - val_loss: 1.1738\n",
      "Epoch 79/100\n",
      "14860/14860 [==============================] - 0s 11us/sample - loss: 1.2359 - val_loss: 1.5879\n",
      "Epoch 80/100\n",
      "14860/14860 [==============================] - 0s 11us/sample - loss: 1.2352 - val_loss: 0.7979\n",
      "Epoch 81/100\n",
      "14860/14860 [==============================] - 0s 11us/sample - loss: 1.2204 - val_loss: 0.8216\n",
      "Epoch 82/100\n",
      "14860/14860 [==============================] - 0s 10us/sample - loss: 1.2242 - val_loss: 0.7512\n",
      "Epoch 83/100\n",
      "14860/14860 [==============================] - 0s 11us/sample - loss: 1.2507 - val_loss: 0.8215\n",
      "Epoch 84/100\n",
      "14860/14860 [==============================] - 0s 12us/sample - loss: 1.1460 - val_loss: 0.7783\n",
      "Epoch 85/100\n",
      "14860/14860 [==============================] - 0s 12us/sample - loss: 1.1043 - val_loss: 8.7386\n",
      "Epoch 86/100\n",
      "14860/14860 [==============================] - 0s 11us/sample - loss: 1.2111 - val_loss: 0.8393\n",
      "Epoch 87/100\n",
      "14860/14860 [==============================] - 0s 12us/sample - loss: 1.1550 - val_loss: 1.9835\n",
      "Epoch 88/100\n",
      "14860/14860 [==============================] - 0s 11us/sample - loss: 1.1776 - val_loss: 0.9208\n",
      "Epoch 89/100\n",
      "14860/14860 [==============================] - 0s 11us/sample - loss: 1.1428 - val_loss: 1.7721\n",
      "Epoch 90/100\n",
      "14860/14860 [==============================] - 0s 11us/sample - loss: 1.0422 - val_loss: 1.0705\n",
      "Epoch 91/100\n",
      "14860/14860 [==============================] - 0s 11us/sample - loss: 1.1726 - val_loss: 0.8090\n",
      "Epoch 92/100\n",
      "14860/14860 [==============================] - 0s 10us/sample - loss: 1.0929 - val_loss: 0.7803\n",
      "Epoch 93/100\n",
      "14860/14860 [==============================] - 0s 11us/sample - loss: 1.0899 - val_loss: 1.1755\n",
      "Epoch 94/100\n",
      "14860/14860 [==============================] - 0s 10us/sample - loss: 1.1472 - val_loss: 0.8107\n",
      "Epoch 95/100\n",
      "14860/14860 [==============================] - 0s 12us/sample - loss: 1.0640 - val_loss: 2.2797\n",
      "Epoch 96/100\n",
      "14860/14860 [==============================] - 0s 13us/sample - loss: 1.1050 - val_loss: 1.2755\n",
      "Epoch 97/100\n",
      "14860/14860 [==============================] - 0s 19us/sample - loss: 1.0360 - val_loss: 1.5885\n",
      "Epoch 98/100\n",
      "14860/14860 [==============================] - 0s 13us/sample - loss: 1.1122 - val_loss: 0.7812\n",
      "Epoch 99/100\n",
      "14860/14860 [==============================] - 0s 12us/sample - loss: 1.0286 - val_loss: 0.7460\n",
      "Epoch 100/100\n",
      "14860/14860 [==============================] - 0s 10us/sample - loss: 1.0051 - val_loss: 1.3462\n"
     ]
    }
   ],
   "source": [
    "hist = model.fit(X_train, y_train, validation_split=0.1,\n",
    "                            epochs=100, batch_size=256)"
   ]
  },
  {
   "cell_type": "markdown",
   "metadata": {},
   "source": [
    "- 학습과정 시각화"
   ]
  },
  {
   "cell_type": "code",
   "execution_count": 11,
   "metadata": {},
   "outputs": [],
   "source": [
    "y_loss = hist.history['loss']\n",
    "y_vloss = hist.history['val_loss']\n",
    "xs = np.arange(1, len(y_loss)+1)"
   ]
  },
  {
   "cell_type": "code",
   "execution_count": 15,
   "metadata": {},
   "outputs": [
    {
     "data": {
      "image/png": "[encoded data removed]",
      "text/plain": [
       "<Figure size 864x576 with 1 Axes>"
      ]
     },
     "metadata": {
      "needs_background": "light"
     },
     "output_type": "display_data"
    }
   ],
   "source": [
    "plt.figure(figsize=(12, 8))\n",
    "plt.plot(xs, y_loss, label='train loss')\n",
    "plt.plot(xs, y_vloss, label='validataion loss')\n",
    "plt.legend(), plt.grid(), plt.ylim(0, 20)\n",
    "plt.xlabel('Epoch')\n",
    "plt.show()"
   ]
  },
  {
   "cell_type": "markdown",
   "metadata": {},
   "source": [
    "- 평가"
   ]
  },
  {
   "cell_type": "code",
   "execution_count": 16,
   "metadata": {},
   "outputs": [],
   "source": [
    "pred = model.predict(X_test)"
   ]
  },
  {
   "cell_type": "code",
   "execution_count": 18,
   "metadata": {},
   "outputs": [
    {
     "data": {
      "text/html": [
       "<div>\n",
       "<style scoped>\n",
       "    .dataframe tbody tr th:only-of-type {\n",
       "        vertical-align: middle;\n",
       "    }\n",
       "\n",
       "    .dataframe tbody tr th {\n",
       "        vertical-align: top;\n",
       "    }\n",
       "\n",
       "    .dataframe thead th {\n",
       "        text-align: right;\n",
       "    }\n",
       "</style>\n",
       "<table border=\"1\" class=\"dataframe\">\n",
       "  <thead>\n",
       "    <tr style=\"text-align: right;\">\n",
       "      <th></th>\n",
       "      <th>y_test</th>\n",
       "      <th>pred</th>\n",
       "    </tr>\n",
       "  </thead>\n",
       "  <tbody>\n",
       "    <tr>\n",
       "      <th>0</th>\n",
       "      <td>4.771</td>\n",
       "      <td>2.017132</td>\n",
       "    </tr>\n",
       "    <tr>\n",
       "      <th>1</th>\n",
       "      <td>1.371</td>\n",
       "      <td>1.064225</td>\n",
       "    </tr>\n",
       "    <tr>\n",
       "      <th>2</th>\n",
       "      <td>1.233</td>\n",
       "      <td>0.458631</td>\n",
       "    </tr>\n",
       "    <tr>\n",
       "      <th>3</th>\n",
       "      <td>0.938</td>\n",
       "      <td>1.259970</td>\n",
       "    </tr>\n",
       "    <tr>\n",
       "      <th>4</th>\n",
       "      <td>3.260</td>\n",
       "      <td>2.243690</td>\n",
       "    </tr>\n",
       "  </tbody>\n",
       "</table>\n",
       "</div>"
      ],
      "text/plain": [
       "   y_test      pred\n",
       "0   4.771  2.017132\n",
       "1   1.371  1.064225\n",
       "2   1.233  0.458631\n",
       "3   0.938  1.259970\n",
       "4   3.260  2.243690"
      ]
     },
     "execution_count": 18,
     "metadata": {},
     "output_type": "execute_result"
    }
   ],
   "source": [
    "dft = pd.DataFrame({'y_test': y_test, 'pred': pred.flatten()})\n",
    "dft.head()"
   ]
  },
  {
   "cell_type": "code",
   "execution_count": 19,
   "metadata": {},
   "outputs": [
    {
     "data": {
      "text/plain": [
       "(1.4305580012082588, -0.10545565941115642)"
      ]
     },
     "execution_count": 19,
     "metadata": {},
     "output_type": "execute_result"
    }
   ],
   "source": [
    "from sklearn.metrics import mean_squared_error, r2_score\n",
    "mean_squared_error(y_test, pred), r2_score(y_test, pred)"
   ]
  },
  {
   "cell_type": "code",
   "execution_count": null,
   "metadata": {},
   "outputs": [],
   "source": []
  },
  {
   "cell_type": "code",
   "execution_count": null,
   "metadata": {},
   "outputs": [],
   "source": []
  },
  {
   "cell_type": "code",
   "execution_count": null,
   "metadata": {},
   "outputs": [],
   "source": []
  },
  {
   "cell_type": "code",
   "execution_count": null,
   "metadata": {},
   "outputs": [],
   "source": []
  }
 ],
 "metadata": {
  "interpreter": {
   "hash": "9f5feb42f08914aecde0ece13ac07afe9f84906579ba918f8c70eb200f669000"
  },
  "kernelspec": {
   "display_name": "Python 3.7.6 ('min')",
   "language": "python",
   "name": "python3"
  },
  "language_info": {
   "codemirror_mode": {
    "name": "ipython",
    "version": 3
   },
   "file_extension": ".py",
   "mimetype": "text/x-python",
   "name": "python",
   "nbconvert_exporter": "python",
   "pygments_lexer": "ipython3",
   "version": "3.7.6"
  },
  "orig_nbformat": 4
 },
 "nbformat": 4,
 "nbformat_minor": 2
}
