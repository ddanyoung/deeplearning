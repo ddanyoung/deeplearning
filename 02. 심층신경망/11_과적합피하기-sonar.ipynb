{
 "cells": [
  {
   "cell_type": "markdown",
   "metadata": {},
   "source": [
    "# 과적합 피하기 - 초음파 광물 데이터"
   ]
  },
  {
   "cell_type": "code",
   "execution_count": 1,
   "metadata": {},
   "outputs": [],
   "source": [
    "import numpy as np\n",
    "import pandas as pd\n",
    "import matplotlib.pyplot as plt\n",
    "import tensorflow as tf\n",
    "seed = 2022\n",
    "np.random.seed(seed)\n",
    "tf.random.set_seed(seed)"
   ]
  },
  {
   "cell_type": "code",
   "execution_count": 3,
   "metadata": {},
   "outputs": [
    {
     "data": {
      "text/html": [
       "<div>\n",
       "<style scoped>\n",
       "    .dataframe tbody tr th:only-of-type {\n",
       "        vertical-align: middle;\n",
       "    }\n",
       "\n",
       "    .dataframe tbody tr th {\n",
       "        vertical-align: top;\n",
       "    }\n",
       "\n",
       "    .dataframe thead th {\n",
       "        text-align: right;\n",
       "    }\n",
       "</style>\n",
       "<table border=\"1\" class=\"dataframe\">\n",
       "  <thead>\n",
       "    <tr style=\"text-align: right;\">\n",
       "      <th></th>\n",
       "      <th>0</th>\n",
       "      <th>1</th>\n",
       "      <th>2</th>\n",
       "      <th>3</th>\n",
       "      <th>4</th>\n",
       "      <th>5</th>\n",
       "      <th>6</th>\n",
       "      <th>7</th>\n",
       "      <th>8</th>\n",
       "      <th>9</th>\n",
       "      <th>...</th>\n",
       "      <th>51</th>\n",
       "      <th>52</th>\n",
       "      <th>53</th>\n",
       "      <th>54</th>\n",
       "      <th>55</th>\n",
       "      <th>56</th>\n",
       "      <th>57</th>\n",
       "      <th>58</th>\n",
       "      <th>59</th>\n",
       "      <th>60</th>\n",
       "    </tr>\n",
       "  </thead>\n",
       "  <tbody>\n",
       "    <tr>\n",
       "      <th>0</th>\n",
       "      <td>0.0200</td>\n",
       "      <td>0.0371</td>\n",
       "      <td>0.0428</td>\n",
       "      <td>0.0207</td>\n",
       "      <td>0.0954</td>\n",
       "      <td>0.0986</td>\n",
       "      <td>0.1539</td>\n",
       "      <td>0.1601</td>\n",
       "      <td>0.3109</td>\n",
       "      <td>0.2111</td>\n",
       "      <td>...</td>\n",
       "      <td>0.0027</td>\n",
       "      <td>0.0065</td>\n",
       "      <td>0.0159</td>\n",
       "      <td>0.0072</td>\n",
       "      <td>0.0167</td>\n",
       "      <td>0.0180</td>\n",
       "      <td>0.0084</td>\n",
       "      <td>0.0090</td>\n",
       "      <td>0.0032</td>\n",
       "      <td>1</td>\n",
       "    </tr>\n",
       "    <tr>\n",
       "      <th>1</th>\n",
       "      <td>0.0453</td>\n",
       "      <td>0.0523</td>\n",
       "      <td>0.0843</td>\n",
       "      <td>0.0689</td>\n",
       "      <td>0.1183</td>\n",
       "      <td>0.2583</td>\n",
       "      <td>0.2156</td>\n",
       "      <td>0.3481</td>\n",
       "      <td>0.3337</td>\n",
       "      <td>0.2872</td>\n",
       "      <td>...</td>\n",
       "      <td>0.0084</td>\n",
       "      <td>0.0089</td>\n",
       "      <td>0.0048</td>\n",
       "      <td>0.0094</td>\n",
       "      <td>0.0191</td>\n",
       "      <td>0.0140</td>\n",
       "      <td>0.0049</td>\n",
       "      <td>0.0052</td>\n",
       "      <td>0.0044</td>\n",
       "      <td>1</td>\n",
       "    </tr>\n",
       "    <tr>\n",
       "      <th>2</th>\n",
       "      <td>0.0262</td>\n",
       "      <td>0.0582</td>\n",
       "      <td>0.1099</td>\n",
       "      <td>0.1083</td>\n",
       "      <td>0.0974</td>\n",
       "      <td>0.2280</td>\n",
       "      <td>0.2431</td>\n",
       "      <td>0.3771</td>\n",
       "      <td>0.5598</td>\n",
       "      <td>0.6194</td>\n",
       "      <td>...</td>\n",
       "      <td>0.0232</td>\n",
       "      <td>0.0166</td>\n",
       "      <td>0.0095</td>\n",
       "      <td>0.0180</td>\n",
       "      <td>0.0244</td>\n",
       "      <td>0.0316</td>\n",
       "      <td>0.0164</td>\n",
       "      <td>0.0095</td>\n",
       "      <td>0.0078</td>\n",
       "      <td>1</td>\n",
       "    </tr>\n",
       "  </tbody>\n",
       "</table>\n",
       "<p>3 rows × 61 columns</p>\n",
       "</div>"
      ],
      "text/plain": [
       "       0       1       2       3       4       5       6       7       8   \\\n",
       "0  0.0200  0.0371  0.0428  0.0207  0.0954  0.0986  0.1539  0.1601  0.3109   \n",
       "1  0.0453  0.0523  0.0843  0.0689  0.1183  0.2583  0.2156  0.3481  0.3337   \n",
       "2  0.0262  0.0582  0.1099  0.1083  0.0974  0.2280  0.2431  0.3771  0.5598   \n",
       "\n",
       "       9   ...      51      52      53      54      55      56      57  \\\n",
       "0  0.2111  ...  0.0027  0.0065  0.0159  0.0072  0.0167  0.0180  0.0084   \n",
       "1  0.2872  ...  0.0084  0.0089  0.0048  0.0094  0.0191  0.0140  0.0049   \n",
       "2  0.6194  ...  0.0232  0.0166  0.0095  0.0180  0.0244  0.0316  0.0164   \n",
       "\n",
       "       58      59  60  \n",
       "0  0.0090  0.0032   1  \n",
       "1  0.0052  0.0044   1  \n",
       "2  0.0095  0.0078   1  \n",
       "\n",
       "[3 rows x 61 columns]"
      ]
     },
     "execution_count": 3,
     "metadata": {},
     "output_type": "execute_result"
    }
   ],
   "source": [
    "df = pd.read_csv(\"sonar.csv\", header=None)\n",
    "df.head(3)"
   ]
  },
  {
   "cell_type": "code",
   "execution_count": 4,
   "metadata": {},
   "outputs": [
    {
     "data": {
      "text/plain": [
       "0    111\n",
       "1     97\n",
       "Name: 60, dtype: int64"
      ]
     },
     "execution_count": 4,
     "metadata": {},
     "output_type": "execute_result"
    }
   ],
   "source": [
    "df[60].value_counts()"
   ]
  },
  {
   "cell_type": "code",
   "execution_count": 5,
   "metadata": {},
   "outputs": [],
   "source": [
    "# X data: scaling\n",
    "from sklearn.preprocessing import StandardScaler\n",
    "X_scaled = StandardScaler().fit_transform(df.iloc[:, :-1].values)"
   ]
  },
  {
   "cell_type": "code",
   "execution_count": 6,
   "metadata": {},
   "outputs": [],
   "source": [
    "# Y data: label encoding\n",
    "from sklearn.preprocessing import LabelEncoder\n",
    "y_labeled = LabelEncoder().fit_transform(df[60].values)"
   ]
  },
  {
   "cell_type": "code",
   "execution_count": 7,
   "metadata": {},
   "outputs": [],
   "source": [
    "from sklearn.model_selection import train_test_split\n",
    "X_train, X_test, y_train, y_test = train_test_split(\n",
    "    X_scaled, y_labeled, stratify=y_labeled, test_size=0.2, random_state=seed\n",
    ")"
   ]
  },
  {
   "cell_type": "markdown",
   "metadata": {},
   "source": [
    "### 모델 정의/설정/학습/평가"
   ]
  },
  {
   "cell_type": "code",
   "execution_count": 8,
   "metadata": {},
   "outputs": [],
   "source": [
    "from tensorflow.keras.models import Sequential\n",
    "from tensorflow.keras.layers import Dense"
   ]
  },
  {
   "cell_type": "markdown",
   "metadata": {},
   "source": [
    "- Case 1) 은닉층 2개"
   ]
  },
  {
   "cell_type": "code",
   "execution_count": 9,
   "metadata": {},
   "outputs": [
    {
     "name": "stdout",
     "output_type": "stream",
     "text": [
      "Model: \"sequential\"\n",
      "_________________________________________________________________\n",
      "Layer (type)                 Output Shape              Param #   \n",
      "=================================================================\n",
      "dense (Dense)                (None, 80)                4880      \n",
      "_________________________________________________________________\n",
      "dense_1 (Dense)              (None, 12)                972       \n",
      "_________________________________________________________________\n",
      "dense_2 (Dense)              (None, 1)                 13        \n",
      "=================================================================\n",
      "Total params: 5,865\n",
      "Trainable params: 5,865\n",
      "Non-trainable params: 0\n",
      "_________________________________________________________________\n"
     ]
    }
   ],
   "source": [
    "model1 = Sequential([\n",
    "    Dense(80, input_dim=60, activation='relu'),\n",
    "    Dense(12, activation='relu'),\n",
    "    Dense(1, activation='sigmoid')\n",
    "])\n",
    "model1.summary()"
   ]
  },
  {
   "cell_type": "code",
   "execution_count": 11,
   "metadata": {},
   "outputs": [],
   "source": [
    "model1.compile('adam', 'binary_crossentropy', metrics=['accuracy'])\n",
    "hist1 = model1.fit(X_train, y_train, validation_split=0.2,\n",
    "                                epochs=200, batch_size=100, verbose=0)"
   ]
  },
  {
   "cell_type": "code",
   "execution_count": 12,
   "metadata": {},
   "outputs": [
    {
     "name": "stdout",
     "output_type": "stream",
     "text": [
      "42/1 [============================================================================================================================================================================================================================================================================================================================================================================================================================================================================================================================================================================================================================================================================================================================================================================================================================================================================================================================================================================================================================================================================================================================================================================================================================================================================================================] - 0s 119us/sample - loss: 0.3861 - accuracy: 0.8571\n"
     ]
    },
    {
     "data": {
      "text/plain": [
       "[0.3353130845796494, 0.85714287]"
      ]
     },
     "execution_count": 12,
     "metadata": {},
     "output_type": "execute_result"
    }
   ],
   "source": [
    "model1.evaluate(X_test, y_test)"
   ]
  },
  {
   "cell_type": "code",
   "execution_count": 13,
   "metadata": {},
   "outputs": [],
   "source": [
    "params1, acc1 = 5865, 0.857"
   ]
  },
  {
   "cell_type": "markdown",
   "metadata": {},
   "source": [
    "- Case 2) 은닉층 4개"
   ]
  },
  {
   "cell_type": "code",
   "execution_count": 14,
   "metadata": {},
   "outputs": [
    {
     "name": "stdout",
     "output_type": "stream",
     "text": [
      "Model: \"sequential_1\"\n",
      "_________________________________________________________________\n",
      "Layer (type)                 Output Shape              Param #   \n",
      "=================================================================\n",
      "dense_3 (Dense)              (None, 80)                4880      \n",
      "_________________________________________________________________\n",
      "dense_4 (Dense)              (None, 48)                3888      \n",
      "_________________________________________________________________\n",
      "dense_5 (Dense)              (None, 20)                980       \n",
      "_________________________________________________________________\n",
      "dense_6 (Dense)              (None, 8)                 168       \n",
      "_________________________________________________________________\n",
      "dense_7 (Dense)              (None, 1)                 9         \n",
      "=================================================================\n",
      "Total params: 9,925\n",
      "Trainable params: 9,925\n",
      "Non-trainable params: 0\n",
      "_________________________________________________________________\n"
     ]
    }
   ],
   "source": [
    "model2 = Sequential([\n",
    "    Dense(80, input_dim=60, activation='relu'),\n",
    "    Dense(48, activation='relu'),\n",
    "    Dense(20, activation='relu'),\n",
    "    Dense(8, activation='relu'),\n",
    "    Dense(1, activation='sigmoid')  \n",
    "])\n",
    "model2.summary()"
   ]
  },
  {
   "cell_type": "code",
   "execution_count": 15,
   "metadata": {},
   "outputs": [
    {
     "name": "stdout",
     "output_type": "stream",
     "text": [
      "42/1 [============================================================================================================================================================================================================================================================================================================================================================================================================================================================================================================================================================================================================================================================================================================================================================================================================================================================================================================================================================================================================================================================================================================================================================================================================================================================================================================] - 0s 119us/sample - loss: 0.7214 - accuracy: 0.8333\n"
     ]
    },
    {
     "data": {
      "text/plain": [
       "[0.5008991332281203, 0.8333333]"
      ]
     },
     "execution_count": 15,
     "metadata": {},
     "output_type": "execute_result"
    }
   ],
   "source": [
    "model2.compile('adam', 'binary_crossentropy', metrics=['accuracy'])\n",
    "hist2 = model2.fit(X_train, y_train, validation_split=0.2,\n",
    "                                epochs=200, batch_size=100, verbose=0)\n",
    "model2.evaluate(X_test, y_test)"
   ]
  },
  {
   "cell_type": "code",
   "execution_count": 16,
   "metadata": {},
   "outputs": [],
   "source": [
    "params2, acc2 = 9925, 0.8333"
   ]
  },
  {
   "cell_type": "markdown",
   "metadata": {},
   "source": [
    "- Case 3) 은닉층 6개"
   ]
  },
  {
   "cell_type": "code",
   "execution_count": 18,
   "metadata": {},
   "outputs": [
    {
     "name": "stdout",
     "output_type": "stream",
     "text": [
      "Model: \"sequential_3\"\n",
      "_________________________________________________________________\n",
      "Layer (type)                 Output Shape              Param #   \n",
      "=================================================================\n",
      "dense_15 (Dense)             (None, 80)                4880      \n",
      "_________________________________________________________________\n",
      "dense_16 (Dense)             (None, 64)                5184      \n",
      "_________________________________________________________________\n",
      "dense_17 (Dense)             (None, 40)                2600      \n",
      "_________________________________________________________________\n",
      "dense_18 (Dense)             (None, 24)                984       \n",
      "_________________________________________________________________\n",
      "dense_19 (Dense)             (None, 10)                250       \n",
      "_________________________________________________________________\n",
      "dense_20 (Dense)             (None, 4)                 44        \n",
      "_________________________________________________________________\n",
      "dense_21 (Dense)             (None, 1)                 5         \n",
      "=================================================================\n",
      "Total params: 13,947\n",
      "Trainable params: 13,947\n",
      "Non-trainable params: 0\n",
      "_________________________________________________________________\n"
     ]
    }
   ],
   "source": [
    "model3 = Sequential([\n",
    "    Dense(80, input_dim=60, activation='relu'),\n",
    "    Dense(64, activation='relu'),\n",
    "    Dense(40, activation='relu'),\n",
    "    Dense(24, activation='relu'),\n",
    "    Dense(10, activation='relu'),\n",
    "    Dense(4, activation='relu'),\n",
    "    Dense(1, activation='sigmoid')  \n",
    "])\n",
    "model3.summary()"
   ]
  },
  {
   "cell_type": "code",
   "execution_count": 19,
   "metadata": {},
   "outputs": [
    {
     "name": "stdout",
     "output_type": "stream",
     "text": [
      "42/1 [============================================================================================================================================================================================================================================================================================================================================================================================================================================================================================================================================================================================================================================================================================================================================================================================================================================================================================================================================================================================================================================================================================================================================================================================================================================================================================================] - 0s 95us/sample - loss: 0.6274 - accuracy: 0.9048\n"
     ]
    },
    {
     "data": {
      "text/plain": [
       "[0.4303584297498067, 0.9047619]"
      ]
     },
     "execution_count": 19,
     "metadata": {},
     "output_type": "execute_result"
    }
   ],
   "source": [
    "model3.compile('adam', 'binary_crossentropy', metrics=['accuracy'])\n",
    "hist3 = model3.fit(X_train, y_train, validation_split=0.2,\n",
    "                                epochs=200, batch_size=100, verbose=0)\n",
    "model3.evaluate(X_test, y_test)"
   ]
  },
  {
   "cell_type": "code",
   "execution_count": 20,
   "metadata": {},
   "outputs": [],
   "source": [
    "params3, acc3 = 13947, 0.905"
   ]
  },
  {
   "cell_type": "code",
   "execution_count": 22,
   "metadata": {},
   "outputs": [
    {
     "name": "stdout",
     "output_type": "stream",
     "text": [
      "Model: \"sequential_5\"\n",
      "_________________________________________________________________\n",
      "Layer (type)                 Output Shape              Param #   \n",
      "=================================================================\n",
      "dense_31 (Dense)             (None, 80)                4880      \n",
      "_________________________________________________________________\n",
      "dense_32 (Dense)             (None, 64)                5184      \n",
      "_________________________________________________________________\n",
      "dense_33 (Dense)             (None, 48)                3120      \n",
      "_________________________________________________________________\n",
      "dense_34 (Dense)             (None, 36)                1764      \n",
      "_________________________________________________________________\n",
      "dense_35 (Dense)             (None, 28)                1036      \n",
      "_________________________________________________________________\n",
      "dense_36 (Dense)             (None, 16)                464       \n",
      "_________________________________________________________________\n",
      "dense_37 (Dense)             (None, 10)                170       \n",
      "_________________________________________________________________\n",
      "dense_38 (Dense)             (None, 4)                 44        \n",
      "_________________________________________________________________\n",
      "dense_39 (Dense)             (None, 1)                 5         \n",
      "=================================================================\n",
      "Total params: 16,667\n",
      "Trainable params: 16,667\n",
      "Non-trainable params: 0\n",
      "_________________________________________________________________\n"
     ]
    }
   ],
   "source": [
    "model4 = Sequential([\n",
    "    Dense(80, input_dim=60, activation='relu'),\n",
    "    Dense(64, activation='relu'),\n",
    "    Dense(48, activation='relu'),\n",
    "    Dense(36, activation='relu'),\n",
    "    Dense(28, activation='relu'),\n",
    "    Dense(16, activation='relu'),\n",
    "    Dense(10, activation='relu'),\n",
    "    Dense(4, activation='relu'),\n",
    "    Dense(1, activation='sigmoid')  \n",
    "])\n",
    "model4.summary()"
   ]
  },
  {
   "cell_type": "code",
   "execution_count": 23,
   "metadata": {},
   "outputs": [
    {
     "name": "stdout",
     "output_type": "stream",
     "text": [
      "42/1 [============================================================================================================================================================================================================================================================================================================================================================================================================================================================================================================================================================================================================================================================================================================================================================================================================================================================================================================================================================================================================================================================================================================================================================================================================================================================================================================] - 0s 190us/sample - loss: 1.9346 - accuracy: 0.7143\n"
     ]
    },
    {
     "data": {
      "text/plain": [
       "[1.5182833103906541, 0.71428573]"
      ]
     },
     "execution_count": 23,
     "metadata": {},
     "output_type": "execute_result"
    }
   ],
   "source": [
    "model4.compile('adam', 'binary_crossentropy', metrics=['accuracy'])\n",
    "hist4 = model4.fit(X_train, y_train, validation_split=0.2,\n",
    "                                epochs=200, batch_size=100, verbose=0)\n",
    "model4.evaluate(X_test, y_test)"
   ]
  },
  {
   "cell_type": "code",
   "execution_count": 24,
   "metadata": {},
   "outputs": [],
   "source": [
    "params4, acc4 = 16667, 0.714"
   ]
  },
  {
   "cell_type": "markdown",
   "metadata": {},
   "source": [
    "- 학습과정 시각화"
   ]
  },
  {
   "cell_type": "code",
   "execution_count": 26,
   "metadata": {},
   "outputs": [],
   "source": [
    "y_acc1 = hist1.history['accuracy']\n",
    "y_acc2 = hist2.history['accuracy']\n",
    "y_acc3 = hist3.history['accuracy']\n",
    "y_acc4 = hist4.history['accuracy']\n",
    "y_vloss1 = hist1.history['val_loss']\n",
    "y_vloss2 = hist2.history['val_loss']\n",
    "y_vloss3 = hist3.history['val_loss']\n",
    "y_vloss4 = hist4.history['val_loss']\n",
    "xs = np.arange(1, len(y_acc1)+1)"
   ]
  },
  {
   "cell_type": "code",
   "execution_count": 27,
   "metadata": {},
   "outputs": [
    {
     "data": {
      "image/png": "[encoded data removed]",
      "text/plain": [
       "<Figure size 864x576 with 1 Axes>"
      ]
     },
     "metadata": {
      "needs_background": "light"
     },
     "output_type": "display_data"
    }
   ],
   "source": [
    "plt.figure(figsize=(12, 8))\n",
    "plt.plot(xs, y_acc1, label='case 1')\n",
    "plt.plot(xs, y_acc2, label='case 2')\n",
    "plt.plot(xs, y_acc3, label='case 3')\n",
    "plt.plot(xs, y_acc4, label='case 4')\n",
    "plt.legend()\n",
    "plt.xlabel('Epoch'), plt.title(\"Trainset Accuracy\")\n",
    "plt.show()"
   ]
  },
  {
   "cell_type": "code",
   "execution_count": 28,
   "metadata": {},
   "outputs": [
    {
     "data": {
      "image/png": "[encoded data removed]",
      "text/plain": [
       "<Figure size 864x576 with 1 Axes>"
      ]
     },
     "metadata": {
      "needs_background": "light"
     },
     "output_type": "display_data"
    }
   ],
   "source": [
    "plt.figure(figsize=(12, 8))\n",
    "plt.plot(xs, y_vloss1, label='case 1')\n",
    "plt.plot(xs, y_vloss2, label='case 2')\n",
    "plt.plot(xs, y_vloss3, label='case 3')\n",
    "plt.plot(xs, y_vloss4, label='case 4')\n",
    "plt.legend()\n",
    "plt.xlabel('Epoch'), plt.title(\"Validation set loss\")\n",
    "plt.show()"
   ]
  },
  {
   "cell_type": "markdown",
   "metadata": {},
   "source": [
    "### Case 2에 대해서 베스트 모델"
   ]
  },
  {
   "cell_type": "code",
   "execution_count": 40,
   "metadata": {},
   "outputs": [
    {
     "name": "stdout",
     "output_type": "stream",
     "text": [
      "Model: \"sequential_7\"\n",
      "_________________________________________________________________\n",
      "Layer (type)                 Output Shape              Param #   \n",
      "=================================================================\n",
      "dense_45 (Dense)             (None, 80)                4880      \n",
      "_________________________________________________________________\n",
      "dense_46 (Dense)             (None, 48)                3888      \n",
      "_________________________________________________________________\n",
      "dense_47 (Dense)             (None, 20)                980       \n",
      "_________________________________________________________________\n",
      "dense_48 (Dense)             (None, 8)                 168       \n",
      "_________________________________________________________________\n",
      "dense_49 (Dense)             (None, 1)                 9         \n",
      "=================================================================\n",
      "Total params: 9,925\n",
      "Trainable params: 9,925\n",
      "Non-trainable params: 0\n",
      "_________________________________________________________________\n"
     ]
    }
   ],
   "source": [
    "model = Sequential([\n",
    "    Dense(80, input_dim=60, activation='relu'),\n",
    "    Dense(48, activation='relu'),\n",
    "    Dense(20, activation='relu'),\n",
    "    Dense(8, activation='relu'),\n",
    "    Dense(1, activation='sigmoid')  \n",
    "])\n",
    "model.summary()"
   ]
  },
  {
   "cell_type": "code",
   "execution_count": 41,
   "metadata": {},
   "outputs": [],
   "source": [
    "model.compile('adam', 'binary_crossentropy', metrics=['accuracy'])"
   ]
  },
  {
   "cell_type": "markdown",
   "metadata": {},
   "source": [
    "- 베스트 모델만 저장하는 콜백 함수"
   ]
  },
  {
   "cell_type": "code",
   "execution_count": 42,
   "metadata": {},
   "outputs": [],
   "source": [
    "from tensorflow.keras.callbacks import ModelCheckpoint\n",
    "mc = ModelCheckpoint('sonar_best.h5py', monitor='val_loss', \n",
    "                                        verbose=1, save_best_only=True)"
   ]
  },
  {
   "cell_type": "code",
   "execution_count": 43,
   "metadata": {},
   "outputs": [
    {
     "name": "stdout",
     "output_type": "stream",
     "text": [
      "\n",
      "Epoch 00001: val_loss improved from inf to 0.67253, saving model to sonar_best.h5py\n",
      "INFO:tensorflow:Assets written to: sonar_best.h5py\\assets\n",
      "\n",
      "Epoch 00002: val_loss improved from 0.67253 to 0.64858, saving model to sonar_best.h5py\n",
      "INFO:tensorflow:Assets written to: sonar_best.h5py\\assets\n",
      "\n",
      "Epoch 00003: val_loss improved from 0.64858 to 0.62186, saving model to sonar_best.h5py\n",
      "INFO:tensorflow:Assets written to: sonar_best.h5py\\assets\n",
      "\n",
      "Epoch 00004: val_loss improved from 0.62186 to 0.59332, saving model to sonar_best.h5py\n",
      "INFO:tensorflow:Assets written to: sonar_best.h5py\\assets\n",
      "\n",
      "Epoch 00005: val_loss improved from 0.59332 to 0.56285, saving model to sonar_best.h5py\n",
      "INFO:tensorflow:Assets written to: sonar_best.h5py\\assets\n",
      "\n",
      "Epoch 00006: val_loss improved from 0.56285 to 0.53719, saving model to sonar_best.h5py\n",
      "INFO:tensorflow:Assets written to: sonar_best.h5py\\assets\n",
      "\n",
      "Epoch 00007: val_loss improved from 0.53719 to 0.51291, saving model to sonar_best.h5py\n",
      "INFO:tensorflow:Assets written to: sonar_best.h5py\\assets\n",
      "\n",
      "Epoch 00008: val_loss improved from 0.51291 to 0.48899, saving model to sonar_best.h5py\n",
      "INFO:tensorflow:Assets written to: sonar_best.h5py\\assets\n",
      "\n",
      "Epoch 00009: val_loss improved from 0.48899 to 0.46326, saving model to sonar_best.h5py\n",
      "INFO:tensorflow:Assets written to: sonar_best.h5py\\assets\n",
      "\n",
      "Epoch 00010: val_loss improved from 0.46326 to 0.43947, saving model to sonar_best.h5py\n",
      "INFO:tensorflow:Assets written to: sonar_best.h5py\\assets\n",
      "\n",
      "Epoch 00011: val_loss improved from 0.43947 to 0.41667, saving model to sonar_best.h5py\n",
      "INFO:tensorflow:Assets written to: sonar_best.h5py\\assets\n",
      "\n",
      "Epoch 00012: val_loss improved from 0.41667 to 0.39453, saving model to sonar_best.h5py\n",
      "INFO:tensorflow:Assets written to: sonar_best.h5py\\assets\n",
      "\n",
      "Epoch 00013: val_loss improved from 0.39453 to 0.37467, saving model to sonar_best.h5py\n",
      "INFO:tensorflow:Assets written to: sonar_best.h5py\\assets\n",
      "\n",
      "Epoch 00014: val_loss improved from 0.37467 to 0.35785, saving model to sonar_best.h5py\n",
      "INFO:tensorflow:Assets written to: sonar_best.h5py\\assets\n",
      "\n",
      "Epoch 00015: val_loss improved from 0.35785 to 0.34329, saving model to sonar_best.h5py\n",
      "INFO:tensorflow:Assets written to: sonar_best.h5py\\assets\n",
      "\n",
      "Epoch 00016: val_loss improved from 0.34329 to 0.33179, saving model to sonar_best.h5py\n",
      "INFO:tensorflow:Assets written to: sonar_best.h5py\\assets\n",
      "\n",
      "Epoch 00017: val_loss improved from 0.33179 to 0.32262, saving model to sonar_best.h5py\n",
      "INFO:tensorflow:Assets written to: sonar_best.h5py\\assets\n",
      "\n",
      "Epoch 00018: val_loss improved from 0.32262 to 0.31513, saving model to sonar_best.h5py\n",
      "INFO:tensorflow:Assets written to: sonar_best.h5py\\assets\n",
      "\n",
      "Epoch 00019: val_loss improved from 0.31513 to 0.30776, saving model to sonar_best.h5py\n",
      "INFO:tensorflow:Assets written to: sonar_best.h5py\\assets\n",
      "\n",
      "Epoch 00020: val_loss improved from 0.30776 to 0.30020, saving model to sonar_best.h5py\n",
      "INFO:tensorflow:Assets written to: sonar_best.h5py\\assets\n",
      "\n",
      "Epoch 00021: val_loss improved from 0.30020 to 0.29233, saving model to sonar_best.h5py\n",
      "INFO:tensorflow:Assets written to: sonar_best.h5py\\assets\n",
      "\n",
      "Epoch 00022: val_loss improved from 0.29233 to 0.28491, saving model to sonar_best.h5py\n",
      "INFO:tensorflow:Assets written to: sonar_best.h5py\\assets\n",
      "\n",
      "Epoch 00023: val_loss improved from 0.28491 to 0.27824, saving model to sonar_best.h5py\n",
      "INFO:tensorflow:Assets written to: sonar_best.h5py\\assets\n",
      "\n",
      "Epoch 00024: val_loss improved from 0.27824 to 0.27125, saving model to sonar_best.h5py\n",
      "INFO:tensorflow:Assets written to: sonar_best.h5py\\assets\n",
      "\n",
      "Epoch 00025: val_loss improved from 0.27125 to 0.26252, saving model to sonar_best.h5py\n",
      "INFO:tensorflow:Assets written to: sonar_best.h5py\\assets\n",
      "\n",
      "Epoch 00026: val_loss improved from 0.26252 to 0.25394, saving model to sonar_best.h5py\n",
      "INFO:tensorflow:Assets written to: sonar_best.h5py\\assets\n",
      "\n",
      "Epoch 00027: val_loss improved from 0.25394 to 0.24649, saving model to sonar_best.h5py\n",
      "INFO:tensorflow:Assets written to: sonar_best.h5py\\assets\n",
      "\n",
      "Epoch 00028: val_loss improved from 0.24649 to 0.24039, saving model to sonar_best.h5py\n",
      "INFO:tensorflow:Assets written to: sonar_best.h5py\\assets\n",
      "\n",
      "Epoch 00029: val_loss improved from 0.24039 to 0.23502, saving model to sonar_best.h5py\n",
      "INFO:tensorflow:Assets written to: sonar_best.h5py\\assets\n",
      "\n",
      "Epoch 00030: val_loss improved from 0.23502 to 0.22817, saving model to sonar_best.h5py\n",
      "INFO:tensorflow:Assets written to: sonar_best.h5py\\assets\n",
      "\n",
      "Epoch 00031: val_loss improved from 0.22817 to 0.22044, saving model to sonar_best.h5py\n",
      "INFO:tensorflow:Assets written to: sonar_best.h5py\\assets\n",
      "\n",
      "Epoch 00032: val_loss improved from 0.22044 to 0.21416, saving model to sonar_best.h5py\n",
      "INFO:tensorflow:Assets written to: sonar_best.h5py\\assets\n",
      "\n",
      "Epoch 00033: val_loss improved from 0.21416 to 0.20901, saving model to sonar_best.h5py\n",
      "INFO:tensorflow:Assets written to: sonar_best.h5py\\assets\n",
      "\n",
      "Epoch 00034: val_loss improved from 0.20901 to 0.20428, saving model to sonar_best.h5py\n",
      "INFO:tensorflow:Assets written to: sonar_best.h5py\\assets\n",
      "\n",
      "Epoch 00035: val_loss improved from 0.20428 to 0.19991, saving model to sonar_best.h5py\n",
      "INFO:tensorflow:Assets written to: sonar_best.h5py\\assets\n",
      "\n",
      "Epoch 00036: val_loss improved from 0.19991 to 0.19644, saving model to sonar_best.h5py\n",
      "INFO:tensorflow:Assets written to: sonar_best.h5py\\assets\n",
      "\n",
      "Epoch 00037: val_loss improved from 0.19644 to 0.19399, saving model to sonar_best.h5py\n",
      "INFO:tensorflow:Assets written to: sonar_best.h5py\\assets\n",
      "\n",
      "Epoch 00038: val_loss improved from 0.19399 to 0.19132, saving model to sonar_best.h5py\n",
      "INFO:tensorflow:Assets written to: sonar_best.h5py\\assets\n",
      "\n",
      "Epoch 00039: val_loss improved from 0.19132 to 0.18770, saving model to sonar_best.h5py\n",
      "INFO:tensorflow:Assets written to: sonar_best.h5py\\assets\n",
      "\n",
      "Epoch 00040: val_loss improved from 0.18770 to 0.18377, saving model to sonar_best.h5py\n",
      "INFO:tensorflow:Assets written to: sonar_best.h5py\\assets\n",
      "\n",
      "Epoch 00041: val_loss improved from 0.18377 to 0.17926, saving model to sonar_best.h5py\n",
      "INFO:tensorflow:Assets written to: sonar_best.h5py\\assets\n",
      "\n",
      "Epoch 00042: val_loss improved from 0.17926 to 0.17211, saving model to sonar_best.h5py\n",
      "INFO:tensorflow:Assets written to: sonar_best.h5py\\assets\n",
      "\n",
      "Epoch 00043: val_loss improved from 0.17211 to 0.16481, saving model to sonar_best.h5py\n",
      "INFO:tensorflow:Assets written to: sonar_best.h5py\\assets\n",
      "\n",
      "Epoch 00044: val_loss improved from 0.16481 to 0.15965, saving model to sonar_best.h5py\n",
      "INFO:tensorflow:Assets written to: sonar_best.h5py\\assets\n",
      "\n",
      "Epoch 00045: val_loss improved from 0.15965 to 0.15599, saving model to sonar_best.h5py\n",
      "INFO:tensorflow:Assets written to: sonar_best.h5py\\assets\n",
      "\n",
      "Epoch 00046: val_loss improved from 0.15599 to 0.15494, saving model to sonar_best.h5py\n",
      "INFO:tensorflow:Assets written to: sonar_best.h5py\\assets\n",
      "\n",
      "Epoch 00047: val_loss improved from 0.15494 to 0.15462, saving model to sonar_best.h5py\n",
      "INFO:tensorflow:Assets written to: sonar_best.h5py\\assets\n",
      "\n",
      "Epoch 00048: val_loss did not improve from 0.15462\n",
      "\n",
      "Epoch 00049: val_loss did not improve from 0.15462\n",
      "\n",
      "Epoch 00050: val_loss improved from 0.15462 to 0.15357, saving model to sonar_best.h5py\n",
      "INFO:tensorflow:Assets written to: sonar_best.h5py\\assets\n",
      "\n",
      "Epoch 00051: val_loss improved from 0.15357 to 0.15085, saving model to sonar_best.h5py\n",
      "INFO:tensorflow:Assets written to: sonar_best.h5py\\assets\n",
      "\n",
      "Epoch 00052: val_loss improved from 0.15085 to 0.14935, saving model to sonar_best.h5py\n",
      "INFO:tensorflow:Assets written to: sonar_best.h5py\\assets\n",
      "\n",
      "Epoch 00053: val_loss improved from 0.14935 to 0.14806, saving model to sonar_best.h5py\n",
      "INFO:tensorflow:Assets written to: sonar_best.h5py\\assets\n",
      "\n",
      "Epoch 00054: val_loss improved from 0.14806 to 0.14630, saving model to sonar_best.h5py\n",
      "INFO:tensorflow:Assets written to: sonar_best.h5py\\assets\n",
      "\n",
      "Epoch 00055: val_loss improved from 0.14630 to 0.14449, saving model to sonar_best.h5py\n",
      "INFO:tensorflow:Assets written to: sonar_best.h5py\\assets\n",
      "\n",
      "Epoch 00056: val_loss improved from 0.14449 to 0.14349, saving model to sonar_best.h5py\n",
      "INFO:tensorflow:Assets written to: sonar_best.h5py\\assets\n",
      "\n",
      "Epoch 00057: val_loss did not improve from 0.14349\n",
      "\n",
      "Epoch 00058: val_loss did not improve from 0.14349\n",
      "\n",
      "Epoch 00059: val_loss did not improve from 0.14349\n",
      "\n",
      "Epoch 00060: val_loss did not improve from 0.14349\n",
      "\n",
      "Epoch 00061: val_loss did not improve from 0.14349\n",
      "\n",
      "Epoch 00062: val_loss did not improve from 0.14349\n",
      "\n",
      "Epoch 00063: val_loss did not improve from 0.14349\n",
      "\n",
      "Epoch 00064: val_loss did not improve from 0.14349\n",
      "\n",
      "Epoch 00065: val_loss improved from 0.14349 to 0.14151, saving model to sonar_best.h5py\n",
      "INFO:tensorflow:Assets written to: sonar_best.h5py\\assets\n",
      "\n",
      "Epoch 00066: val_loss improved from 0.14151 to 0.13850, saving model to sonar_best.h5py\n",
      "INFO:tensorflow:Assets written to: sonar_best.h5py\\assets\n",
      "\n",
      "Epoch 00067: val_loss improved from 0.13850 to 0.13526, saving model to sonar_best.h5py\n",
      "INFO:tensorflow:Assets written to: sonar_best.h5py\\assets\n",
      "\n",
      "Epoch 00068: val_loss improved from 0.13526 to 0.13274, saving model to sonar_best.h5py\n",
      "INFO:tensorflow:Assets written to: sonar_best.h5py\\assets\n",
      "\n",
      "Epoch 00069: val_loss improved from 0.13274 to 0.13105, saving model to sonar_best.h5py\n",
      "INFO:tensorflow:Assets written to: sonar_best.h5py\\assets\n",
      "\n",
      "Epoch 00070: val_loss improved from 0.13105 to 0.13083, saving model to sonar_best.h5py\n",
      "INFO:tensorflow:Assets written to: sonar_best.h5py\\assets\n",
      "\n",
      "Epoch 00071: val_loss did not improve from 0.13083\n",
      "\n",
      "Epoch 00072: val_loss did not improve from 0.13083\n",
      "\n",
      "Epoch 00073: val_loss did not improve from 0.13083\n",
      "\n",
      "Epoch 00074: val_loss did not improve from 0.13083\n",
      "\n",
      "Epoch 00075: val_loss did not improve from 0.13083\n",
      "\n",
      "Epoch 00076: val_loss did not improve from 0.13083\n",
      "\n",
      "Epoch 00077: val_loss did not improve from 0.13083\n",
      "\n",
      "Epoch 00078: val_loss did not improve from 0.13083\n",
      "\n",
      "Epoch 00079: val_loss did not improve from 0.13083\n",
      "\n",
      "Epoch 00080: val_loss did not improve from 0.13083\n",
      "\n",
      "Epoch 00081: val_loss did not improve from 0.13083\n",
      "\n",
      "Epoch 00082: val_loss did not improve from 0.13083\n",
      "\n",
      "Epoch 00083: val_loss did not improve from 0.13083\n",
      "\n",
      "Epoch 00084: val_loss did not improve from 0.13083\n",
      "\n",
      "Epoch 00085: val_loss did not improve from 0.13083\n",
      "\n",
      "Epoch 00086: val_loss did not improve from 0.13083\n",
      "\n",
      "Epoch 00087: val_loss did not improve from 0.13083\n",
      "\n",
      "Epoch 00088: val_loss did not improve from 0.13083\n",
      "\n",
      "Epoch 00089: val_loss did not improve from 0.13083\n",
      "\n",
      "Epoch 00090: val_loss did not improve from 0.13083\n",
      "\n",
      "Epoch 00091: val_loss did not improve from 0.13083\n",
      "\n",
      "Epoch 00092: val_loss improved from 0.13083 to 0.13060, saving model to sonar_best.h5py\n",
      "INFO:tensorflow:Assets written to: sonar_best.h5py\\assets\n",
      "\n",
      "Epoch 00093: val_loss improved from 0.13060 to 0.13016, saving model to sonar_best.h5py\n",
      "INFO:tensorflow:Assets written to: sonar_best.h5py\\assets\n",
      "\n",
      "Epoch 00094: val_loss improved from 0.13016 to 0.12990, saving model to sonar_best.h5py\n",
      "INFO:tensorflow:Assets written to: sonar_best.h5py\\assets\n",
      "\n",
      "Epoch 00095: val_loss improved from 0.12990 to 0.12988, saving model to sonar_best.h5py\n",
      "INFO:tensorflow:Assets written to: sonar_best.h5py\\assets\n",
      "\n",
      "Epoch 00096: val_loss did not improve from 0.12988\n",
      "\n",
      "Epoch 00097: val_loss did not improve from 0.12988\n",
      "\n",
      "Epoch 00098: val_loss did not improve from 0.12988\n",
      "\n",
      "Epoch 00099: val_loss did not improve from 0.12988\n",
      "\n",
      "Epoch 00100: val_loss did not improve from 0.12988\n",
      "\n",
      "Epoch 00101: val_loss did not improve from 0.12988\n",
      "\n",
      "Epoch 00102: val_loss did not improve from 0.12988\n",
      "\n",
      "Epoch 00103: val_loss did not improve from 0.12988\n",
      "\n",
      "Epoch 00104: val_loss did not improve from 0.12988\n",
      "\n",
      "Epoch 00105: val_loss did not improve from 0.12988\n",
      "\n",
      "Epoch 00106: val_loss did not improve from 0.12988\n",
      "\n",
      "Epoch 00107: val_loss did not improve from 0.12988\n",
      "\n",
      "Epoch 00108: val_loss did not improve from 0.12988\n",
      "\n",
      "Epoch 00109: val_loss did not improve from 0.12988\n",
      "\n",
      "Epoch 00110: val_loss improved from 0.12988 to 0.12956, saving model to sonar_best.h5py\n",
      "INFO:tensorflow:Assets written to: sonar_best.h5py\\assets\n",
      "\n",
      "Epoch 00111: val_loss improved from 0.12956 to 0.12928, saving model to sonar_best.h5py\n",
      "INFO:tensorflow:Assets written to: sonar_best.h5py\\assets\n",
      "\n",
      "Epoch 00112: val_loss improved from 0.12928 to 0.12906, saving model to sonar_best.h5py\n",
      "INFO:tensorflow:Assets written to: sonar_best.h5py\\assets\n",
      "\n",
      "Epoch 00113: val_loss did not improve from 0.12906\n",
      "\n",
      "Epoch 00114: val_loss did not improve from 0.12906\n",
      "\n",
      "Epoch 00115: val_loss did not improve from 0.12906\n",
      "\n",
      "Epoch 00116: val_loss did not improve from 0.12906\n",
      "\n",
      "Epoch 00117: val_loss did not improve from 0.12906\n",
      "\n",
      "Epoch 00118: val_loss did not improve from 0.12906\n",
      "\n",
      "Epoch 00119: val_loss did not improve from 0.12906\n",
      "\n",
      "Epoch 00120: val_loss did not improve from 0.12906\n",
      "\n",
      "Epoch 00121: val_loss did not improve from 0.12906\n",
      "\n",
      "Epoch 00122: val_loss did not improve from 0.12906\n",
      "\n",
      "Epoch 00123: val_loss did not improve from 0.12906\n",
      "\n",
      "Epoch 00124: val_loss did not improve from 0.12906\n",
      "\n",
      "Epoch 00125: val_loss did not improve from 0.12906\n",
      "\n",
      "Epoch 00126: val_loss did not improve from 0.12906\n",
      "\n",
      "Epoch 00127: val_loss did not improve from 0.12906\n",
      "\n",
      "Epoch 00128: val_loss did not improve from 0.12906\n",
      "\n",
      "Epoch 00129: val_loss did not improve from 0.12906\n",
      "\n",
      "Epoch 00130: val_loss did not improve from 0.12906\n",
      "\n",
      "Epoch 00131: val_loss did not improve from 0.12906\n",
      "\n",
      "Epoch 00132: val_loss did not improve from 0.12906\n",
      "\n",
      "Epoch 00133: val_loss did not improve from 0.12906\n",
      "\n",
      "Epoch 00134: val_loss did not improve from 0.12906\n",
      "\n",
      "Epoch 00135: val_loss did not improve from 0.12906\n",
      "\n",
      "Epoch 00136: val_loss did not improve from 0.12906\n",
      "\n",
      "Epoch 00137: val_loss did not improve from 0.12906\n",
      "\n",
      "Epoch 00138: val_loss did not improve from 0.12906\n",
      "\n",
      "Epoch 00139: val_loss did not improve from 0.12906\n",
      "\n",
      "Epoch 00140: val_loss did not improve from 0.12906\n",
      "\n",
      "Epoch 00141: val_loss did not improve from 0.12906\n",
      "\n",
      "Epoch 00142: val_loss did not improve from 0.12906\n",
      "\n",
      "Epoch 00143: val_loss did not improve from 0.12906\n",
      "\n",
      "Epoch 00144: val_loss did not improve from 0.12906\n",
      "\n",
      "Epoch 00145: val_loss improved from 0.12906 to 0.12899, saving model to sonar_best.h5py\n",
      "INFO:tensorflow:Assets written to: sonar_best.h5py\\assets\n",
      "\n",
      "Epoch 00146: val_loss improved from 0.12899 to 0.12894, saving model to sonar_best.h5py\n",
      "INFO:tensorflow:Assets written to: sonar_best.h5py\\assets\n",
      "\n",
      "Epoch 00147: val_loss improved from 0.12894 to 0.12891, saving model to sonar_best.h5py\n",
      "INFO:tensorflow:Assets written to: sonar_best.h5py\\assets\n",
      "\n",
      "Epoch 00148: val_loss improved from 0.12891 to 0.12889, saving model to sonar_best.h5py\n",
      "INFO:tensorflow:Assets written to: sonar_best.h5py\\assets\n",
      "\n",
      "Epoch 00149: val_loss improved from 0.12889 to 0.12873, saving model to sonar_best.h5py\n",
      "INFO:tensorflow:Assets written to: sonar_best.h5py\\assets\n",
      "\n",
      "Epoch 00150: val_loss improved from 0.12873 to 0.12845, saving model to sonar_best.h5py\n",
      "INFO:tensorflow:Assets written to: sonar_best.h5py\\assets\n",
      "\n",
      "Epoch 00151: val_loss improved from 0.12845 to 0.12828, saving model to sonar_best.h5py\n",
      "INFO:tensorflow:Assets written to: sonar_best.h5py\\assets\n",
      "\n",
      "Epoch 00152: val_loss improved from 0.12828 to 0.12809, saving model to sonar_best.h5py\n",
      "INFO:tensorflow:Assets written to: sonar_best.h5py\\assets\n",
      "\n",
      "Epoch 00153: val_loss improved from 0.12809 to 0.12771, saving model to sonar_best.h5py\n",
      "INFO:tensorflow:Assets written to: sonar_best.h5py\\assets\n",
      "\n",
      "Epoch 00154: val_loss improved from 0.12771 to 0.12732, saving model to sonar_best.h5py\n",
      "INFO:tensorflow:Assets written to: sonar_best.h5py\\assets\n",
      "\n",
      "Epoch 00155: val_loss improved from 0.12732 to 0.12683, saving model to sonar_best.h5py\n",
      "INFO:tensorflow:Assets written to: sonar_best.h5py\\assets\n",
      "\n",
      "Epoch 00156: val_loss improved from 0.12683 to 0.12640, saving model to sonar_best.h5py\n",
      "INFO:tensorflow:Assets written to: sonar_best.h5py\\assets\n",
      "\n",
      "Epoch 00157: val_loss improved from 0.12640 to 0.12604, saving model to sonar_best.h5py\n",
      "INFO:tensorflow:Assets written to: sonar_best.h5py\\assets\n",
      "\n",
      "Epoch 00158: val_loss improved from 0.12604 to 0.12573, saving model to sonar_best.h5py\n",
      "INFO:tensorflow:Assets written to: sonar_best.h5py\\assets\n",
      "\n",
      "Epoch 00159: val_loss improved from 0.12573 to 0.12550, saving model to sonar_best.h5py\n",
      "INFO:tensorflow:Assets written to: sonar_best.h5py\\assets\n",
      "\n",
      "Epoch 00160: val_loss improved from 0.12550 to 0.12530, saving model to sonar_best.h5py\n",
      "INFO:tensorflow:Assets written to: sonar_best.h5py\\assets\n",
      "\n",
      "Epoch 00161: val_loss improved from 0.12530 to 0.12525, saving model to sonar_best.h5py\n",
      "INFO:tensorflow:Assets written to: sonar_best.h5py\\assets\n",
      "\n",
      "Epoch 00162: val_loss did not improve from 0.12525\n",
      "\n",
      "Epoch 00163: val_loss did not improve from 0.12525\n",
      "\n",
      "Epoch 00164: val_loss did not improve from 0.12525\n",
      "\n",
      "Epoch 00165: val_loss did not improve from 0.12525\n",
      "\n",
      "Epoch 00166: val_loss did not improve from 0.12525\n",
      "\n",
      "Epoch 00167: val_loss did not improve from 0.12525\n",
      "\n",
      "Epoch 00168: val_loss did not improve from 0.12525\n",
      "\n",
      "Epoch 00169: val_loss did not improve from 0.12525\n",
      "\n",
      "Epoch 00170: val_loss did not improve from 0.12525\n",
      "\n",
      "Epoch 00171: val_loss did not improve from 0.12525\n",
      "\n",
      "Epoch 00172: val_loss did not improve from 0.12525\n",
      "\n",
      "Epoch 00173: val_loss did not improve from 0.12525\n",
      "\n",
      "Epoch 00174: val_loss did not improve from 0.12525\n",
      "\n",
      "Epoch 00175: val_loss did not improve from 0.12525\n",
      "\n",
      "Epoch 00176: val_loss did not improve from 0.12525\n",
      "\n",
      "Epoch 00177: val_loss did not improve from 0.12525\n",
      "\n",
      "Epoch 00178: val_loss improved from 0.12525 to 0.12501, saving model to sonar_best.h5py\n",
      "INFO:tensorflow:Assets written to: sonar_best.h5py\\assets\n",
      "\n",
      "Epoch 00179: val_loss improved from 0.12501 to 0.12492, saving model to sonar_best.h5py\n",
      "INFO:tensorflow:Assets written to: sonar_best.h5py\\assets\n",
      "\n",
      "Epoch 00180: val_loss improved from 0.12492 to 0.12490, saving model to sonar_best.h5py\n",
      "INFO:tensorflow:Assets written to: sonar_best.h5py\\assets\n",
      "\n",
      "Epoch 00181: val_loss improved from 0.12490 to 0.12485, saving model to sonar_best.h5py\n",
      "INFO:tensorflow:Assets written to: sonar_best.h5py\\assets\n",
      "\n",
      "Epoch 00182: val_loss improved from 0.12485 to 0.12469, saving model to sonar_best.h5py\n",
      "INFO:tensorflow:Assets written to: sonar_best.h5py\\assets\n",
      "\n",
      "Epoch 00183: val_loss improved from 0.12469 to 0.12440, saving model to sonar_best.h5py\n",
      "INFO:tensorflow:Assets written to: sonar_best.h5py\\assets\n",
      "\n",
      "Epoch 00184: val_loss improved from 0.12440 to 0.12410, saving model to sonar_best.h5py\n",
      "INFO:tensorflow:Assets written to: sonar_best.h5py\\assets\n",
      "\n",
      "Epoch 00185: val_loss improved from 0.12410 to 0.12395, saving model to sonar_best.h5py\n",
      "INFO:tensorflow:Assets written to: sonar_best.h5py\\assets\n",
      "\n",
      "Epoch 00186: val_loss did not improve from 0.12395\n",
      "\n",
      "Epoch 00187: val_loss did not improve from 0.12395\n",
      "\n",
      "Epoch 00188: val_loss did not improve from 0.12395\n",
      "\n",
      "Epoch 00189: val_loss did not improve from 0.12395\n",
      "\n",
      "Epoch 00190: val_loss did not improve from 0.12395\n",
      "\n",
      "Epoch 00191: val_loss did not improve from 0.12395\n",
      "\n",
      "Epoch 00192: val_loss did not improve from 0.12395\n",
      "\n",
      "Epoch 00193: val_loss did not improve from 0.12395\n",
      "\n",
      "Epoch 00194: val_loss did not improve from 0.12395\n",
      "\n",
      "Epoch 00195: val_loss did not improve from 0.12395\n",
      "\n",
      "Epoch 00196: val_loss did not improve from 0.12395\n",
      "\n",
      "Epoch 00197: val_loss improved from 0.12395 to 0.12364, saving model to sonar_best.h5py\n",
      "INFO:tensorflow:Assets written to: sonar_best.h5py\\assets\n",
      "\n",
      "Epoch 00198: val_loss improved from 0.12364 to 0.12324, saving model to sonar_best.h5py\n",
      "INFO:tensorflow:Assets written to: sonar_best.h5py\\assets\n",
      "\n",
      "Epoch 00199: val_loss improved from 0.12324 to 0.12304, saving model to sonar_best.h5py\n",
      "INFO:tensorflow:Assets written to: sonar_best.h5py\\assets\n",
      "\n",
      "Epoch 00200: val_loss did not improve from 0.12304\n"
     ]
    }
   ],
   "source": [
    "# epoch가 종료될 때마다 callback 함수를 실행하도록 설정\n",
    "hist = model.fit(X_train, y_train, validation_split=0.2,\n",
    "                                epochs=200, batch_size=100, verbose=0,\n",
    "                                callbacks=[mc])"
   ]
  },
  {
   "cell_type": "code",
   "execution_count": 44,
   "metadata": {},
   "outputs": [
    {
     "name": "stdout",
     "output_type": "stream",
     "text": [
      "42/1 [============================================================================================================================================================================================================================================================================================================================================================================================================================================================================================================================================================================================================================================================================================================================================================================================================================================================================================================================================================================================================================================================================================================================================================================================================================================================================================================] - 0s 3ms/sample - loss: 0.7057 - accuracy: 0.8810\n"
     ]
    },
    {
     "data": {
      "text/plain": [
       "[0.614770457858131, 0.88095236]"
      ]
     },
     "execution_count": 44,
     "metadata": {},
     "output_type": "execute_result"
    }
   ],
   "source": [
    "from tensorflow.keras.models import load_model\n",
    "\n",
    "best_model = load_model('sonar_best.h5py')\n",
    "best_model.evaluate(X_test, y_test)"
   ]
  },
  {
   "cell_type": "code",
   "execution_count": 47,
   "metadata": {},
   "outputs": [],
   "source": [
    "y_acc = hist.history['accuracy']\n",
    "y_vloss = hist.history['val_loss']\n",
    "xs = np.arange(1, len(y_acc) + 1)"
   ]
  },
  {
   "cell_type": "code",
   "execution_count": 50,
   "metadata": {},
   "outputs": [
    {
     "data": {
      "image/png": "[encoded data removed]",
      "text/plain": [
       "<Figure size 864x576 with 1 Axes>"
      ]
     },
     "metadata": {
      "needs_background": "light"
     },
     "output_type": "display_data"
    }
   ],
   "source": [
    "plt.figure(figsize=(12, 8))\n",
    "plt.plot(xs, y_acc, label='train accuracy')\n",
    "plt.plot(xs, y_vloss, label='validataion loss')\n",
    "plt.legend(), plt.grid()\n",
    "plt.ylim([0, 1.2])\n",
    "plt.xlabel('Epoch')\n",
    "plt.show()"
   ]
  },
  {
   "cell_type": "markdown",
   "metadata": {},
   "source": [
    "- 조기 종료 콜백 함수"
   ]
  },
  {
   "cell_type": "code",
   "execution_count": 51,
   "metadata": {},
   "outputs": [],
   "source": [
    "del model"
   ]
  },
  {
   "cell_type": "code",
   "execution_count": 52,
   "metadata": {},
   "outputs": [
    {
     "name": "stdout",
     "output_type": "stream",
     "text": [
      "Model: \"sequential_8\"\n",
      "_________________________________________________________________\n",
      "Layer (type)                 Output Shape              Param #   \n",
      "=================================================================\n",
      "dense_50 (Dense)             (None, 80)                4880      \n",
      "_________________________________________________________________\n",
      "dense_51 (Dense)             (None, 48)                3888      \n",
      "_________________________________________________________________\n",
      "dense_52 (Dense)             (None, 20)                980       \n",
      "_________________________________________________________________\n",
      "dense_53 (Dense)             (None, 8)                 168       \n",
      "_________________________________________________________________\n",
      "dense_54 (Dense)             (None, 1)                 9         \n",
      "=================================================================\n",
      "Total params: 9,925\n",
      "Trainable params: 9,925\n",
      "Non-trainable params: 0\n",
      "_________________________________________________________________\n"
     ]
    }
   ],
   "source": [
    "model = Sequential([\n",
    "    Dense(80, input_dim=60, activation='relu'),\n",
    "    Dense(48, activation='relu'),\n",
    "    Dense(20, activation='relu'),\n",
    "    Dense(8, activation='relu'),\n",
    "    Dense(1, activation='sigmoid')  \n",
    "])\n",
    "model.summary()"
   ]
  },
  {
   "cell_type": "code",
   "execution_count": 53,
   "metadata": {},
   "outputs": [],
   "source": [
    "model.compile('adam', 'binary_crossentropy', metrics=['accuracy'])"
   ]
  },
  {
   "cell_type": "code",
   "execution_count": 54,
   "metadata": {},
   "outputs": [],
   "source": [
    "from tensorflow.keras.callbacks import EarlyStopping\n",
    "mc = ModelCheckpoint('sonar_best.h5py', monitor='val_loss', \n",
    "                                        verbose=1, save_best_only=True)\n",
    "es = EarlyStopping(patience=20)"
   ]
  },
  {
   "cell_type": "code",
   "execution_count": 55,
   "metadata": {},
   "outputs": [
    {
     "name": "stdout",
     "output_type": "stream",
     "text": [
      "Train on 132 samples, validate on 34 samples\n",
      "Epoch 1/200\n",
      "100/132 [=====================>........] - ETA: 0s - loss: 0.7019 - accuracy: 0.5000\n",
      "Epoch 00001: val_loss improved from inf to 0.67011, saving model to sonar_best.h5py\n",
      "INFO:tensorflow:Assets written to: sonar_best.h5py\\assets\n",
      "132/132 [==============================] - 2s 13ms/sample - loss: 0.7022 - accuracy: 0.5000 - val_loss: 0.6701 - val_accuracy: 0.6471\n",
      "Epoch 2/200\n",
      "100/132 [=====================>........] - ETA: 0s - loss: 0.6786 - accuracy: 0.5400\n",
      "Epoch 00002: val_loss improved from 0.67011 to 0.65395, saving model to sonar_best.h5py\n",
      "INFO:tensorflow:Assets written to: sonar_best.h5py\\assets\n",
      "132/132 [==============================] - 1s 8ms/sample - loss: 0.6705 - accuracy: 0.5606 - val_loss: 0.6539 - val_accuracy: 0.6765\n",
      "Epoch 3/200\n",
      "100/132 [=====================>........] - ETA: 0s - loss: 0.6521 - accuracy: 0.6500\n",
      "Epoch 00003: val_loss improved from 0.65395 to 0.63632, saving model to sonar_best.h5py\n",
      "INFO:tensorflow:Assets written to: sonar_best.h5py\\assets\n",
      "132/132 [==============================] - 1s 9ms/sample - loss: 0.6437 - accuracy: 0.6515 - val_loss: 0.6363 - val_accuracy: 0.7647\n",
      "Epoch 4/200\n",
      "100/132 [=====================>........] - ETA: 0s - loss: 0.6324 - accuracy: 0.6600\n",
      "Epoch 00004: val_loss improved from 0.63632 to 0.61837, saving model to sonar_best.h5py\n",
      "INFO:tensorflow:Assets written to: sonar_best.h5py\\assets\n",
      "132/132 [==============================] - 1s 11ms/sample - loss: 0.6222 - accuracy: 0.7045 - val_loss: 0.6184 - val_accuracy: 0.7647\n",
      "Epoch 5/200\n",
      "100/132 [=====================>........] - ETA: 0s - loss: 0.5998 - accuracy: 0.7700\n",
      "Epoch 00005: val_loss improved from 0.61837 to 0.60168, saving model to sonar_best.h5py\n",
      "INFO:tensorflow:Assets written to: sonar_best.h5py\\assets\n",
      "132/132 [==============================] - 1s 10ms/sample - loss: 0.6017 - accuracy: 0.7500 - val_loss: 0.6017 - val_accuracy: 0.7941\n",
      "Epoch 6/200\n",
      "100/132 [=====================>........] - ETA: 0s - loss: 0.5882 - accuracy: 0.7700\n",
      "Epoch 00006: val_loss improved from 0.60168 to 0.58518, saving model to sonar_best.h5py\n",
      "INFO:tensorflow:Assets written to: sonar_best.h5py\\assets\n",
      "132/132 [==============================] - 1s 8ms/sample - loss: 0.5809 - accuracy: 0.7879 - val_loss: 0.5852 - val_accuracy: 0.8235\n",
      "Epoch 7/200\n",
      "100/132 [=====================>........] - ETA: 0s - loss: 0.5733 - accuracy: 0.8000\n",
      "Epoch 00007: val_loss improved from 0.58518 to 0.56749, saving model to sonar_best.h5py\n",
      "INFO:tensorflow:Assets written to: sonar_best.h5py\\assets\n",
      "132/132 [==============================] - 1s 7ms/sample - loss: 0.5606 - accuracy: 0.7955 - val_loss: 0.5675 - val_accuracy: 0.8235\n",
      "Epoch 8/200\n",
      "100/132 [=====================>........] - ETA: 0s - loss: 0.5517 - accuracy: 0.8300\n",
      "Epoch 00008: val_loss improved from 0.56749 to 0.54883, saving model to sonar_best.h5py\n",
      "INFO:tensorflow:Assets written to: sonar_best.h5py\\assets\n",
      "132/132 [==============================] - 1s 8ms/sample - loss: 0.5394 - accuracy: 0.8485 - val_loss: 0.5488 - val_accuracy: 0.8235\n",
      "Epoch 9/200\n",
      "100/132 [=====================>........] - ETA: 0s - loss: 0.5257 - accuracy: 0.8400\n",
      "Epoch 00009: val_loss improved from 0.54883 to 0.52985, saving model to sonar_best.h5py\n",
      "INFO:tensorflow:Assets written to: sonar_best.h5py\\assets\n",
      "132/132 [==============================] - 2s 12ms/sample - loss: 0.5159 - accuracy: 0.8561 - val_loss: 0.5298 - val_accuracy: 0.8529\n",
      "Epoch 10/200\n",
      "100/132 [=====================>........] - ETA: 0s - loss: 0.4992 - accuracy: 0.8700\n",
      "Epoch 00010: val_loss improved from 0.52985 to 0.51134, saving model to sonar_best.h5py\n",
      "INFO:tensorflow:Assets written to: sonar_best.h5py\\assets\n",
      "132/132 [==============================] - 2s 15ms/sample - loss: 0.4916 - accuracy: 0.8636 - val_loss: 0.5113 - val_accuracy: 0.8824\n",
      "Epoch 11/200\n",
      "100/132 [=====================>........] - ETA: 0s - loss: 0.4789 - accuracy: 0.8700\n",
      "Epoch 00011: val_loss improved from 0.51134 to 0.49384, saving model to sonar_best.h5py\n",
      "INFO:tensorflow:Assets written to: sonar_best.h5py\\assets\n",
      "132/132 [==============================] - 1s 8ms/sample - loss: 0.4667 - accuracy: 0.8788 - val_loss: 0.4938 - val_accuracy: 0.8824\n",
      "Epoch 12/200\n",
      "100/132 [=====================>........] - ETA: 0s - loss: 0.4474 - accuracy: 0.8900\n",
      "Epoch 00012: val_loss improved from 0.49384 to 0.47739, saving model to sonar_best.h5py\n",
      "INFO:tensorflow:Assets written to: sonar_best.h5py\\assets\n",
      "132/132 [==============================] - 1s 7ms/sample - loss: 0.4433 - accuracy: 0.8864 - val_loss: 0.4774 - val_accuracy: 0.8824\n",
      "Epoch 13/200\n",
      "100/132 [=====================>........] - ETA: 0s - loss: 0.4060 - accuracy: 0.9200\n",
      "Epoch 00013: val_loss improved from 0.47739 to 0.46261, saving model to sonar_best.h5py\n",
      "INFO:tensorflow:Assets written to: sonar_best.h5py\\assets\n",
      "132/132 [==============================] - 1s 8ms/sample - loss: 0.4201 - accuracy: 0.9015 - val_loss: 0.4626 - val_accuracy: 0.8529\n",
      "Epoch 14/200\n",
      "100/132 [=====================>........] - ETA: 0s - loss: 0.4071 - accuracy: 0.8900\n",
      "Epoch 00014: val_loss improved from 0.46261 to 0.44859, saving model to sonar_best.h5py\n",
      "INFO:tensorflow:Assets written to: sonar_best.h5py\\assets\n",
      "132/132 [==============================] - 1s 10ms/sample - loss: 0.3963 - accuracy: 0.9091 - val_loss: 0.4486 - val_accuracy: 0.8529\n",
      "Epoch 15/200\n",
      "100/132 [=====================>........] - ETA: 0s - loss: 0.3701 - accuracy: 0.9200\n",
      "Epoch 00015: val_loss improved from 0.44859 to 0.43402, saving model to sonar_best.h5py\n",
      "INFO:tensorflow:Assets written to: sonar_best.h5py\\assets\n",
      "132/132 [==============================] - 1s 8ms/sample - loss: 0.3745 - accuracy: 0.9167 - val_loss: 0.4340 - val_accuracy: 0.8529\n",
      "Epoch 16/200\n",
      "100/132 [=====================>........] - ETA: 0s - loss: 0.3722 - accuracy: 0.9100\n",
      "Epoch 00016: val_loss improved from 0.43402 to 0.41865, saving model to sonar_best.h5py\n",
      "INFO:tensorflow:Assets written to: sonar_best.h5py\\assets\n",
      "132/132 [==============================] - 1s 8ms/sample - loss: 0.3519 - accuracy: 0.9242 - val_loss: 0.4187 - val_accuracy: 0.8529\n",
      "Epoch 17/200\n",
      "100/132 [=====================>........] - ETA: 0s - loss: 0.3218 - accuracy: 0.9400\n",
      "Epoch 00017: val_loss improved from 0.41865 to 0.40140, saving model to sonar_best.h5py\n",
      "INFO:tensorflow:Assets written to: sonar_best.h5py\\assets\n",
      "132/132 [==============================] - 1s 8ms/sample - loss: 0.3291 - accuracy: 0.9470 - val_loss: 0.4014 - val_accuracy: 0.8529\n",
      "Epoch 18/200\n",
      "100/132 [=====================>........] - ETA: 0s - loss: 0.3228 - accuracy: 0.9300\n",
      "Epoch 00018: val_loss improved from 0.40140 to 0.38448, saving model to sonar_best.h5py\n",
      "INFO:tensorflow:Assets written to: sonar_best.h5py\\assets\n",
      "132/132 [==============================] - 1s 8ms/sample - loss: 0.3069 - accuracy: 0.9394 - val_loss: 0.3845 - val_accuracy: 0.8529\n",
      "Epoch 19/200\n",
      "100/132 [=====================>........] - ETA: 0s - loss: 0.2953 - accuracy: 0.9500\n",
      "Epoch 00019: val_loss improved from 0.38448 to 0.36897, saving model to sonar_best.h5py\n",
      "INFO:tensorflow:Assets written to: sonar_best.h5py\\assets\n",
      "132/132 [==============================] - 1s 11ms/sample - loss: 0.2848 - accuracy: 0.9545 - val_loss: 0.3690 - val_accuracy: 0.8529\n",
      "Epoch 20/200\n",
      "100/132 [=====================>........] - ETA: 0s - loss: 0.2604 - accuracy: 0.9700\n",
      "Epoch 00020: val_loss improved from 0.36897 to 0.35342, saving model to sonar_best.h5py\n",
      "INFO:tensorflow:Assets written to: sonar_best.h5py\\assets\n",
      "132/132 [==============================] - 1s 7ms/sample - loss: 0.2631 - accuracy: 0.9621 - val_loss: 0.3534 - val_accuracy: 0.8529\n",
      "Epoch 21/200\n",
      "100/132 [=====================>........] - ETA: 0s - loss: 0.2402 - accuracy: 0.9800\n",
      "Epoch 00021: val_loss improved from 0.35342 to 0.33838, saving model to sonar_best.h5py\n",
      "INFO:tensorflow:Assets written to: sonar_best.h5py\\assets\n",
      "132/132 [==============================] - 1s 8ms/sample - loss: 0.2415 - accuracy: 0.9848 - val_loss: 0.3384 - val_accuracy: 0.8529\n",
      "Epoch 22/200\n",
      "100/132 [=====================>........] - ETA: 0s - loss: 0.2432 - accuracy: 0.9800\n",
      "Epoch 00022: val_loss improved from 0.33838 to 0.32616, saving model to sonar_best.h5py\n",
      "INFO:tensorflow:Assets written to: sonar_best.h5py\\assets\n",
      "132/132 [==============================] - 1s 8ms/sample - loss: 0.2215 - accuracy: 0.9848 - val_loss: 0.3262 - val_accuracy: 0.8529\n",
      "Epoch 23/200\n",
      "100/132 [=====================>........] - ETA: 0s - loss: 0.2099 - accuracy: 0.9800\n",
      "Epoch 00023: val_loss improved from 0.32616 to 0.31347, saving model to sonar_best.h5py\n",
      "INFO:tensorflow:Assets written to: sonar_best.h5py\\assets\n",
      "132/132 [==============================] - 1s 8ms/sample - loss: 0.2003 - accuracy: 0.9848 - val_loss: 0.3135 - val_accuracy: 0.8529\n",
      "Epoch 24/200\n",
      "100/132 [=====================>........] - ETA: 0s - loss: 0.1839 - accuracy: 0.9800\n",
      "Epoch 00024: val_loss improved from 0.31347 to 0.30305, saving model to sonar_best.h5py\n",
      "INFO:tensorflow:Assets written to: sonar_best.h5py\\assets\n",
      "132/132 [==============================] - 1s 7ms/sample - loss: 0.1807 - accuracy: 0.9848 - val_loss: 0.3030 - val_accuracy: 0.8529\n",
      "Epoch 25/200\n",
      "100/132 [=====================>........] - ETA: 0s - loss: 0.1706 - accuracy: 0.9900\n",
      "Epoch 00025: val_loss improved from 0.30305 to 0.29467, saving model to sonar_best.h5py\n",
      "INFO:tensorflow:Assets written to: sonar_best.h5py\\assets\n",
      "132/132 [==============================] - 2s 12ms/sample - loss: 0.1617 - accuracy: 0.9924 - val_loss: 0.2947 - val_accuracy: 0.8529\n",
      "Epoch 26/200\n",
      "100/132 [=====================>........] - ETA: 0s - loss: 0.1536 - accuracy: 1.0000\n",
      "Epoch 00026: val_loss improved from 0.29467 to 0.28814, saving model to sonar_best.h5py\n",
      "INFO:tensorflow:Assets written to: sonar_best.h5py\\assets\n",
      "132/132 [==============================] - 1s 8ms/sample - loss: 0.1441 - accuracy: 1.0000 - val_loss: 0.2881 - val_accuracy: 0.8529\n",
      "Epoch 27/200\n",
      "100/132 [=====================>........] - ETA: 0s - loss: 0.1406 - accuracy: 1.0000\n",
      "Epoch 00027: val_loss improved from 0.28814 to 0.28282, saving model to sonar_best.h5py\n",
      "INFO:tensorflow:Assets written to: sonar_best.h5py\\assets\n",
      "132/132 [==============================] - 2s 16ms/sample - loss: 0.1277 - accuracy: 1.0000 - val_loss: 0.2828 - val_accuracy: 0.8529\n",
      "Epoch 28/200\n",
      "100/132 [=====================>........] - ETA: 0s - loss: 0.1074 - accuracy: 1.0000\n",
      "Epoch 00028: val_loss improved from 0.28282 to 0.28017, saving model to sonar_best.h5py\n",
      "INFO:tensorflow:Assets written to: sonar_best.h5py\\assets\n",
      "132/132 [==============================] - 1s 8ms/sample - loss: 0.1125 - accuracy: 1.0000 - val_loss: 0.2802 - val_accuracy: 0.8529\n",
      "Epoch 29/200\n",
      "100/132 [=====================>........] - ETA: 0s - loss: 0.0971 - accuracy: 1.0000\n",
      "Epoch 00029: val_loss improved from 0.28017 to 0.27738, saving model to sonar_best.h5py\n",
      "INFO:tensorflow:Assets written to: sonar_best.h5py\\assets\n",
      "132/132 [==============================] - 1s 10ms/sample - loss: 0.0987 - accuracy: 1.0000 - val_loss: 0.2774 - val_accuracy: 0.8529\n",
      "Epoch 30/200\n",
      "100/132 [=====================>........] - ETA: 0s - loss: 0.0820 - accuracy: 1.0000\n",
      "Epoch 00030: val_loss improved from 0.27738 to 0.27090, saving model to sonar_best.h5py\n",
      "INFO:tensorflow:Assets written to: sonar_best.h5py\\assets\n",
      "132/132 [==============================] - 1s 9ms/sample - loss: 0.0871 - accuracy: 1.0000 - val_loss: 0.2709 - val_accuracy: 0.8529\n",
      "Epoch 31/200\n",
      "100/132 [=====================>........] - ETA: 0s - loss: 0.0842 - accuracy: 1.0000\n",
      "Epoch 00031: val_loss improved from 0.27090 to 0.26345, saving model to sonar_best.h5py\n",
      "INFO:tensorflow:Assets written to: sonar_best.h5py\\assets\n",
      "132/132 [==============================] - 1s 7ms/sample - loss: 0.0760 - accuracy: 1.0000 - val_loss: 0.2635 - val_accuracy: 0.8529\n",
      "Epoch 32/200\n",
      "100/132 [=====================>........] - ETA: 0s - loss: 0.0638 - accuracy: 1.0000\n",
      "Epoch 00032: val_loss improved from 0.26345 to 0.25802, saving model to sonar_best.h5py\n",
      "INFO:tensorflow:Assets written to: sonar_best.h5py\\assets\n",
      "132/132 [==============================] - 1s 8ms/sample - loss: 0.0660 - accuracy: 1.0000 - val_loss: 0.2580 - val_accuracy: 0.8529\n",
      "Epoch 33/200\n",
      "100/132 [=====================>........] - ETA: 0s - loss: 0.0541 - accuracy: 1.0000\n",
      "Epoch 00033: val_loss improved from 0.25802 to 0.25410, saving model to sonar_best.h5py\n",
      "INFO:tensorflow:Assets written to: sonar_best.h5py\\assets\n",
      "132/132 [==============================] - 1s 7ms/sample - loss: 0.0574 - accuracy: 1.0000 - val_loss: 0.2541 - val_accuracy: 0.8824\n",
      "Epoch 34/200\n",
      "100/132 [=====================>........] - ETA: 0s - loss: 0.0544 - accuracy: 1.0000\n",
      "Epoch 00034: val_loss improved from 0.25410 to 0.25143, saving model to sonar_best.h5py\n",
      "INFO:tensorflow:Assets written to: sonar_best.h5py\\assets\n",
      "132/132 [==============================] - 1s 7ms/sample - loss: 0.0503 - accuracy: 1.0000 - val_loss: 0.2514 - val_accuracy: 0.9118\n",
      "Epoch 35/200\n",
      "100/132 [=====================>........] - ETA: 0s - loss: 0.0461 - accuracy: 1.0000\n",
      "Epoch 00035: val_loss improved from 0.25143 to 0.24961, saving model to sonar_best.h5py\n",
      "INFO:tensorflow:Assets written to: sonar_best.h5py\\assets\n",
      "132/132 [==============================] - 1s 11ms/sample - loss: 0.0438 - accuracy: 1.0000 - val_loss: 0.2496 - val_accuracy: 0.9118\n",
      "Epoch 36/200\n",
      "100/132 [=====================>........] - ETA: 0s - loss: 0.0399 - accuracy: 1.0000\n",
      "Epoch 00036: val_loss improved from 0.24961 to 0.24870, saving model to sonar_best.h5py\n",
      "INFO:tensorflow:Assets written to: sonar_best.h5py\\assets\n",
      "132/132 [==============================] - 1s 8ms/sample - loss: 0.0382 - accuracy: 1.0000 - val_loss: 0.2487 - val_accuracy: 0.9118\n",
      "Epoch 37/200\n",
      "100/132 [=====================>........] - ETA: 0s - loss: 0.0345 - accuracy: 1.0000\n",
      "Epoch 00037: val_loss did not improve from 0.24870\n",
      "132/132 [==============================] - 0s 235us/sample - loss: 0.0333 - accuracy: 1.0000 - val_loss: 0.2487 - val_accuracy: 0.9118\n",
      "Epoch 38/200\n",
      "100/132 [=====================>........] - ETA: 0s - loss: 0.0317 - accuracy: 1.0000\n",
      "Epoch 00038: val_loss did not improve from 0.24870\n",
      "132/132 [==============================] - 0s 174us/sample - loss: 0.0294 - accuracy: 1.0000 - val_loss: 0.2494 - val_accuracy: 0.9118\n",
      "Epoch 39/200\n",
      "100/132 [=====================>........] - ETA: 0s - loss: 0.0272 - accuracy: 1.0000\n",
      "Epoch 00039: val_loss did not improve from 0.24870\n",
      "132/132 [==============================] - 0s 235us/sample - loss: 0.0259 - accuracy: 1.0000 - val_loss: 0.2499 - val_accuracy: 0.9118\n",
      "Epoch 40/200\n",
      "100/132 [=====================>........] - ETA: 0s - loss: 0.0242 - accuracy: 1.0000\n",
      "Epoch 00040: val_loss did not improve from 0.24870\n",
      "132/132 [==============================] - 0s 174us/sample - loss: 0.0229 - accuracy: 1.0000 - val_loss: 0.2509 - val_accuracy: 0.9118\n",
      "Epoch 41/200\n",
      "100/132 [=====================>........] - ETA: 0s - loss: 0.0200 - accuracy: 1.0000\n",
      "Epoch 00041: val_loss did not improve from 0.24870\n",
      "132/132 [==============================] - 0s 212us/sample - loss: 0.0203 - accuracy: 1.0000 - val_loss: 0.2519 - val_accuracy: 0.9118\n",
      "Epoch 42/200\n",
      "100/132 [=====================>........] - ETA: 0s - loss: 0.0174 - accuracy: 1.0000\n",
      "Epoch 00042: val_loss did not improve from 0.24870\n",
      "132/132 [==============================] - 0s 197us/sample - loss: 0.0180 - accuracy: 1.0000 - val_loss: 0.2520 - val_accuracy: 0.9118\n",
      "Epoch 43/200\n",
      "100/132 [=====================>........] - ETA: 0s - loss: 0.0164 - accuracy: 1.0000\n",
      "Epoch 00043: val_loss did not improve from 0.24870\n",
      "132/132 [==============================] - 0s 167us/sample - loss: 0.0162 - accuracy: 1.0000 - val_loss: 0.2518 - val_accuracy: 0.9118\n",
      "Epoch 44/200\n",
      "100/132 [=====================>........] - ETA: 0s - loss: 0.0162 - accuracy: 1.0000\n",
      "Epoch 00044: val_loss did not improve from 0.24870\n",
      "132/132 [==============================] - 0s 151us/sample - loss: 0.0146 - accuracy: 1.0000 - val_loss: 0.2526 - val_accuracy: 0.9118\n",
      "Epoch 45/200\n",
      "100/132 [=====================>........] - ETA: 0s - loss: 0.0134 - accuracy: 1.0000\n",
      "Epoch 00045: val_loss did not improve from 0.24870\n",
      "132/132 [==============================] - 0s 167us/sample - loss: 0.0132 - accuracy: 1.0000 - val_loss: 0.2537 - val_accuracy: 0.9118\n",
      "Epoch 46/200\n",
      "100/132 [=====================>........] - ETA: 0s - loss: 0.0135 - accuracy: 1.0000\n",
      "Epoch 00046: val_loss did not improve from 0.24870\n",
      "132/132 [==============================] - 0s 220us/sample - loss: 0.0120 - accuracy: 1.0000 - val_loss: 0.2554 - val_accuracy: 0.9118\n",
      "Epoch 47/200\n",
      "100/132 [=====================>........] - ETA: 0s - loss: 0.0124 - accuracy: 1.0000\n",
      "Epoch 00047: val_loss did not improve from 0.24870\n",
      "132/132 [==============================] - 0s 212us/sample - loss: 0.0110 - accuracy: 1.0000 - val_loss: 0.2573 - val_accuracy: 0.9118\n",
      "Epoch 48/200\n",
      "100/132 [=====================>........] - ETA: 0s - loss: 0.0094 - accuracy: 1.0000\n",
      "Epoch 00048: val_loss did not improve from 0.24870\n",
      "132/132 [==============================] - 0s 280us/sample - loss: 0.0100 - accuracy: 1.0000 - val_loss: 0.2595 - val_accuracy: 0.9118\n",
      "Epoch 49/200\n",
      "100/132 [=====================>........] - ETA: 0s - loss: 0.0090 - accuracy: 1.0000\n",
      "Epoch 00049: val_loss did not improve from 0.24870\n",
      "132/132 [==============================] - 0s 227us/sample - loss: 0.0092 - accuracy: 1.0000 - val_loss: 0.2613 - val_accuracy: 0.9118\n",
      "Epoch 50/200\n",
      "100/132 [=====================>........] - ETA: 0s - loss: 0.0083 - accuracy: 1.0000\n",
      "Epoch 00050: val_loss did not improve from 0.24870\n",
      "132/132 [==============================] - 0s 197us/sample - loss: 0.0085 - accuracy: 1.0000 - val_loss: 0.2624 - val_accuracy: 0.9118\n",
      "Epoch 51/200\n",
      "100/132 [=====================>........] - ETA: 0s - loss: 0.0080 - accuracy: 1.0000\n",
      "Epoch 00051: val_loss did not improve from 0.24870\n",
      "132/132 [==============================] - 0s 189us/sample - loss: 0.0079 - accuracy: 1.0000 - val_loss: 0.2631 - val_accuracy: 0.9118\n",
      "Epoch 52/200\n",
      "100/132 [=====================>........] - ETA: 0s - loss: 0.0072 - accuracy: 1.0000\n",
      "Epoch 00052: val_loss did not improve from 0.24870\n",
      "132/132 [==============================] - 0s 197us/sample - loss: 0.0073 - accuracy: 1.0000 - val_loss: 0.2646 - val_accuracy: 0.9118\n",
      "Epoch 53/200\n",
      "100/132 [=====================>........] - ETA: 0s - loss: 0.0065 - accuracy: 1.0000\n",
      "Epoch 00053: val_loss did not improve from 0.24870\n",
      "132/132 [==============================] - 0s 220us/sample - loss: 0.0068 - accuracy: 1.0000 - val_loss: 0.2664 - val_accuracy: 0.9118\n",
      "Epoch 54/200\n",
      "100/132 [=====================>........] - ETA: 0s - loss: 0.0064 - accuracy: 1.0000\n",
      "Epoch 00054: val_loss did not improve from 0.24870\n",
      "132/132 [==============================] - 0s 151us/sample - loss: 0.0064 - accuracy: 1.0000 - val_loss: 0.2683 - val_accuracy: 0.9118\n",
      "Epoch 55/200\n",
      "100/132 [=====================>........] - ETA: 0s - loss: 0.0064 - accuracy: 1.0000\n",
      "Epoch 00055: val_loss did not improve from 0.24870\n",
      "132/132 [==============================] - 0s 144us/sample - loss: 0.0060 - accuracy: 1.0000 - val_loss: 0.2698 - val_accuracy: 0.9118\n",
      "Epoch 56/200\n",
      "100/132 [=====================>........] - ETA: 0s - loss: 0.0064 - accuracy: 1.0000\n",
      "Epoch 00056: val_loss did not improve from 0.24870\n",
      "132/132 [==============================] - 0s 151us/sample - loss: 0.0056 - accuracy: 1.0000 - val_loss: 0.2709 - val_accuracy: 0.9118\n"
     ]
    }
   ],
   "source": [
    "# epoch가 종료될 때마다 callback 함수를 실행하도록 설정\n",
    "hist = model.fit(X_train, y_train, validation_split=0.2,\n",
    "                                epochs=200, batch_size=100, verbose=1,\n",
    "                                callbacks=[mc, es])"
   ]
  },
  {
   "cell_type": "code",
   "execution_count": 56,
   "metadata": {},
   "outputs": [
    {
     "name": "stdout",
     "output_type": "stream",
     "text": [
      "42/1 [============================================================================================================================================================================================================================================================================================================================================================================================================================================================================================================================================================================================================================================================================================================================================================================================================================================================================================================================================================================================================================================================================================================================================================================================================================================================================================================] - 0s 3ms/sample - loss: 0.6238 - accuracy: 0.8095\n"
     ]
    },
    {
     "data": {
      "text/plain": [
       "[0.4759622812271118, 0.8095238]"
      ]
     },
     "execution_count": 56,
     "metadata": {},
     "output_type": "execute_result"
    }
   ],
   "source": [
    "best_model = load_model('sonar_best.h5py')\n",
    "best_model.evaluate(X_test, y_test)"
   ]
  },
  {
   "cell_type": "code",
   "execution_count": null,
   "metadata": {},
   "outputs": [],
   "source": []
  }
 ],
 "metadata": {
  "interpreter": {
   "hash": "9f5feb42f08914aecde0ece13ac07afe9f84906579ba918f8c70eb200f669000"
  },
  "kernelspec": {
   "display_name": "Python 3.7.6 ('min')",
   "language": "python",
   "name": "python3"
  },
  "language_info": {
   "codemirror_mode": {
    "name": "ipython",
    "version": 3
   },
   "file_extension": ".py",
   "mimetype": "text/x-python",
   "name": "python",
   "nbconvert_exporter": "python",
   "pygments_lexer": "ipython3",
   "version": "3.7.6"
  },
  "orig_nbformat": 4
 },
 "nbformat": 4,
 "nbformat_minor": 2
}
