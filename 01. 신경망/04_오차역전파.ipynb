{
  "cells": [
    {
      "cell_type": "markdown",
      "metadata": {
        "id": "hSQYq6IaeZUl"
      },
      "source": [
        "# 오차 역전파(Back Propagation)"
      ]
    },
    {
      "cell_type": "code",
      "execution_count": 1,
      "metadata": {
        "id": "Gke9AUHjhKjS"
      },
      "outputs": [],
      "source": [
        "import numpy as np\n",
        "import matplotlib.pyplot as plt"
      ]
    },
    {
      "cell_type": "code",
      "execution_count": 2,
      "metadata": {
        "id": "ZRE7qx1uhND9"
      },
      "outputs": [],
      "source": [
        "# train data (XOR Problem)\n",
        "x = np.array([[0,0],[0,1],[1,0],[1,1]])\n",
        "y = np.array([0,1,1,0])"
      ]
    },
    {
      "cell_type": "markdown",
      "metadata": {
        "id": "VdtPIfvXhP_Z"
      },
      "source": [
        "- Intialization"
      ]
    },
    {
      "cell_type": "code",
      "execution_count": 3,
      "metadata": {
        "id": "tDC0TCijeVzj"
      },
      "outputs": [],
      "source": [
        "np.random.seed(2022)\n",
        "\n",
        "# input - hidden layer\n",
        "w1 = np.random.randn(2,2)\n",
        "b1 = np.random.randn(1,2)\n",
        "\n",
        "# hidden - output layer\n",
        "w2 = np.random.randn(1,2)\n",
        "b2 = np.random.randn(1)\n",
        "\n",
        "# epoch\n",
        "ep = 30001\n",
        "\n",
        "# learning rate\n",
        "lr = 1\n",
        "mse = []"
      ]
    },
    {
      "cell_type": "code",
      "execution_count": 4,
      "metadata": {
        "id": "b_tzVoCdhp1K"
      },
      "outputs": [
        {
          "data": {
            "text/plain": [
              "array([[-5.27899086e-04, -2.74901425e-01],\n",
              "       [-1.39285562e-01,  1.98468616e+00]])"
            ]
          },
          "execution_count": 4,
          "metadata": {},
          "output_type": "execute_result"
        }
      ],
      "source": [
        "w1"
      ]
    },
    {
      "cell_type": "markdown",
      "metadata": {
        "id": "-hf5MtLnepwf"
      },
      "source": [
        "- 신경망 학습"
      ]
    },
    {
      "cell_type": "code",
      "execution_count": 5,
      "metadata": {
        "id": "08gyl2nrekan"
      },
      "outputs": [
        {
          "name": "stdout",
          "output_type": "stream",
          "text": [
            "Epoch: 00000 MSE: 0.313580 Results: 0 0 => 0.713676 0 1 => 0.679236 1 0 => 0.683284 1 1 => 0.736062\n",
            "Epoch: 01000 MSE: 0.031011 Results: 0 0 => 0.234844 0 1 => 0.806471 1 0 => 0.840670 1 1 => 0.077806\n",
            "Epoch: 02000 MSE: 0.004609 Results: 0 0 => 0.092626 0 1 => 0.927843 1 0 => 0.934087 1 1 => 0.017508\n",
            "Epoch: 03000 MSE: 0.002607 Results: 0 0 => 0.069890 0 1 => 0.946316 1 0 => 0.949595 1 1 => 0.010963\n",
            "Epoch: 04000 MSE: 0.001921 Results: 0 0 => 0.060074 0 1 => 0.954356 1 0 => 0.956193 1 1 => 0.008423\n",
            "Epoch: 05000 MSE: 0.001603 Results: 0 0 => 0.054917 0 1 => 0.958721 1 0 => 0.959503 1 1 => 0.007140\n",
            "Epoch: 06000 MSE: 0.001456 Results: 0 0 => 0.052352 0 1 => 0.961122 1 0 => 0.960909 1 1 => 0.006483\n",
            "Epoch: 07000 MSE: 0.001431 Results: 0 0 => 0.051902 0 1 => 0.962036 1 0 => 0.960649 1 1 => 0.006292\n",
            "Epoch: 08000 MSE: 0.001566 Results: 0 0 => 0.054277 0 1 => 0.961157 1 0 => 0.957985 1 1 => 0.006723\n",
            "Epoch: 09000 MSE: 0.002197 Results: 0 0 => 0.064168 0 1 => 0.955921 1 0 => 0.948560 1 1 => 0.009115\n",
            "Epoch: 10000 MSE: 0.009795 Results: 0 0 => 0.131592 0 1 => 0.916119 1 0 => 0.886178 1 1 => 0.043247\n",
            "Epoch: 11000 MSE: 0.006043 Results: 0 0 => 0.103092 0 1 => 0.934469 1 0 => 0.910170 1 1 => 0.034349\n",
            "Epoch: 12000 MSE: 0.004133 Results: 0 0 => 0.085252 0 1 => 0.945947 1 0 => 0.925471 1 1 => 0.028099\n",
            "Epoch: 13000 MSE: 0.003095 Results: 0 0 => 0.073770 0 1 => 0.953294 1 0 => 0.935392 1 1 => 0.024110\n",
            "Epoch: 14000 MSE: 0.002452 Results: 0 0 => 0.065674 0 1 => 0.958460 1 0 => 0.942418 1 1 => 0.021317\n",
            "Epoch: 15000 MSE: 0.002020 Results: 0 0 => 0.059608 0 1 => 0.962323 1 0 => 0.947697 1 1 => 0.019237\n",
            "Epoch: 16000 MSE: 0.001710 Results: 0 0 => 0.054863 0 1 => 0.965340 1 0 => 0.951834 1 1 => 0.017618\n",
            "Epoch: 17000 MSE: 0.001479 Results: 0 0 => 0.051031 0 1 => 0.967775 1 0 => 0.955180 1 1 => 0.016317\n",
            "Epoch: 18000 MSE: 0.001301 Results: 0 0 => 0.047857 0 1 => 0.969790 1 0 => 0.957954 1 1 => 0.015243\n",
            "Epoch: 19000 MSE: 0.001159 Results: 0 0 => 0.045177 0 1 => 0.971491 1 0 => 0.960298 1 1 => 0.014340\n",
            "Epoch: 20000 MSE: 0.001044 Results: 0 0 => 0.042877 0 1 => 0.972950 1 0 => 0.962312 1 1 => 0.013568\n",
            "Epoch: 21000 MSE: 0.000948 Results: 0 0 => 0.040876 0 1 => 0.974218 1 0 => 0.964064 1 1 => 0.012899\n",
            "Epoch: 22000 MSE: 0.000868 Results: 0 0 => 0.039117 0 1 => 0.975333 1 0 => 0.965606 1 1 => 0.012311\n",
            "Epoch: 23000 MSE: 0.000800 Results: 0 0 => 0.037554 0 1 => 0.976323 1 0 => 0.966976 1 1 => 0.011791\n",
            "Epoch: 24000 MSE: 0.000741 Results: 0 0 => 0.036155 0 1 => 0.977209 1 0 => 0.968203 1 1 => 0.011327\n",
            "Epoch: 25000 MSE: 0.000691 Results: 0 0 => 0.034893 0 1 => 0.978008 1 0 => 0.969310 1 1 => 0.010909\n",
            "Epoch: 26000 MSE: 0.000646 Results: 0 0 => 0.033748 0 1 => 0.978733 1 0 => 0.970315 1 1 => 0.010531\n",
            "Epoch: 27000 MSE: 0.000606 Results: 0 0 => 0.032703 0 1 => 0.979395 1 0 => 0.971232 1 1 => 0.010186\n",
            "Epoch: 28000 MSE: 0.000571 Results: 0 0 => 0.031745 0 1 => 0.980001 1 0 => 0.972074 1 1 => 0.009870\n",
            "Epoch: 29000 MSE: 0.000540 Results: 0 0 => 0.030861 0 1 => 0.980560 1 0 => 0.972849 1 1 => 0.009580\n",
            "Epoch: 30000 MSE: 0.000512 Results: 0 0 => 0.030044 0 1 => 0.981077 1 0 => 0.973567 1 1 => 0.009312\n"
          ]
        }
      ],
      "source": [
        "# Neural Networks 2-2-1\n",
        "for i in range(ep):\n",
        "    E, result  = np.array([]), np.array([])\n",
        "    \n",
        "    for j in range(len(x)):\n",
        "        Ha = np.array([])\n",
        "        \n",
        "        # Feedforward\n",
        "        # input - hidden layer\n",
        "        for k in range(len(w1)):\n",
        "            Ha = np.append(Ha, 1 / (1 + np.exp(-(np.sum(x[j] * w1[k]) + b1[0][k])))) \n",
        "\n",
        "        # hidden - output layer\n",
        "        Hb = 1 / (1 + np.exp(-(np.sum(Ha * w2) + b2)))\n",
        "        result = np.append(result, Hb)\n",
        "        \n",
        "        # error\n",
        "        E = np.append(E, y[j] - Hb)\n",
        "        \n",
        "        # Back-propagation\n",
        "        # output - hidden layer\n",
        "        alpha_2 = E[j] * Hb * (1 - Hb)\n",
        "        \n",
        "        # hidden - input layer\n",
        "        alpha_1 = alpha_2 * Ha * (1 - Ha) * w2\n",
        "        \n",
        "        # update\n",
        "        w2 = w2 + lr * alpha_2 * Ha\n",
        "        b2 = b2 + lr * alpha_2\n",
        "        \n",
        "        w1 = w1 + np.ones((2,2)) * lr * alpha_1 * x[j]\n",
        "        b1 = b1 + lr * alpha_1\n",
        "\n",
        "    if i % 1000 == 0:    \n",
        "        print('Epoch: %05d MSE: %04f Results: 0 0 => %04f 0 1 => %04f 1 0 => %04f 1 1 => %04f'\n",
        "              %(i, np.mean(E**2), result[0], result[1], result[2], result[3]))   \n",
        "    mse.append(np.mean(E**2))"
      ]
    },
    {
      "cell_type": "code",
      "execution_count": 6,
      "metadata": {
        "id": "1mLu25dne9Ii"
      },
      "outputs": [
        {
          "data": {
            "text/plain": [
              "array([[-1.47748121,  2.67435443],\n",
              "       [-1.61623888,  4.93394201]])"
            ]
          },
          "execution_count": 6,
          "metadata": {},
          "output_type": "execute_result"
        }
      ],
      "source": [
        "w1"
      ]
    },
    {
      "cell_type": "code",
      "execution_count": 7,
      "metadata": {
        "id": "2osjaaTtg-qD"
      },
      "outputs": [
        {
          "data": {
            "text/plain": [
              "array([[ 25.30272442, -24.27984461]])"
            ]
          },
          "execution_count": 7,
          "metadata": {},
          "output_type": "execute_result"
        }
      ],
      "source": [
        "w2"
      ]
    },
    {
      "cell_type": "code",
      "execution_count": 8,
      "metadata": {
        "id": "F76xrzq3hAPn"
      },
      "outputs": [
        {
          "data": {
            "text/plain": [
              "array([[-2.14683785,  1.13978721]])"
            ]
          },
          "execution_count": 8,
          "metadata": {},
          "output_type": "execute_result"
        }
      ],
      "source": [
        "b1"
      ]
    },
    {
      "cell_type": "code",
      "execution_count": 9,
      "metadata": {
        "id": "59XhirTkhBzD"
      },
      "outputs": [
        {
          "data": {
            "text/plain": [
              "array([12.27344625])"
            ]
          },
          "execution_count": 9,
          "metadata": {},
          "output_type": "execute_result"
        }
      ],
      "source": [
        "b2"
      ]
    },
    {
      "cell_type": "markdown",
      "metadata": {
        "id": "txvhzCJJsFdP"
      },
      "source": [
        "- 검증"
      ]
    },
    {
      "cell_type": "code",
      "execution_count": null,
      "metadata": {
        "id": "Y2ba6QV6moRg"
      },
      "outputs": [],
      "source": [
        "for j in range(len(x)):\n",
        "    Ha = np.array([])\n",
        "    \n",
        "    # feedforward\n",
        "    # input - hidden layer\n",
        "    for k in range(len(w1)):\n",
        "        Ha = np.append(Ha, 1 / (1 + np.exp(-(np.sum(x[j] * w1[k]) + b1[0][k]))))\n",
        "    \n",
        "    # hidden - output layer\n",
        "    Hb = 1 / (1 + np.exp(-(np.sum(Ha * w2) + b2)))\n",
        "    print(x[j], Hb[0])"
      ]
    },
    {
      "cell_type": "markdown",
      "metadata": {
        "id": "jFJzLiV3qdrc"
      },
      "source": [
        "- MSE 그래프"
      ]
    },
    {
      "cell_type": "code",
      "execution_count": null,
      "metadata": {
        "id": "qJ6RQ4DvqgOz"
      },
      "outputs": [],
      "source": [
        "plt.xlabel('Epoch')\n",
        "plt.ylabel('MSE')\n",
        "plt.title('MLP Training')\n",
        "plt.plot(mse)\n",
        "plt.show()"
      ]
    }
  ],
  "metadata": {
    "colab": {
      "name": "07_오차역전파.ipynb",
      "provenance": []
    },
    "interpreter": {
      "hash": "9f5feb42f08914aecde0ece13ac07afe9f84906579ba918f8c70eb200f669000"
    },
    "kernelspec": {
      "display_name": "Python 3.7.6 ('min')",
      "language": "python",
      "name": "python3"
    },
    "language_info": {
      "codemirror_mode": {
        "name": "ipython",
        "version": 3
      },
      "file_extension": ".py",
      "mimetype": "text/x-python",
      "name": "python",
      "nbconvert_exporter": "python",
      "pygments_lexer": "ipython3",
      "version": "3.7.6"
    }
  },
  "nbformat": 4,
  "nbformat_minor": 0
}
